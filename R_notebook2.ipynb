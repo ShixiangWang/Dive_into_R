{
 "cells": [
  {
   "cell_type": "markdown",
   "metadata": {},
   "source": [
    "# R深入学习笔记2：R包"
   ]
  },
  {
   "cell_type": "markdown",
   "metadata": {},
   "source": [
    "包是一系列函数、帮助文件、数据等的封装。\n",
    "\n",
    "一般而言，包中所有的函数都是极为相关的。比如`stats`包包含的全是统计分析函数（我们自己也可以自创建包，但是可要规范喔）。使用包必须安装并事先导入。\n",
    "\n",
    "我认为包是R的核心之一，基本我们涉及到的常用操作或者是比较专业的分析都会涉及包的使用。"
   ]
  },
  {
   "cell_type": "markdown",
   "metadata": {},
   "source": [
    "## R包概览\n",
    "\n",
    "包的使用分为大概两步：\n",
    "- 将包安装在本地上\n",
    "- 接着将包导入当前线程"
   ]
  },
  {
   "cell_type": "markdown",
   "metadata": {},
   "source": [
    "## 列出本地包"
   ]
  },
  {
   "cell_type": "code",
   "execution_count": 1,
   "metadata": {
    "collapsed": false
   },
   "outputs": [
    {
     "data": {
      "text/html": [
       "<ol class=list-inline>\n",
       "\t<li>'datasets'</li>\n",
       "\t<li>'utils'</li>\n",
       "\t<li>'grDevices'</li>\n",
       "\t<li>'graphics'</li>\n",
       "\t<li>'stats'</li>\n",
       "\t<li>'methods'</li>\n",
       "</ol>\n"
      ],
      "text/latex": [
       "\\begin{enumerate*}\n",
       "\\item 'datasets'\n",
       "\\item 'utils'\n",
       "\\item 'grDevices'\n",
       "\\item 'graphics'\n",
       "\\item 'stats'\n",
       "\\item 'methods'\n",
       "\\end{enumerate*}\n"
      ],
      "text/markdown": [
       "1. 'datasets'\n",
       "2. 'utils'\n",
       "3. 'grDevices'\n",
       "4. 'graphics'\n",
       "5. 'stats'\n",
       "6. 'methods'\n",
       "\n",
       "\n"
      ],
      "text/plain": [
       "[1] \"datasets\"  \"utils\"     \"grDevices\" \"graphics\"  \"stats\"     \"methods\"  "
      ]
     },
     "metadata": {},
     "output_type": "display_data"
    }
   ],
   "source": [
    "# 使用getOption命令检查预装包\n",
    "getOption(\"defaultPackages\")\n",
    "# 这个命令省略了base包，因为它always loaded"
   ]
  },
  {
   "cell_type": "code",
   "execution_count": 2,
   "metadata": {
    "collapsed": false
   },
   "outputs": [
    {
     "data": {
      "text/html": [
       "<ol class=list-inline>\n",
       "\t<li>'stats'</li>\n",
       "\t<li>'graphics'</li>\n",
       "\t<li>'grDevices'</li>\n",
       "\t<li>'utils'</li>\n",
       "\t<li>'datasets'</li>\n",
       "\t<li>'methods'</li>\n",
       "\t<li>'base'</li>\n",
       "</ol>\n"
      ],
      "text/latex": [
       "\\begin{enumerate*}\n",
       "\\item 'stats'\n",
       "\\item 'graphics'\n",
       "\\item 'grDevices'\n",
       "\\item 'utils'\n",
       "\\item 'datasets'\n",
       "\\item 'methods'\n",
       "\\item 'base'\n",
       "\\end{enumerate*}\n"
      ],
      "text/markdown": [
       "1. 'stats'\n",
       "2. 'graphics'\n",
       "3. 'grDevices'\n",
       "4. 'utils'\n",
       "5. 'datasets'\n",
       "6. 'methods'\n",
       "7. 'base'\n",
       "\n",
       "\n"
      ],
      "text/plain": [
       "[1] \"stats\"     \"graphics\"  \"grDevices\" \"utils\"     \"datasets\"  \"methods\"  \n",
       "[7] \"base\"     "
      ]
     },
     "metadata": {},
     "output_type": "display_data"
    }
   ],
   "source": [
    "# 查看当前已导入包\n",
    "(.packages())"
   ]
  },
  {
   "cell_type": "code",
   "execution_count": 3,
   "metadata": {
    "collapsed": false
   },
   "outputs": [
    {
     "data": {
      "text/html": [
       "<ol class=list-inline>\n",
       "\t<li>'assertthat'</li>\n",
       "\t<li>'backports'</li>\n",
       "\t<li>'base'</li>\n",
       "\t<li>'base64enc'</li>\n",
       "\t<li>'BH'</li>\n",
       "\t<li>'bitops'</li>\n",
       "\t<li>'boot'</li>\n",
       "\t<li>'broom'</li>\n",
       "\t<li>'car'</li>\n",
       "\t<li>'caret'</li>\n",
       "\t<li>'caTools'</li>\n",
       "\t<li>'class'</li>\n",
       "\t<li>'cluster'</li>\n",
       "\t<li>'codetools'</li>\n",
       "\t<li>'colorspace'</li>\n",
       "\t<li>'compiler'</li>\n",
       "\t<li>'crayon'</li>\n",
       "\t<li>'curl'</li>\n",
       "\t<li>'data.table'</li>\n",
       "\t<li>'datasets'</li>\n",
       "\t<li>'DBI'</li>\n",
       "\t<li>'dichromat'</li>\n",
       "\t<li>'digest'</li>\n",
       "\t<li>'dplyr'</li>\n",
       "\t<li>'evaluate'</li>\n",
       "\t<li>'forcats'</li>\n",
       "\t<li>'foreach'</li>\n",
       "\t<li>'foreign'</li>\n",
       "\t<li>'formatR'</li>\n",
       "\t<li>'ggplot2'</li>\n",
       "\t<li>'gistr'</li>\n",
       "\t<li>'glmnet'</li>\n",
       "\t<li>'graphics'</li>\n",
       "\t<li>'grDevices'</li>\n",
       "\t<li>'grid'</li>\n",
       "\t<li>'gtable'</li>\n",
       "\t<li>'haven'</li>\n",
       "\t<li>'hexbin'</li>\n",
       "\t<li>'highr'</li>\n",
       "\t<li>'hms'</li>\n",
       "\t<li>'htmltools'</li>\n",
       "\t<li>'htmlwidgets'</li>\n",
       "\t<li>'httpuv'</li>\n",
       "\t<li>'httr'</li>\n",
       "\t<li>'IRdisplay'</li>\n",
       "\t<li>'IRkernel'</li>\n",
       "\t<li>'iterators'</li>\n",
       "\t<li>'jsonlite'</li>\n",
       "\t<li>'KernSmooth'</li>\n",
       "\t<li>'knitr'</li>\n",
       "\t<li>'labeling'</li>\n",
       "\t<li>'lattice'</li>\n",
       "\t<li>'lazyeval'</li>\n",
       "\t<li>'lme4'</li>\n",
       "\t<li>'lubridate'</li>\n",
       "\t<li>'magrittr'</li>\n",
       "\t<li>'maps'</li>\n",
       "\t<li>'markdown'</li>\n",
       "\t<li>'MASS'</li>\n",
       "\t<li>'Matrix'</li>\n",
       "\t<li>'MatrixModels'</li>\n",
       "\t<li>'methods'</li>\n",
       "\t<li>'mgcv'</li>\n",
       "\t<li>'mime'</li>\n",
       "\t<li>'minqa'</li>\n",
       "\t<li>'mnormt'</li>\n",
       "\t<li>'ModelMetrics'</li>\n",
       "\t<li>'modelr'</li>\n",
       "\t<li>'munsell'</li>\n",
       "\t<li>'nlme'</li>\n",
       "\t<li>'nloptr'</li>\n",
       "\t<li>'nnet'</li>\n",
       "\t<li>'nutshell'</li>\n",
       "\t<li>'nutshell.audioscrobbler'</li>\n",
       "\t<li>'nutshell.bbdb'</li>\n",
       "\t<li>'openssl'</li>\n",
       "\t<li>'packrat'</li>\n",
       "\t<li>'parallel'</li>\n",
       "\t<li>'pbdZMQ'</li>\n",
       "\t<li>'pbkrtest'</li>\n",
       "\t<li>'PKI'</li>\n",
       "\t<li>'plyr'</li>\n",
       "\t<li>'pryr'</li>\n",
       "\t<li>'psych'</li>\n",
       "\t<li>'purrr'</li>\n",
       "\t<li>'quantmod'</li>\n",
       "\t<li>'quantreg'</li>\n",
       "\t<li>'R6'</li>\n",
       "\t<li>'randomForest'</li>\n",
       "\t<li>'rbokeh'</li>\n",
       "\t<li>'RColorBrewer'</li>\n",
       "\t<li>'Rcpp'</li>\n",
       "\t<li>'RcppEigen'</li>\n",
       "\t<li>'RCurl'</li>\n",
       "\t<li>'readr'</li>\n",
       "\t<li>'readxl'</li>\n",
       "\t<li>'repr'</li>\n",
       "\t<li>'reshape2'</li>\n",
       "\t<li>'RJSONIO'</li>\n",
       "\t<li>'rmarkdown'</li>\n",
       "\t<li>'rpart'</li>\n",
       "\t<li>'rprojroot'</li>\n",
       "\t<li>'rsconnect'</li>\n",
       "\t<li>'rstudioapi'</li>\n",
       "\t<li>'rvest'</li>\n",
       "\t<li>'scales'</li>\n",
       "\t<li>'selectr'</li>\n",
       "\t<li>'shiny'</li>\n",
       "\t<li>'sourcetools'</li>\n",
       "\t<li>'SparseM'</li>\n",
       "\t<li>'spatial'</li>\n",
       "\t<li>'splines'</li>\n",
       "\t<li>'stats'</li>\n",
       "\t<li>'stats4'</li>\n",
       "\t<li>'stringi'</li>\n",
       "\t<li>'stringr'</li>\n",
       "\t<li>'survival'</li>\n",
       "\t<li>'tcltk'</li>\n",
       "\t<li>'tibble'</li>\n",
       "\t<li>'tidyr'</li>\n",
       "\t<li>'tidyverse'</li>\n",
       "\t<li>'tools'</li>\n",
       "\t<li>'TTR'</li>\n",
       "\t<li>'utils'</li>\n",
       "\t<li>'uuid'</li>\n",
       "\t<li>'xml2'</li>\n",
       "\t<li>'xtable'</li>\n",
       "\t<li>'xts'</li>\n",
       "\t<li>'yaml'</li>\n",
       "\t<li>'zoo'</li>\n",
       "</ol>\n"
      ],
      "text/latex": [
       "\\begin{enumerate*}\n",
       "\\item 'assertthat'\n",
       "\\item 'backports'\n",
       "\\item 'base'\n",
       "\\item 'base64enc'\n",
       "\\item 'BH'\n",
       "\\item 'bitops'\n",
       "\\item 'boot'\n",
       "\\item 'broom'\n",
       "\\item 'car'\n",
       "\\item 'caret'\n",
       "\\item 'caTools'\n",
       "\\item 'class'\n",
       "\\item 'cluster'\n",
       "\\item 'codetools'\n",
       "\\item 'colorspace'\n",
       "\\item 'compiler'\n",
       "\\item 'crayon'\n",
       "\\item 'curl'\n",
       "\\item 'data.table'\n",
       "\\item 'datasets'\n",
       "\\item 'DBI'\n",
       "\\item 'dichromat'\n",
       "\\item 'digest'\n",
       "\\item 'dplyr'\n",
       "\\item 'evaluate'\n",
       "\\item 'forcats'\n",
       "\\item 'foreach'\n",
       "\\item 'foreign'\n",
       "\\item 'formatR'\n",
       "\\item 'ggplot2'\n",
       "\\item 'gistr'\n",
       "\\item 'glmnet'\n",
       "\\item 'graphics'\n",
       "\\item 'grDevices'\n",
       "\\item 'grid'\n",
       "\\item 'gtable'\n",
       "\\item 'haven'\n",
       "\\item 'hexbin'\n",
       "\\item 'highr'\n",
       "\\item 'hms'\n",
       "\\item 'htmltools'\n",
       "\\item 'htmlwidgets'\n",
       "\\item 'httpuv'\n",
       "\\item 'httr'\n",
       "\\item 'IRdisplay'\n",
       "\\item 'IRkernel'\n",
       "\\item 'iterators'\n",
       "\\item 'jsonlite'\n",
       "\\item 'KernSmooth'\n",
       "\\item 'knitr'\n",
       "\\item 'labeling'\n",
       "\\item 'lattice'\n",
       "\\item 'lazyeval'\n",
       "\\item 'lme4'\n",
       "\\item 'lubridate'\n",
       "\\item 'magrittr'\n",
       "\\item 'maps'\n",
       "\\item 'markdown'\n",
       "\\item 'MASS'\n",
       "\\item 'Matrix'\n",
       "\\item 'MatrixModels'\n",
       "\\item 'methods'\n",
       "\\item 'mgcv'\n",
       "\\item 'mime'\n",
       "\\item 'minqa'\n",
       "\\item 'mnormt'\n",
       "\\item 'ModelMetrics'\n",
       "\\item 'modelr'\n",
       "\\item 'munsell'\n",
       "\\item 'nlme'\n",
       "\\item 'nloptr'\n",
       "\\item 'nnet'\n",
       "\\item 'nutshell'\n",
       "\\item 'nutshell.audioscrobbler'\n",
       "\\item 'nutshell.bbdb'\n",
       "\\item 'openssl'\n",
       "\\item 'packrat'\n",
       "\\item 'parallel'\n",
       "\\item 'pbdZMQ'\n",
       "\\item 'pbkrtest'\n",
       "\\item 'PKI'\n",
       "\\item 'plyr'\n",
       "\\item 'pryr'\n",
       "\\item 'psych'\n",
       "\\item 'purrr'\n",
       "\\item 'quantmod'\n",
       "\\item 'quantreg'\n",
       "\\item 'R6'\n",
       "\\item 'randomForest'\n",
       "\\item 'rbokeh'\n",
       "\\item 'RColorBrewer'\n",
       "\\item 'Rcpp'\n",
       "\\item 'RcppEigen'\n",
       "\\item 'RCurl'\n",
       "\\item 'readr'\n",
       "\\item 'readxl'\n",
       "\\item 'repr'\n",
       "\\item 'reshape2'\n",
       "\\item 'RJSONIO'\n",
       "\\item 'rmarkdown'\n",
       "\\item 'rpart'\n",
       "\\item 'rprojroot'\n",
       "\\item 'rsconnect'\n",
       "\\item 'rstudioapi'\n",
       "\\item 'rvest'\n",
       "\\item 'scales'\n",
       "\\item 'selectr'\n",
       "\\item 'shiny'\n",
       "\\item 'sourcetools'\n",
       "\\item 'SparseM'\n",
       "\\item 'spatial'\n",
       "\\item 'splines'\n",
       "\\item 'stats'\n",
       "\\item 'stats4'\n",
       "\\item 'stringi'\n",
       "\\item 'stringr'\n",
       "\\item 'survival'\n",
       "\\item 'tcltk'\n",
       "\\item 'tibble'\n",
       "\\item 'tidyr'\n",
       "\\item 'tidyverse'\n",
       "\\item 'tools'\n",
       "\\item 'TTR'\n",
       "\\item 'utils'\n",
       "\\item 'uuid'\n",
       "\\item 'xml2'\n",
       "\\item 'xtable'\n",
       "\\item 'xts'\n",
       "\\item 'yaml'\n",
       "\\item 'zoo'\n",
       "\\end{enumerate*}\n"
      ],
      "text/markdown": [
       "1. 'assertthat'\n",
       "2. 'backports'\n",
       "3. 'base'\n",
       "4. 'base64enc'\n",
       "5. 'BH'\n",
       "6. 'bitops'\n",
       "7. 'boot'\n",
       "8. 'broom'\n",
       "9. 'car'\n",
       "10. 'caret'\n",
       "11. 'caTools'\n",
       "12. 'class'\n",
       "13. 'cluster'\n",
       "14. 'codetools'\n",
       "15. 'colorspace'\n",
       "16. 'compiler'\n",
       "17. 'crayon'\n",
       "18. 'curl'\n",
       "19. 'data.table'\n",
       "20. 'datasets'\n",
       "21. 'DBI'\n",
       "22. 'dichromat'\n",
       "23. 'digest'\n",
       "24. 'dplyr'\n",
       "25. 'evaluate'\n",
       "26. 'forcats'\n",
       "27. 'foreach'\n",
       "28. 'foreign'\n",
       "29. 'formatR'\n",
       "30. 'ggplot2'\n",
       "31. 'gistr'\n",
       "32. 'glmnet'\n",
       "33. 'graphics'\n",
       "34. 'grDevices'\n",
       "35. 'grid'\n",
       "36. 'gtable'\n",
       "37. 'haven'\n",
       "38. 'hexbin'\n",
       "39. 'highr'\n",
       "40. 'hms'\n",
       "41. 'htmltools'\n",
       "42. 'htmlwidgets'\n",
       "43. 'httpuv'\n",
       "44. 'httr'\n",
       "45. 'IRdisplay'\n",
       "46. 'IRkernel'\n",
       "47. 'iterators'\n",
       "48. 'jsonlite'\n",
       "49. 'KernSmooth'\n",
       "50. 'knitr'\n",
       "51. 'labeling'\n",
       "52. 'lattice'\n",
       "53. 'lazyeval'\n",
       "54. 'lme4'\n",
       "55. 'lubridate'\n",
       "56. 'magrittr'\n",
       "57. 'maps'\n",
       "58. 'markdown'\n",
       "59. 'MASS'\n",
       "60. 'Matrix'\n",
       "61. 'MatrixModels'\n",
       "62. 'methods'\n",
       "63. 'mgcv'\n",
       "64. 'mime'\n",
       "65. 'minqa'\n",
       "66. 'mnormt'\n",
       "67. 'ModelMetrics'\n",
       "68. 'modelr'\n",
       "69. 'munsell'\n",
       "70. 'nlme'\n",
       "71. 'nloptr'\n",
       "72. 'nnet'\n",
       "73. 'nutshell'\n",
       "74. 'nutshell.audioscrobbler'\n",
       "75. 'nutshell.bbdb'\n",
       "76. 'openssl'\n",
       "77. 'packrat'\n",
       "78. 'parallel'\n",
       "79. 'pbdZMQ'\n",
       "80. 'pbkrtest'\n",
       "81. 'PKI'\n",
       "82. 'plyr'\n",
       "83. 'pryr'\n",
       "84. 'psych'\n",
       "85. 'purrr'\n",
       "86. 'quantmod'\n",
       "87. 'quantreg'\n",
       "88. 'R6'\n",
       "89. 'randomForest'\n",
       "90. 'rbokeh'\n",
       "91. 'RColorBrewer'\n",
       "92. 'Rcpp'\n",
       "93. 'RcppEigen'\n",
       "94. 'RCurl'\n",
       "95. 'readr'\n",
       "96. 'readxl'\n",
       "97. 'repr'\n",
       "98. 'reshape2'\n",
       "99. 'RJSONIO'\n",
       "100. 'rmarkdown'\n",
       "101. 'rpart'\n",
       "102. 'rprojroot'\n",
       "103. 'rsconnect'\n",
       "104. 'rstudioapi'\n",
       "105. 'rvest'\n",
       "106. 'scales'\n",
       "107. 'selectr'\n",
       "108. 'shiny'\n",
       "109. 'sourcetools'\n",
       "110. 'SparseM'\n",
       "111. 'spatial'\n",
       "112. 'splines'\n",
       "113. 'stats'\n",
       "114. 'stats4'\n",
       "115. 'stringi'\n",
       "116. 'stringr'\n",
       "117. 'survival'\n",
       "118. 'tcltk'\n",
       "119. 'tibble'\n",
       "120. 'tidyr'\n",
       "121. 'tidyverse'\n",
       "122. 'tools'\n",
       "123. 'TTR'\n",
       "124. 'utils'\n",
       "125. 'uuid'\n",
       "126. 'xml2'\n",
       "127. 'xtable'\n",
       "128. 'xts'\n",
       "129. 'yaml'\n",
       "130. 'zoo'\n",
       "\n",
       "\n"
      ],
      "text/plain": [
       "  [1] \"assertthat\"              \"backports\"              \n",
       "  [3] \"base\"                    \"base64enc\"              \n",
       "  [5] \"BH\"                      \"bitops\"                 \n",
       "  [7] \"boot\"                    \"broom\"                  \n",
       "  [9] \"car\"                     \"caret\"                  \n",
       " [11] \"caTools\"                 \"class\"                  \n",
       " [13] \"cluster\"                 \"codetools\"              \n",
       " [15] \"colorspace\"              \"compiler\"               \n",
       " [17] \"crayon\"                  \"curl\"                   \n",
       " [19] \"data.table\"              \"datasets\"               \n",
       " [21] \"DBI\"                     \"dichromat\"              \n",
       " [23] \"digest\"                  \"dplyr\"                  \n",
       " [25] \"evaluate\"                \"forcats\"                \n",
       " [27] \"foreach\"                 \"foreign\"                \n",
       " [29] \"formatR\"                 \"ggplot2\"                \n",
       " [31] \"gistr\"                   \"glmnet\"                 \n",
       " [33] \"graphics\"                \"grDevices\"              \n",
       " [35] \"grid\"                    \"gtable\"                 \n",
       " [37] \"haven\"                   \"hexbin\"                 \n",
       " [39] \"highr\"                   \"hms\"                    \n",
       " [41] \"htmltools\"               \"htmlwidgets\"            \n",
       " [43] \"httpuv\"                  \"httr\"                   \n",
       " [45] \"IRdisplay\"               \"IRkernel\"               \n",
       " [47] \"iterators\"               \"jsonlite\"               \n",
       " [49] \"KernSmooth\"              \"knitr\"                  \n",
       " [51] \"labeling\"                \"lattice\"                \n",
       " [53] \"lazyeval\"                \"lme4\"                   \n",
       " [55] \"lubridate\"               \"magrittr\"               \n",
       " [57] \"maps\"                    \"markdown\"               \n",
       " [59] \"MASS\"                    \"Matrix\"                 \n",
       " [61] \"MatrixModels\"            \"methods\"                \n",
       " [63] \"mgcv\"                    \"mime\"                   \n",
       " [65] \"minqa\"                   \"mnormt\"                 \n",
       " [67] \"ModelMetrics\"            \"modelr\"                 \n",
       " [69] \"munsell\"                 \"nlme\"                   \n",
       " [71] \"nloptr\"                  \"nnet\"                   \n",
       " [73] \"nutshell\"                \"nutshell.audioscrobbler\"\n",
       " [75] \"nutshell.bbdb\"           \"openssl\"                \n",
       " [77] \"packrat\"                 \"parallel\"               \n",
       " [79] \"pbdZMQ\"                  \"pbkrtest\"               \n",
       " [81] \"PKI\"                     \"plyr\"                   \n",
       " [83] \"pryr\"                    \"psych\"                  \n",
       " [85] \"purrr\"                   \"quantmod\"               \n",
       " [87] \"quantreg\"                \"R6\"                     \n",
       " [89] \"randomForest\"            \"rbokeh\"                 \n",
       " [91] \"RColorBrewer\"            \"Rcpp\"                   \n",
       " [93] \"RcppEigen\"               \"RCurl\"                  \n",
       " [95] \"readr\"                   \"readxl\"                 \n",
       " [97] \"repr\"                    \"reshape2\"               \n",
       " [99] \"RJSONIO\"                 \"rmarkdown\"              \n",
       "[101] \"rpart\"                   \"rprojroot\"              \n",
       "[103] \"rsconnect\"               \"rstudioapi\"             \n",
       "[105] \"rvest\"                   \"scales\"                 \n",
       "[107] \"selectr\"                 \"shiny\"                  \n",
       "[109] \"sourcetools\"             \"SparseM\"                \n",
       "[111] \"spatial\"                 \"splines\"                \n",
       "[113] \"stats\"                   \"stats4\"                 \n",
       "[115] \"stringi\"                 \"stringr\"                \n",
       "[117] \"survival\"                \"tcltk\"                  \n",
       "[119] \"tibble\"                  \"tidyr\"                  \n",
       "[121] \"tidyverse\"               \"tools\"                  \n",
       "[123] \"TTR\"                     \"utils\"                  \n",
       "[125] \"uuid\"                    \"xml2\"                   \n",
       "[127] \"xtable\"                  \"xts\"                    \n",
       "[129] \"yaml\"                    \"zoo\"                    "
      ]
     },
     "metadata": {},
     "output_type": "display_data"
    }
   ],
   "source": [
    "# 列出当前可用包\n",
    "(.packages(all.available = TRUE))"
   ]
  },
  {
   "cell_type": "markdown",
   "metadata": {},
   "source": [
    "## 导入包\n",
    "\n",
    "用包之前需要先行导入。"
   ]
  },
  {
   "cell_type": "code",
   "execution_count": 4,
   "metadata": {
    "collapsed": false
   },
   "outputs": [
    {
     "ename": "ERROR",
     "evalue": "Error in eval(expr, envir, enclos): 没有\"rpart\"这个函数\n",
     "output_type": "error",
     "traceback": [
      "Error in eval(expr, envir, enclos): 没有\"rpart\"这个函数\nTraceback:\n"
     ]
    }
   ],
   "source": [
    "# 如果在导入先使用会报错\n",
    "fit <- rpart(Kyphosis ~ Age + Number + Start, data=kyphosis)"
   ]
  },
  {
   "cell_type": "code",
   "execution_count": 5,
   "metadata": {
    "collapsed": true
   },
   "outputs": [],
   "source": [
    "# 先导入再使用\n",
    "library(rpart)\n",
    "fit <- rpart(Kyphosis ~ Age + Number + Start, data=kyphosis)"
   ]
  },
  {
   "cell_type": "code",
   "execution_count": 6,
   "metadata": {
    "collapsed": false
   },
   "outputs": [
    {
     "data": {
      "text/plain": [
       "n= 81 \n",
       "\n",
       "node), split, n, loss, yval, (yprob)\n",
       "      * denotes terminal node\n",
       "\n",
       " 1) root 81 17 absent (0.79012346 0.20987654)  \n",
       "   2) Start>=8.5 62  6 absent (0.90322581 0.09677419)  \n",
       "     4) Start>=14.5 29  0 absent (1.00000000 0.00000000) *\n",
       "     5) Start< 14.5 33  6 absent (0.81818182 0.18181818)  \n",
       "      10) Age< 55 12  0 absent (1.00000000 0.00000000) *\n",
       "      11) Age>=55 21  6 absent (0.71428571 0.28571429)  \n",
       "        22) Age>=111 14  2 absent (0.85714286 0.14285714) *\n",
       "        23) Age< 111 7  3 present (0.42857143 0.57142857) *\n",
       "   3) Start< 8.5 19  8 present (0.42105263 0.57894737) *"
      ]
     },
     "metadata": {},
     "output_type": "display_data"
    }
   ],
   "source": [
    "fit"
   ]
  },
  {
   "cell_type": "code",
   "execution_count": 7,
   "metadata": {
    "collapsed": true
   },
   "outputs": [],
   "source": [
    "# 包可用图形界面导入，我觉得这个不常用，我们应该还是需要习惯用命令"
   ]
  },
  {
   "cell_type": "markdown",
   "metadata": {},
   "source": [
    "## 世界上两大包资源地址是CRAN与bioconductor\n",
    "\n",
    "地址我就不放了，一百度就出来。"
   ]
  },
  {
   "cell_type": "markdown",
   "metadata": {},
   "source": [
    "## 安装包\n",
    "\n",
    "简单讲下几种方法"
   ]
  },
  {
   "cell_type": "code",
   "execution_count": null,
   "metadata": {
    "collapsed": true
   },
   "outputs": [],
   "source": [
    "# 1.默认R会从CRAN找包，常用下面命令\n",
    "install.packages(\"put packages' name here\")\n",
    "# 多个包的安装用c()形成字符向量\n",
    "# 2.另一种方式是下载后手动安装，下载后解压，具体找下教程。一般第一种就够了，如果是安装bioconductor的包，方式不一样\n",
    "# 去bioconductor官网看看就懂了\n",
    "# 3.命令行安装\n",
    "$ R CMD INSTALL aplpack_1.1.1.tgz(资源文件名)"
   ]
  },
  {
   "cell_type": "code",
   "execution_count": 8,
   "metadata": {
    "collapsed": false
   },
   "outputs": [
    {
     "name": "stderr",
     "output_type": "stream",
     "text": [
      "also installing the dependencies ‘memoise’, ‘whisker’, ‘git2r’, ‘withr’\n",
      "\n",
      "Warning message in install.packages(\"devtools\"):\n",
      "“installation of package ‘git2r’ had non-zero exit status”Warning message in install.packages(\"devtools\"):\n",
      "“installation of package ‘devtools’ had non-zero exit status”Updating HTML index of packages in '.Library'\n",
      "Making 'packages.html' ... done\n"
     ]
    },
    {
     "ename": "ERROR",
     "evalue": "Error in library(devtools): there is no package called ‘devtools’\n",
     "output_type": "error",
     "traceback": [
      "Error in library(devtools): there is no package called ‘devtools’\nTraceback:\n",
      "1. library(devtools)",
      "2. stop(txt, domain = NA)"
     ]
    }
   ],
   "source": [
    "# 这里有一个新的重要知识点，单独列出。\n",
    "# 可以使用devtools包的进行其他资源包安装，比如全世界在用的github\n",
    "# 先安装devtools\n",
    "install.packages(\"devtools\")\n",
    "library(devtools)\n",
    "install_github(\"ggplot2\") # 例如安装ggplot2"
   ]
  },
  {
   "cell_type": "code",
   "execution_count": null,
   "metadata": {
    "collapsed": true
   },
   "outputs": [],
   "source": [
    "# 哎呀，报错了。找不到`devtools`包。 囧\n",
    "# 可以看到我的linux没有找到libssl，导致git2r包安装出问题了\n",
    "configure: WARNING: \"pkg-config failed to find libssl.\"\n",
    "checking for library containing EVP_EncryptInit... no\n",
    "configure: error: in `/tmp/RtmpZETZET/R.INSTALL398c6d876d6/git2r':\n",
    "configure: error: \n",
    "  ---------------------------------------------\n",
    "   The OpenSSL library that is required to\n",
    "   build git2r was not found.\n",
    "\n",
    "   Please install:\n",
    "     libssl-dev    (package on e.g. Debian and Ubuntu)\n",
    "     openssl-devel (package on e.g. Fedora, CentOS and RHEL)\n",
    "     openssl       (Homebrew package on OS X)\n",
    "   and try again.\n",
    "\n",
    "   If the OpenSSL library is installed on\n",
    "   your system but the git2r configuration\n",
    "   is unable to find it, you can specify\n",
    "   the include and lib path to OpenSSL with:\n",
    "   R CMD INSTALL --configure-args='--with-libssl-include=INCLUDE_PATH --with-libssl-lib=LIB_PATH' git2r\n",
    "  ---------------------------------------------\n",
    "See `config.log' for more details\n",
    "ERROR: configuration failed for package ‘git2r’\n",
    "* removing ‘/home/shawn/anaconda3/lib/R/library/git2r’\n",
    "    \n",
    "    \n",
    "# 那就先安装libssl，另一个错误出现了\n",
    "/usr/bin/ld: 找不到 -lgfortran\n",
    "collect2: error: ld returned 1 exit status\n",
    "/home/shawn/anaconda3/lib/R/share/make/shlib.mk:6: recipe for target 'git2r.so' failed\n",
    "    \n",
    "# 因为我这系统用的不就，常用的库文件都没有，所以导致此类问题\n",
    "# 为了避免此类问题重复出现，把R常见的依赖库统统装好\n",
    "# Ubuntu命令为\n",
    "# sudo apt-get install r-base-dev"
   ]
  },
  {
   "cell_type": "code",
   "execution_count": null,
   "metadata": {
    "collapsed": true
   },
   "outputs": [],
   "source": [
    "# 重新安装devtools\n",
    "installing to /home/shawn/anaconda3/lib/R/library/git2r/libs\n",
    "** R\n",
    "** inst\n",
    "** preparing package for lazy loading\n",
    "** help\n",
    "*** installing help indices\n",
    "** building package indices\n",
    "** testing if installed package can be loaded\n",
    "* DONE (git2r)\n",
    "* installing *source* package ‘devtools’ ...\n",
    "** 成功将‘devtools’程序包解包并MD5和检查\n",
    "** R\n",
    "** inst\n",
    "** preparing package for lazy loading\n",
    "** help\n",
    "*** installing help indices\n",
    "** building package indices\n",
    "** installing vignettes\n",
    "** testing if installed package can be loaded\n",
    "* DONE (devtools)\n",
    "\n",
    "The downloaded source packages are in\n",
    "\t‘/tmp/RtmpghQbRW/downloaded_packages’\n",
    "Updating HTML index of packages in '.Library'\n",
    "Making 'packages.html' ... done"
   ]
  },
  {
   "cell_type": "code",
   "execution_count": 11,
   "metadata": {
    "collapsed": false
   },
   "outputs": [
    {
     "ename": "ERROR",
     "evalue": "Error in username %||% getOption(\"github.user\") %||% stop(\"Unknown username.\"): Unknown username.\n",
     "output_type": "error",
     "traceback": [
      "Error in username %||% getOption(\"github.user\") %||% stop(\"Unknown username.\"): Unknown username.\nTraceback:\n",
      "1. install_github(\"ggplot2\")",
      "2. lapply(repo, github_remote, username = username, ref = ref, subdir = subdir, \n .     auth_token = auth_token, host = host)",
      "3. FUN(X[[i]], ...)",
      "4. username %||% getOption(\"github.user\") %||% stop(\"Unknown username.\")",
      "5. stop(\"Unknown username.\")"
     ]
    }
   ],
   "source": [
    "# 再来试试\n",
    "library(devtools)\n",
    "install_github(\"ggplot2\") # 例如安装ggplot2"
   ]
  },
  {
   "cell_type": "code",
   "execution_count": 13,
   "metadata": {
    "collapsed": false
   },
   "outputs": [
    {
     "name": "stderr",
     "output_type": "stream",
     "text": [
      "Warning message:\n",
      "“Username parameter is deprecated. Please use ShixiangWang/ggplot2”Downloading GitHub repo ShixiangWang/ggplot2@master\n",
      "from URL https://api.github.com/repos/ShixiangWang/ggplot2/zipball/master\n",
      "Installation failed: Not Found (404)\n",
      "\n"
     ]
    }
   ],
   "source": [
    "# 好像函数用法有问题，没有用户名吗？难道要提供github用户名？我用我的试下\n",
    "install_github(\"ggplot2\", username = \"ShixiangWang\")"
   ]
  },
  {
   "cell_type": "code",
   "execution_count": 14,
   "metadata": {
    "collapsed": false,
    "scrolled": true
   },
   "outputs": [
    {
     "name": "stderr",
     "output_type": "stream",
     "text": [
      "Warning message:\n",
      "“Username parameter is deprecated. Please use CRAN/ggplot2”Downloading GitHub repo CRAN/ggplot2@master\n",
      "from URL https://api.github.com/repos/CRAN/ggplot2/zipball/master\n",
      "Installing ggplot2\n",
      "Warning message in utils::untar(src, exdir = target, compressed = \"gzip\"):\n",
      "“‘/bin/gtar -xf '/tmp/Rtmpl1Vb84/digest_0.6.12.tar.gz' -C '/tmp/Rtmpl1Vb84/devtoolse334afba2af'’ returned error code 127”Installation failed: 调用命令时发生了错误\n",
      "Warning message in utils::untar(src, exdir = target, compressed = \"gzip\"):\n",
      "“‘/bin/gtar -xf '/tmp/Rtmpl1Vb84/MASS_7.3-47.tar.gz' -C '/tmp/Rtmpl1Vb84/devtoolse3338ed47bb'’ returned error code 127”Installation failed: 调用命令时发生了错误\n",
      "Warning message in utils::untar(src, exdir = target, compressed = \"gzip\"):\n",
      "“‘/bin/gtar -xf '/tmp/Rtmpl1Vb84/tibble_1.3.3.tar.gz' -C '/tmp/Rtmpl1Vb84/devtoolse33246571c8'’ returned error code 127”Installation failed: 调用命令时发生了错误\n",
      "'/home/shawn/anaconda3/lib/R/bin/R' --no-site-file --no-environ --no-save  \\\n",
      "  --no-restore --quiet CMD INSTALL  \\\n",
      "  '/tmp/Rtmpl1Vb84/devtoolse331e8e5bcd/cran-ggplot2-d09aa1d'  \\\n",
      "  --library='/home/shawn/anaconda3/lib/R/library' --install-tests \n",
      "\n"
     ]
    }
   ],
   "source": [
    "# 哎呀，原来是要提供资源地址的用户名\n",
    "install_github(\"ggplot2\", username = \"CRAN\")\n",
    "# 大家有兴趣的自己找找CRAN的github地址咯"
   ]
  },
  {
   "cell_type": "markdown",
   "metadata": {},
   "source": [
    "## 创建包暂时跳过不看"
   ]
  },
  {
   "cell_type": "code",
   "execution_count": 15,
   "metadata": {
    "collapsed": false
   },
   "outputs": [
    {
     "data": {
      "text/plain": [
       "R version 3.3.2 (2016-10-31)\n",
       "Platform: x86_64-pc-linux-gnu (64-bit)\n",
       "Running under: Ubuntu 17.04\n",
       "\n",
       "locale:\n",
       " [1] LC_CTYPE=zh_CN.UTF-8       LC_NUMERIC=C              \n",
       " [3] LC_TIME=zh_CN.UTF-8        LC_COLLATE=zh_CN.UTF-8    \n",
       " [5] LC_MONETARY=zh_CN.UTF-8    LC_MESSAGES=zh_CN.UTF-8   \n",
       " [7] LC_PAPER=zh_CN.UTF-8       LC_NAME=C                 \n",
       " [9] LC_ADDRESS=C               LC_TELEPHONE=C            \n",
       "[11] LC_MEASUREMENT=zh_CN.UTF-8 LC_IDENTIFICATION=C       \n",
       "\n",
       "attached base packages:\n",
       "[1] stats     graphics  grDevices utils     datasets  methods   base     \n",
       "\n",
       "other attached packages:\n",
       "[1] devtools_1.13.2 rpart_4.1-10   \n",
       "\n",
       "loaded via a namespace (and not attached):\n",
       " [1] digest_0.6.10   crayon_1.3.2    withr_1.0.2     IRdisplay_0.4.4\n",
       " [5] repr_0.10       R6_2.2.0        jsonlite_1.1    git2r_0.18.0   \n",
       " [9] magrittr_1.5    evaluate_0.10   httr_1.2.1      stringi_1.1.2  \n",
       "[13] curl_2.3        uuid_0.1-2      IRkernel_0.7.1  tools_3.3.2    \n",
       "[17] stringr_1.1.0   memoise_1.1.0   pbdZMQ_0.2-4    knitr_1.15.1   "
      ]
     },
     "metadata": {},
     "output_type": "display_data"
    }
   ],
   "source": [
    "sessionInfo()"
   ]
  },
  {
   "cell_type": "markdown",
   "metadata": {},
   "source": [
    "2017.6.28"
   ]
  }
 ],
 "metadata": {
  "kernelspec": {
   "display_name": "R",
   "language": "R",
   "name": "ir"
  },
  "language_info": {
   "codemirror_mode": "r",
   "file_extension": ".r",
   "mimetype": "text/x-r-source",
   "name": "R",
   "pygments_lexer": "r",
   "version": "3.3.2"
  }
 },
 "nbformat": 4,
 "nbformat_minor": 2
}
