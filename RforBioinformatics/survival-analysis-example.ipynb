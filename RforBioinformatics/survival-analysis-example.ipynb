{
 "cells": [
  {
   "cell_type": "markdown",
   "metadata": {},
   "source": [
    "# 生存分析\n",
    "\n",
    "来源：[生存分析小结](http://xccds1977.blogspot.com/2013/08/blog-post.html)\n",
    "\n",
    "生存分析一直一知半解，这次根据这个不错的资料来学习使用R进行生存分析的一般过程。"
   ]
  },
  {
   "cell_type": "markdown",
   "metadata": {},
   "source": [
    "感谢博主的贡献，介绍部分我直接进行拷贝了。"
   ]
  },
  {
   "cell_type": "markdown",
   "metadata": {},
   "source": [
    "生存分析(survival analysis)适合于处理时间－事件数据。例如中风病人从首次发病到两次复发，其中就涉及到时间和事件。此例中时间就是复发的时间间隔，事件就是是否复发。如果用普通的线性回归对复发时间进行分析，就需要去除那些没有复发的病人样本。如果用Logistic回归对是否复发进行分析，就没有用到时间这个因素。而生存分析同时考虑时间和事情这两个因素，效果会更好些。\n",
    "\n",
    "> 关于生存分析的详细概念很多博文皆有涉猎，百度一下就有不少详细资料可以作为参考。\n"
   ]
  },
  {
   "cell_type": "markdown",
   "metadata": {},
   "source": [
    "在R语言中我们可以使用survival包进行生存分析，其中主要的函数功能罗列如下：\n",
    "\n",
    "Surv：用于创建生存数据对象\n",
    "\n",
    "survfit：创建KM生存曲线或是Cox调整生存曲线\n",
    "\n",
    "survdiff：用于不同组的统计检验\n",
    "\n",
    "coxph：构建COX回归模型\n",
    "\n",
    "cox.zph：检验PH假设是否成立\n",
    "\n",
    "survreg：构建参数模型\n"
   ]
  },
  {
   "cell_type": "markdown",
   "metadata": {},
   "source": [
    "## 实例"
   ]
  },
  {
   "cell_type": "markdown",
   "metadata": {},
   "source": [
    "下面根据一个实例我们来详细看一看这一系列处理过程。我会将原博文的代码拆分为一行一行进行执行和观察。"
   ]
  },
  {
   "cell_type": "code",
   "execution_count": 1,
   "metadata": {
    "collapsed": true
   },
   "outputs": [],
   "source": [
    "# Example from Survival Analysis- A Self-Learning Text, Third Edition \n",
    "\n",
    "library(survival)   # 导入包\n",
    "addicts <- read.table('ADDICTS.txt',T)   # 读入数据\n",
    "names(addicts) <- c('id','clinic','status', 'survt','prison','dose')   # 设定变量名"
   ]
  },
  {
   "cell_type": "code",
   "execution_count": 4,
   "metadata": {},
   "outputs": [
    {
     "data": {
      "text/html": [
       "<table>\n",
       "<thead><tr><th scope=col>id</th><th scope=col>clinic</th><th scope=col>status</th><th scope=col>survt</th><th scope=col>prison</th><th scope=col>dose</th></tr></thead>\n",
       "<tbody>\n",
       "\t<tr><td>1  </td><td>1  </td><td>1  </td><td>428</td><td>0  </td><td>50 </td></tr>\n",
       "\t<tr><td>2  </td><td>1  </td><td>1  </td><td>275</td><td>1  </td><td>55 </td></tr>\n",
       "\t<tr><td>3  </td><td>1  </td><td>1  </td><td>262</td><td>0  </td><td>55 </td></tr>\n",
       "\t<tr><td>4  </td><td>1  </td><td>1  </td><td>183</td><td>0  </td><td>30 </td></tr>\n",
       "\t<tr><td>5  </td><td>1  </td><td>1  </td><td>259</td><td>1  </td><td>65 </td></tr>\n",
       "\t<tr><td>6  </td><td>1  </td><td>1  </td><td>714</td><td>0  </td><td>55 </td></tr>\n",
       "</tbody>\n",
       "</table>\n"
      ],
      "text/latex": [
       "\\begin{tabular}{r|llllll}\n",
       " id & clinic & status & survt & prison & dose\\\\\n",
       "\\hline\n",
       "\t 1   & 1   & 1   & 428 & 0   & 50 \\\\\n",
       "\t 2   & 1   & 1   & 275 & 1   & 55 \\\\\n",
       "\t 3   & 1   & 1   & 262 & 0   & 55 \\\\\n",
       "\t 4   & 1   & 1   & 183 & 0   & 30 \\\\\n",
       "\t 5   & 1   & 1   & 259 & 1   & 65 \\\\\n",
       "\t 6   & 1   & 1   & 714 & 0   & 55 \\\\\n",
       "\\end{tabular}\n"
      ],
      "text/markdown": [
       "\n",
       "id | clinic | status | survt | prison | dose | \n",
       "|---|---|---|---|---|---|\n",
       "| 1   | 1   | 1   | 428 | 0   | 50  | \n",
       "| 2   | 1   | 1   | 275 | 1   | 55  | \n",
       "| 3   | 1   | 1   | 262 | 0   | 55  | \n",
       "| 4   | 1   | 1   | 183 | 0   | 30  | \n",
       "| 5   | 1   | 1   | 259 | 1   | 65  | \n",
       "| 6   | 1   | 1   | 714 | 0   | 55  | \n",
       "\n",
       "\n"
      ],
      "text/plain": [
       "  id clinic status survt prison dose\n",
       "1 1  1      1      428   0      50  \n",
       "2 2  1      1      275   1      55  \n",
       "3 3  1      1      262   0      55  \n",
       "4 4  1      1      183   0      30  \n",
       "5 5  1      1      259   1      65  \n",
       "6 6  1      1      714   0      55  "
      ]
     },
     "metadata": {},
     "output_type": "display_data"
    }
   ],
   "source": [
    "# 查看数据\n",
    "head(addicts)"
   ]
  },
  {
   "cell_type": "code",
   "execution_count": 2,
   "metadata": {
    "collapsed": true
   },
   "outputs": [],
   "source": [
    "# 1. 估计生存函数，观察不同组间的区别"
   ]
  },
  {
   "cell_type": "code",
   "execution_count": 3,
   "metadata": {},
   "outputs": [
    {
     "data": {
      "text/plain": [
       "  [1]  428   275   262   183   259   714   438   796+  892   393   161+  836 \n",
       " [13]  523   612   212   399   771   514   512   624   209   341   299   826+\n",
       " [25]  262   566+  368   302   602+  652   293   564+  394   755   591   787+\n",
       " [37]  739   550   837   612   581+  523   504   785   774   560   160   482 \n",
       " [49]  518   683   147   563   646   899   857   180   452   760   496   258 \n",
       " [61]  181   386   439+  563+  337   613+  192   405+  667   905+  247   821 \n",
       " [73]  821   517+  346+  294   244    95   376   212    96   532   522   679 \n",
       " [85]  408+  840+  148+  168   489   541+  205   475+  237   517   749   150 \n",
       " [97]  465   708   713+  146+  450   555+  460    53+  122    35   532+  684+\n",
       "[109]  769+  591+  769+  609+  932+  932+  587+   26    72+  641+  367+  633+\n",
       "[121]  661   232    13   563+  969+ 1052+  944+  881+  190    79   884+  170 \n",
       "[133]  286   358+  326+  769+  161   564+  268   611+  322  1076+    2+  788+\n",
       "[145]  575+  109   730+  790+  456+  231   143    86+ 1021+  684+  878   216 \n",
       "[157]  808+  268   222+  683+  496+  389   126    17   350   531+  317+  461+\n",
       "[169]   37   167   358    49   457   127     7    29    62   150+  223   129+\n",
       "[181]  204+  129   581   176    30    41   543+  210+  193   434   367   348 \n",
       "[193]   28+  337+  175+  149   546    84   283+  533   207   216    28+   67 \n",
       "[205]   62+  111+  257   136   342+   41   531+   98+  145    50    53+  103+\n",
       "[217]    2+  157    75    19    35   394+  117   175   180   314   480+  325+\n",
       "[229]  280   204   366   531+   59    33   540   551+   90    47 "
      ]
     },
     "metadata": {},
     "output_type": "display_data"
    }
   ],
   "source": [
    "# 建立生存对象\n",
    "Surv(addicts$survt,addicts$status==1)"
   ]
  },
  {
   "cell_type": "code",
   "execution_count": 5,
   "metadata": {
    "collapsed": true
   },
   "outputs": [],
   "source": [
    "# 估计KM生存曲线\n",
    "y <- Surv(addicts$survt,addicts$status==1)\n",
    "kmfit1 <- survfit(y~1)"
   ]
  },
  {
   "cell_type": "code",
   "execution_count": 6,
   "metadata": {},
   "outputs": [
    {
     "data": {
      "text/plain": [
       "Call: survfit(formula = y ~ 1)\n",
       "\n",
       " time n.risk n.event survival std.err lower 95% CI upper 95% CI\n",
       "    7    236       1    0.996 0.00423       0.9875        1.000\n",
       "   13    235       1    0.992 0.00597       0.9799        1.000\n",
       "   17    234       1    0.987 0.00729       0.9731        1.000\n",
       "   19    233       1    0.983 0.00840       0.9667        1.000\n",
       "   26    232       1    0.979 0.00937       0.9606        0.997\n",
       "   29    229       1    0.975 0.01026       0.9546        0.995\n",
       "   30    228       1    0.970 0.01107       0.9488        0.992\n",
       "   33    227       1    0.966 0.01182       0.9431        0.989\n",
       "   35    226       2    0.957 0.01317       0.9320        0.984\n",
       "   37    224       1    0.953 0.01379       0.9265        0.981\n",
       "   41    223       2    0.945 0.01493       0.9158        0.974\n",
       "   47    221       1    0.940 0.01546       0.9105        0.971\n",
       "   49    220       1    0.936 0.01597       0.9053        0.968\n",
       "   50    219       1    0.932 0.01646       0.9001        0.965\n",
       "   59    216       1    0.927 0.01694       0.8949        0.961\n",
       "   62    215       1    0.923 0.01740       0.8897        0.958\n",
       "   67    213       1    0.919 0.01785       0.8845        0.954\n",
       "   75    211       1    0.914 0.01829       0.8793        0.951\n",
       "   79    210       1    0.910 0.01871       0.8742        0.948\n",
       "   84    209       1    0.906 0.01913       0.8691        0.944\n",
       "   90    207       1    0.901 0.01953       0.8639        0.940\n",
       "   95    206       1    0.897 0.01992       0.8588        0.937\n",
       "   96    205       1    0.893 0.02029       0.8537        0.933\n",
       "  109    202       1    0.888 0.02067       0.8486        0.930\n",
       "  117    200       1    0.884 0.02104       0.8435        0.926\n",
       "  122    199       1    0.879 0.02140       0.8384        0.922\n",
       "  126    198       1    0.875 0.02174       0.8333        0.919\n",
       "  127    197       1    0.870 0.02208       0.8282        0.915\n",
       "  129    196       1    0.866 0.02241       0.8232        0.911\n",
       "  136    194       1    0.862 0.02274       0.8181        0.907\n",
       "  143    193       1    0.857 0.02305       0.8131        0.903\n",
       "  145    192       1    0.853 0.02336       0.8080        0.900\n",
       "  147    190       1    0.848 0.02366       0.8030        0.896\n",
       "  149    188       1    0.844 0.02396       0.7979        0.892\n",
       "  150    187       1    0.839 0.02426       0.7929        0.888\n",
       "  157    185       1    0.835 0.02455       0.7878        0.884\n",
       "  160    184       1    0.830 0.02483       0.7828        0.880\n",
       "  161    183       1    0.826 0.02510       0.7777        0.876\n",
       "  167    181       1    0.821 0.02538       0.7727        0.872\n",
       "  168    180       1    0.816 0.02564       0.7676        0.868\n",
       "  170    179       1    0.812 0.02590       0.7626        0.864\n",
       "  175    178       1    0.807 0.02615       0.7576        0.860\n",
       "  176    176       1    0.803 0.02640       0.7526        0.856\n",
       "  180    175       2    0.794 0.02689       0.7425        0.848\n",
       "  181    173       1    0.789 0.02712       0.7375        0.844\n",
       "  183    172       1    0.784 0.02735       0.7325        0.840\n",
       "  190    171       1    0.780 0.02757       0.7275        0.836\n",
       "  192    170       1    0.775 0.02779       0.7226        0.832\n",
       "  193    169       1    0.771 0.02800       0.7176        0.827\n",
       "  204    168       1    0.766 0.02821       0.7127        0.823\n",
       "  205    166       1    0.761 0.02841       0.7077        0.819\n",
       "  207    165       1    0.757 0.02861       0.7027        0.815\n",
       "  209    164       1    0.752 0.02881       0.6978        0.811\n",
       "  212    162       2    0.743 0.02919       0.6878        0.802\n",
       "  216    160       2    0.734 0.02955       0.6779        0.794\n",
       "  223    157       1    0.729 0.02973       0.6729        0.790\n",
       "  231    156       1    0.724 0.02991       0.6679        0.785\n",
       "  232    155       1    0.720 0.03008       0.6630        0.781\n",
       "  237    154       1    0.715 0.03024       0.6580        0.777\n",
       "  244    153       1    0.710 0.03040       0.6531        0.772\n",
       "  247    152       1    0.706 0.03056       0.6481        0.768\n",
       "  257    151       1    0.701 0.03071       0.6432        0.764\n",
       "  258    150       1    0.696 0.03086       0.6383        0.759\n",
       "  259    149       1    0.692 0.03101       0.6333        0.755\n",
       "  262    148       2    0.682 0.03128       0.6235        0.746\n",
       "  268    146       2    0.673 0.03154       0.6138        0.738\n",
       "  275    144       1    0.668 0.03167       0.6089        0.733\n",
       "  280    143       1    0.663 0.03179       0.6040        0.729\n",
       "  286    141       1    0.659 0.03191       0.5991        0.724\n",
       "  293    140       1    0.654 0.03203       0.5942        0.720\n",
       "  294    139       1    0.649 0.03214       0.5893        0.716\n",
       "  299    138       1    0.645 0.03225       0.5844        0.711\n",
       "  302    137       1    0.640 0.03236       0.5796        0.707\n",
       "  314    136       1    0.635 0.03246       0.5747        0.702\n",
       "  322    134       1    0.631 0.03256       0.5698        0.698\n",
       "  337    131       1    0.626 0.03267       0.5648        0.693\n",
       "  341    129       1    0.621 0.03277       0.5598        0.689\n",
       "  348    126       1    0.616 0.03288       0.5547        0.684\n",
       "  350    125       1    0.611 0.03298       0.5496        0.679\n",
       "  358    124       1    0.606 0.03308       0.5446        0.675\n",
       "  366    122       1    0.601 0.03318       0.5395        0.670\n",
       "  367    121       1    0.596 0.03328       0.5343        0.665\n",
       "  368    119       1    0.591 0.03338       0.5292        0.660\n",
       "  376    118       1    0.586 0.03347       0.5241        0.656\n",
       "  386    117       1    0.581 0.03355       0.5189        0.651\n",
       "  389    116       1    0.576 0.03364       0.5138        0.646\n",
       "  393    115       1    0.571 0.03371       0.5087        0.641\n",
       "  394    114       1    0.566 0.03379       0.5036        0.636\n",
       "  399    112       1    0.561 0.03386       0.4984        0.631\n",
       "  428    109       1    0.556 0.03394       0.4932        0.627\n",
       "  434    108       1    0.551 0.03401       0.4879        0.622\n",
       "  438    107       1    0.546 0.03408       0.4827        0.617\n",
       "  450    105       1    0.540 0.03415       0.4774        0.612\n",
       "  452    104       1    0.535 0.03422       0.4722        0.607\n",
       "  457    102       1    0.530 0.03428       0.4668        0.602\n",
       "  460    101       1    0.525 0.03434       0.4615        0.597\n",
       "  465     99       1    0.519 0.03440       0.4562        0.591\n",
       "  482     96       1    0.514 0.03447       0.4507        0.586\n",
       "  489     95       1    0.509 0.03453       0.4452        0.581\n",
       "  496     94       1    0.503 0.03458       0.4398        0.576\n",
       "  504     92       1    0.498 0.03463       0.4342        0.570\n",
       "  512     91       1    0.492 0.03468       0.4287        0.565\n",
       "  514     90       1    0.487 0.03473       0.4232        0.560\n",
       "  517     89       1    0.481 0.03476       0.4178        0.554\n",
       "  518     87       1    0.476 0.03480       0.4122        0.549\n",
       "  522     86       1    0.470 0.03483       0.4067        0.544\n",
       "  523     85       2    0.459 0.03488       0.3956        0.533\n",
       "  532     80       1    0.453 0.03491       0.3899        0.527\n",
       "  533     78       1    0.448 0.03495       0.3841        0.522\n",
       "  540     77       1    0.442 0.03497       0.3783        0.516\n",
       "  546     74       1    0.436 0.03501       0.3723        0.510\n",
       "  550     73       1    0.430 0.03503       0.3664        0.504\n",
       "  560     70       1    0.424 0.03507       0.3603        0.498\n",
       "  563     69       1    0.418 0.03509       0.3542        0.492\n",
       "  581     62       1    0.411 0.03517       0.3474        0.486\n",
       "  591     59       1    0.404 0.03525       0.3404        0.479\n",
       "  612     54       2    0.389 0.03550       0.3252        0.465\n",
       "  624     51       1    0.381 0.03561       0.3175        0.458\n",
       "  646     48       1    0.373 0.03574       0.3095        0.450\n",
       "  652     47       1    0.365 0.03586       0.3015        0.443\n",
       "  661     46       1    0.357 0.03595       0.2935        0.435\n",
       "  667     45       1    0.350 0.03601       0.2856        0.428\n",
       "  679     44       1    0.342 0.03606       0.2777        0.420\n",
       "  683     43       1    0.334 0.03609       0.2699        0.412\n",
       "  708     39       1    0.325 0.03616       0.2614        0.404\n",
       "  714     37       1    0.316 0.03623       0.2527        0.396\n",
       "  739     35       1    0.307 0.03631       0.2437        0.387\n",
       "  749     34       1    0.298 0.03635       0.2348        0.379\n",
       "  755     33       1    0.289 0.03635       0.2260        0.370\n",
       "  760     32       1    0.280 0.03632       0.2173        0.361\n",
       "  771     28       1    0.270 0.03638       0.2075        0.352\n",
       "  774     27       1    0.260 0.03638       0.1978        0.342\n",
       "  785     26       1    0.250 0.03633       0.1882        0.332\n",
       "  821     20       2    0.225 0.03675       0.1635        0.310\n",
       "  836     17       1    0.212 0.03690       0.1506        0.298\n",
       "  837     16       1    0.199 0.03689       0.1380        0.286\n",
       "  857     14       1    0.184 0.03688       0.1246        0.273\n",
       "  878     13       1    0.170 0.03667       0.1116        0.260\n",
       "  892     10       1    0.153 0.03675       0.0958        0.245\n",
       "  899      9       1    0.136 0.03639       0.0807        0.230"
      ]
     },
     "metadata": {},
     "output_type": "display_data"
    }
   ],
   "source": [
    "summary(kmfit1)"
   ]
  },
  {
   "cell_type": "code",
   "execution_count": 7,
   "metadata": {},
   "outputs": [
    {
     "data": {
      "image/png": "[encoded data removed]",
      "text/plain": [
       "plot without title"
      ]
     },
     "metadata": {},
     "output_type": "display_data"
    }
   ],
   "source": [
    "plot(kmfit1)"
   ]
  },
  {
   "cell_type": "code",
   "execution_count": 8,
   "metadata": {},
   "outputs": [
    {
     "data": {
      "image/png": "[encoded data removed]",
      "text/plain": [
       "plot without title"
      ]
     },
     "metadata": {},
     "output_type": "display_data"
    }
   ],
   "source": [
    "# 根据clinic分组估计KM生存曲线\n",
    "kmfit2 <- survfit(y~addicts$clinic)\n",
    "plot(kmfit2, lty = c('solid', 'dashed'), col=c('black','blue'),\n",
    "     xlab='survival time in days',ylab='survival probabilities')\n",
    "legend('topright', c('Clinic 1','Clinic 2'), lty=c('solid','dashed'),\n",
    "       col=c('black','blue'))"
   ]
  },
  {
   "cell_type": "code",
   "execution_count": 9,
   "metadata": {},
   "outputs": [
    {
     "data": {
      "text/plain": [
       "Call:\n",
       "survdiff(formula = Surv(survt, status) ~ clinic, data = addicts)\n",
       "\n",
       "           N Observed Expected (O-E)^2/E (O-E)^2/V\n",
       "clinic=1 163      122     90.9      10.6      27.9\n",
       "clinic=2  75       28     59.1      16.4      27.9\n",
       "\n",
       " Chisq= 27.9  on 1 degrees of freedom, p= 1.28e-07 "
      ]
     },
     "metadata": {},
     "output_type": "display_data"
    }
   ],
   "source": [
    "# 检验显著性\n",
    "survdiff(Surv(survt,status)~clinic, data=addicts)"
   ]
  },
  {
   "cell_type": "code",
   "execution_count": 10,
   "metadata": {},
   "outputs": [
    {
     "data": {
      "text/plain": [
       "Call:\n",
       "survdiff(formula = Surv(survt, status) ~ clinic + strata(prison), \n",
       "    data = addicts)\n",
       "\n",
       "           N Observed Expected (O-E)^2/E (O-E)^2/V\n",
       "clinic=1 163      122     91.7      10.0      26.9\n",
       "clinic=2  75       28     58.3      15.8      26.9\n",
       "\n",
       " Chisq= 26.9  on 1 degrees of freedom, p= 2.1e-07 "
      ]
     },
     "metadata": {},
     "output_type": "display_data"
    }
   ],
   "source": [
    "# 用strata来控制协变量的影响\n",
    "survdiff(Surv(survt,status) ~ clinic +strata(prison),data=addicts)"
   ]
  },
  {
   "cell_type": "code",
   "execution_count": 11,
   "metadata": {},
   "outputs": [
    {
     "data": {
      "image/png": "[encoded data removed]",
      "text/plain": [
       "Plot with title \"log-log curves by clinic\""
      ]
     },
     "metadata": {},
     "output_type": "display_data"
    }
   ],
   "source": [
    "# 2. 用图形方法检验PH假设\n",
    "\n",
    "plot(kmfit2,fun='cloglog',xlab='time in days using logarithmic\n",
    "     scale',ylab='log-log survival', main='log-log curves by clinic')\n",
    "# 不平行，不符合PH假设"
   ]
  },
  {
   "cell_type": "code",
   "execution_count": 12,
   "metadata": {},
   "outputs": [
    {
     "data": {
      "text/plain": [
       "Call:\n",
       "coxph(formula = y ~ prison + dose + clinic, data = addicts)\n",
       "\n",
       "  n= 238, number of events= 150 \n",
       "\n",
       "            coef exp(coef)  se(coef)      z Pr(>|z|)    \n",
       "prison  0.326555  1.386184  0.167225  1.953   0.0508 .  \n",
       "dose   -0.035369  0.965249  0.006379 -5.545 2.94e-08 ***\n",
       "clinic -1.009896  0.364257  0.214889 -4.700 2.61e-06 ***\n",
       "---\n",
       "Signif. codes:  0 '***' 0.001 '**' 0.01 '*' 0.05 '.' 0.1 ' ' 1\n",
       "\n",
       "       exp(coef) exp(-coef) lower .95 upper .95\n",
       "prison    1.3862     0.7214    0.9988    1.9238\n",
       "dose      0.9652     1.0360    0.9533    0.9774\n",
       "clinic    0.3643     2.7453    0.2391    0.5550\n",
       "\n",
       "Concordance= 0.665  (se = 0.026 )\n",
       "Rsquare= 0.238   (max possible= 0.997 )\n",
       "Likelihood ratio test= 64.56  on 3 df,   p=6.228e-14\n",
       "Wald test            = 54.12  on 3 df,   p=1.056e-11\n",
       "Score (logrank) test = 56.32  on 3 df,   p=3.598e-12\n"
      ]
     },
     "metadata": {},
     "output_type": "display_data"
    }
   ],
   "source": [
    "#  3. 构建COX PH回归模型\n",
    "\n",
    "y <- Surv(addicts$survt,addicts$status==1)\n",
    "coxmodel <- coxph(y~ prison + dose + clinic,data=addicts)\n",
    "summary(coxmodel)"
   ]
  },
  {
   "cell_type": "code",
   "execution_count": 14,
   "metadata": {},
   "outputs": [
    {
     "data": {
      "text/html": [
       "<table>\n",
       "<thead><tr><th scope=col>loglik</th><th scope=col>Chisq</th><th scope=col>Df</th><th scope=col>P(&gt;|Chi|)</th></tr></thead>\n",
       "<tbody>\n",
       "\t<tr><td>-673.2591</td><td>      NA </td><td>NA       </td><td>       NA</td></tr>\n",
       "\t<tr><td>-671.4500</td><td>3.618211 </td><td> 2       </td><td>0.1638006</td></tr>\n",
       "</tbody>\n",
       "</table>\n"
      ],
      "text/latex": [
       "\\begin{tabular}{r|llll}\n",
       " loglik & Chisq & Df & P(>\\textbar{}Chi\\textbar{})\\\\\n",
       "\\hline\n",
       "\t -673.2591 &       NA  & NA        &        NA\\\\\n",
       "\t -671.4500 & 3.618211  &  2        & 0.1638006\\\\\n",
       "\\end{tabular}\n"
      ],
      "text/markdown": [
       "\n",
       "loglik | Chisq | Df | P(>|Chi|) | \n",
       "|---|---|\n",
       "| -673.2591 |       NA  | NA        |        NA | \n",
       "| -671.4500 | 3.618211  |  2        | 0.1638006 | \n",
       "\n",
       "\n"
      ],
      "text/plain": [
       "  loglik    Chisq    Df P(>|Chi|)\n",
       "1 -673.2591       NA NA        NA\n",
       "2 -671.4500 3.618211  2 0.1638006"
      ]
     },
     "metadata": {},
     "output_type": "display_data"
    },
    {
     "name": "stdout",
     "output_type": "stream",
     "text": [
      "Start:  AIC=1352.9\n",
      "y ~ prison + dose + clinic + clinic * prison + clinic * dose\n",
      "\n",
      "                Df    AIC\n",
      "- dose:clinic    1 1351.9\n",
      "<none>             1352.9\n",
      "- prison:clinic  1 1353.8\n",
      "\n",
      "Step:  AIC=1351.86\n",
      "y ~ prison + dose + clinic + prison:clinic\n",
      "\n",
      "                Df    AIC\n",
      "<none>             1351.9\n",
      "- prison:clinic  1 1352.5\n",
      "- dose           1 1382.4\n"
     ]
    },
    {
     "data": {
      "text/plain": [
       "Call:\n",
       "coxph(formula = y ~ prison + dose + clinic + prison:clinic, data = addicts)\n",
       "\n",
       "                  coef exp(coef) se(coef)     z       p\n",
       "prison         1.16403   3.20281  0.54037  2.15   0.031\n",
       "dose          -0.03698   0.96370  0.00651 -5.68 1.4e-08\n",
       "clinic        -0.65519   0.51934  0.28903 -2.27   0.023\n",
       "prison:clinic -0.69931   0.49693  0.42933 -1.63   0.103\n",
       "\n",
       "Likelihood ratio test=67.2  on 4 df, p=8.78e-14\n",
       "n= 238, number of events= 150 "
      ]
     },
     "metadata": {},
     "output_type": "display_data"
    }
   ],
   "source": [
    "# 两模型选择\n",
    "mod1 <- coxph(y ~ prison + dose + clinic,data=addicts)\n",
    "mod2 <- coxph(y ~ prison + dose + clinic + clinic*prison\n",
    "           + clinic*dose, data=addicts)\n",
    "\n",
    "anova(mod1,mod2)\n",
    "library(MASS)\n",
    "stepAIC(mod2)\n",
    "# 简洁模型更好"
   ]
  },
  {
   "cell_type": "code",
   "execution_count": 16,
   "metadata": {},
   "outputs": [
    {
     "data": {
      "text/html": [
       "<strong>1:</strong> 0.30619700003385"
      ],
      "text/latex": [
       "\\textbf{1:} 0.30619700003385"
      ],
      "text/markdown": [
       "**1:** 0.30619700003385"
      ],
      "text/plain": [
       "       1 \n",
       "0.306197 "
      ]
     },
     "metadata": {},
     "output_type": "display_data"
    }
   ],
   "source": [
    "# 风险预测\n",
    "pattern1 <- data.frame(prison=0,dose=70,clinic=2)\n",
    "predict(mod1,newdata=pattern1,\n",
    "        type='risk')"
   ]
  },
  {
   "cell_type": "code",
   "execution_count": 17,
   "metadata": {},
   "outputs": [
    {
     "data": {
      "text/plain": [
       "Call:\n",
       "coxph(formula = y ~ prison + dose + strata(clinic), data = addicts)\n",
       "\n",
       "  n= 238, number of events= 150 \n",
       "\n",
       "            coef exp(coef)  se(coef)      z Pr(>|z|)    \n",
       "prison  0.389605  1.476397  0.168930  2.306   0.0211 *  \n",
       "dose   -0.035115  0.965495  0.006465 -5.432 5.59e-08 ***\n",
       "---\n",
       "Signif. codes:  0 '***' 0.001 '**' 0.01 '*' 0.05 '.' 0.1 ' ' 1\n",
       "\n",
       "       exp(coef) exp(-coef) lower .95 upper .95\n",
       "prison    1.4764     0.6773    1.0603    2.0559\n",
       "dose      0.9655     1.0357    0.9533    0.9778\n",
       "\n",
       "Concordance= 0.651  (se = 0.034 )\n",
       "Rsquare= 0.133   (max possible= 0.994 )\n",
       "Likelihood ratio test= 33.91  on 2 df,   p=4.322e-08\n",
       "Wald test            = 32.66  on 2 df,   p=8.076e-08\n",
       "Score (logrank) test = 33.33  on 2 df,   p=5.774e-08\n"
      ]
     },
     "metadata": {},
     "output_type": "display_data"
    }
   ],
   "source": [
    "# 4. 构建一个stratified Cox model.\n",
    "\n",
    "# 当PH假设在clinic不成立，控制这个变量\n",
    "mod3 <- coxph(y ~ prison + dose + \n",
    "                strata(clinic),data=addicts)\n",
    "summary(mod3)"
   ]
  },
  {
   "cell_type": "code",
   "execution_count": 18,
   "metadata": {},
   "outputs": [
    {
     "data": {
      "text/plain": [
       "           rho  chisq       p\n",
       "prison -0.0462  0.322 0.57068\n",
       "dose    0.0905  1.096 0.29521\n",
       "clinic -0.2498 10.495 0.00120\n",
       "GLOBAL      NA 12.425 0.00606"
      ]
     },
     "metadata": {},
     "output_type": "display_data"
    },
    {
     "data": {
      "image/png": "[encoded data removed]",
      "text/plain": [
       "plot without title"
      ]
     },
     "metadata": {},
     "output_type": "display_data"
    }
   ],
   "source": [
    "#  5.对PH假设进行统计检验\n",
    "\n",
    "mod1 <- coxph(y ~ prison + dose + clinic,data=addicts)\n",
    "cox.zph(mod1,transform=rank)\n",
    "# P值小显示PH假设不符合\n",
    "# 显示系数变化图\n",
    "plot(cox.zph(mod1,transform=rank),se=F,var='clinic')"
   ]
  },
  {
   "cell_type": "code",
   "execution_count": 22,
   "metadata": {},
   "outputs": [
    {
     "data": {
      "text/plain": [
       "Call: survfit(formula = mod1, newdata = pattern1)\n",
       "\n",
       " time n.risk n.event survival std.err lower 95% CI upper 95% CI\n",
       "    7    236       1    0.999 0.00105        0.997        1.000\n",
       "   13    235       1    0.998 0.00154        0.995        1.000\n",
       "   17    234       1    0.997 0.00193        0.993        1.000\n",
       "   19    233       1    0.996 0.00229        0.991        1.000\n",
       "   26    232       1    0.995 0.00263        0.990        1.000\n",
       "   29    229       1    0.994 0.00296        0.988        1.000\n",
       "   30    228       1    0.993 0.00328        0.986        0.999\n",
       "   33    227       1    0.992 0.00359        0.985        0.999\n",
       "   35    226       2    0.989 0.00419        0.981        0.998\n",
       "   37    224       1    0.988 0.00448        0.980        0.997\n",
       "   41    223       2    0.986 0.00506        0.976        0.996\n",
       "   47    221       1    0.985 0.00535        0.975        0.996\n",
       "   49    220       1    0.984 0.00563        0.973        0.995\n",
       "   50    219       1    0.983 0.00592        0.971        0.994\n",
       "   59    216       1    0.982 0.00621        0.970        0.994\n",
       "   62    215       1    0.980 0.00649        0.968        0.993\n",
       "   67    213       1    0.979 0.00679        0.966        0.993\n",
       "   75    211       1    0.978 0.00708        0.964        0.992\n",
       "   79    210       1    0.977 0.00737        0.963        0.992\n",
       "   84    209       1    0.976 0.00767        0.961        0.991\n",
       "   90    207       1    0.975 0.00796        0.959        0.990\n",
       "   95    206       1    0.973 0.00826        0.957        0.990\n",
       "   96    205       1    0.972 0.00856        0.956        0.989\n",
       "  109    202       1    0.971 0.00886        0.954        0.988\n",
       "  117    200       1    0.970 0.00917        0.952        0.988\n",
       "  122    199       1    0.968 0.00948        0.950        0.987\n",
       "  126    198       1    0.967 0.00978        0.948        0.987\n",
       "  127    197       1    0.966 0.01009        0.946        0.986\n",
       "  129    196       1    0.965 0.01040        0.944        0.985\n",
       "  136    194       1    0.963 0.01072        0.943        0.985\n",
       "  143    193       1    0.962 0.01103        0.941        0.984\n",
       "  145    192       1    0.961 0.01135        0.939        0.983\n",
       "  147    190       1    0.959 0.01167        0.937        0.982\n",
       "  149    188       1    0.958 0.01199        0.935        0.982\n",
       "  150    187       1    0.957 0.01231        0.933        0.981\n",
       "  157    185       1    0.955 0.01263        0.931        0.980\n",
       "  160    184       1    0.954 0.01295        0.929        0.980\n",
       "  161    183       1    0.952 0.01327        0.927        0.979\n",
       "  167    181       1    0.951 0.01360        0.925        0.978\n",
       "  168    180       1    0.950 0.01393        0.923        0.977\n",
       "  170    179       1    0.948 0.01426        0.921        0.977\n",
       "  175    178       1    0.947 0.01459        0.919        0.976\n",
       "  176    176       1    0.945 0.01492        0.917        0.975\n",
       "  180    175       2    0.942 0.01559        0.912        0.973\n",
       "  181    173       1    0.941 0.01592        0.910        0.973\n",
       "  183    172       1    0.939 0.01626        0.908        0.972\n",
       "  190    171       1    0.938 0.01660        0.906        0.971\n",
       "  192    170       1    0.936 0.01694        0.904        0.970\n",
       "  193    169       1    0.935 0.01728        0.902        0.969\n",
       "  204    168       1    0.933 0.01762        0.899        0.969\n",
       "  205    166       1    0.932 0.01797        0.897        0.968\n",
       "  207    165       1    0.930 0.01831        0.895        0.967\n",
       "  209    164       1    0.929 0.01866        0.893        0.966\n",
       "  212    162       2    0.925 0.01937        0.888        0.964\n",
       "  216    160       2    0.922 0.02009        0.884        0.962\n",
       "  223    157       1    0.920 0.02045        0.881        0.961\n",
       "  231    156       1    0.919 0.02081        0.879        0.960\n",
       "  232    155       1    0.917 0.02118        0.876        0.960\n",
       "  237    154       1    0.915 0.02154        0.874        0.959\n",
       "  244    153       1    0.914 0.02191        0.872        0.958\n",
       "  247    152       1    0.912 0.02228        0.869        0.957\n",
       "  257    151       1    0.910 0.02265        0.867        0.956\n",
       "  258    150       1    0.908 0.02302        0.864        0.955\n",
       "  259    149       1    0.907 0.02339        0.862        0.954\n",
       "  262    148       2    0.903 0.02414        0.857        0.952\n",
       "  268    146       2    0.899 0.02489        0.852        0.950\n",
       "  275    144       1    0.898 0.02527        0.849        0.948\n",
       "  280    143       1    0.896 0.02565        0.847        0.947\n",
       "  286    141       1    0.894 0.02603        0.844        0.946\n",
       "  293    140       1    0.892 0.02641        0.842        0.945\n",
       "  294    139       1    0.890 0.02679        0.839        0.944\n",
       "  299    138       1    0.888 0.02718        0.836        0.943\n",
       "  302    137       1    0.886 0.02756        0.834        0.942\n",
       "  314    136       1    0.884 0.02795        0.831        0.941\n",
       "  322    134       1    0.882 0.02834        0.829        0.940\n",
       "  337    131       1    0.880 0.02874        0.826        0.939\n",
       "  341    129       1    0.878 0.02915        0.823        0.937\n",
       "  348    126       1    0.876 0.02957        0.820        0.936\n",
       "  350    125       1    0.874 0.02999        0.817        0.935\n",
       "  358    124       1    0.872 0.03042        0.814        0.934\n",
       "  366    122       1    0.870 0.03085        0.811        0.932\n",
       "  367    121       1    0.867 0.03128        0.808        0.931\n",
       "  368    119       1    0.865 0.03172        0.805        0.930\n",
       "  376    118       1    0.863 0.03216        0.802        0.928\n",
       "  386    117       1    0.861 0.03260        0.799        0.927\n",
       "  389    116       1    0.858 0.03304        0.796        0.926\n",
       "  393    115       1    0.856 0.03349        0.793        0.924\n",
       "  394    114       1    0.854 0.03393        0.790        0.923\n",
       "  399    112       1    0.851 0.03438        0.786        0.921\n",
       "  428    109       1    0.849 0.03485        0.783        0.920\n",
       "  434    108       1    0.846 0.03531        0.780        0.918\n",
       "  438    107       1    0.844 0.03579        0.776        0.917\n",
       "  450    105       1    0.841 0.03626        0.773        0.915\n",
       "  452    104       1    0.838 0.03674        0.769        0.914\n",
       "  457    102       1    0.836 0.03722        0.766        0.912\n",
       "  460    101       1    0.833 0.03771        0.762        0.910\n",
       "  465     99       1    0.830 0.03820        0.759        0.909\n",
       "  482     96       1    0.828 0.03871        0.755        0.907\n",
       "  489     95       1    0.825 0.03923        0.751        0.905\n",
       "  496     94       1    0.822 0.03976        0.747        0.903\n",
       "  504     92       1    0.819 0.04029        0.743        0.901\n",
       "  512     91       1    0.815 0.04082        0.739        0.900\n",
       "  514     90       1    0.812 0.04136        0.735        0.898\n",
       "  517     89       1    0.809 0.04189        0.731        0.896\n",
       "  518     87       1    0.806 0.04244        0.727        0.894\n",
       "  522     86       1    0.803 0.04299        0.723        0.892\n",
       "  523     85       2    0.796 0.04410        0.714        0.888\n",
       "  532     80       1    0.793 0.04469        0.710        0.885\n",
       "  533     78       1    0.789 0.04528        0.705        0.883\n",
       "  540     77       1    0.786 0.04588        0.701        0.881\n",
       "  546     74       1    0.782 0.04651        0.696        0.879\n",
       "  550     73       1    0.778 0.04714        0.691        0.876\n",
       "  560     70       1    0.774 0.04779        0.686        0.874\n",
       "  563     69       1    0.770 0.04844        0.681        0.871\n",
       "  581     62       1    0.766 0.04916        0.675        0.868\n",
       "  591     59       1    0.761 0.04991        0.669        0.865\n",
       "  612     54       2    0.751 0.05157        0.656        0.859\n",
       "  624     51       1    0.745 0.05242        0.649        0.855\n",
       "  646     48       1    0.740 0.05331        0.642        0.852\n",
       "  652     47       1    0.734 0.05419        0.635        0.848\n",
       "  661     46       1    0.728 0.05507        0.628        0.844\n",
       "  667     45       1    0.722 0.05597        0.620        0.841\n",
       "  679     44       1    0.716 0.05689        0.613        0.837\n",
       "  683     43       1    0.709 0.05785        0.605        0.832\n",
       "  708     39       1    0.702 0.05889        0.596        0.828\n",
       "  714     37       1    0.695 0.05997        0.587        0.823\n",
       "  739     35       1    0.687 0.06111        0.578        0.818\n",
       "  749     34       1    0.680 0.06227        0.568        0.813\n",
       "  755     33       1    0.671 0.06343        0.558        0.808\n",
       "  760     32       1    0.663 0.06459        0.548        0.803\n",
       "  771     28       1    0.653 0.06608        0.536        0.796\n",
       "  774     27       1    0.643 0.06756        0.523        0.790\n",
       "  785     26       1    0.632 0.06905        0.510        0.783\n",
       "  821     20       2    0.604 0.07298        0.476        0.765\n",
       "  836     17       1    0.588 0.07504        0.458        0.755\n",
       "  837     16       1    0.570 0.07711        0.437        0.743\n",
       "  857     14       1    0.549 0.07953        0.414        0.730\n",
       "  878     13       1    0.526 0.08204        0.387        0.714\n",
       "  892     10       1    0.496 0.08580        0.354        0.697\n",
       "  899      9       1    0.456 0.09090        0.309        0.674"
      ]
     },
     "metadata": {},
     "output_type": "display_data"
    }
   ],
   "source": [
    "#  6. 得到COX调整后生存曲线\n",
    "mod1 <- coxph(y ~ prison + dose + clinic,data=addicts)\n",
    "pattern1 <- data.frame(prison=0,dose=70,clinic=2)\n",
    "summary(survfit(mod1,newdata=pattern1))"
   ]
  },
  {
   "cell_type": "code",
   "execution_count": 23,
   "metadata": {},
   "outputs": [
    {
     "data": {
      "image/png": "[encoded data removed]",
      "text/plain": [
       "plot without title"
      ]
     },
     "metadata": {},
     "output_type": "display_data"
    }
   ],
   "source": [
    "plot(survfit(mod1,newdata=pattern1),conf.int=F)"
   ]
  },
  {
   "cell_type": "code",
   "execution_count": 24,
   "metadata": {},
   "outputs": [
    {
     "data": {
      "image/png": "[encoded data removed]",
      "text/plain": [
       "plot without title"
      ]
     },
     "metadata": {},
     "output_type": "display_data"
    }
   ],
   "source": [
    "mod3 <- coxph(y ~ prison + dose + \n",
    "                strata(clinic),data=addicts)\n",
    "pattern2 <- data.frame(prison=.46,dose=60.40)\n",
    "plot(survfit(mod3,newdata=pattern2),conf.int=F)"
   ]
  },
  {
   "cell_type": "code",
   "execution_count": 20,
   "metadata": {},
   "outputs": [
    {
     "data": {
      "text/plain": [
       "\n",
       "Call:\n",
       "survreg(formula = Surv(addicts$survt, addicts$status) ~ prison + \n",
       "    dose + clinic, data = addicts, dist = \"exponential\")\n",
       "              Value Std. Error     z        p\n",
       "(Intercept)  3.6843    0.43072  8.55 1.19e-17\n",
       "prison      -0.2526    0.16489 -1.53 1.25e-01\n",
       "dose         0.0289    0.00614  4.71 2.52e-06\n",
       "clinic       0.8806    0.21063  4.18 2.91e-05\n",
       "\n",
       "Scale fixed at 1 \n",
       "\n",
       "Exponential distribution\n",
       "Loglik(model)= -1094   Loglik(intercept only)= -1118.9\n",
       "\tChisq= 49.91 on 3 degrees of freedom, p= 8.3e-11 \n",
       "Number of Newton-Raphson Iterations: 5 \n",
       "n= 238 \n"
      ]
     },
     "metadata": {},
     "output_type": "display_data"
    }
   ],
   "source": [
    "# 7. 构建参数模型\n",
    "\n",
    "modpar1 <- survreg(Surv(addicts$survt,addicts$status) ~\n",
    "                     prison +dose +clinic,data=addicts,\n",
    "                   dist='exponential')\n",
    "summary(modpar1)"
   ]
  },
  {
   "cell_type": "code",
   "execution_count": 21,
   "metadata": {},
   "outputs": [
    {
     "data": {
      "text/plain": [
       "R version 3.4.2 (2017-09-28)\n",
       "Platform: x86_64-w64-mingw32/x64 (64-bit)\n",
       "Running under: Windows 10 x64 (build 16299)\n",
       "\n",
       "Matrix products: default\n",
       "\n",
       "locale:\n",
       "[1] LC_COLLATE=Chinese (Simplified)_China.936 \n",
       "[2] LC_CTYPE=Chinese (Simplified)_China.936   \n",
       "[3] LC_MONETARY=Chinese (Simplified)_China.936\n",
       "[4] LC_NUMERIC=C                              \n",
       "[5] LC_TIME=Chinese (Simplified)_China.936    \n",
       "\n",
       "attached base packages:\n",
       "[1] stats     graphics  grDevices utils     datasets  methods   base     \n",
       "\n",
       "other attached packages:\n",
       "[1] MASS_7.3-47     survival_2.41-3\n",
       "\n",
       "loaded via a namespace (and not attached):\n",
       " [1] lattice_0.20-35 digest_0.6.12   crayon_1.3.4    IRdisplay_0.4.4\n",
       " [5] grid_3.4.2      repr_0.12.0     R6_2.2.2        jsonlite_1.5   \n",
       " [9] magrittr_1.5    evaluate_0.10.1 stringi_1.1.5   uuid_0.1-2     \n",
       "[13] Matrix_1.2-11   IRkernel_0.8.9  splines_3.4.2   tools_3.4.2    \n",
       "[17] stringr_1.2.0   compiler_3.4.2  pbdZMQ_0.2-6   "
      ]
     },
     "metadata": {},
     "output_type": "display_data"
    }
   ],
   "source": [
    "sessionInfo()"
   ]
  },
  {
   "cell_type": "markdown",
   "metadata": {},
   "source": [
    "最后表示有些内容理解的还不是很透彻，相关资料已下载，有空继续深入学习一下。"
   ]
  }
 ],
 "metadata": {
  "kernelspec": {
   "display_name": "R",
   "language": "R",
   "name": "ir"
  },
  "language_info": {
   "codemirror_mode": "r",
   "file_extension": ".r",
   "mimetype": "text/x-r-source",
   "name": "R",
   "pygments_lexer": "r",
   "version": "3.4.2"
  }
 },
 "nbformat": 4,
 "nbformat_minor": 2
}
