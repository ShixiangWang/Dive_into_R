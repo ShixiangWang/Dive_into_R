{
 "cells": [
  {
   "cell_type": "markdown",
   "metadata": {},
   "source": [
    "# Part1: 数据探索介绍\n",
    "\n",
    "《R for data science》第一部分学习，[原文](http://r4ds.had.co.nz/explore-intro.html)\n",
    "\n",
    "**学习之前默认你已经具备R基本的编程基础**，如果没有，可以阅读[R基本原理与核心](http://nbviewer.jupyter.org/github/ShixiangWang/masterR/blob/master/Rprogramming/r-statistics/R%E7%9A%84%E5%9F%BA%E6%9C%AC%E5%8E%9F%E7%90%86%E4%B8%8E%E6%A0%B8%E5%BF%83.ipynb)进行学习和理解。"
   ]
  },
  {
   "cell_type": "markdown",
   "metadata": {},
   "source": [
    "一个典型的数据科学项目中需要的工具模型应该是这样的：\n",
    "\n",
    "![](http://r4ds.had.co.nz/diagrams/data-science.png)"
   ]
  },
  {
   "cell_type": "markdown",
   "metadata": {},
   "source": [
    "1. 首先你要**导入数据**（import）。这意思是把你存储在文件、数据库中或者来自网络API中的数据存储为R中的数据框。\n",
    "2. 导入之后是**整理数据**（tidy）。简要来说，当你的数据是干净的时候，每一列应该是一个变量，每一行是一个观察值。\n",
    "3. 整理之后是**转换数据**（transform）。转换包括缩小感兴趣的观察值，根据已知变量创造新的变量，计算一系列的统计特征。将整理和转换放在一起称为**争吵**（wrangling），因为把你的数据变成可以容易处理的形式经常就像一场争辩。\n",
    "4. 一旦你把数据整理好了，有两种主要产生知识的“引擎”：**可视化**和**建模**。它们有互补的长处和短处，所以真正的分析经常会将两个过程重叠多次。\n",
    "5. 数据科学的最后一步是**交流**，这绝对是数据分析项目最重要的一部分。除非你能和别人交流你的结果，不然你前面做的太多也是白扯。\n",
    "\n",
    "伴随着整个过程的工具就是**编程**。"
   ]
  },
  {
   "cell_type": "markdown",
   "metadata": {},
   "source": [
    "## 获取帮助\n",
    "\n",
    "如果你感到困惑或者被某个问题困住了，求助他人或者搜索引擎百度（翻墙的伙伴上谷歌）。**如果错误信息不是英文，运行`Sys.setenv(LANGUAGE = \"en\")`然后重新运行你的代码，这样可以得到英文出错信息然后进行搜索**。"
   ]
  },
  {
   "cell_type": "markdown",
   "metadata": {},
   "source": [
    "**有三件东西你需要包含以使得你的例子可重复**：\n",
    "\n",
    "1. **包应该在脚本的顶部导入**，从而可以非常容易看到哪些是例子需要的。同时这也是检查你是否在使用包的最新版本的好时间，你可能发现了一个bug但在最新版本中被作者解决了。对于tidyverse的包，最简单的方式是运行`tidyverse_update()`。\n",
    "\n",
    "2. 在问题中包含数据最简单的方式是使用`dput()`函数生成可以重新生成该数据的R代码。比如，想要在R中重新创建`mtcars`数据集，我会执行以下的步骤：\n",
    "    1. 在R中运行`dput(mtcars)`\n",
    "    2. 拷贝输出\n",
    "    3. 在我重复的脚本中，键入`mtcars <-`然后粘贴\n",
    "    \n",
    "    而你遇到问题时，尝试找到可以重复该问题的最小数据集。\n",
    "\n",
    "3. 花一点时间确保你的代码易读：\n",
    "    1. 确保你使用了空格并且变量名精炼易懂。\n",
    "    2. 使用注释显示你问题在哪里。\n",
    "    3. 尽最大努力移除跟问题无关的一切，代码越短，越容易让人懂，也越好修改。\n"
   ]
  },
  {
   "cell_type": "markdown",
   "metadata": {},
   "source": [
    "## 安装tidyverse包"
   ]
  },
  {
   "cell_type": "markdown",
   "metadata": {},
   "source": [
    "`tidyverse`包含有几个包，它们享有共同的数据与R编程理念，被设计到一起进行流畅的工作。\n",
    "\n",
    "```R\n",
    "# 安装\n",
    "install.packages(\"tidyverse\")\n",
    "```\n",
    "\n",
    "\n",
    "```R\n",
    "# 载入\n",
    "> library(tidyverse)\n",
    "-- Attaching packages --------------------------------------- tidyverse 1.2.1 --\n",
    "√ ggplot2 2.2.1     √ readr   1.1.1\n",
    "√ tibble  1.3.4     √ purrr   0.2.4\n",
    "√ tidyr   0.7.2     √ stringr 1.2.0\n",
    "√ ggplot2 2.2.1     √ forcats 0.2.0\n",
    "-- Conflicts ------------------------------------------ tidyverse_conflicts() --\n",
    "x dplyr::filter() masks stats::filter()\n",
    "x dplyr::lag()    masks stats::lag()\n",
    "```\n",
    "\n",
    "`tidyverse`里面的一些包可能会经常变动，我们可以运行`tidyverse_update()`进行更新。"
   ]
  },
  {
   "cell_type": "markdown",
   "metadata": {},
   "source": [
    "除了使用`tidyverse`，我们在学习中还会使用到其他三个包："
   ]
  },
  {
   "cell_type": "code",
   "execution_count": 3,
   "metadata": {},
   "outputs": [
    {
     "name": "stdout",
     "output_type": "stream",
     "text": [
      "package 'nycflights13' successfully unpacked and MD5 sums checked\n",
      "package 'gapminder' successfully unpacked and MD5 sums checked\n",
      "package 'Lahman' successfully unpacked and MD5 sums checked\n",
      "\n",
      "The downloaded binary packages are in\n",
      "\tC:\\Users\\Administrator\\AppData\\Local\\Temp\\Rtmp8up6aj\\downloaded_packages\n"
     ]
    }
   ],
   "source": [
    "install.packages(c(\"nycflights13\", \"gapminder\", \"Lahman\"), repos = c(CRAN = \"http://cran.rstudio.com\"))"
   ]
  },
  {
   "cell_type": "markdown",
   "metadata": {},
   "source": [
    "# 数据探索介绍"
   ]
  },
  {
   "cell_type": "markdown",
   "metadata": {},
   "source": [
    "数据探索的目的是生成许多可能的指引让你之后可以更加深入地对数据进行探索。\n",
    "\n",
    "![](http://r4ds.had.co.nz/diagrams/data-science-explore.png)\n",
    "\n",
    "这部分内容可以学习一些马上看到收获的有用工具：\n",
    "\n",
    "- **可视化**是开始学习R编程的好地方，因为收获显而易见：你可以制作优雅而富含信息的图形帮助你理解数据。在数据可视化部分你将深入学习ggplot2的结构和将数据转换为图形的强大技术。\n",
    "\n",
    "- 单独可视化往往不够，在**数据转换**部分你将学习关键的动词允许你选择重要的变量，过滤关键的观察量以及创造新的变量和计算总结信息。\n",
    "\n",
    "- 最后在探索性数据部分，你将整合用你的好奇心和疑惑可视化和转换来询问和解答数据相关的有趣问题。\n",
    "\n",
    "建模也是探索数据的重要部分，但我们会在以后学习。\n"
   ]
  }
 ],
 "metadata": {
  "kernelspec": {
   "display_name": "R",
   "language": "R",
   "name": "ir"
  },
  "language_info": {
   "codemirror_mode": "r",
   "file_extension": ".r",
   "mimetype": "text/x-r-source",
   "name": "R",
   "pygments_lexer": "r",
   "version": "3.4.2"
  }
 },
 "nbformat": 4,
 "nbformat_minor": 2
}
