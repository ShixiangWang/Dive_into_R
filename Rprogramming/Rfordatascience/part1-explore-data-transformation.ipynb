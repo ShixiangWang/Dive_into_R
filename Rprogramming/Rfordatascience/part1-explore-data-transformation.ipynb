{
 "cells": [
  {
   "cell_type": "markdown",
   "metadata": {},
   "source": [
    "# Part1: 数据探索——数据转换\n",
    "\n",
    "《R for data science》第一部分学习，[原文](http://r4ds.had.co.nz/transform.html)"
   ]
  },
  {
   "cell_type": "markdown",
   "metadata": {},
   "source": [
    "## 介绍\n",
    "\n",
    "用于可视化的数据都是比较规整的，然而这往往需要经过一系列的处理转换过程。这部分我们学习使用`dplyr`包进行数据转换的学习。"
   ]
  },
  {
   "cell_type": "code",
   "execution_count": null,
   "metadata": {},
   "outputs": [],
   "source": []
  }
 ],
 "metadata": {
  "kernelspec": {
   "display_name": "R",
   "language": "R",
   "name": "ir"
  },
  "language_info": {
   "codemirror_mode": "r",
   "file_extension": ".r",
   "mimetype": "text/x-r-source",
   "name": "R",
   "pygments_lexer": "r",
   "version": "3.4.2"
  }
 },
 "nbformat": 4,
 "nbformat_minor": 2
}
