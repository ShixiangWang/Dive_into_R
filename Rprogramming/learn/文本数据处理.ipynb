{
 "cells": [
  {
   "cell_type": "markdown",
   "metadata": {},
   "source": [
    "# 文本数据处理\n",
    "\n",
    "学习如何处理文本数据，资料来自[R语言秘籍 第4章节](https://bookdown.org/yihui/r-ninja/text-data.html)"
   ]
  },
  {
   "cell_type": "markdown",
   "metadata": {},
   "source": [
    "### 注意，无论在哪个平台运行脚本，都应该了解相关文本编码，由于文本编码方式很多，学习和使用时尽量使用UTF-8编码方式"
   ]
  },
  {
   "cell_type": "markdown",
   "metadata": {},
   "source": [
    "## 基本操作\n",
    "\n",
    "读取文本用`readLines()`函数，它返回一个字符型向量。"
   ]
  },
  {
   "cell_type": "code",
   "execution_count": 1,
   "metadata": {},
   "outputs": [
    {
     "data": {
      "text/html": [
       "<ol class=list-inline>\n",
       "\t<li><span style=white-space:pre-wrap>'\\t\\t    GNU GENERAL PUBLIC LICENSE'</span></li>\n",
       "\t<li><span style=white-space:pre-wrap>'\\t\\t       Version 2, June 1991'</span></li>\n",
       "\t<li>''</li>\n",
       "\t<li>' Copyright (C) 1989, 1991 Free Software Foundation, Inc.'</li>\n",
       "\t<li><span style=white-space:pre-wrap>'                       51 Franklin St, Fifth Floor, Boston, MA  02110-1301  USA'</span></li>\n",
       "\t<li>' Everyone is permitted to copy and distribute verbatim copies'</li>\n",
       "</ol>\n"
      ],
      "text/latex": [
       "\\begin{enumerate*}\n",
       "\\item '\\textbackslash{}t\\textbackslash{}t    GNU GENERAL PUBLIC LICENSE'\n",
       "\\item '\\textbackslash{}t\\textbackslash{}t       Version 2, June 1991'\n",
       "\\item ''\n",
       "\\item ' Copyright (C) 1989, 1991 Free Software Foundation, Inc.'\n",
       "\\item '                       51 Franklin St, Fifth Floor, Boston, MA  02110-1301  USA'\n",
       "\\item ' Everyone is permitted to copy and distribute verbatim copies'\n",
       "\\end{enumerate*}\n"
      ],
      "text/markdown": [
       "1. <span style=white-space:pre-wrap>'\\t\\t    GNU GENERAL PUBLIC LICENSE'</span>\n",
       "2. <span style=white-space:pre-wrap>'\\t\\t       Version 2, June 1991'</span>\n",
       "3. ''\n",
       "4. ' Copyright (C) 1989, 1991 Free Software Foundation, Inc.'\n",
       "5. <span style=white-space:pre-wrap>'                       51 Franklin St, Fifth Floor, Boston, MA  02110-1301  USA'</span>\n",
       "6. ' Everyone is permitted to copy and distribute verbatim copies'\n",
       "\n",
       "\n"
      ],
      "text/plain": [
       "[1] \"\\t\\t    GNU GENERAL PUBLIC LICENSE\"                                             \n",
       "[2] \"\\t\\t       Version 2, June 1991\"                                                \n",
       "[3] \"\"                                                                               \n",
       "[4] \" Copyright (C) 1989, 1991 Free Software Foundation, Inc.\"                       \n",
       "[5] \"                       51 Franklin St, Fifth Floor, Boston, MA  02110-1301  USA\"\n",
       "[6] \" Everyone is permitted to copy and distribute verbatim copies\"                  "
      ]
     },
     "metadata": {},
     "output_type": "display_data"
    }
   ],
   "source": [
    "# 我们来看看R软件许可文件 GPL\n",
    "gpl = readLines(file.path(R.home(), \"COPYING\"))\n",
    "head(gpl) # 查看头几行"
   ]
  },
  {
   "cell_type": "code",
   "execution_count": 2,
   "metadata": {},
   "outputs": [
    {
     "data": {
      "text/html": [
       "<ol class=list-inline>\n",
       "\t<li>'&lt;!DOCTYPE html&gt;'</li>\n",
       "\t<li>'&lt;html lang=\"en-us\"&gt;'</li>\n",
       "\t<li><span style=white-space:pre-wrap>'  &lt;head&gt;'</span></li>\n",
       "\t<li>'\\t&lt;meta name=\"generator\" content=\"Hugo 0.25.1\" /&gt;'</li>\n",
       "\t<li><span style=white-space:pre-wrap>'    &lt;meta charset=\"utf-8\"&gt;'</span></li>\n",
       "\t<li><span style=white-space:pre-wrap>'    &lt;meta name=\"viewport\" content=\"width=device-width, initial-scale=1\"&gt;'</span></li>\n",
       "</ol>\n"
      ],
      "text/latex": [
       "\\begin{enumerate*}\n",
       "\\item '<!DOCTYPE html>'\n",
       "\\item '<html lang=\"en-us\">'\n",
       "\\item '  <head>'\n",
       "\\item '\\textbackslash{}t<meta name=\"generator\" content=\"Hugo 0.25.1\" />'\n",
       "\\item '    <meta charset=\"utf-8\">'\n",
       "\\item '    <meta name=\"viewport\" content=\"width=device-width, initial-scale=1\">'\n",
       "\\end{enumerate*}\n"
      ],
      "text/markdown": [
       "1. '&lt;!DOCTYPE html&gt;'\n",
       "2. '&lt;html lang=\"en-us\"&gt;'\n",
       "3. <span style=white-space:pre-wrap>'  &lt;head&gt;'</span>\n",
       "4. '\\t&lt;meta name=\"generator\" content=\"Hugo 0.25.1\" /&gt;'\n",
       "5. <span style=white-space:pre-wrap>'    &lt;meta charset=\"utf-8\"&gt;'</span>\n",
       "6. <span style=white-space:pre-wrap>'    &lt;meta name=\"viewport\" content=\"width=device-width, initial-scale=1\"&gt;'</span>\n",
       "\n",
       "\n"
      ],
      "text/plain": [
       "[1] \"<!DOCTYPE html>\"                                                             \n",
       "[2] \"<html lang=\\\"en-us\\\">\"                                                       \n",
       "[3] \"  <head>\"                                                                    \n",
       "[4] \"\\t<meta name=\\\"generator\\\" content=\\\"Hugo 0.25.1\\\" />\"                       \n",
       "[5] \"    <meta charset=\\\"utf-8\\\">\"                                                \n",
       "[6] \"    <meta name=\\\"viewport\\\" content=\\\"width=device-width, initial-scale=1\\\">\""
      ]
     },
     "metadata": {},
     "output_type": "display_data"
    }
   ],
   "source": [
    "# 查看谢益辉主页\n",
    "xie = readLines(\"https://yihui.name\") \n",
    "head(xie)"
   ]
  },
  {
   "cell_type": "markdown",
   "metadata": {},
   "source": [
    "有一个叫`readline()`的函数，它与上面函数功能不同，支持从键盘输入一行文本。很显然这是用来进行人机交互的，就像Linux下的`read`命令。"
   ]
  },
  {
   "cell_type": "code",
   "execution_count": 3,
   "metadata": {},
   "outputs": [
    {
     "name": "stdout",
     "output_type": "stream",
     "text": [
      "Answer yes or no:yes\n"
     ]
    }
   ],
   "source": [
    "x = readline(\"Answer yes or no:\")"
   ]
  },
  {
   "cell_type": "markdown",
   "metadata": {},
   "source": [
    "运行后会要求你输入一行文本，回车结束，它会读入你输入的字符。同理，`writeLines()`就是把R对象写入文本的函数。"
   ]
  },
  {
   "cell_type": "markdown",
   "metadata": {},
   "source": [
    "我们使用`nchar()`函数计算刚才读入的GPL文件每行有多少字符："
   ]
  },
  {
   "cell_type": "code",
   "execution_count": 4,
   "metadata": {},
   "outputs": [
    {
     "data": {
      "text/html": [
       "<ol class=list-inline>\n",
       "\t<li>32</li>\n",
       "\t<li>29</li>\n",
       "\t<li>0</li>\n",
       "\t<li>56</li>\n",
       "\t<li>79</li>\n",
       "\t<li>61</li>\n",
       "\t<li>58</li>\n",
       "\t<li>0</li>\n",
       "\t<li>15</li>\n",
       "\t<li>0</li>\n",
       "</ol>\n"
      ],
      "text/latex": [
       "\\begin{enumerate*}\n",
       "\\item 32\n",
       "\\item 29\n",
       "\\item 0\n",
       "\\item 56\n",
       "\\item 79\n",
       "\\item 61\n",
       "\\item 58\n",
       "\\item 0\n",
       "\\item 15\n",
       "\\item 0\n",
       "\\end{enumerate*}\n"
      ],
      "text/markdown": [
       "1. 32\n",
       "2. 29\n",
       "3. 0\n",
       "4. 56\n",
       "5. 79\n",
       "6. 61\n",
       "7. 58\n",
       "8. 0\n",
       "9. 15\n",
       "10. 0\n",
       "\n",
       "\n"
      ],
      "text/plain": [
       " [1] 32 29  0 56 79 61 58  0 15  0"
      ]
     },
     "metadata": {},
     "output_type": "display_data"
    }
   ],
   "source": [
    "nchar(gpl[1:10]) # 前10行"
   ]
  },
  {
   "cell_type": "code",
   "execution_count": 5,
   "metadata": {},
   "outputs": [
    {
     "data": {
      "text/html": [
       "17671"
      ],
      "text/latex": [
       "17671"
      ],
      "text/markdown": [
       "17671"
      ],
      "text/plain": [
       "[1] 17671"
      ]
     },
     "metadata": {},
     "output_type": "display_data"
    }
   ],
   "source": [
    "sum(nchar(gpl)) # 全文字符"
   ]
  },
  {
   "cell_type": "markdown",
   "metadata": {},
   "source": [
    ">对字符串长度来说，学过其它语言如JavaScript或Python的忍者的第一反应可能是length()之类的函数，比如gpl.length()或者length(gpl)，R语言不是这一套，在R里面length()只有一个意思，就是对象中的元素个数，比如向量里有多少个元素，所以length(gpl)返回的实际上是GPL文件有多少行（一行是向量gpl中的一个元素）。\n",
    "\n",
    ">好了，现在你已经会数数了，比水木Joke版的猪头强了，给个练习题吧，帮我统计一下我的博客文章的字数，看看我写博客这几年有什么趋势；源文件在https://github.com/rbind/yihui.name，这事儿其实已经有人做了，不过请不要偷看答案。"
   ]
  },
  {
   "cell_type": "markdown",
   "metadata": {},
   "source": [
    "`strsplit()`函数按指定的分隔符拆分字符串，比如说用空格："
   ]
  },
  {
   "cell_type": "code",
   "execution_count": 6,
   "metadata": {},
   "outputs": [
    {
     "data": {
      "text/html": [
       "<ol>\n",
       "\t<li><ol class=list-inline>\n",
       "\t<li>''</li>\n",
       "\t<li>'Copyright'</li>\n",
       "\t<li>'(C)'</li>\n",
       "\t<li>'1989,'</li>\n",
       "\t<li>'1991'</li>\n",
       "\t<li>'Free'</li>\n",
       "\t<li>'Software'</li>\n",
       "\t<li>'Foundation,'</li>\n",
       "\t<li>'Inc.'</li>\n",
       "</ol>\n",
       "</li>\n",
       "\t<li><ol class=list-inline>\n",
       "\t<li>''</li>\n",
       "\t<li>''</li>\n",
       "\t<li>''</li>\n",
       "\t<li>''</li>\n",
       "\t<li>''</li>\n",
       "\t<li>''</li>\n",
       "\t<li>''</li>\n",
       "\t<li>''</li>\n",
       "\t<li>''</li>\n",
       "\t<li>''</li>\n",
       "\t<li>''</li>\n",
       "\t<li>''</li>\n",
       "\t<li>''</li>\n",
       "\t<li>''</li>\n",
       "\t<li>''</li>\n",
       "\t<li>''</li>\n",
       "\t<li>''</li>\n",
       "\t<li>''</li>\n",
       "\t<li>''</li>\n",
       "\t<li>''</li>\n",
       "\t<li>''</li>\n",
       "\t<li>''</li>\n",
       "\t<li>''</li>\n",
       "\t<li>'51'</li>\n",
       "\t<li>'Franklin'</li>\n",
       "\t<li>'St,'</li>\n",
       "\t<li>'Fifth'</li>\n",
       "\t<li>'Floor,'</li>\n",
       "\t<li>'Boston,'</li>\n",
       "\t<li>'MA'</li>\n",
       "\t<li>''</li>\n",
       "\t<li>'02110-1301'</li>\n",
       "\t<li>''</li>\n",
       "\t<li>'USA'</li>\n",
       "</ol>\n",
       "</li>\n",
       "</ol>\n"
      ],
      "text/latex": [
       "\\begin{enumerate}\n",
       "\\item \\begin{enumerate*}\n",
       "\\item ''\n",
       "\\item 'Copyright'\n",
       "\\item '(C)'\n",
       "\\item '1989,'\n",
       "\\item '1991'\n",
       "\\item 'Free'\n",
       "\\item 'Software'\n",
       "\\item 'Foundation,'\n",
       "\\item 'Inc.'\n",
       "\\end{enumerate*}\n",
       "\n",
       "\\item \\begin{enumerate*}\n",
       "\\item ''\n",
       "\\item ''\n",
       "\\item ''\n",
       "\\item ''\n",
       "\\item ''\n",
       "\\item ''\n",
       "\\item ''\n",
       "\\item ''\n",
       "\\item ''\n",
       "\\item ''\n",
       "\\item ''\n",
       "\\item ''\n",
       "\\item ''\n",
       "\\item ''\n",
       "\\item ''\n",
       "\\item ''\n",
       "\\item ''\n",
       "\\item ''\n",
       "\\item ''\n",
       "\\item ''\n",
       "\\item ''\n",
       "\\item ''\n",
       "\\item ''\n",
       "\\item '51'\n",
       "\\item 'Franklin'\n",
       "\\item 'St,'\n",
       "\\item 'Fifth'\n",
       "\\item 'Floor,'\n",
       "\\item 'Boston,'\n",
       "\\item 'MA'\n",
       "\\item ''\n",
       "\\item '02110-1301'\n",
       "\\item ''\n",
       "\\item 'USA'\n",
       "\\end{enumerate*}\n",
       "\n",
       "\\end{enumerate}\n"
      ],
      "text/markdown": [
       "1. 1. ''\n",
       "2. 'Copyright'\n",
       "3. '(C)'\n",
       "4. '1989,'\n",
       "5. '1991'\n",
       "6. 'Free'\n",
       "7. 'Software'\n",
       "8. 'Foundation,'\n",
       "9. 'Inc.'\n",
       "\n",
       "\n",
       "\n",
       "2. 1. ''\n",
       "2. ''\n",
       "3. ''\n",
       "4. ''\n",
       "5. ''\n",
       "6. ''\n",
       "7. ''\n",
       "8. ''\n",
       "9. ''\n",
       "10. ''\n",
       "11. ''\n",
       "12. ''\n",
       "13. ''\n",
       "14. ''\n",
       "15. ''\n",
       "16. ''\n",
       "17. ''\n",
       "18. ''\n",
       "19. ''\n",
       "20. ''\n",
       "21. ''\n",
       "22. ''\n",
       "23. ''\n",
       "24. '51'\n",
       "25. 'Franklin'\n",
       "26. 'St,'\n",
       "27. 'Fifth'\n",
       "28. 'Floor,'\n",
       "29. 'Boston,'\n",
       "30. 'MA'\n",
       "31. ''\n",
       "32. '02110-1301'\n",
       "33. ''\n",
       "34. 'USA'\n",
       "\n",
       "\n",
       "\n",
       "\n",
       "\n"
      ],
      "text/plain": [
       "[[1]]\n",
       "[1] \"\"            \"Copyright\"   \"(C)\"         \"1989,\"       \"1991\"       \n",
       "[6] \"Free\"        \"Software\"    \"Foundation,\" \"Inc.\"       \n",
       "\n",
       "[[2]]\n",
       " [1] \"\"           \"\"           \"\"           \"\"           \"\"          \n",
       " [6] \"\"           \"\"           \"\"           \"\"           \"\"          \n",
       "[11] \"\"           \"\"           \"\"           \"\"           \"\"          \n",
       "[16] \"\"           \"\"           \"\"           \"\"           \"\"          \n",
       "[21] \"\"           \"\"           \"\"           \"51\"         \"Franklin\"  \n",
       "[26] \"St,\"        \"Fifth\"      \"Floor,\"     \"Boston,\"    \"MA\"        \n",
       "[31] \"\"           \"02110-1301\" \"\"           \"USA\"       \n"
      ]
     },
     "metadata": {},
     "output_type": "display_data"
    }
   ],
   "source": [
    "strsplit(gpl[4:5], \" \") # 拆分第4、5两行"
   ]
  },
  {
   "cell_type": "markdown",
   "metadata": {},
   "source": [
    "下面我们把GPL文本内容拆分成单词并统计词频。这里需要利用正则表达式来代表单词之间的分隔符。\n",
    "\n",
    ">`strsplit()`的分隔符支持正则表达式，而在正则表达式中，单词之间的分隔符可以统一被表达为`\\\\W`（反斜杠引导大写字母W），这个特殊表达式可以匹配任意非单词的字符。R中table()函数可以计算一个向量中每个元素出现的频数，于是这事儿就差不多了。"
   ]
  },
  {
   "cell_type": "code",
   "execution_count": 7,
   "metadata": {},
   "outputs": [
    {
     "data": {
      "text/plain": [
       "\n",
       "   this      is       a program     and     you      or      of      to     the \n",
       "     49      53      57      71      72      76      77     104     108     194 "
      ]
     },
     "metadata": {},
     "output_type": "display_data"
    }
   ],
   "source": [
    "words = unlist(strsplit(gpl, \"\\\\W\"))\n",
    "\n",
    "words = words[words != \"\"] # 去掉空字符\n",
    "# 频数最大的10个单词\n",
    "tail(sort(table(tolower(words))), 10)"
   ]
  },
  {
   "cell_type": "code",
   "execution_count": 8,
   "metadata": {},
   "outputs": [
    {
     "data": {
      "text/plain": [
       "\n",
       "    the      to      of      or     you     and program       a      is    this \n",
       "    194     108     104      77      76      72      71      57      53      49 "
      ]
     },
     "metadata": {},
     "output_type": "display_data"
    }
   ],
   "source": [
    "# 另一种写法\n",
    "head(sort(table(tolower(words)), decreasing = TRUE), 10)"
   ]
  },
  {
   "cell_type": "markdown",
   "metadata": {},
   "source": [
    ">冠词the和a出现频率高一点都不奇怪，除去它们和一些常见介词，剩下的基本上就是program这个词了。GPL是什么？它是开源软件的一种许可证，所以程序（program）这个词的词频高也就不奇怪了。"
   ]
  },
  {
   "cell_type": "markdown",
   "metadata": {},
   "source": [
    "如果按照位置来拆分字符串的话就叫**字符串截取**啦，可以使用`substr()`或`substring()`函数。指定起始位置和终止位置。"
   ]
  },
  {
   "cell_type": "code",
   "execution_count": 9,
   "metadata": {},
   "outputs": [
    {
     "data": {
      "text/html": [
       "<span style=white-space:pre-wrap>'    &lt;title&gt;Yihui Xie | 璋㈢泭杈\\x89&lt;/title&gt;'</span>"
      ],
      "text/latex": [
       "'    <title>Yihui Xie \\textbar{} 璋㈢泭杈\\textbackslash{}x89</title>'"
      ],
      "text/markdown": [
       "<span style=white-space:pre-wrap>'    &lt;title&gt;Yihui Xie | 璋㈢泭杈\\x89&lt;/title&gt;'</span>"
      ],
      "text/plain": [
       "[1] \"    <title>Yihui Xie | 璋㈢泭杈\\x89</title>\""
      ]
     },
     "metadata": {},
     "output_type": "display_data"
    }
   ],
   "source": [
    "xie[8]"
   ]
  },
  {
   "cell_type": "markdown",
   "metadata": {},
   "source": [
    "看这结果明显中文编码不对哈~"
   ]
  },
  {
   "cell_type": "markdown",
   "metadata": {},
   "source": [
    "截取`<title>`与`</title>`中间的字符串：\n"
   ]
  },
  {
   "cell_type": "code",
   "execution_count": 10,
   "metadata": {},
   "outputs": [
    {
     "data": {
      "text/html": [
       "'Yihui Xie | 璋㈢泭'"
      ],
      "text/latex": [
       "'Yihui Xie \\textbar{} 璋㈢泭'"
      ],
      "text/markdown": [
       "'Yihui Xie | 璋㈢泭'"
      ],
      "text/plain": [
       "[1] \"Yihui Xie | 璋㈢泭\""
      ]
     },
     "metadata": {},
     "output_type": "display_data"
    }
   ],
   "source": [
    "substr(xie[8], 12, 26)"
   ]
  },
  {
   "cell_type": "markdown",
   "metadata": {},
   "source": [
    "前面讲的是拆，接下来讲拼。\n",
    "\n",
    ">R里面paste()函数可以用来拼字符串，它有两个参数：sep和collapse。据我混迹COS论坛多年的经验，这个函数是一朵奇葩，它的神奇之处在于，无数英雄豪杰只知道前一个参数而不知道后一个。于是，我数次感叹，肿么回事啊，一共就这么两个参数，肿么大家永远没有耐心把帮助文档看完呢？为了理解它们，先看一个例子："
   ]
  },
  {
   "cell_type": "code",
   "execution_count": 11,
   "metadata": {},
   "outputs": [
    {
     "data": {
      "text/html": [
       "<ol class=list-inline>\n",
       "\t<li>'1 a'</li>\n",
       "\t<li>'2 a'</li>\n",
       "\t<li>'3 a'</li>\n",
       "</ol>\n"
      ],
      "text/latex": [
       "\\begin{enumerate*}\n",
       "\\item '1 a'\n",
       "\\item '2 a'\n",
       "\\item '3 a'\n",
       "\\end{enumerate*}\n"
      ],
      "text/markdown": [
       "1. '1 a'\n",
       "2. '2 a'\n",
       "3. '3 a'\n",
       "\n",
       "\n"
      ],
      "text/plain": [
       "[1] \"1 a\" \"2 a\" \"3 a\""
      ]
     },
     "metadata": {},
     "output_type": "display_data"
    }
   ],
   "source": [
    "paste(1:3, \"a\")"
   ]
  },
  {
   "cell_type": "code",
   "execution_count": 12,
   "metadata": {},
   "outputs": [
    {
     "data": {
      "text/html": [
       "<ol class=list-inline>\n",
       "\t<li>'1-a'</li>\n",
       "\t<li>'2-a'</li>\n",
       "\t<li>'3-a'</li>\n",
       "</ol>\n"
      ],
      "text/latex": [
       "\\begin{enumerate*}\n",
       "\\item '1-a'\n",
       "\\item '2-a'\n",
       "\\item '3-a'\n",
       "\\end{enumerate*}\n"
      ],
      "text/markdown": [
       "1. '1-a'\n",
       "2. '2-a'\n",
       "3. '3-a'\n",
       "\n",
       "\n"
      ],
      "text/plain": [
       "[1] \"1-a\" \"2-a\" \"3-a\""
      ]
     },
     "metadata": {},
     "output_type": "display_data"
    }
   ],
   "source": [
    "paste(1:3, \"a\", sep = \"-\")"
   ]
  },
  {
   "cell_type": "code",
   "execution_count": 13,
   "metadata": {},
   "outputs": [
    {
     "data": {
      "text/html": [
       "'a~b~c~d~e~f~g~h~i~j'"
      ],
      "text/latex": [
       "'a\\textasciitilde{}b\\textasciitilde{}c\\textasciitilde{}d\\textasciitilde{}e\\textasciitilde{}f\\textasciitilde{}g\\textasciitilde{}h\\textasciitilde{}i\\textasciitilde{}j'"
      ],
      "text/markdown": [
       "'a~b~c~d~e~f~g~h~i~j'"
      ],
      "text/plain": [
       "[1] \"a~b~c~d~e~f~g~h~i~j\""
      ]
     },
     "metadata": {},
     "output_type": "display_data"
    }
   ],
   "source": [
    "paste(letters[1:10], collapse = \"~\")"
   ]
  },
  {
   "cell_type": "code",
   "execution_count": 14,
   "metadata": {},
   "outputs": [
    {
     "data": {
      "text/html": [
       "'1-a+2-a+3-a'"
      ],
      "text/latex": [
       "'1-a+2-a+3-a'"
      ],
      "text/markdown": [
       "'1-a+2-a+3-a'"
      ],
      "text/plain": [
       "[1] \"1-a+2-a+3-a\""
      ]
     },
     "metadata": {},
     "output_type": "display_data"
    }
   ],
   "source": [
    "paste(1:3, \"a\", sep = \"-\", collapse = \"+\")"
   ]
  },
  {
   "cell_type": "markdown",
   "metadata": {},
   "source": [
    ">sep用来横向拼接向量，比如把第一个向量和第二个向量按元素顺序逐对拼起来，而collapse是把一个向量内部所有元素按一个分隔符拼接为单个字符串。按照R的自动扩展原则，如果有一个向量短，它会被首先扩展到长向量的长度，再去拼接。总结一下，sep返回的仍然是一个向量，每个元素是所有向量中的相应位置上的元素拼出来的；而collapse把字符向量“坍缩”为一个字符串。"
   ]
  },
  {
   "cell_type": "markdown",
   "metadata": {},
   "source": [
    "下面是一个拼接字符串的浪漫例子（感谢原作者）："
   ]
  },
  {
   "cell_type": "code",
   "execution_count": 15,
   "metadata": {},
   "outputs": [
    {
     "name": "stdout",
     "output_type": "stream",
     "text": [
      "Happy birthday to you\n",
      "Happy birthday to you\n",
      "Happy birthday dear Dan Zhou \n",
      "Happy birthday to you\n"
     ]
    }
   ],
   "source": [
    "happy = function() cat(\"Happy birthday to you\\n\")\n",
    "sing = function(person) {\n",
    "    happy()\n",
    "    happy()\n",
    "    cat(paste(\"Happy birthday dear\", person, \"\\n\"))\n",
    "    happy()\n",
    "}\n",
    "sing(\"Dan Zhou\")  # 对我的爱人吼一嗓子吧"
   ]
  },
  {
   "cell_type": "markdown",
   "metadata": {},
   "source": [
    ">这不仅仅是一个浪漫的函数，也深刻反映了程序员的基本素质：抽象与模块化。此时，有些看官可能心里长叹，在程序世界征战代码半辈子，还不如人家一首生日歌。\n",
    "\n",
    "（有意思）"
   ]
  },
  {
   "cell_type": "markdown",
   "metadata": {},
   "source": [
    "## 正则表达式\n",
    "\n",
    "> 简单的拼拆操作当然也远不够数据分析用，还有**几项常见的任务**：查找、替换、提取符合特定特征的字符。这些操作就得请出**正则表达式**了（Regular Expression），**它是具有特殊含义的字符串**，最大的优势在于它根据特征而不是固定的位置来处理数据。"
   ]
  },
  {
   "cell_type": "markdown",
   "metadata": {},
   "source": [
    "下面使用正则表达式来提取标题"
   ]
  },
  {
   "cell_type": "code",
   "execution_count": 16,
   "metadata": {},
   "outputs": [
    {
     "data": {
      "text/html": [
       "<span style=white-space:pre-wrap>'    Yihui Xie | 璋㈢泭杈㠼㸹'</span>"
      ],
      "text/latex": [
       "'    Yihui Xie \\textbar{} 璋㈢泭杈㠼㸹'"
      ],
      "text/markdown": [
       "<span style=white-space:pre-wrap>'    Yihui Xie | 璋㈢泭杈㠼㸹'</span>"
      ],
      "text/plain": [
       "[1] \"    Yihui Xie | 璋㈢泭杈<U+383C><U+3E39>\""
      ]
     },
     "metadata": {},
     "output_type": "display_data"
    }
   ],
   "source": [
    "gsub(\"<title>|</title>\", \"\", xie[8])"
   ]
  },
  {
   "cell_type": "code",
   "execution_count": 17,
   "metadata": {},
   "outputs": [
    {
     "data": {
      "text/html": [
       "<span style=white-space:pre-wrap>'    Yihui Xie | 璋㈢泭杈㠼㸹'</span>"
      ],
      "text/latex": [
       "'    Yihui Xie \\textbar{} 璋㈢泭杈㠼㸹'"
      ],
      "text/markdown": [
       "<span style=white-space:pre-wrap>'    Yihui Xie | 璋㈢泭杈㠼㸹'</span>"
      ],
      "text/plain": [
       "[1] \"    Yihui Xie | 璋㈢泭杈<U+383C><U+3E39>\""
      ]
     },
     "metadata": {},
     "output_type": "display_data"
    }
   ],
   "source": [
    "sub(\"<title>(.*)</title>\", \"\\\\1\", xie[8])"
   ]
  },
  {
   "cell_type": "markdown",
   "metadata": {},
   "source": [
    ">上面给出了两种办法：一种是把<title>或</title>替换为空字符串（删掉了这两串字符剩下的就是标题了），另一种是用圆括号语法配合引用，提取这两串字符之间的所有内容。在这个例子里，两个办法没什么区别。"
   ]
  },
  {
   "cell_type": "markdown",
   "metadata": {},
   "source": [
    "下面还是接着看谢大的笔述，我删去了一小部分\n",
    ">R中有一系列类似的函数，这里用到的是其中两个用来替换的函数，参见?grep的帮助页面。这些函数的第一个参数是一个正则表达式，从上面简单的例子里面我们可能已经感受到它的语法了，比如竖线|表示“或者”，这和程序语言很像，而单个.代表任意单个字符，星号*是一个表示匹配任意多次的修饰符，.*一起表示匹配任意字符任意多次，默认会**贪婪匹配**。圆括号把一组特征括起来，然后跟这一组特征能匹配上的所有字符就可以用反斜杠引导的数字引用引出来，圆括号可以使用多组，每一组匹配到的内容在后面都可以用顺序的数字（1-9）引用，因为我们这里只用了一组括号，所以后面用的是第1组引用。\n",
    "\n",
    ">现在我们把上面两句代码用普通语言“翻译”一遍：\n",
    "\n",
    ">- 替换字符串<title>或者</title>为空字符串（即：删掉它们）\n",
    ">- 搜索<title>，然后开始匹配任意字符，直到遇到</title>为止，然后把匹配到的这一段字符提出来\n",
    ">如此一来，我们就不必管<title>和</title>究竟出现在第几个字符的位置上了，正则表达式自然会去找它们。"
   ]
  },
  {
   "cell_type": "markdown",
   "metadata": {},
   "source": [
    "对于贪婪匹配不了解的可以借助搜索引擎查一下，下面是一个实例。"
   ]
  },
  {
   "cell_type": "code",
   "execution_count": 18,
   "metadata": {},
   "outputs": [
    {
     "data": {
      "text/html": [
       "<span style=white-space:pre-wrap>'    Yihui Xie | 璋㈢泭杈㠼㸹&lt;/title&gt;'</span>"
      ],
      "text/latex": [
       "'    Yihui Xie \\textbar{} 璋㈢泭杈㠼㸹</title>'"
      ],
      "text/markdown": [
       "<span style=white-space:pre-wrap>'    Yihui Xie | 璋㈢泭杈㠼㸹&lt;/title&gt;'</span>"
      ],
      "text/plain": [
       "[1] \"    Yihui Xie | 璋㈢泭杈<U+383C><U+3E39></title>\""
      ]
     },
     "metadata": {},
     "output_type": "display_data"
    }
   ],
   "source": [
    "sub(\"<title>|</title>\", \"\", xie[8])"
   ]
  },
  {
   "cell_type": "markdown",
   "metadata": {},
   "source": [
    ">可以看到`</title>`没有被替换掉,这是因为sub()先看到了`<title>`，把它替换为空，它就认为自己的工作完成了，于是马上返回结果；而gsub()则会一直在字符串中找，凡是能找到正则表达式规定的特征，就去执行任务。所以**前者非贪婪，后者贪婪**。\n",
    "\n",
    ">grep这一组函数基本都有一个带g和不带g的版本，比如gsub()和sub()，gregexpr()和regexpr()。带g的会尽量贪婪操作，而不带的只操作一次。"
   ]
  },
  {
   "cell_type": "markdown",
   "metadata": {},
   "source": [
    "### 参见?regexp，这是你需要看八百遍的文档\n",
    "\n",
    "好吧，我还没看过呢，来一起瞧瞧"
   ]
  },
  {
   "cell_type": "code",
   "execution_count": 19,
   "metadata": {
    "collapsed": true
   },
   "outputs": [],
   "source": [
    "?regexp"
   ]
  },
  {
   "cell_type": "markdown",
   "metadata": {},
   "source": [
    ">下面的例子来自于<http://cos.name/cn/topic/104126/>，其实是个没事找抽的例子，但可以说明字符集的基本用法。我们的任务是从几行字符串中提取R包的名字（包名由所有大小写字母、数字和点构成），先上代码："
   ]
  },
  {
   "cell_type": "code",
   "execution_count": 23,
   "metadata": {},
   "outputs": [],
   "source": [
    "pkgs <- readLines(\"04-package-names.txt\")"
   ]
  },
  {
   "cell_type": "code",
   "execution_count": 24,
   "metadata": {},
   "outputs": [
    {
     "name": "stdout",
     "output_type": "stream",
     "text": [
      " chr [1:7] \"[1] \\\"base\\\" \\\"boot\\\" \\\"class\\\" \\\"cluster\\\" \\\"codetools\\\"\" ...\n"
     ]
    }
   ],
   "source": [
    "str(pkgs)"
   ]
  },
  {
   "cell_type": "code",
   "execution_count": 25,
   "metadata": {},
   "outputs": [
    {
     "name": "stdout",
     "output_type": "stream",
     "text": [
      "[1] \"base\" \"boot\" \"class\" \"cluster\" \"codetools\"\n",
      "[6] \"compiler\" \"datasets\" \"fdrtool\" \"foreign\" \"graphics\"\n",
      "[11] \"grDevices\" \"grid\" \"KernSmooth\" \"lattice\" \"MASS\"\n",
      "[16] \"Matrix\" \"methods\" \"mgcv\" \"monreg\" \"nlme\"\n",
      "[21] \"nnet\" \"parallel\" \"rpart\" \"spatial\" \"splines\"\n",
      "[26] \"stats\" \"stats4\" \"survival\" \"tcltk\" \"tools\"\n",
      "[31] \"utils\" \n"
     ]
    }
   ],
   "source": [
    "cat(pkgs, sep = \"\\n\") # 原始文本"
   ]
  },
  {
   "cell_type": "code",
   "execution_count": 29,
   "metadata": {
    "collapsed": true
   },
   "outputs": [],
   "source": [
    "# pkgs = gsub(\"([^\\\"]+)\\\"([a-zA-Z0-9\\\\.]+)\\\"\", \"\\\\2\", pkgs)\n",
    "pkgs = gsub(\"([^\\\"]+)\\\"([a-zA-Z0-9\\\\.]+)\\\"\", \"\\\\2 \", pkgs)"
   ]
  },
  {
   "cell_type": "code",
   "execution_count": 30,
   "metadata": {
    "collapsed": true
   },
   "outputs": [],
   "source": [
    "pkgs = unlist(strsplit(pkgs, \"[[:space:]]+\"))"
   ]
  },
  {
   "cell_type": "code",
   "execution_count": 31,
   "metadata": {},
   "outputs": [
    {
     "name": "stdout",
     "output_type": "stream",
     "text": [
      " chr [1:7] \"basebootclassclustercodetools\" ...\n"
     ]
    }
   ],
   "source": [
    "str(pkgs)"
   ]
  },
  {
   "cell_type": "code",
   "execution_count": null,
   "metadata": {
    "collapsed": true
   },
   "outputs": [],
   "source": []
  }
 ],
 "metadata": {
  "kernelspec": {
   "display_name": "R",
   "language": "R",
   "name": "ir"
  },
  "language_info": {
   "codemirror_mode": "r",
   "file_extension": ".r",
   "mimetype": "text/x-r-source",
   "name": "R",
   "pygments_lexer": "r",
   "version": "3.4.2"
  }
 },
 "nbformat": 4,
 "nbformat_minor": 2
}
