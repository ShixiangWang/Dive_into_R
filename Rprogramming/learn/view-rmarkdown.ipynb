{
 "cells": [
  {
   "cell_type": "markdown",
   "metadata": {},
   "source": [
    "所有文字和代码来源于rstudio官网rmarkdown文档。"
   ]
  },
  {
   "cell_type": "markdown",
   "metadata": {},
   "source": [
    "### Installation\n",
    "\n",
    "```r\n",
    "install.packages(\"rmarkdown\")\n",
    "```"
   ]
  },
  {
   "cell_type": "markdown",
   "metadata": {},
   "source": [
    "### Viridis colors"
   ]
  },
  {
   "cell_type": "markdown",
   "metadata": {},
   "source": [
    "```{r}\n",
    "install.packages(\"viridis\")\n",
    "```"
   ]
  },
  {
   "cell_type": "code",
   "execution_count": 2,
   "metadata": {},
   "outputs": [
    {
     "name": "stderr",
     "output_type": "stream",
     "text": [
      "Loading required package: viridis\n",
      "Loading required package: viridisLite\n"
     ]
    },
    {
     "data": {
      "image/png": "[encoded data removed]",
      "text/plain": [
       "plot without title"
      ]
     },
     "metadata": {},
     "output_type": "display_data"
    }
   ],
   "source": [
    "\n",
    "require(viridis)\n",
    "image(volcano, col=viridis(200))\n"
   ]
  },
  {
   "cell_type": "markdown",
   "metadata": {},
   "source": [
    "### Rendering output\n",
    "\n",
    "```{r, eval=FALSE}\n",
    "library(rmarkdown)\n",
    "render(\"1-example.Rmd\")\n",
    "```"
   ]
  },
  {
   "cell_type": "markdown",
   "metadata": {},
   "source": [
    "### [Code Chunks](https://yihui.name/knitr/options/)\n",
    "\n",
    "You can quickly insert chunks like these into your file with\n",
    "\n",
    "-   the keyboard shortcut Ctrl + Alt + I (OS X: Cmd + Option + I)\n",
    "-   the Add Chunk  command in the editor toolbar \n",
    "\n",
    "or by typing the chunk delimiters \\`\\`\\`{r} and \\`\\`\\`.\n",
    "\n",
    "#### Chunk Options\n",
    "\n",
    "-   `include = FALSE` prevents code and results from appearing in the finished file. R Markdown still runs the code in the chunk, and the results can be used by other chunks.\n",
    "-   `echo = FALSE` prevents code, but not the results from appearing in the finished file. This is a useful way to embed figures.\n",
    "-   `message = FALSE` prevents messages that are generated by code from appearing in the finished file.\n",
    "-   `warning = FALSE` prevents warnings that are generated by code from appearing in the finished.\n",
    "-   `fig.cap = \"...\"` adds a caption to graphical results.\n",
    "\n",
    "\n",
    "See the [R Markdown Reference Guide](https://www.rstudio.com/wp-content/uploads/2015/03/rmarkdown-reference.pdf) for a complete list of knitr chunk options.\n",
    "\n",
    "#### Global Options\n",
    "\n",
    "To set global options that apply to every chunk in your file, call `knitr::opts_chunk$set` in a code chunk. Knitr will treat each option that you pass to `knitr::opts_chunk$set` as a global default that can be overwritten in individual chunk headers.\n",
    "\n",
    "\n",
    "### Inline Code\n",
    "\n",
    "```{r}\n",
    "colorFunc <- \"heat.colors\"\n",
    "```\n",
    "\n",
    "然后可以在行内代码中使用它，比如运行“r colorFunc”会显示`r colorFunc`。\n",
    "\n",
    "![](http://rmarkdown.rstudio.com/lesson-images/inline-1-heat.png)\n",
    "\n",
    "### Code Languages\n",
    "\n",
    "Rstudio现在支持的语言越来越多了，主要是Python和Shell。可以点击Rstudio上的Insert菜单项查看你的IDE可以支持插入哪些。\n",
    "\n",
    "以下是我官方显示支持的：\n",
    "\n",
    "-   Python\n",
    "-   SQL\n",
    "-   Bash\n",
    "-   Rcpp\n",
    "-   Stan\n",
    "-   JavaScript\n",
    "-   CSS\n",
    "\n",
    "### Parameters\n",
    "\n",
    "R markdown头部可以添加一些YAML参数，比如使用`data`参数方便以后直接调用一些数据。\n",
    "\n",
    "![](http://rmarkdown.rstudio.com/lesson-images/params-1-hawaii.png)\n",
    "\n",
    "\n",
    "### Tables\n",
    "\n",
    "表格使用`knitr::kable`函数\n",
    "\n",
    "![](http://rmarkdown.rstudio.com/lesson-images/tables-1-kable.png)\n",
    "\n",
    "### [Markdown Basics](http://rmarkdown.rstudio.com/authoring_pandoc_markdown.html)\n",
    "\n",
    "### [Output Formats](http://rmarkdown.rstudio.com/lesson-9.html)\n",
    "\n",
    "### Dashboards\n",
    "\n",
    "![](http://rmarkdown.rstudio.com/lesson-images/dashboards-1-dashboard.png)\n",
    "\n",
    "-   Each Level 1 Header (#) begins a new page in the dashboard.\n",
    "-   Each Level 2 Header (##) begins a new column.\n",
    "-   Each Level 3 Header (###) begins a new box.\n",
    "\n",
    "\n",
    "### [Websites](http://rmarkdown.rstudio.com/lesson-13.html)\n",
    "\n",
    "### [交互式文档](http://rmarkdown.rstudio.com/lesson-14.html)\n",
    "\n",
    "**htmlwidgets**\n",
    "\n",
    "![](http://rmarkdown.rstudio.com/lesson-images/interactive-1-htmlwidget.png)\n",
    "\n",
    "**Shiny**\n",
    "\n",
    "![](http://rmarkdown.rstudio.com/lesson-images/interactive-2-shiny.png)\n",
    "\n",
    "\n",
    "### 最后\n",
    "\n",
    "[Rmarkdown手册](https://github.com/ShixiangWang/masterR/blob/master/reference/rmarkdown-reference.pdf)\n",
    "\n",
    "[Rmarkdown checksheet](https://github.com/ShixiangWang/masterR/blob/master/reference/rmarkdown-2.0.pdf)"
   ]
  }
 ],
 "metadata": {
  "kernelspec": {
   "display_name": "R",
   "language": "R",
   "name": "ir"
  },
  "language_info": {
   "codemirror_mode": "r",
   "file_extension": ".r",
   "mimetype": "text/x-r-source",
   "name": "R",
   "pygments_lexer": "r",
   "version": "3.4.2"
  }
 },
 "nbformat": 4,
 "nbformat_minor": 2
}
