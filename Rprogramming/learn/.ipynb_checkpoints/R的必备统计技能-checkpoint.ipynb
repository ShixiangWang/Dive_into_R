{
 "cells": [
  {
   "cell_type": "markdown",
   "metadata": {},
   "source": [
    "# R必备统计分析\n",
    "\n",
    "英文资料来源：<http://bioconnector.org/workshops/r-stats.html>"
   ]
  },
  {
   "cell_type": "markdown",
   "metadata": {},
   "source": [
    "**这篇博文内容包括：描述统计量、t检验、线性模型、卡方检验、聚类、维度降解和重采样策略。以及怎么整理分析模型结果用于之后的可视化和总结**。"
   ]
  },
  {
   "cell_type": "markdown",
   "metadata": {},
   "source": [
    ">**Prerequisites**: Familiarity with R is required (including working with data frames, installing/using packages, importing data, and saving results); familiarity with **dplyr** and **ggplot2** packages is highly recommended."
   ]
  },
  {
   "cell_type": "markdown",
   "metadata": {},
   "source": [
    "`dplyr`完全不熟悉，所以我先学习好它再继续写本文。"
   ]
  },
  {
   "cell_type": "code",
   "execution_count": null,
   "metadata": {
    "collapsed": true
   },
   "outputs": [],
   "source": []
  }
 ],
 "metadata": {
  "kernelspec": {
   "display_name": "R",
   "language": "R",
   "name": "ir"
  },
  "language_info": {
   "codemirror_mode": "r",
   "file_extension": ".r",
   "mimetype": "text/x-r-source",
   "name": "R",
   "pygments_lexer": "r",
   "version": "3.4.2"
  }
 },
 "nbformat": 4,
 "nbformat_minor": 2
}
