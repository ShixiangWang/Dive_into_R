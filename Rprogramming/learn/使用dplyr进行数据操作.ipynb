{
 "cells": [
  {
   "cell_type": "markdown",
   "metadata": {},
   "source": [
    "# 使用dplyr进行数据操作\n",
    "\n",
    "来源：<http://bioconnector.org/workshops/r-dplyr-yeast.html>"
   ]
  },
  {
   "cell_type": "markdown",
   "metadata": {},
   "source": [
    "数据分析涉及大量的清理工作——整理和清理数据以利于进行下游分析。**该课程主要讲述高级数据操作技术和利用“拆分-应用-组合”策略进行分析**。\n",
    "\n",
    "我们将使用R中的`dplyr`包进行有效地操作和计算包含许多观测值的大数据子集的统计特征。"
   ]
  },
  {
   "cell_type": "markdown",
   "metadata": {},
   "source": [
    ">Recommended reading: Review the [Introduction (10.1)](http://r4ds.had.co.nz/tibbles.html#introduction-4) and [Tibbles vs. data.frame (10.3)](http://r4ds.had.co.nz/tibbles.html#tibbles-vs.data.frame) sections of the R for Data Science book. We will initially be using the read_* functions from the [readr package](http://readr.tidyverse.org/). These functions load data into a tibble instead of R’s traditional data.frame. Tibbles are data frames, but they tweak some older behaviors to make life a little easier. These sections explain the few key small differences between traditional data.frames and tibbles."
   ]
  },
  {
   "cell_type": "markdown",
   "metadata": {},
   "source": [
    "**好，那我们先看看这两部分。**我捡要点讲。"
   ]
  },
  {
   "cell_type": "markdown",
   "metadata": {},
   "source": [
    "## Introduction (10.1)"
   ]
  },
  {
   "cell_type": "markdown",
   "metadata": {},
   "source": [
    "一个典型的数据科学项目中需要的工具模型应该是这样的：\n",
    "\n",
    "![](http://r4ds.had.co.nz/diagrams/data-science.png)"
   ]
  },
  {
   "cell_type": "markdown",
   "metadata": {},
   "source": [
    "1. 首先你要**导入数据**（import）。这意思是把你存储在文件、数据库中或者来自网络API中的数据存储为R中的数据框。\n",
    "2. 导入之后是**整理数据**（tidy）。简要来说，当你的数据是干净的时候，每一列应该是一个变量，每一行是一个观察值。\n",
    "3. 整理之后是**转换数据**（transform）。转换包括缩小感兴趣的观察值，根据已知变量创造新的变量，计算一系列的统计特征。将整理和转换放在一起称为**争吵**（wrangling），因为把你的数据变成可以容易处理的形式经常就像一场争辩。\n",
    "4. 一旦你把数据整理好了，有两种主要产生知识的“引擎”：**可视化**和**建模**。它们有互补的长处和短处，所以真正的分析经常会将两个过程重叠多次。\n",
    "5. 数据科学的最后一步是**交流**，这绝对是数据分析项目最重要的一部分。除非你能和别人交流你的结果，不然你前面做的太多也是白扯。\n",
    "\n",
    "伴随着整个过程的工具就是**编程**。"
   ]
  },
  {
   "cell_type": "markdown",
   "metadata": {},
   "source": [
    "### 安装tidyverse包"
   ]
  },
  {
   "cell_type": "markdown",
   "metadata": {},
   "source": [
    "`tidyverse`包含有几个包，它们享有共同的数据与R编程理念，它们被设计到一起进行流畅的工作。"
   ]
  },
  {
   "cell_type": "markdown",
   "metadata": {},
   "source": [
    "```R\n",
    "# 安装\n",
    "install.packages(\"tidyverse\")\n",
    "```"
   ]
  },
  {
   "cell_type": "markdown",
   "metadata": {},
   "source": [
    "\n",
    "```R\n",
    "# 载入\n",
    "> library(tidyverse)\n",
    "-- Attaching packages --------------------------------------- tidyverse 1.2.1 --\n",
    "√ ggplot2 2.2.1     √ readr   1.1.1\n",
    "√ tibble  1.3.4     √ purrr   0.2.4\n",
    "√ tidyr   0.7.2     √ stringr 1.2.0\n",
    "√ ggplot2 2.2.1     √ forcats 0.2.0\n",
    "-- Conflicts ------------------------------------------ tidyverse_conflicts() --\n",
    "x dplyr::filter() masks stats::filter()\n",
    "x dplyr::lag()    masks stats::lag()\n",
    "```"
   ]
  },
  {
   "cell_type": "markdown",
   "metadata": {},
   "source": [
    "`tidyverse`里面的一些包可能会经常变动，我们可以运行`tidyverse_update()`进行更新。"
   ]
  },
  {
   "cell_type": "markdown",
   "metadata": {},
   "source": [
    "## Tibbles vs. data.frame\n",
    "\n",
    "tibble与data.frame主要有两点不同：**输出**和**取子集**。"
   ]
  },
  {
   "cell_type": "markdown",
   "metadata": {},
   "source": [
    "### 打印输出"
   ]
  },
  {
   "cell_type": "markdown",
   "metadata": {},
   "source": [
    "```R\n",
    "> require(tidyverse)\n",
    "> tibble(\n",
    "+     a = lubridate::now() + runif(1e3) * 86400,\n",
    "+     b = lubridate::today() + runif(1e3) * 30,\n",
    "+     c = 1:1e3,\n",
    "+     d = runif(1e3),\n",
    "+     e = sample(letters, 1e3, replace = TRUE)\n",
    "+ )\n",
    "# A tibble: 1,000 x 5\n",
    "                     a          b     c          d     e\n",
    "                <dttm>     <date> <int>      <dbl> <chr>\n",
    " 1 2017-11-18 15:34:33 2017-11-29     1 0.67316945     j\n",
    " 2 2017-11-18 08:14:13 2017-11-20     2 0.37123387     q\n",
    " 3 2017-11-17 21:30:13 2017-11-27     3 0.62118747     v\n",
    " 4 2017-11-18 14:25:56 2017-12-16     4 0.05463553     d\n",
    " 5 2017-11-17 22:47:24 2017-12-12     5 0.51881040     h\n",
    " 6 2017-11-17 16:19:12 2017-12-09     6 0.03022423     d\n",
    " 7 2017-11-18 00:41:48 2017-12-13     7 0.17127418     v\n",
    " 8 2017-11-17 16:41:40 2017-12-01     8 0.42216380     l\n",
    " 9 2017-11-18 15:44:46 2017-12-12     9 0.34529504     e\n",
    "10 2017-11-17 23:38:13 2017-12-16    10 0.58544749     p\n",
    "# ... with 990 more rows\n",
    "```"
   ]
  },
  {
   "cell_type": "markdown",
   "metadata": {},
   "source": [
    "**Tibbles有一个非常精确的方法，它只展示前10行数据，并且所有的列都会适配屏幕。**这样在处理大型数据时更加方便，而且，每一列都会报告它的类型。"
   ]
  },
  {
   "cell_type": "markdown",
   "metadata": {},
   "source": [
    "如果不想要默认的这种输出方式，我们可以通过`print()`函数的`n`与`width`选项控制显示的行和宽度。`width = Inf`会显示所有列：\n",
    "\n",
    "```R\n",
    "> tibble(\n",
    "+     a = lubridate::now() + runif(1e3) * 86400,\n",
    "+     b = lubridate::today() + runif(1e3) * 30,\n",
    "+     c = 1:1e3,\n",
    "+     d = runif(1e3),\n",
    "+     e = sample(letters, 1e3, replace = TRUE)\n",
    "+ ) %>% print(n=20, width=Inf)\n",
    "# A tibble: 1,000 x 5\n",
    "                     a          b     c         d     e\n",
    "                <dttm>     <date> <int>     <dbl> <chr>\n",
    " 1 2017-11-18 00:34:08 2017-11-29     1 0.1639318     i\n",
    " 2 2017-11-17 19:42:21 2017-11-30     2 0.2544355     b\n",
    " 3 2017-11-18 16:09:00 2017-12-11     3 0.7345556     u\n",
    " 4 2017-11-18 04:30:14 2017-12-07     4 0.2494946     n\n",
    " 5 2017-11-18 05:54:08 2017-11-23     5 0.1666868     m\n",
    " 6 2017-11-17 22:09:00 2017-12-15     6 0.4188294     g\n",
    " 7 2017-11-18 09:01:39 2017-12-01     7 0.2267510     l\n",
    " 8 2017-11-18 07:10:33 2017-12-11     8 0.7943061     l\n",
    " 9 2017-11-18 13:46:35 2017-12-14     9 0.9832414     h\n",
    "10 2017-11-17 18:36:46 2017-12-10    10 0.8545212     m\n",
    "11 2017-11-18 10:49:32 2017-11-17    11 0.9460041     c\n",
    "12 2017-11-18 02:57:14 2017-12-01    12 0.9911525     q\n",
    "13 2017-11-18 16:24:18 2017-12-16    13 0.2692637     g\n",
    "14 2017-11-17 18:57:07 2017-12-01    14 0.3437629     l\n",
    "15 2017-11-18 08:50:36 2017-12-04    15 0.1135036     q\n",
    "16 2017-11-18 09:20:08 2017-12-16    16 0.8855373     v\n",
    "17 2017-11-18 02:50:50 2017-12-05    17 0.4273206     j\n",
    "18 2017-11-18 11:19:09 2017-11-26    18 0.7004148     x\n",
    "19 2017-11-18 14:47:48 2017-11-20    19 0.5334430     v\n",
    "20 2017-11-18 12:45:52 2017-12-07    20 0.7103081     v\n",
    "# ... with 980 more rows\n",
    "```"
   ]
  },
  {
   "cell_type": "markdown",
   "metadata": {},
   "source": [
    "使用`package?tibble`查看所有的选项。"
   ]
  },
  {
   "cell_type": "markdown",
   "metadata": {},
   "source": [
    "当数据太多时我们也可以使用Rstudio内置的查看器来可视化完整的数据集。\n",
    "\n",
    "```R\n",
    "> tibble(\n",
    "+     a = lubridate::now() + runif(1e3) * 86400,\n",
    "+     b = lubridate::today() + runif(1e3) * 30,\n",
    "+     c = 1:1e3,\n",
    "+     d = runif(1e3),\n",
    "+     e = sample(letters, 1e3, replace = TRUE)\n",
    "+ ) %>% View()\n",
    "```"
   ]
  },
  {
   "cell_type": "markdown",
   "metadata": {},
   "source": [
    "### 取子集\n",
    "\n",
    "如果我们想要取出单个变量，我们需要一些新的工具，`$`和`[[`。`[[`可以根据名称或是位置提取变量，`$`只能根据名称，不过可以少打点字。"
   ]
  },
  {
   "cell_type": "code",
   "execution_count": 5,
   "metadata": {
    "collapsed": true
   },
   "outputs": [],
   "source": [
    "df <- tibble(\n",
    "    x = runif(5),\n",
    "    y = rnorm(5))"
   ]
  },
  {
   "cell_type": "code",
   "execution_count": 6,
   "metadata": {},
   "outputs": [
    {
     "data": {
      "text/html": [
       "<ol class=list-inline>\n",
       "\t<li>0.995860082330182</li>\n",
       "\t<li>0.997774066170678</li>\n",
       "\t<li>0.788461328251287</li>\n",
       "\t<li>0.698660581139848</li>\n",
       "\t<li>0.363849424524233</li>\n",
       "</ol>\n"
      ],
      "text/latex": [
       "\\begin{enumerate*}\n",
       "\\item 0.995860082330182\n",
       "\\item 0.997774066170678\n",
       "\\item 0.788461328251287\n",
       "\\item 0.698660581139848\n",
       "\\item 0.363849424524233\n",
       "\\end{enumerate*}\n"
      ],
      "text/markdown": [
       "1. 0.995860082330182\n",
       "2. 0.997774066170678\n",
       "3. 0.788461328251287\n",
       "4. 0.698660581139848\n",
       "5. 0.363849424524233\n",
       "\n",
       "\n"
      ],
      "text/plain": [
       "[1] 0.9958601 0.9977741 0.7884613 0.6986606 0.3638494"
      ]
     },
     "metadata": {},
     "output_type": "display_data"
    },
    {
     "data": {
      "text/html": [
       "<ol class=list-inline>\n",
       "\t<li>0.995860082330182</li>\n",
       "\t<li>0.997774066170678</li>\n",
       "\t<li>0.788461328251287</li>\n",
       "\t<li>0.698660581139848</li>\n",
       "\t<li>0.363849424524233</li>\n",
       "</ol>\n"
      ],
      "text/latex": [
       "\\begin{enumerate*}\n",
       "\\item 0.995860082330182\n",
       "\\item 0.997774066170678\n",
       "\\item 0.788461328251287\n",
       "\\item 0.698660581139848\n",
       "\\item 0.363849424524233\n",
       "\\end{enumerate*}\n"
      ],
      "text/markdown": [
       "1. 0.995860082330182\n",
       "2. 0.997774066170678\n",
       "3. 0.788461328251287\n",
       "4. 0.698660581139848\n",
       "5. 0.363849424524233\n",
       "\n",
       "\n"
      ],
      "text/plain": [
       "[1] 0.9958601 0.9977741 0.7884613 0.6986606 0.3638494"
      ]
     },
     "metadata": {},
     "output_type": "display_data"
    }
   ],
   "source": [
    "# 根据名字\n",
    "df$x\n",
    "df[[\"x\"]]"
   ]
  },
  {
   "cell_type": "code",
   "execution_count": 7,
   "metadata": {},
   "outputs": [
    {
     "data": {
      "text/html": [
       "<ol class=list-inline>\n",
       "\t<li>0.995860082330182</li>\n",
       "\t<li>0.997774066170678</li>\n",
       "\t<li>0.788461328251287</li>\n",
       "\t<li>0.698660581139848</li>\n",
       "\t<li>0.363849424524233</li>\n",
       "</ol>\n"
      ],
      "text/latex": [
       "\\begin{enumerate*}\n",
       "\\item 0.995860082330182\n",
       "\\item 0.997774066170678\n",
       "\\item 0.788461328251287\n",
       "\\item 0.698660581139848\n",
       "\\item 0.363849424524233\n",
       "\\end{enumerate*}\n"
      ],
      "text/markdown": [
       "1. 0.995860082330182\n",
       "2. 0.997774066170678\n",
       "3. 0.788461328251287\n",
       "4. 0.698660581139848\n",
       "5. 0.363849424524233\n",
       "\n",
       "\n"
      ],
      "text/plain": [
       "[1] 0.9958601 0.9977741 0.7884613 0.6986606 0.3638494"
      ]
     },
     "metadata": {},
     "output_type": "display_data"
    }
   ],
   "source": [
    "# 根据位置\n",
    "df[[1]]"
   ]
  },
  {
   "cell_type": "markdown",
   "metadata": {},
   "source": [
    "如果想要在管道中使用，需要特殊的**占位符**`.`："
   ]
  },
  {
   "cell_type": "code",
   "execution_count": 9,
   "metadata": {},
   "outputs": [
    {
     "data": {
      "text/html": [
       "<ol class=list-inline>\n",
       "\t<li>0.995860082330182</li>\n",
       "\t<li>0.997774066170678</li>\n",
       "\t<li>0.788461328251287</li>\n",
       "\t<li>0.698660581139848</li>\n",
       "\t<li>0.363849424524233</li>\n",
       "</ol>\n"
      ],
      "text/latex": [
       "\\begin{enumerate*}\n",
       "\\item 0.995860082330182\n",
       "\\item 0.997774066170678\n",
       "\\item 0.788461328251287\n",
       "\\item 0.698660581139848\n",
       "\\item 0.363849424524233\n",
       "\\end{enumerate*}\n"
      ],
      "text/markdown": [
       "1. 0.995860082330182\n",
       "2. 0.997774066170678\n",
       "3. 0.788461328251287\n",
       "4. 0.698660581139848\n",
       "5. 0.363849424524233\n",
       "\n",
       "\n"
      ],
      "text/plain": [
       "[1] 0.9958601 0.9977741 0.7884613 0.6986606 0.3638494"
      ]
     },
     "metadata": {},
     "output_type": "display_data"
    }
   ],
   "source": [
    "df %>% .$x"
   ]
  },
  {
   "cell_type": "code",
   "execution_count": 10,
   "metadata": {},
   "outputs": [
    {
     "data": {
      "text/html": [
       "<ol class=list-inline>\n",
       "\t<li>0.995860082330182</li>\n",
       "\t<li>0.997774066170678</li>\n",
       "\t<li>0.788461328251287</li>\n",
       "\t<li>0.698660581139848</li>\n",
       "\t<li>0.363849424524233</li>\n",
       "</ol>\n"
      ],
      "text/latex": [
       "\\begin{enumerate*}\n",
       "\\item 0.995860082330182\n",
       "\\item 0.997774066170678\n",
       "\\item 0.788461328251287\n",
       "\\item 0.698660581139848\n",
       "\\item 0.363849424524233\n",
       "\\end{enumerate*}\n"
      ],
      "text/markdown": [
       "1. 0.995860082330182\n",
       "2. 0.997774066170678\n",
       "3. 0.788461328251287\n",
       "4. 0.698660581139848\n",
       "5. 0.363849424524233\n",
       "\n",
       "\n"
      ],
      "text/plain": [
       "[1] 0.9958601 0.9977741 0.7884613 0.6986606 0.3638494"
      ]
     },
     "metadata": {},
     "output_type": "display_data"
    }
   ],
   "source": [
    "df %>% .[[\"x\"]]"
   ]
  },
  {
   "cell_type": "markdown",
   "metadata": {},
   "source": [
    "**注意**： 相比于数据框，tibbles显得更加严格，它不支持局部匹配。"
   ]
  },
  {
   "cell_type": "markdown",
   "metadata": {},
   "source": [
    "### 和旧代码交互\n",
    "\n",
    "一些比较旧的函数不支持tibbles，如果你碰到了的话可以使用`as.data.frame()`函数将`tibble`转换为`data.frame`："
   ]
  },
  {
   "cell_type": "code",
   "execution_count": 12,
   "metadata": {},
   "outputs": [
    {
     "data": {
      "text/html": [
       "'data.frame'"
      ],
      "text/latex": [
       "'data.frame'"
      ],
      "text/markdown": [
       "'data.frame'"
      ],
      "text/plain": [
       "[1] \"data.frame\""
      ]
     },
     "metadata": {},
     "output_type": "display_data"
    }
   ],
   "source": [
    "class(as.data.frame(df))"
   ]
  },
  {
   "cell_type": "markdown",
   "metadata": {},
   "source": [
    "### 练习\n",
    "\n"
   ]
  },
  {
   "cell_type": "markdown",
   "metadata": {},
   "source": [
    "1. 你怎么知道一个变量是tibble？尝试使用`mtcars`"
   ]
  },
  {
   "cell_type": "code",
   "execution_count": 13,
   "metadata": {},
   "outputs": [
    {
     "data": {
      "text/html": [
       "'data.frame'"
      ],
      "text/latex": [
       "'data.frame'"
      ],
      "text/markdown": [
       "'data.frame'"
      ],
      "text/plain": [
       "[1] \"data.frame\""
      ]
     },
     "metadata": {},
     "output_type": "display_data"
    }
   ],
   "source": [
    "class(mtcars)"
   ]
  },
  {
   "cell_type": "code",
   "execution_count": 14,
   "metadata": {},
   "outputs": [
    {
     "data": {
      "text/html": [
       "<ol class=list-inline>\n",
       "\t<li>'tbl_df'</li>\n",
       "\t<li>'tbl'</li>\n",
       "\t<li>'data.frame'</li>\n",
       "</ol>\n"
      ],
      "text/latex": [
       "\\begin{enumerate*}\n",
       "\\item 'tbl\\_df'\n",
       "\\item 'tbl'\n",
       "\\item 'data.frame'\n",
       "\\end{enumerate*}\n"
      ],
      "text/markdown": [
       "1. 'tbl_df'\n",
       "2. 'tbl'\n",
       "3. 'data.frame'\n",
       "\n",
       "\n"
      ],
      "text/plain": [
       "[1] \"tbl_df\"     \"tbl\"        \"data.frame\""
      ]
     },
     "metadata": {},
     "output_type": "display_data"
    }
   ],
   "source": [
    "class(as.tibble(mtcars))"
   ]
  },
  {
   "cell_type": "code",
   "execution_count": 15,
   "metadata": {},
   "outputs": [
    {
     "data": {
      "text/html": [
       "'list'"
      ],
      "text/latex": [
       "'list'"
      ],
      "text/markdown": [
       "'list'"
      ],
      "text/plain": [
       "[1] \"list\""
      ]
     },
     "metadata": {},
     "output_type": "display_data"
    }
   ],
   "source": [
    "typeof(as.tibble(mtcars))"
   ]
  },
  {
   "cell_type": "code",
   "execution_count": 16,
   "metadata": {},
   "outputs": [
    {
     "name": "stdout",
     "output_type": "stream",
     "text": [
      "Classes 'tbl_df', 'tbl' and 'data.frame':\t32 obs. of  11 variables:\n",
      " $ mpg : num  21 21 22.8 21.4 18.7 18.1 14.3 24.4 22.8 19.2 ...\n",
      " $ cyl : num  6 6 4 6 8 6 8 4 4 6 ...\n",
      " $ disp: num  160 160 108 258 360 ...\n",
      " $ hp  : num  110 110 93 110 175 105 245 62 95 123 ...\n",
      " $ drat: num  3.9 3.9 3.85 3.08 3.15 2.76 3.21 3.69 3.92 3.92 ...\n",
      " $ wt  : num  2.62 2.88 2.32 3.21 3.44 ...\n",
      " $ qsec: num  16.5 17 18.6 19.4 17 ...\n",
      " $ vs  : num  0 0 1 1 0 1 0 1 1 1 ...\n",
      " $ am  : num  1 1 1 0 0 0 0 0 0 0 ...\n",
      " $ gear: num  4 4 4 3 3 3 3 4 4 4 ...\n",
      " $ carb: num  4 4 1 1 2 1 4 2 2 4 ...\n"
     ]
    }
   ],
   "source": [
    "str(as.tibble(mtcars))"
   ]
  },
  {
   "cell_type": "markdown",
   "metadata": {},
   "source": [
    "看来需要通过class判断"
   ]
  },
  {
   "cell_type": "markdown",
   "metadata": {},
   "source": [
    "2. 比对用`data.frame`和`tibbles`进行下面的操作，有什么不同？为什么默认的数据框会令人沮丧？\n",
    "\n",
    "```R\n",
    "df <- data.frame(abc = 1, xyz = \"a\")\n",
    "df$x\n",
    "df[, \"xyz\"]\n",
    "df[, c(\"abc\", \"xyz\")]\n",
    "```"
   ]
  },
  {
   "cell_type": "code",
   "execution_count": 17,
   "metadata": {},
   "outputs": [
    {
     "data": {
      "text/html": [
       "a"
      ],
      "text/latex": [
       "a"
      ],
      "text/markdown": [
       "a"
      ],
      "text/plain": [
       "[1] a\n",
       "Levels: a"
      ]
     },
     "metadata": {},
     "output_type": "display_data"
    },
    {
     "data": {
      "text/html": [
       "a"
      ],
      "text/latex": [
       "a"
      ],
      "text/markdown": [
       "a"
      ],
      "text/plain": [
       "[1] a\n",
       "Levels: a"
      ]
     },
     "metadata": {},
     "output_type": "display_data"
    },
    {
     "data": {
      "text/html": [
       "<table>\n",
       "<thead><tr><th scope=col>abc</th><th scope=col>xyz</th></tr></thead>\n",
       "<tbody>\n",
       "\t<tr><td>1</td><td>a</td></tr>\n",
       "</tbody>\n",
       "</table>\n"
      ],
      "text/latex": [
       "\\begin{tabular}{r|ll}\n",
       " abc & xyz\\\\\n",
       "\\hline\n",
       "\t 1 & a\\\\\n",
       "\\end{tabular}\n"
      ],
      "text/markdown": [
       "\n",
       "abc | xyz | \n",
       "|---|\n",
       "| 1 | a | \n",
       "\n",
       "\n"
      ],
      "text/plain": [
       "  abc xyz\n",
       "1 1   a  "
      ]
     },
     "metadata": {},
     "output_type": "display_data"
    }
   ],
   "source": [
    "df <- data.frame(abc = 1, xyz = \"a\")\n",
    "df$x\n",
    "df[, \"xyz\"]\n",
    "df[, c(\"abc\", \"xyz\")]"
   ]
  },
  {
   "cell_type": "markdown",
   "metadata": {},
   "source": [
    "我们再使用tibble看看"
   ]
  },
  {
   "cell_type": "code",
   "execution_count": 19,
   "metadata": {},
   "outputs": [
    {
     "name": "stderr",
     "output_type": "stream",
     "text": [
      "Warning message:\n",
      "\"Unknown or uninitialised column: 'x'.\""
     ]
    },
    {
     "data": {
      "text/plain": [
       "NULL"
      ]
     },
     "metadata": {},
     "output_type": "display_data"
    },
    {
     "data": {
      "text/html": [
       "<table>\n",
       "<thead><tr><th scope=col>xyz</th></tr></thead>\n",
       "<tbody>\n",
       "\t<tr><td>a</td></tr>\n",
       "</tbody>\n",
       "</table>\n"
      ],
      "text/latex": [
       "\\begin{tabular}{r|l}\n",
       " xyz\\\\\n",
       "\\hline\n",
       "\t a\\\\\n",
       "\\end{tabular}\n"
      ],
      "text/markdown": [
       "\n",
       "xyz | \n",
       "|---|\n",
       "| a | \n",
       "\n",
       "\n"
      ],
      "text/plain": [
       "  xyz\n",
       "1 a  "
      ]
     },
     "metadata": {},
     "output_type": "display_data"
    },
    {
     "data": {
      "text/html": [
       "<table>\n",
       "<thead><tr><th scope=col>abc</th><th scope=col>xyz</th></tr></thead>\n",
       "<tbody>\n",
       "\t<tr><td>1</td><td>a</td></tr>\n",
       "</tbody>\n",
       "</table>\n"
      ],
      "text/latex": [
       "\\begin{tabular}{r|ll}\n",
       " abc & xyz\\\\\n",
       "\\hline\n",
       "\t 1 & a\\\\\n",
       "\\end{tabular}\n"
      ],
      "text/markdown": [
       "\n",
       "abc | xyz | \n",
       "|---|\n",
       "| 1 | a | \n",
       "\n",
       "\n"
      ],
      "text/plain": [
       "  abc xyz\n",
       "1 1   a  "
      ]
     },
     "metadata": {},
     "output_type": "display_data"
    }
   ],
   "source": [
    "df = as.tibble(df)\n",
    "df$x\n",
    "df[, \"xyz\"]\n",
    "df[, c(\"abc\", \"xyz\")]"
   ]
  },
  {
   "cell_type": "markdown",
   "metadata": {},
   "source": [
    "很显然，tibble只支持完全匹配，这样可以防止一些误操作，或者匹配到多个结果。"
   ]
  },
  {
   "cell_type": "markdown",
   "metadata": {},
   "source": [
    "Practice referring to non-syntactic names in the following data frame by:\n",
    "\n",
    "    Extracting the variable called 1.\n",
    "\n",
    "    Plotting a scatterplot of 1 vs 2.\n",
    "\n",
    "    Creating a new column called 3 which is 2 divided by 1.\n",
    "\n",
    "    Renaming the columns to one, two and three.\n",
    "```R\n",
    "annoying <- tibble(\n",
    "  `1` = 1:10,\n",
    "  `2` = `1` * 2 + rnorm(length(`1`))\n",
    ")\n",
    "```"
   ]
  },
  {
   "cell_type": "code",
   "execution_count": 20,
   "metadata": {
    "collapsed": true
   },
   "outputs": [],
   "source": [
    "annoying <- tibble(\n",
    "  `1` = 1:10,\n",
    "  `2` = `1` * 2 + rnorm(length(`1`))\n",
    ")"
   ]
  },
  {
   "cell_type": "code",
   "execution_count": 21,
   "metadata": {},
   "outputs": [
    {
     "data": {
      "text/html": [
       "<table>\n",
       "<thead><tr><th scope=col>1</th><th scope=col>2</th></tr></thead>\n",
       "<tbody>\n",
       "\t<tr><td> 1       </td><td> 2.009973</td></tr>\n",
       "\t<tr><td> 2       </td><td> 4.369652</td></tr>\n",
       "\t<tr><td> 3       </td><td> 5.029929</td></tr>\n",
       "\t<tr><td> 4       </td><td> 7.068456</td></tr>\n",
       "\t<tr><td> 5       </td><td> 9.151830</td></tr>\n",
       "\t<tr><td> 6       </td><td>12.523541</td></tr>\n",
       "\t<tr><td> 7       </td><td>15.090779</td></tr>\n",
       "\t<tr><td> 8       </td><td>15.550297</td></tr>\n",
       "\t<tr><td> 9       </td><td>18.503531</td></tr>\n",
       "\t<tr><td>10       </td><td>19.554473</td></tr>\n",
       "</tbody>\n",
       "</table>\n"
      ],
      "text/latex": [
       "\\begin{tabular}{r|ll}\n",
       " 1 & 2\\\\\n",
       "\\hline\n",
       "\t  1        &  2.009973\\\\\n",
       "\t  2        &  4.369652\\\\\n",
       "\t  3        &  5.029929\\\\\n",
       "\t  4        &  7.068456\\\\\n",
       "\t  5        &  9.151830\\\\\n",
       "\t  6        & 12.523541\\\\\n",
       "\t  7        & 15.090779\\\\\n",
       "\t  8        & 15.550297\\\\\n",
       "\t  9        & 18.503531\\\\\n",
       "\t 10        & 19.554473\\\\\n",
       "\\end{tabular}\n"
      ],
      "text/markdown": [
       "\n",
       "1 | 2 | \n",
       "|---|---|---|---|---|---|---|---|---|---|\n",
       "|  1        |  2.009973 | \n",
       "|  2        |  4.369652 | \n",
       "|  3        |  5.029929 | \n",
       "|  4        |  7.068456 | \n",
       "|  5        |  9.151830 | \n",
       "|  6        | 12.523541 | \n",
       "|  7        | 15.090779 | \n",
       "|  8        | 15.550297 | \n",
       "|  9        | 18.503531 | \n",
       "| 10        | 19.554473 | \n",
       "\n",
       "\n"
      ],
      "text/plain": [
       "   1  2        \n",
       "1   1  2.009973\n",
       "2   2  4.369652\n",
       "3   3  5.029929\n",
       "4   4  7.068456\n",
       "5   5  9.151830\n",
       "6   6 12.523541\n",
       "7   7 15.090779\n",
       "8   8 15.550297\n",
       "9   9 18.503531\n",
       "10 10 19.554473"
      ]
     },
     "metadata": {},
     "output_type": "display_data"
    }
   ],
   "source": [
    "annoying"
   ]
  },
  {
   "cell_type": "code",
   "execution_count": 22,
   "metadata": {},
   "outputs": [
    {
     "data": {
      "text/html": [
       "<ol class=list-inline>\n",
       "\t<li>1</li>\n",
       "\t<li>2</li>\n",
       "\t<li>3</li>\n",
       "\t<li>4</li>\n",
       "\t<li>5</li>\n",
       "\t<li>6</li>\n",
       "\t<li>7</li>\n",
       "\t<li>8</li>\n",
       "\t<li>9</li>\n",
       "\t<li>10</li>\n",
       "</ol>\n"
      ],
      "text/latex": [
       "\\begin{enumerate*}\n",
       "\\item 1\n",
       "\\item 2\n",
       "\\item 3\n",
       "\\item 4\n",
       "\\item 5\n",
       "\\item 6\n",
       "\\item 7\n",
       "\\item 8\n",
       "\\item 9\n",
       "\\item 10\n",
       "\\end{enumerate*}\n"
      ],
      "text/markdown": [
       "1. 1\n",
       "2. 2\n",
       "3. 3\n",
       "4. 4\n",
       "5. 5\n",
       "6. 6\n",
       "7. 7\n",
       "8. 8\n",
       "9. 9\n",
       "10. 10\n",
       "\n",
       "\n"
      ],
      "text/plain": [
       " [1]  1  2  3  4  5  6  7  8  9 10"
      ]
     },
     "metadata": {},
     "output_type": "display_data"
    }
   ],
   "source": [
    "annoying$`1`"
   ]
  },
  {
   "cell_type": "code",
   "execution_count": 23,
   "metadata": {},
   "outputs": [
    {
     "data": {
      "image/png": "[encoded data removed]",
      "text/plain": [
       "plot without title"
      ]
     },
     "metadata": {},
     "output_type": "display_data"
    }
   ],
   "source": [
    "plot(annoying$`1`, annoying$`2`)"
   ]
  },
  {
   "cell_type": "code",
   "execution_count": 24,
   "metadata": {
    "collapsed": true
   },
   "outputs": [],
   "source": [
    "annoying$`3` = annoying$`2` / annoying$`1`"
   ]
  },
  {
   "cell_type": "code",
   "execution_count": 25,
   "metadata": {},
   "outputs": [
    {
     "data": {
      "text/html": [
       "<ol class=list-inline>\n",
       "\t<li>2.0099734854912</li>\n",
       "\t<li>2.18482601344398</li>\n",
       "\t<li>1.676642921539</li>\n",
       "\t<li>1.7671140762693</li>\n",
       "\t<li>1.83036597961312</li>\n",
       "\t<li>2.08725689375246</li>\n",
       "\t<li>2.15582555773269</li>\n",
       "\t<li>1.94378716935277</li>\n",
       "\t<li>2.05594783761419</li>\n",
       "\t<li>1.95544731728379</li>\n",
       "</ol>\n"
      ],
      "text/latex": [
       "\\begin{enumerate*}\n",
       "\\item 2.0099734854912\n",
       "\\item 2.18482601344398\n",
       "\\item 1.676642921539\n",
       "\\item 1.7671140762693\n",
       "\\item 1.83036597961312\n",
       "\\item 2.08725689375246\n",
       "\\item 2.15582555773269\n",
       "\\item 1.94378716935277\n",
       "\\item 2.05594783761419\n",
       "\\item 1.95544731728379\n",
       "\\end{enumerate*}\n"
      ],
      "text/markdown": [
       "1. 2.0099734854912\n",
       "2. 2.18482601344398\n",
       "3. 1.676642921539\n",
       "4. 1.7671140762693\n",
       "5. 1.83036597961312\n",
       "6. 2.08725689375246\n",
       "7. 2.15582555773269\n",
       "8. 1.94378716935277\n",
       "9. 2.05594783761419\n",
       "10. 1.95544731728379\n",
       "\n",
       "\n"
      ],
      "text/plain": [
       " [1] 2.009973 2.184826 1.676643 1.767114 1.830366 2.087257 2.155826 1.943787\n",
       " [9] 2.055948 1.955447"
      ]
     },
     "metadata": {},
     "output_type": "display_data"
    }
   ],
   "source": [
    "annoying$`3`"
   ]
  },
  {
   "cell_type": "code",
   "execution_count": 26,
   "metadata": {
    "collapsed": true
   },
   "outputs": [],
   "source": [
    "names(annoying) = c(\"one\", \"two\", \"three\")"
   ]
  },
  {
   "cell_type": "code",
   "execution_count": 27,
   "metadata": {},
   "outputs": [
    {
     "data": {
      "text/html": [
       "<table>\n",
       "<thead><tr><th scope=col>one</th><th scope=col>two</th><th scope=col>three</th></tr></thead>\n",
       "<tbody>\n",
       "\t<tr><td> 1       </td><td> 2.009973</td><td>2.009973 </td></tr>\n",
       "\t<tr><td> 2       </td><td> 4.369652</td><td>2.184826 </td></tr>\n",
       "\t<tr><td> 3       </td><td> 5.029929</td><td>1.676643 </td></tr>\n",
       "\t<tr><td> 4       </td><td> 7.068456</td><td>1.767114 </td></tr>\n",
       "\t<tr><td> 5       </td><td> 9.151830</td><td>1.830366 </td></tr>\n",
       "\t<tr><td> 6       </td><td>12.523541</td><td>2.087257 </td></tr>\n",
       "\t<tr><td> 7       </td><td>15.090779</td><td>2.155826 </td></tr>\n",
       "\t<tr><td> 8       </td><td>15.550297</td><td>1.943787 </td></tr>\n",
       "\t<tr><td> 9       </td><td>18.503531</td><td>2.055948 </td></tr>\n",
       "\t<tr><td>10       </td><td>19.554473</td><td>1.955447 </td></tr>\n",
       "</tbody>\n",
       "</table>\n"
      ],
      "text/latex": [
       "\\begin{tabular}{r|lll}\n",
       " one & two & three\\\\\n",
       "\\hline\n",
       "\t  1        &  2.009973 & 2.009973 \\\\\n",
       "\t  2        &  4.369652 & 2.184826 \\\\\n",
       "\t  3        &  5.029929 & 1.676643 \\\\\n",
       "\t  4        &  7.068456 & 1.767114 \\\\\n",
       "\t  5        &  9.151830 & 1.830366 \\\\\n",
       "\t  6        & 12.523541 & 2.087257 \\\\\n",
       "\t  7        & 15.090779 & 2.155826 \\\\\n",
       "\t  8        & 15.550297 & 1.943787 \\\\\n",
       "\t  9        & 18.503531 & 2.055948 \\\\\n",
       "\t 10        & 19.554473 & 1.955447 \\\\\n",
       "\\end{tabular}\n"
      ],
      "text/markdown": [
       "\n",
       "one | two | three | \n",
       "|---|---|---|---|---|---|---|---|---|---|\n",
       "|  1        |  2.009973 | 2.009973  | \n",
       "|  2        |  4.369652 | 2.184826  | \n",
       "|  3        |  5.029929 | 1.676643  | \n",
       "|  4        |  7.068456 | 1.767114  | \n",
       "|  5        |  9.151830 | 1.830366  | \n",
       "|  6        | 12.523541 | 2.087257  | \n",
       "|  7        | 15.090779 | 2.155826  | \n",
       "|  8        | 15.550297 | 1.943787  | \n",
       "|  9        | 18.503531 | 2.055948  | \n",
       "| 10        | 19.554473 | 1.955447  | \n",
       "\n",
       "\n"
      ],
      "text/plain": [
       "   one two       three   \n",
       "1   1   2.009973 2.009973\n",
       "2   2   4.369652 2.184826\n",
       "3   3   5.029929 1.676643\n",
       "4   4   7.068456 1.767114\n",
       "5   5   9.151830 1.830366\n",
       "6   6  12.523541 2.087257\n",
       "7   7  15.090779 2.155826\n",
       "8   8  15.550297 1.943787\n",
       "9   9  18.503531 2.055948\n",
       "10 10  19.554473 1.955447"
      ]
     },
     "metadata": {},
     "output_type": "display_data"
    }
   ],
   "source": [
    "annoying"
   ]
  },
  {
   "cell_type": "markdown",
   "metadata": {},
   "source": [
    "What does tibble::enframe() do? When might you use it?"
   ]
  },
  {
   "cell_type": "code",
   "execution_count": 32,
   "metadata": {
    "collapsed": true
   },
   "outputs": [],
   "source": [
    "?tibble::enframe()\n"
   ]
  },
  {
   "cell_type": "markdown",
   "metadata": {},
   "source": [
    "根据运行结果表明`enframe()`函数是将原子向量转为数据框。\n",
    "（Converting atomic vectors to data frames, and vice versa）"
   ]
  },
  {
   "cell_type": "markdown",
   "metadata": {},
   "source": [
    "**接下来让我们回到原来的话题，dplyr**"
   ]
  },
  {
   "cell_type": "markdown",
   "metadata": {},
   "source": [
    "### 数据\n",
    "\n",
    "**数据介绍**\n",
    "\n",
    "This is a cleaned up version of a gene expression dataset from [Brauer et al. Coordination of Growth Rate, Cell Cycle, Stress Response, and Metabolic Activity in Yeast (2008) Mol Biol Cell 19:352-367](http://www.ncbi.nlm.nih.gov/pubmed/17959824). This data is from a gene expression microarray, and in this paper the authors are examining the relationship between growth rate and gene expression in yeast cultures limited by one of six different nutrients (glucose, leucine, ammonium, sulfate, phosphate, uracil). If you give yeast a rich media loaded with nutrients except restrict the supply of a single nutrient, you can control the growth rate to any rate you choose. By starving yeast of specific nutrients you can find genes that:\n",
    "\n",
    "- **Raise or lower their expression in response to growth rate.** Growth-rate dependent expression patterns can tell us a lot about cell cycle control, and how the cell responds to stress. The authors found that expression of >25% of all yeast genes is linearly correlated with growth rate, independent of the limiting nutrient. They also found that the subset of negatively growth-correlated genes is enriched for peroxisomal functions, and positively correlated genes mainly encode ribosomal functions.\n",
    "- **Respond differently when different nutrients are being limited.** If you see particular genes that respond very differently when a nutrient is sharply restricted, these genes might be involved in the transport or metabolism of that specific nutrient.\n"
   ]
  },
  {
   "cell_type": "markdown",
   "metadata": {},
   "source": [
    "下载清洗后的数据[brauer2007_tidy.csv](http://bioconnector.org/workshops/data/brauer2007_tidy.csv)，你也可以在我当前文件目录下找到。"
   ]
  },
  {
   "cell_type": "markdown",
   "metadata": {},
   "source": [
    "### 读入数据\n",
    "\n",
    "需要导入`dplyr`与`readr`两个包，确保在继续下面学习之前安装好它们。"
   ]
  },
  {
   "cell_type": "code",
   "execution_count": 33,
   "metadata": {
    "collapsed": true
   },
   "outputs": [],
   "source": [
    "# 导入包\n",
    "library(readr)\n",
    "library(dplyr)"
   ]
  },
  {
   "cell_type": "code",
   "execution_count": 34,
   "metadata": {},
   "outputs": [
    {
     "name": "stderr",
     "output_type": "stream",
     "text": [
      "Parsed with column specification:\n",
      "cols(\n",
      "  symbol = col_character(),\n",
      "  systematic_name = col_character(),\n",
      "  nutrient = col_character(),\n",
      "  rate = col_double(),\n",
      "  expression = col_double(),\n",
      "  bp = col_character(),\n",
      "  mf = col_character()\n",
      ")\n"
     ]
    }
   ],
   "source": [
    "# 读入数据\n",
    "ydat = read_csv(file=\"./brauer2007_tidy.csv\")"
   ]
  },
  {
   "cell_type": "code",
   "execution_count": 35,
   "metadata": {},
   "outputs": [
    {
     "data": {
      "text/html": [
       "<table>\n",
       "<thead><tr><th scope=col>symbol</th><th scope=col>systematic_name</th><th scope=col>nutrient</th><th scope=col>rate</th><th scope=col>expression</th><th scope=col>bp</th><th scope=col>mf</th></tr></thead>\n",
       "<tbody>\n",
       "\t<tr><td>SFB2                                                                      </td><td>YNL049C                                                                   </td><td>Glucose                                                                   </td><td>0.05                                                                      </td><td>-0.24                                                                     </td><td>ER to Golgi transport                                                     </td><td>molecular function unknown                                                </td></tr>\n",
       "\t<tr><td>NA                                                                        </td><td>YNL095C                                                                   </td><td>Glucose                                                                   </td><td>0.05                                                                      </td><td> 0.28                                                                     </td><td>biological process unknown                                                </td><td>molecular function unknown                                                </td></tr>\n",
       "\t<tr><td>QRI7                                                                      </td><td>YDL104C                                                                   </td><td>Glucose                                                                   </td><td>0.05                                                                      </td><td>-0.02                                                                     </td><td>proteolysis and peptidolysis                                              </td><td>metalloendopeptidase activity                                             </td></tr>\n",
       "\t<tr><td>CFT2                                                                      </td><td>YLR115W                                                                   </td><td>Glucose                                                                   </td><td>0.05                                                                      </td><td>-0.33                                                                     </td><td>mRNA polyadenylylation*                                                   </td><td>RNA binding                                                               </td></tr>\n",
       "\t<tr><td>SSO2                                                                      </td><td>YMR183C                                                                   </td><td>Glucose                                                                   </td><td>0.05                                                                      </td><td> 0.05                                                                     </td><td>vesicle fusion*                                                           </td><td>t-SNARE activity                                                          </td></tr>\n",
       "\t<tr><td>PSP2                                                                      </td><td>YML017W                                                                   </td><td>Glucose                                                                   </td><td>0.05                                                                      </td><td>-0.69                                                                     </td><td>biological process unknown                                                </td><td>molecular function unknown                                                </td></tr>\n",
       "\t<tr><td>RIB2                                                                      </td><td>YOL066C                                                                   </td><td>Glucose                                                                   </td><td>0.05                                                                      </td><td>-0.55                                                                     </td><td>riboflavin biosynthesis                                                   </td><td>pseudouridylate synthase activity*                                        </td></tr>\n",
       "\t<tr><td>VMA13                                                                     </td><td>YPR036W                                                                   </td><td>Glucose                                                                   </td><td>0.05                                                                      </td><td>-0.75                                                                     </td><td>vacuolar acidification                                                    </td><td>hydrogen-transporting ATPase activity, rotational mechanism               </td></tr>\n",
       "\t<tr><td>EDC3                                                                      </td><td>YEL015W                                                                   </td><td>Glucose                                                                   </td><td>0.05                                                                      </td><td>-0.24                                                                     </td><td>deadenylylation-independent decapping                                     </td><td>molecular function unknown                                                </td></tr>\n",
       "\t<tr><td>VPS5                                                                      </td><td>YOR069W                                                                   </td><td>Glucose                                                                   </td><td>0.05                                                                      </td><td>-0.16                                                                     </td><td>protein retention in Golgi*                                               </td><td>protein transporter activity                                              </td></tr>\n",
       "\t<tr><td>NA                                                                        </td><td>YOL029C                                                                   </td><td>Glucose                                                                   </td><td>0.05                                                                      </td><td>-0.22                                                                     </td><td>biological process unknown                                                </td><td>molecular function unknown                                                </td></tr>\n",
       "\t<tr><td>AMN1                                                                      </td><td>YBR158W                                                                   </td><td>Glucose                                                                   </td><td>0.05                                                                      </td><td> 0.18                                                                     </td><td>negative regulation of exit from mitosis*                                 </td><td>protein binding                                                           </td></tr>\n",
       "\t<tr><td>SCW11                                                                     </td><td>YGL028C                                                                   </td><td>Glucose                                                                   </td><td>0.05                                                                      </td><td>-0.67                                                                     </td><td>cytokinesis, completion of separation                                     </td><td>glucan 1,3-beta-glucosidase activity                                      </td></tr>\n",
       "\t<tr><td>DSE2                                                                      </td><td>YHR143W                                                                   </td><td>Glucose                                                                   </td><td>0.05                                                                      </td><td>-0.59                                                                     </td><td>cell wall organization and biogenesis*                                    </td><td>glucan 1,3-beta-glucosidase activity                                      </td></tr>\n",
       "\t<tr><td>COX15                                                                     </td><td>YER141W                                                                   </td><td>Glucose                                                                   </td><td>0.05                                                                      </td><td>-0.28                                                                     </td><td>cytochrome c oxidase complex assembly*                                    </td><td>oxidoreductase activity, acting on NADH or NADPH, heme protein as acceptor</td></tr>\n",
       "\t<tr><td>SPE1                                                                      </td><td>YKL184W                                                                   </td><td>Glucose                                                                   </td><td>0.05                                                                      </td><td>-0.19                                                                     </td><td>pantothenate biosynthesis*                                                </td><td>ornithine decarboxylase activity                                          </td></tr>\n",
       "\t<tr><td>MTF1                                                                      </td><td>YMR228W                                                                   </td><td>Glucose                                                                   </td><td>0.05                                                                      </td><td>-0.42                                                                     </td><td>transcription from mitochondrial promoter                                 </td><td>S-adenosylmethionine-dependent methyltransferase activity*                </td></tr>\n",
       "\t<tr><td>KSS1                                                                      </td><td>YGR040W                                                                   </td><td>Glucose                                                                   </td><td>0.05                                                                      </td><td>-0.76                                                                     </td><td>invasive growth (sensu Saccharomyces)*                                    </td><td>MAP kinase activity                                                       </td></tr>\n",
       "\t<tr><td>NA                                                                        </td><td>YHR036W                                                                   </td><td>Glucose                                                                   </td><td>0.05                                                                      </td><td>-0.91                                                                     </td><td>biological process unknown                                                </td><td>molecular function unknown                                                </td></tr>\n",
       "\t<tr><td>NA                                                                        </td><td>YNL158W                                                                   </td><td>Glucose                                                                   </td><td>0.05                                                                      </td><td>-0.47                                                                     </td><td>biological process unknown                                                </td><td>molecular function unknown                                                </td></tr>\n",
       "\t<tr><td>YAP7                                                                      </td><td>YOL028C                                                                   </td><td>Glucose                                                                   </td><td>0.05                                                                      </td><td>-0.51                                                                     </td><td>positive regulation of transcription from RNA polymerase II promoter      </td><td>RNA polymerase II transcription factor activity                           </td></tr>\n",
       "\t<tr><td>NA                                                                        </td><td>YBR074W                                                                   </td><td>Glucose                                                                   </td><td>0.05                                                                      </td><td>-1.01                                                                     </td><td>proteolysis and peptidolysis                                              </td><td>metalloendopeptidase activity                                             </td></tr>\n",
       "\t<tr><td>YVC1                                                                      </td><td>YOR087W                                                                   </td><td>Glucose                                                                   </td><td>0.05                                                                      </td><td>-0.40                                                                     </td><td>cation homeostasis                                                        </td><td>calcium channel activity*                                                 </td></tr>\n",
       "\t<tr><td>CDC40                                                                     </td><td>YDR364C                                                                   </td><td>Glucose                                                                   </td><td>0.05                                                                      </td><td>-0.19                                                                     </td><td>nuclear mRNA splicing, via spliceosome*                                   </td><td>RNA splicing factor activity, transesterification mechanism*              </td></tr>\n",
       "\t<tr><td>NA                                                                        </td><td>YPL162C                                                                   </td><td>Glucose                                                                   </td><td>0.05                                                                      </td><td>-0.10                                                                     </td><td>biological process unknown                                                </td><td>molecular function unknown                                                </td></tr>\n",
       "\t<tr><td>RMD1                                                                      </td><td>YDL001W                                                                   </td><td>Glucose                                                                   </td><td>0.05                                                                      </td><td>-0.22                                                                     </td><td>biological process unknown                                                </td><td>molecular function unknown                                                </td></tr>\n",
       "\t<tr><td>PCL6                                                                      </td><td>YER059W                                                                   </td><td>Glucose                                                                   </td><td>0.05                                                                      </td><td>-0.25                                                                     </td><td>regulation of glycogen biosynthesis*                                      </td><td>cyclin-dependent protein kinase regulator activity                        </td></tr>\n",
       "\t<tr><td>AI4                                                                       </td><td>Q0065                                                                     </td><td>Glucose                                                                   </td><td>0.05                                                                      </td><td>-0.36                                                                     </td><td>RNA splicing*                                                             </td><td>endonuclease activity                                                     </td></tr>\n",
       "\t<tr><td>GGC1                                                                      </td><td>YDL198C                                                                   </td><td>Glucose                                                                   </td><td>0.05                                                                      </td><td> 0.76                                                                     </td><td>mitochondrial genome maintenance*                                         </td><td>guanine nucleotide transporter activity                                   </td></tr>\n",
       "\t<tr><td>SUL1                                                                      </td><td>YBR294W                                                                   </td><td>Glucose                                                                   </td><td>0.05                                                                      </td><td>-0.32                                                                     </td><td>sulfate transport                                                         </td><td>sulfate transporter activity                                              </td></tr>\n",
       "\t<tr><td>...</td><td>...</td><td>...</td><td>...</td><td>...</td><td>...</td><td>...</td></tr>\n",
       "\t<tr><td>NA                                                              </td><td>YNL046W                                                         </td><td>Uracil                                                          </td><td>0.3                                                             </td><td> 0.36                                                           </td><td>biological process unknown                                      </td><td>molecular function unknown                                      </td></tr>\n",
       "\t<tr><td>RPS0B                                                           </td><td>YLR048W                                                         </td><td>Uracil                                                          </td><td>0.3                                                             </td><td> 0.30                                                           </td><td>protein biosynthesis*                                           </td><td>structural constituent of ribosome                              </td></tr>\n",
       "\t<tr><td>COS12                                                           </td><td>YGL263W                                                         </td><td>Uracil                                                          </td><td>0.3                                                             </td><td> 1.33                                                           </td><td>biological process unknown                                      </td><td>molecular function unknown                                      </td></tr>\n",
       "\t<tr><td>NA                                                              </td><td>YNR065C                                                         </td><td>Uracil                                                          </td><td>0.3                                                             </td><td> 0.34                                                           </td><td>biological process unknown                                      </td><td>molecular function unknown                                      </td></tr>\n",
       "\t<tr><td>IZH1                                                            </td><td>YDR492W                                                         </td><td>Uracil                                                          </td><td>0.3                                                             </td><td> 0.44                                                           </td><td>lipid metabolism*                                               </td><td>metal ion binding                                               </td></tr>\n",
       "\t<tr><td>NA                                                              </td><td>YPR064W                                                         </td><td>Uracil                                                          </td><td>0.3                                                             </td><td> 0.27                                                           </td><td>NA                                                              </td><td>NA                                                              </td></tr>\n",
       "\t<tr><td>IZH4                                                            </td><td>YOL101C                                                         </td><td>Uracil                                                          </td><td>0.3                                                             </td><td> 1.15                                                           </td><td>lipid metabolism*                                               </td><td>metal ion binding                                               </td></tr>\n",
       "\t<tr><td>PST1                                                            </td><td>YDR055W                                                         </td><td>Uracil                                                          </td><td>0.3                                                             </td><td> 0.64                                                           </td><td>cell wall organization and biogenesis                           </td><td>molecular function unknown                                      </td></tr>\n",
       "\t<tr><td>PRM10                                                           </td><td>YJL108C                                                         </td><td>Uracil                                                          </td><td>0.3                                                             </td><td> 0.54                                                           </td><td>conjugation with cellular fusion                                </td><td>molecular function unknown                                      </td></tr>\n",
       "\t<tr><td>NA                                                              </td><td>YJL107C                                                         </td><td>Uracil                                                          </td><td>0.3                                                             </td><td> 0.48                                                           </td><td>biological process unknown                                      </td><td>molecular function unknown                                      </td></tr>\n",
       "\t<tr><td>SFA1                                                            </td><td>YDL168W                                                         </td><td>Uracil                                                          </td><td>0.3                                                             </td><td> 0.32                                                           </td><td>formaldehyde catabolism                                         </td><td>alcohol dehydrogenase activity*                                 </td></tr>\n",
       "\t<tr><td>CAP2                                                            </td><td>YIL034C                                                         </td><td>Uracil                                                          </td><td>0.3                                                             </td><td> 0.14                                                           </td><td>filamentous growth*                                             </td><td>actin filament binding                                          </td></tr>\n",
       "\t<tr><td>NA                                                              </td><td>YMR122W-A                                                       </td><td>Uracil                                                          </td><td>0.3                                                             </td><td> 0.49                                                           </td><td>biological process unknown                                      </td><td>molecular function unknown                                      </td></tr>\n",
       "\t<tr><td>CIS3                                                            </td><td>YJL158C                                                         </td><td>Uracil                                                          </td><td>0.3                                                             </td><td> 0.32                                                           </td><td>cell wall organization and biogenesis                           </td><td>structural constituent of cell wall                             </td></tr>\n",
       "\t<tr><td>NA                                                              </td><td>YPR012W                                                         </td><td>Uracil                                                          </td><td>0.3                                                             </td><td> 0.27                                                           </td><td>NA                                                              </td><td>NA                                                              </td></tr>\n",
       "\t<tr><td>RGS2                                                            </td><td>YOR107W                                                         </td><td>Uracil                                                          </td><td>0.3                                                             </td><td>-0.08                                                           </td><td>G-protein signaling, coupled to cAMP nucleotide second messenger</td><td>GTPase activator activity                                       </td></tr>\n",
       "\t<tr><td>NA                                                              </td><td>YPR117W                                                         </td><td>Uracil                                                          </td><td>0.3                                                             </td><td>-0.16                                                           </td><td>biological process unknown                                      </td><td>molecular function unknown                                      </td></tr>\n",
       "\t<tr><td>NA                                                              </td><td>YPR150W                                                         </td><td>Uracil                                                          </td><td>0.3                                                             </td><td> 0.09                                                           </td><td>NA                                                              </td><td>NA                                                              </td></tr>\n",
       "\t<tr><td>CSG2                                                            </td><td>YBR036C                                                         </td><td>Uracil                                                          </td><td>0.3                                                             </td><td>-0.01                                                           </td><td>calcium ion homeostasis*                                        </td><td>enzyme regulator activity                                       </td></tr>\n",
       "\t<tr><td>SPO11                                                           </td><td>YHL022C                                                         </td><td>Uracil                                                          </td><td>0.3                                                             </td><td>-0.34                                                           </td><td>meiotic DNA double-strand break formation                       </td><td>endodeoxyribonuclease activity, producing 3'-phosphomonoesters  </td></tr>\n",
       "\t<tr><td>CHO1                                                            </td><td>YER026C                                                         </td><td>Uracil                                                          </td><td>0.3                                                             </td><td>-0.20                                                           </td><td>phosphatidylserine biosynthesis                                 </td><td>CDP-diacylglycerol-serine O-phosphatidyltransferase activity    </td></tr>\n",
       "\t<tr><td>WSC2                                                            </td><td>YNL283C                                                         </td><td>Uracil                                                          </td><td>0.3                                                             </td><td>-0.21                                                           </td><td>cell wall organization and biogenesis*                          </td><td>transmembrane receptor activity                                 </td></tr>\n",
       "\t<tr><td>MYO2                                                            </td><td>YOR326W                                                         </td><td>Uracil                                                          </td><td>0.3                                                             </td><td>-0.04                                                           </td><td>endocytosis*                                                    </td><td>microfilament motor activity                                    </td></tr>\n",
       "\t<tr><td>NA                                                              </td><td>YPL066W                                                         </td><td>Uracil                                                          </td><td>0.3                                                             </td><td> 0.15                                                           </td><td>biological process unknown                                      </td><td>molecular function unknown                                      </td></tr>\n",
       "\t<tr><td>DOA1                                                            </td><td>YKL213C                                                         </td><td>Uracil                                                          </td><td>0.3                                                             </td><td> 0.14                                                           </td><td>ubiquitin-dependent protein catabolism*                         </td><td>molecular function unknown                                      </td></tr>\n",
       "\t<tr><td>KRE1                                                            </td><td>YNL322C                                                         </td><td>Uracil                                                          </td><td>0.3                                                             </td><td> 0.28                                                           </td><td>cell wall organization and biogenesis                           </td><td>structural constituent of cell wall                             </td></tr>\n",
       "\t<tr><td>MTL1                                                            </td><td>YGR023W                                                         </td><td>Uracil                                                          </td><td>0.3                                                             </td><td> 0.27                                                           </td><td>cell wall organization and biogenesis                           </td><td>molecular function unknown                                      </td></tr>\n",
       "\t<tr><td>KRE9                                                            </td><td>YJL174W                                                         </td><td>Uracil                                                          </td><td>0.3                                                             </td><td> 0.43                                                           </td><td>cell wall organization and biogenesis*                          </td><td>molecular function unknown                                      </td></tr>\n",
       "\t<tr><td>UTH1                                                            </td><td>YKR042W                                                         </td><td>Uracil                                                          </td><td>0.3                                                             </td><td> 0.19                                                           </td><td>mitochondrion organization and biogenesis*                      </td><td>molecular function unknown                                      </td></tr>\n",
       "\t<tr><td>NA                                                              </td><td>YOL111C                                                         </td><td>Uracil                                                          </td><td>0.3                                                             </td><td> 0.04                                                           </td><td>biological process unknown                                      </td><td>molecular function unknown                                      </td></tr>\n",
       "</tbody>\n",
       "</table>\n"
      ],
      "text/latex": [
       "\\begin{tabular}{r|lllllll}\n",
       " symbol & systematic\\_name & nutrient & rate & expression & bp & mf\\\\\n",
       "\\hline\n",
       "\t SFB2                                                                       & YNL049C                                                                    & Glucose                                                                    & 0.05                                                                       & -0.24                                                                      & ER to Golgi transport                                                      & molecular function unknown                                                \\\\\n",
       "\t NA                                                                         & YNL095C                                                                    & Glucose                                                                    & 0.05                                                                       &  0.28                                                                      & biological process unknown                                                 & molecular function unknown                                                \\\\\n",
       "\t QRI7                                                                       & YDL104C                                                                    & Glucose                                                                    & 0.05                                                                       & -0.02                                                                      & proteolysis and peptidolysis                                               & metalloendopeptidase activity                                             \\\\\n",
       "\t CFT2                                                                       & YLR115W                                                                    & Glucose                                                                    & 0.05                                                                       & -0.33                                                                      & mRNA polyadenylylation*                                                    & RNA binding                                                               \\\\\n",
       "\t SSO2                                                                       & YMR183C                                                                    & Glucose                                                                    & 0.05                                                                       &  0.05                                                                      & vesicle fusion*                                                            & t-SNARE activity                                                          \\\\\n",
       "\t PSP2                                                                       & YML017W                                                                    & Glucose                                                                    & 0.05                                                                       & -0.69                                                                      & biological process unknown                                                 & molecular function unknown                                                \\\\\n",
       "\t RIB2                                                                       & YOL066C                                                                    & Glucose                                                                    & 0.05                                                                       & -0.55                                                                      & riboflavin biosynthesis                                                    & pseudouridylate synthase activity*                                        \\\\\n",
       "\t VMA13                                                                      & YPR036W                                                                    & Glucose                                                                    & 0.05                                                                       & -0.75                                                                      & vacuolar acidification                                                     & hydrogen-transporting ATPase activity, rotational mechanism               \\\\\n",
       "\t EDC3                                                                       & YEL015W                                                                    & Glucose                                                                    & 0.05                                                                       & -0.24                                                                      & deadenylylation-independent decapping                                      & molecular function unknown                                                \\\\\n",
       "\t VPS5                                                                       & YOR069W                                                                    & Glucose                                                                    & 0.05                                                                       & -0.16                                                                      & protein retention in Golgi*                                                & protein transporter activity                                              \\\\\n",
       "\t NA                                                                         & YOL029C                                                                    & Glucose                                                                    & 0.05                                                                       & -0.22                                                                      & biological process unknown                                                 & molecular function unknown                                                \\\\\n",
       "\t AMN1                                                                       & YBR158W                                                                    & Glucose                                                                    & 0.05                                                                       &  0.18                                                                      & negative regulation of exit from mitosis*                                  & protein binding                                                           \\\\\n",
       "\t SCW11                                                                      & YGL028C                                                                    & Glucose                                                                    & 0.05                                                                       & -0.67                                                                      & cytokinesis, completion of separation                                      & glucan 1,3-beta-glucosidase activity                                      \\\\\n",
       "\t DSE2                                                                       & YHR143W                                                                    & Glucose                                                                    & 0.05                                                                       & -0.59                                                                      & cell wall organization and biogenesis*                                     & glucan 1,3-beta-glucosidase activity                                      \\\\\n",
       "\t COX15                                                                      & YER141W                                                                    & Glucose                                                                    & 0.05                                                                       & -0.28                                                                      & cytochrome c oxidase complex assembly*                                     & oxidoreductase activity, acting on NADH or NADPH, heme protein as acceptor\\\\\n",
       "\t SPE1                                                                       & YKL184W                                                                    & Glucose                                                                    & 0.05                                                                       & -0.19                                                                      & pantothenate biosynthesis*                                                 & ornithine decarboxylase activity                                          \\\\\n",
       "\t MTF1                                                                       & YMR228W                                                                    & Glucose                                                                    & 0.05                                                                       & -0.42                                                                      & transcription from mitochondrial promoter                                  & S-adenosylmethionine-dependent methyltransferase activity*                \\\\\n",
       "\t KSS1                                                                       & YGR040W                                                                    & Glucose                                                                    & 0.05                                                                       & -0.76                                                                      & invasive growth (sensu Saccharomyces)*                                     & MAP kinase activity                                                       \\\\\n",
       "\t NA                                                                         & YHR036W                                                                    & Glucose                                                                    & 0.05                                                                       & -0.91                                                                      & biological process unknown                                                 & molecular function unknown                                                \\\\\n",
       "\t NA                                                                         & YNL158W                                                                    & Glucose                                                                    & 0.05                                                                       & -0.47                                                                      & biological process unknown                                                 & molecular function unknown                                                \\\\\n",
       "\t YAP7                                                                       & YOL028C                                                                    & Glucose                                                                    & 0.05                                                                       & -0.51                                                                      & positive regulation of transcription from RNA polymerase II promoter       & RNA polymerase II transcription factor activity                           \\\\\n",
       "\t NA                                                                         & YBR074W                                                                    & Glucose                                                                    & 0.05                                                                       & -1.01                                                                      & proteolysis and peptidolysis                                               & metalloendopeptidase activity                                             \\\\\n",
       "\t YVC1                                                                       & YOR087W                                                                    & Glucose                                                                    & 0.05                                                                       & -0.40                                                                      & cation homeostasis                                                         & calcium channel activity*                                                 \\\\\n",
       "\t CDC40                                                                      & YDR364C                                                                    & Glucose                                                                    & 0.05                                                                       & -0.19                                                                      & nuclear mRNA splicing, via spliceosome*                                    & RNA splicing factor activity, transesterification mechanism*              \\\\\n",
       "\t NA                                                                         & YPL162C                                                                    & Glucose                                                                    & 0.05                                                                       & -0.10                                                                      & biological process unknown                                                 & molecular function unknown                                                \\\\\n",
       "\t RMD1                                                                       & YDL001W                                                                    & Glucose                                                                    & 0.05                                                                       & -0.22                                                                      & biological process unknown                                                 & molecular function unknown                                                \\\\\n",
       "\t PCL6                                                                       & YER059W                                                                    & Glucose                                                                    & 0.05                                                                       & -0.25                                                                      & regulation of glycogen biosynthesis*                                       & cyclin-dependent protein kinase regulator activity                        \\\\\n",
       "\t AI4                                                                        & Q0065                                                                      & Glucose                                                                    & 0.05                                                                       & -0.36                                                                      & RNA splicing*                                                              & endonuclease activity                                                     \\\\\n",
       "\t GGC1                                                                       & YDL198C                                                                    & Glucose                                                                    & 0.05                                                                       &  0.76                                                                      & mitochondrial genome maintenance*                                          & guanine nucleotide transporter activity                                   \\\\\n",
       "\t SUL1                                                                       & YBR294W                                                                    & Glucose                                                                    & 0.05                                                                       & -0.32                                                                      & sulfate transport                                                          & sulfate transporter activity                                              \\\\\n",
       "\t ... & ... & ... & ... & ... & ... & ...\\\\\n",
       "\t NA                                                               & YNL046W                                                          & Uracil                                                           & 0.3                                                              &  0.36                                                            & biological process unknown                                       & molecular function unknown                                      \\\\\n",
       "\t RPS0B                                                            & YLR048W                                                          & Uracil                                                           & 0.3                                                              &  0.30                                                            & protein biosynthesis*                                            & structural constituent of ribosome                              \\\\\n",
       "\t COS12                                                            & YGL263W                                                          & Uracil                                                           & 0.3                                                              &  1.33                                                            & biological process unknown                                       & molecular function unknown                                      \\\\\n",
       "\t NA                                                               & YNR065C                                                          & Uracil                                                           & 0.3                                                              &  0.34                                                            & biological process unknown                                       & molecular function unknown                                      \\\\\n",
       "\t IZH1                                                             & YDR492W                                                          & Uracil                                                           & 0.3                                                              &  0.44                                                            & lipid metabolism*                                                & metal ion binding                                               \\\\\n",
       "\t NA                                                               & YPR064W                                                          & Uracil                                                           & 0.3                                                              &  0.27                                                            & NA                                                               & NA                                                              \\\\\n",
       "\t IZH4                                                             & YOL101C                                                          & Uracil                                                           & 0.3                                                              &  1.15                                                            & lipid metabolism*                                                & metal ion binding                                               \\\\\n",
       "\t PST1                                                             & YDR055W                                                          & Uracil                                                           & 0.3                                                              &  0.64                                                            & cell wall organization and biogenesis                            & molecular function unknown                                      \\\\\n",
       "\t PRM10                                                            & YJL108C                                                          & Uracil                                                           & 0.3                                                              &  0.54                                                            & conjugation with cellular fusion                                 & molecular function unknown                                      \\\\\n",
       "\t NA                                                               & YJL107C                                                          & Uracil                                                           & 0.3                                                              &  0.48                                                            & biological process unknown                                       & molecular function unknown                                      \\\\\n",
       "\t SFA1                                                             & YDL168W                                                          & Uracil                                                           & 0.3                                                              &  0.32                                                            & formaldehyde catabolism                                          & alcohol dehydrogenase activity*                                 \\\\\n",
       "\t CAP2                                                             & YIL034C                                                          & Uracil                                                           & 0.3                                                              &  0.14                                                            & filamentous growth*                                              & actin filament binding                                          \\\\\n",
       "\t NA                                                               & YMR122W-A                                                        & Uracil                                                           & 0.3                                                              &  0.49                                                            & biological process unknown                                       & molecular function unknown                                      \\\\\n",
       "\t CIS3                                                             & YJL158C                                                          & Uracil                                                           & 0.3                                                              &  0.32                                                            & cell wall organization and biogenesis                            & structural constituent of cell wall                             \\\\\n",
       "\t NA                                                               & YPR012W                                                          & Uracil                                                           & 0.3                                                              &  0.27                                                            & NA                                                               & NA                                                              \\\\\n",
       "\t RGS2                                                             & YOR107W                                                          & Uracil                                                           & 0.3                                                              & -0.08                                                            & G-protein signaling, coupled to cAMP nucleotide second messenger & GTPase activator activity                                       \\\\\n",
       "\t NA                                                               & YPR117W                                                          & Uracil                                                           & 0.3                                                              & -0.16                                                            & biological process unknown                                       & molecular function unknown                                      \\\\\n",
       "\t NA                                                               & YPR150W                                                          & Uracil                                                           & 0.3                                                              &  0.09                                                            & NA                                                               & NA                                                              \\\\\n",
       "\t CSG2                                                             & YBR036C                                                          & Uracil                                                           & 0.3                                                              & -0.01                                                            & calcium ion homeostasis*                                         & enzyme regulator activity                                       \\\\\n",
       "\t SPO11                                                            & YHL022C                                                          & Uracil                                                           & 0.3                                                              & -0.34                                                            & meiotic DNA double-strand break formation                        & endodeoxyribonuclease activity, producing 3'-phosphomonoesters  \\\\\n",
       "\t CHO1                                                             & YER026C                                                          & Uracil                                                           & 0.3                                                              & -0.20                                                            & phosphatidylserine biosynthesis                                  & CDP-diacylglycerol-serine O-phosphatidyltransferase activity    \\\\\n",
       "\t WSC2                                                             & YNL283C                                                          & Uracil                                                           & 0.3                                                              & -0.21                                                            & cell wall organization and biogenesis*                           & transmembrane receptor activity                                 \\\\\n",
       "\t MYO2                                                             & YOR326W                                                          & Uracil                                                           & 0.3                                                              & -0.04                                                            & endocytosis*                                                     & microfilament motor activity                                    \\\\\n",
       "\t NA                                                               & YPL066W                                                          & Uracil                                                           & 0.3                                                              &  0.15                                                            & biological process unknown                                       & molecular function unknown                                      \\\\\n",
       "\t DOA1                                                             & YKL213C                                                          & Uracil                                                           & 0.3                                                              &  0.14                                                            & ubiquitin-dependent protein catabolism*                          & molecular function unknown                                      \\\\\n",
       "\t KRE1                                                             & YNL322C                                                          & Uracil                                                           & 0.3                                                              &  0.28                                                            & cell wall organization and biogenesis                            & structural constituent of cell wall                             \\\\\n",
       "\t MTL1                                                             & YGR023W                                                          & Uracil                                                           & 0.3                                                              &  0.27                                                            & cell wall organization and biogenesis                            & molecular function unknown                                      \\\\\n",
       "\t KRE9                                                             & YJL174W                                                          & Uracil                                                           & 0.3                                                              &  0.43                                                            & cell wall organization and biogenesis*                           & molecular function unknown                                      \\\\\n",
       "\t UTH1                                                             & YKR042W                                                          & Uracil                                                           & 0.3                                                              &  0.19                                                            & mitochondrion organization and biogenesis*                       & molecular function unknown                                      \\\\\n",
       "\t NA                                                               & YOL111C                                                          & Uracil                                                           & 0.3                                                              &  0.04                                                            & biological process unknown                                       & molecular function unknown                                      \\\\\n",
       "\\end{tabular}\n"
      ],
      "text/markdown": [
       "\n",
       "symbol | systematic_name | nutrient | rate | expression | bp | mf | \n",
       "|---|---|---|---|---|---|---|---|---|---|---|---|---|---|---|---|---|---|---|---|---|---|---|---|---|---|---|---|---|---|---|---|---|---|---|---|---|---|---|---|---|---|---|---|---|---|---|---|---|---|---|---|---|---|---|---|---|---|---|---|---|\n",
       "| SFB2                                                                       | YNL049C                                                                    | Glucose                                                                    | 0.05                                                                       | -0.24                                                                      | ER to Golgi transport                                                      | molecular function unknown                                                 | \n",
       "| NA                                                                         | YNL095C                                                                    | Glucose                                                                    | 0.05                                                                       |  0.28                                                                      | biological process unknown                                                 | molecular function unknown                                                 | \n",
       "| QRI7                                                                       | YDL104C                                                                    | Glucose                                                                    | 0.05                                                                       | -0.02                                                                      | proteolysis and peptidolysis                                               | metalloendopeptidase activity                                              | \n",
       "| CFT2                                                                       | YLR115W                                                                    | Glucose                                                                    | 0.05                                                                       | -0.33                                                                      | mRNA polyadenylylation*                                                    | RNA binding                                                                | \n",
       "| SSO2                                                                       | YMR183C                                                                    | Glucose                                                                    | 0.05                                                                       |  0.05                                                                      | vesicle fusion*                                                            | t-SNARE activity                                                           | \n",
       "| PSP2                                                                       | YML017W                                                                    | Glucose                                                                    | 0.05                                                                       | -0.69                                                                      | biological process unknown                                                 | molecular function unknown                                                 | \n",
       "| RIB2                                                                       | YOL066C                                                                    | Glucose                                                                    | 0.05                                                                       | -0.55                                                                      | riboflavin biosynthesis                                                    | pseudouridylate synthase activity*                                         | \n",
       "| VMA13                                                                      | YPR036W                                                                    | Glucose                                                                    | 0.05                                                                       | -0.75                                                                      | vacuolar acidification                                                     | hydrogen-transporting ATPase activity, rotational mechanism                | \n",
       "| EDC3                                                                       | YEL015W                                                                    | Glucose                                                                    | 0.05                                                                       | -0.24                                                                      | deadenylylation-independent decapping                                      | molecular function unknown                                                 | \n",
       "| VPS5                                                                       | YOR069W                                                                    | Glucose                                                                    | 0.05                                                                       | -0.16                                                                      | protein retention in Golgi*                                                | protein transporter activity                                               | \n",
       "| NA                                                                         | YOL029C                                                                    | Glucose                                                                    | 0.05                                                                       | -0.22                                                                      | biological process unknown                                                 | molecular function unknown                                                 | \n",
       "| AMN1                                                                       | YBR158W                                                                    | Glucose                                                                    | 0.05                                                                       |  0.18                                                                      | negative regulation of exit from mitosis*                                  | protein binding                                                            | \n",
       "| SCW11                                                                      | YGL028C                                                                    | Glucose                                                                    | 0.05                                                                       | -0.67                                                                      | cytokinesis, completion of separation                                      | glucan 1,3-beta-glucosidase activity                                       | \n",
       "| DSE2                                                                       | YHR143W                                                                    | Glucose                                                                    | 0.05                                                                       | -0.59                                                                      | cell wall organization and biogenesis*                                     | glucan 1,3-beta-glucosidase activity                                       | \n",
       "| COX15                                                                      | YER141W                                                                    | Glucose                                                                    | 0.05                                                                       | -0.28                                                                      | cytochrome c oxidase complex assembly*                                     | oxidoreductase activity, acting on NADH or NADPH, heme protein as acceptor | \n",
       "| SPE1                                                                       | YKL184W                                                                    | Glucose                                                                    | 0.05                                                                       | -0.19                                                                      | pantothenate biosynthesis*                                                 | ornithine decarboxylase activity                                           | \n",
       "| MTF1                                                                       | YMR228W                                                                    | Glucose                                                                    | 0.05                                                                       | -0.42                                                                      | transcription from mitochondrial promoter                                  | S-adenosylmethionine-dependent methyltransferase activity*                 | \n",
       "| KSS1                                                                       | YGR040W                                                                    | Glucose                                                                    | 0.05                                                                       | -0.76                                                                      | invasive growth (sensu Saccharomyces)*                                     | MAP kinase activity                                                        | \n",
       "| NA                                                                         | YHR036W                                                                    | Glucose                                                                    | 0.05                                                                       | -0.91                                                                      | biological process unknown                                                 | molecular function unknown                                                 | \n",
       "| NA                                                                         | YNL158W                                                                    | Glucose                                                                    | 0.05                                                                       | -0.47                                                                      | biological process unknown                                                 | molecular function unknown                                                 | \n",
       "| YAP7                                                                       | YOL028C                                                                    | Glucose                                                                    | 0.05                                                                       | -0.51                                                                      | positive regulation of transcription from RNA polymerase II promoter       | RNA polymerase II transcription factor activity                            | \n",
       "| NA                                                                         | YBR074W                                                                    | Glucose                                                                    | 0.05                                                                       | -1.01                                                                      | proteolysis and peptidolysis                                               | metalloendopeptidase activity                                              | \n",
       "| YVC1                                                                       | YOR087W                                                                    | Glucose                                                                    | 0.05                                                                       | -0.40                                                                      | cation homeostasis                                                         | calcium channel activity*                                                  | \n",
       "| CDC40                                                                      | YDR364C                                                                    | Glucose                                                                    | 0.05                                                                       | -0.19                                                                      | nuclear mRNA splicing, via spliceosome*                                    | RNA splicing factor activity, transesterification mechanism*               | \n",
       "| NA                                                                         | YPL162C                                                                    | Glucose                                                                    | 0.05                                                                       | -0.10                                                                      | biological process unknown                                                 | molecular function unknown                                                 | \n",
       "| RMD1                                                                       | YDL001W                                                                    | Glucose                                                                    | 0.05                                                                       | -0.22                                                                      | biological process unknown                                                 | molecular function unknown                                                 | \n",
       "| PCL6                                                                       | YER059W                                                                    | Glucose                                                                    | 0.05                                                                       | -0.25                                                                      | regulation of glycogen biosynthesis*                                       | cyclin-dependent protein kinase regulator activity                         | \n",
       "| AI4                                                                        | Q0065                                                                      | Glucose                                                                    | 0.05                                                                       | -0.36                                                                      | RNA splicing*                                                              | endonuclease activity                                                      | \n",
       "| GGC1                                                                       | YDL198C                                                                    | Glucose                                                                    | 0.05                                                                       |  0.76                                                                      | mitochondrial genome maintenance*                                          | guanine nucleotide transporter activity                                    | \n",
       "| SUL1                                                                       | YBR294W                                                                    | Glucose                                                                    | 0.05                                                                       | -0.32                                                                      | sulfate transport                                                          | sulfate transporter activity                                               | \n",
       "| ... | ... | ... | ... | ... | ... | ... | \n",
       "| NA                                                               | YNL046W                                                          | Uracil                                                           | 0.3                                                              |  0.36                                                            | biological process unknown                                       | molecular function unknown                                       | \n",
       "| RPS0B                                                            | YLR048W                                                          | Uracil                                                           | 0.3                                                              |  0.30                                                            | protein biosynthesis*                                            | structural constituent of ribosome                               | \n",
       "| COS12                                                            | YGL263W                                                          | Uracil                                                           | 0.3                                                              |  1.33                                                            | biological process unknown                                       | molecular function unknown                                       | \n",
       "| NA                                                               | YNR065C                                                          | Uracil                                                           | 0.3                                                              |  0.34                                                            | biological process unknown                                       | molecular function unknown                                       | \n",
       "| IZH1                                                             | YDR492W                                                          | Uracil                                                           | 0.3                                                              |  0.44                                                            | lipid metabolism*                                                | metal ion binding                                                | \n",
       "| NA                                                               | YPR064W                                                          | Uracil                                                           | 0.3                                                              |  0.27                                                            | NA                                                               | NA                                                               | \n",
       "| IZH4                                                             | YOL101C                                                          | Uracil                                                           | 0.3                                                              |  1.15                                                            | lipid metabolism*                                                | metal ion binding                                                | \n",
       "| PST1                                                             | YDR055W                                                          | Uracil                                                           | 0.3                                                              |  0.64                                                            | cell wall organization and biogenesis                            | molecular function unknown                                       | \n",
       "| PRM10                                                            | YJL108C                                                          | Uracil                                                           | 0.3                                                              |  0.54                                                            | conjugation with cellular fusion                                 | molecular function unknown                                       | \n",
       "| NA                                                               | YJL107C                                                          | Uracil                                                           | 0.3                                                              |  0.48                                                            | biological process unknown                                       | molecular function unknown                                       | \n",
       "| SFA1                                                             | YDL168W                                                          | Uracil                                                           | 0.3                                                              |  0.32                                                            | formaldehyde catabolism                                          | alcohol dehydrogenase activity*                                  | \n",
       "| CAP2                                                             | YIL034C                                                          | Uracil                                                           | 0.3                                                              |  0.14                                                            | filamentous growth*                                              | actin filament binding                                           | \n",
       "| NA                                                               | YMR122W-A                                                        | Uracil                                                           | 0.3                                                              |  0.49                                                            | biological process unknown                                       | molecular function unknown                                       | \n",
       "| CIS3                                                             | YJL158C                                                          | Uracil                                                           | 0.3                                                              |  0.32                                                            | cell wall organization and biogenesis                            | structural constituent of cell wall                              | \n",
       "| NA                                                               | YPR012W                                                          | Uracil                                                           | 0.3                                                              |  0.27                                                            | NA                                                               | NA                                                               | \n",
       "| RGS2                                                             | YOR107W                                                          | Uracil                                                           | 0.3                                                              | -0.08                                                            | G-protein signaling, coupled to cAMP nucleotide second messenger | GTPase activator activity                                        | \n",
       "| NA                                                               | YPR117W                                                          | Uracil                                                           | 0.3                                                              | -0.16                                                            | biological process unknown                                       | molecular function unknown                                       | \n",
       "| NA                                                               | YPR150W                                                          | Uracil                                                           | 0.3                                                              |  0.09                                                            | NA                                                               | NA                                                               | \n",
       "| CSG2                                                             | YBR036C                                                          | Uracil                                                           | 0.3                                                              | -0.01                                                            | calcium ion homeostasis*                                         | enzyme regulator activity                                        | \n",
       "| SPO11                                                            | YHL022C                                                          | Uracil                                                           | 0.3                                                              | -0.34                                                            | meiotic DNA double-strand break formation                        | endodeoxyribonuclease activity, producing 3'-phosphomonoesters   | \n",
       "| CHO1                                                             | YER026C                                                          | Uracil                                                           | 0.3                                                              | -0.20                                                            | phosphatidylserine biosynthesis                                  | CDP-diacylglycerol-serine O-phosphatidyltransferase activity     | \n",
       "| WSC2                                                             | YNL283C                                                          | Uracil                                                           | 0.3                                                              | -0.21                                                            | cell wall organization and biogenesis*                           | transmembrane receptor activity                                  | \n",
       "| MYO2                                                             | YOR326W                                                          | Uracil                                                           | 0.3                                                              | -0.04                                                            | endocytosis*                                                     | microfilament motor activity                                     | \n",
       "| NA                                                               | YPL066W                                                          | Uracil                                                           | 0.3                                                              |  0.15                                                            | biological process unknown                                       | molecular function unknown                                       | \n",
       "| DOA1                                                             | YKL213C                                                          | Uracil                                                           | 0.3                                                              |  0.14                                                            | ubiquitin-dependent protein catabolism*                          | molecular function unknown                                       | \n",
       "| KRE1                                                             | YNL322C                                                          | Uracil                                                           | 0.3                                                              |  0.28                                                            | cell wall organization and biogenesis                            | structural constituent of cell wall                              | \n",
       "| MTL1                                                             | YGR023W                                                          | Uracil                                                           | 0.3                                                              |  0.27                                                            | cell wall organization and biogenesis                            | molecular function unknown                                       | \n",
       "| KRE9                                                             | YJL174W                                                          | Uracil                                                           | 0.3                                                              |  0.43                                                            | cell wall organization and biogenesis*                           | molecular function unknown                                       | \n",
       "| UTH1                                                             | YKR042W                                                          | Uracil                                                           | 0.3                                                              |  0.19                                                            | mitochondrion organization and biogenesis*                       | molecular function unknown                                       | \n",
       "| NA                                                               | YOL111C                                                          | Uracil                                                           | 0.3                                                              |  0.04                                                            | biological process unknown                                       | molecular function unknown                                       | \n",
       "\n",
       "\n"
      ],
      "text/plain": [
       "       symbol systematic_name nutrient rate expression\n",
       "1      SFB2   YNL049C         Glucose  0.05 -0.24     \n",
       "2      NA     YNL095C         Glucose  0.05  0.28     \n",
       "3      QRI7   YDL104C         Glucose  0.05 -0.02     \n",
       "4      CFT2   YLR115W         Glucose  0.05 -0.33     \n",
       "5      SSO2   YMR183C         Glucose  0.05  0.05     \n",
       "6      PSP2   YML017W         Glucose  0.05 -0.69     \n",
       "7      RIB2   YOL066C         Glucose  0.05 -0.55     \n",
       "8      VMA13  YPR036W         Glucose  0.05 -0.75     \n",
       "9      EDC3   YEL015W         Glucose  0.05 -0.24     \n",
       "10     VPS5   YOR069W         Glucose  0.05 -0.16     \n",
       "11     NA     YOL029C         Glucose  0.05 -0.22     \n",
       "12     AMN1   YBR158W         Glucose  0.05  0.18     \n",
       "13     SCW11  YGL028C         Glucose  0.05 -0.67     \n",
       "14     DSE2   YHR143W         Glucose  0.05 -0.59     \n",
       "15     COX15  YER141W         Glucose  0.05 -0.28     \n",
       "16     SPE1   YKL184W         Glucose  0.05 -0.19     \n",
       "17     MTF1   YMR228W         Glucose  0.05 -0.42     \n",
       "18     KSS1   YGR040W         Glucose  0.05 -0.76     \n",
       "19     NA     YHR036W         Glucose  0.05 -0.91     \n",
       "20     NA     YNL158W         Glucose  0.05 -0.47     \n",
       "21     YAP7   YOL028C         Glucose  0.05 -0.51     \n",
       "22     NA     YBR074W         Glucose  0.05 -1.01     \n",
       "23     YVC1   YOR087W         Glucose  0.05 -0.40     \n",
       "24     CDC40  YDR364C         Glucose  0.05 -0.19     \n",
       "25     NA     YPL162C         Glucose  0.05 -0.10     \n",
       "26     RMD1   YDL001W         Glucose  0.05 -0.22     \n",
       "27     PCL6   YER059W         Glucose  0.05 -0.25     \n",
       "28     AI4    Q0065           Glucose  0.05 -0.36     \n",
       "29     GGC1   YDL198C         Glucose  0.05  0.76     \n",
       "30     SUL1   YBR294W         Glucose  0.05 -0.32     \n",
       "...    ...    ...             ...      ...  ...       \n",
       "198401 NA     YNL046W         Uracil   0.3   0.36     \n",
       "198402 RPS0B  YLR048W         Uracil   0.3   0.30     \n",
       "198403 COS12  YGL263W         Uracil   0.3   1.33     \n",
       "198404 NA     YNR065C         Uracil   0.3   0.34     \n",
       "198405 IZH1   YDR492W         Uracil   0.3   0.44     \n",
       "198406 NA     YPR064W         Uracil   0.3   0.27     \n",
       "198407 IZH4   YOL101C         Uracil   0.3   1.15     \n",
       "198408 PST1   YDR055W         Uracil   0.3   0.64     \n",
       "198409 PRM10  YJL108C         Uracil   0.3   0.54     \n",
       "198410 NA     YJL107C         Uracil   0.3   0.48     \n",
       "198411 SFA1   YDL168W         Uracil   0.3   0.32     \n",
       "198412 CAP2   YIL034C         Uracil   0.3   0.14     \n",
       "198413 NA     YMR122W-A       Uracil   0.3   0.49     \n",
       "198414 CIS3   YJL158C         Uracil   0.3   0.32     \n",
       "198415 NA     YPR012W         Uracil   0.3   0.27     \n",
       "198416 RGS2   YOR107W         Uracil   0.3  -0.08     \n",
       "198417 NA     YPR117W         Uracil   0.3  -0.16     \n",
       "198418 NA     YPR150W         Uracil   0.3   0.09     \n",
       "198419 CSG2   YBR036C         Uracil   0.3  -0.01     \n",
       "198420 SPO11  YHL022C         Uracil   0.3  -0.34     \n",
       "198421 CHO1   YER026C         Uracil   0.3  -0.20     \n",
       "198422 WSC2   YNL283C         Uracil   0.3  -0.21     \n",
       "198423 MYO2   YOR326W         Uracil   0.3  -0.04     \n",
       "198424 NA     YPL066W         Uracil   0.3   0.15     \n",
       "198425 DOA1   YKL213C         Uracil   0.3   0.14     \n",
       "198426 KRE1   YNL322C         Uracil   0.3   0.28     \n",
       "198427 MTL1   YGR023W         Uracil   0.3   0.27     \n",
       "198428 KRE9   YJL174W         Uracil   0.3   0.43     \n",
       "198429 UTH1   YKR042W         Uracil   0.3   0.19     \n",
       "198430 NA     YOL111C         Uracil   0.3   0.04     \n",
       "       bp                                                                  \n",
       "1      ER to Golgi transport                                               \n",
       "2      biological process unknown                                          \n",
       "3      proteolysis and peptidolysis                                        \n",
       "4      mRNA polyadenylylation*                                             \n",
       "5      vesicle fusion*                                                     \n",
       "6      biological process unknown                                          \n",
       "7      riboflavin biosynthesis                                             \n",
       "8      vacuolar acidification                                              \n",
       "9      deadenylylation-independent decapping                               \n",
       "10     protein retention in Golgi*                                         \n",
       "11     biological process unknown                                          \n",
       "12     negative regulation of exit from mitosis*                           \n",
       "13     cytokinesis, completion of separation                               \n",
       "14     cell wall organization and biogenesis*                              \n",
       "15     cytochrome c oxidase complex assembly*                              \n",
       "16     pantothenate biosynthesis*                                          \n",
       "17     transcription from mitochondrial promoter                           \n",
       "18     invasive growth (sensu Saccharomyces)*                              \n",
       "19     biological process unknown                                          \n",
       "20     biological process unknown                                          \n",
       "21     positive regulation of transcription from RNA polymerase II promoter\n",
       "22     proteolysis and peptidolysis                                        \n",
       "23     cation homeostasis                                                  \n",
       "24     nuclear mRNA splicing, via spliceosome*                             \n",
       "25     biological process unknown                                          \n",
       "26     biological process unknown                                          \n",
       "27     regulation of glycogen biosynthesis*                                \n",
       "28     RNA splicing*                                                       \n",
       "29     mitochondrial genome maintenance*                                   \n",
       "30     sulfate transport                                                   \n",
       "...    ...                                                                 \n",
       "198401 biological process unknown                                          \n",
       "198402 protein biosynthesis*                                               \n",
       "198403 biological process unknown                                          \n",
       "198404 biological process unknown                                          \n",
       "198405 lipid metabolism*                                                   \n",
       "198406 NA                                                                  \n",
       "198407 lipid metabolism*                                                   \n",
       "198408 cell wall organization and biogenesis                               \n",
       "198409 conjugation with cellular fusion                                    \n",
       "198410 biological process unknown                                          \n",
       "198411 formaldehyde catabolism                                             \n",
       "198412 filamentous growth*                                                 \n",
       "198413 biological process unknown                                          \n",
       "198414 cell wall organization and biogenesis                               \n",
       "198415 NA                                                                  \n",
       "198416 G-protein signaling, coupled to cAMP nucleotide second messenger    \n",
       "198417 biological process unknown                                          \n",
       "198418 NA                                                                  \n",
       "198419 calcium ion homeostasis*                                            \n",
       "198420 meiotic DNA double-strand break formation                           \n",
       "198421 phosphatidylserine biosynthesis                                     \n",
       "198422 cell wall organization and biogenesis*                              \n",
       "198423 endocytosis*                                                        \n",
       "198424 biological process unknown                                          \n",
       "198425 ubiquitin-dependent protein catabolism*                             \n",
       "198426 cell wall organization and biogenesis                               \n",
       "198427 cell wall organization and biogenesis                               \n",
       "198428 cell wall organization and biogenesis*                              \n",
       "198429 mitochondrion organization and biogenesis*                          \n",
       "198430 biological process unknown                                          \n",
       "       mf                                                                        \n",
       "1      molecular function unknown                                                \n",
       "2      molecular function unknown                                                \n",
       "3      metalloendopeptidase activity                                             \n",
       "4      RNA binding                                                               \n",
       "5      t-SNARE activity                                                          \n",
       "6      molecular function unknown                                                \n",
       "7      pseudouridylate synthase activity*                                        \n",
       "8      hydrogen-transporting ATPase activity, rotational mechanism               \n",
       "9      molecular function unknown                                                \n",
       "10     protein transporter activity                                              \n",
       "11     molecular function unknown                                                \n",
       "12     protein binding                                                           \n",
       "13     glucan 1,3-beta-glucosidase activity                                      \n",
       "14     glucan 1,3-beta-glucosidase activity                                      \n",
       "15     oxidoreductase activity, acting on NADH or NADPH, heme protein as acceptor\n",
       "16     ornithine decarboxylase activity                                          \n",
       "17     S-adenosylmethionine-dependent methyltransferase activity*                \n",
       "18     MAP kinase activity                                                       \n",
       "19     molecular function unknown                                                \n",
       "20     molecular function unknown                                                \n",
       "21     RNA polymerase II transcription factor activity                           \n",
       "22     metalloendopeptidase activity                                             \n",
       "23     calcium channel activity*                                                 \n",
       "24     RNA splicing factor activity, transesterification mechanism*              \n",
       "25     molecular function unknown                                                \n",
       "26     molecular function unknown                                                \n",
       "27     cyclin-dependent protein kinase regulator activity                        \n",
       "28     endonuclease activity                                                     \n",
       "29     guanine nucleotide transporter activity                                   \n",
       "30     sulfate transporter activity                                              \n",
       "...    ...                                                                       \n",
       "198401 molecular function unknown                                                \n",
       "198402 structural constituent of ribosome                                        \n",
       "198403 molecular function unknown                                                \n",
       "198404 molecular function unknown                                                \n",
       "198405 metal ion binding                                                         \n",
       "198406 NA                                                                        \n",
       "198407 metal ion binding                                                         \n",
       "198408 molecular function unknown                                                \n",
       "198409 molecular function unknown                                                \n",
       "198410 molecular function unknown                                                \n",
       "198411 alcohol dehydrogenase activity*                                           \n",
       "198412 actin filament binding                                                    \n",
       "198413 molecular function unknown                                                \n",
       "198414 structural constituent of cell wall                                       \n",
       "198415 NA                                                                        \n",
       "198416 GTPase activator activity                                                 \n",
       "198417 molecular function unknown                                                \n",
       "198418 NA                                                                        \n",
       "198419 enzyme regulator activity                                                 \n",
       "198420 endodeoxyribonuclease activity, producing 3'-phosphomonoesters            \n",
       "198421 CDP-diacylglycerol-serine O-phosphatidyltransferase activity              \n",
       "198422 transmembrane receptor activity                                           \n",
       "198423 microfilament motor activity                                              \n",
       "198424 molecular function unknown                                                \n",
       "198425 molecular function unknown                                                \n",
       "198426 structural constituent of cell wall                                       \n",
       "198427 molecular function unknown                                                \n",
       "198428 molecular function unknown                                                \n",
       "198429 molecular function unknown                                                \n",
       "198430 molecular function unknown                                                "
      ]
     },
     "metadata": {},
     "output_type": "display_data"
    }
   ],
   "source": [
    "# 显示数据\n",
    "ydat"
   ]
  },
  {
   "cell_type": "code",
   "execution_count": 36,
   "metadata": {
    "collapsed": true
   },
   "outputs": [],
   "source": [
    "# 如果你觉得看得不爽，可以直接在Rstudio的交互式窗口看\n",
    "# View(ydat)"
   ]
  },
  {
   "cell_type": "markdown",
   "metadata": {},
   "source": [
    "## dplyr包\n",
    "\n",
    "[`dplyr`包](https://github.com/hadley/dplyr)是一个相对比较新的R包，它使得数据操作变得更快更简单。它引入了所谓的`magrittr`包的功能特性，使得我们可以将所有的命令串成一个管道，这将改变我们对思考问题进行编写程序的方式。"
   ]
  },
  {
   "cell_type": "markdown",
   "metadata": {},
   "source": [
    "当我们使用`read_csv()`函数读入数据的时候会自动加载`dplyr`包，读入的数据将被存为一个特殊的数据框，称为`tbl`（发音为\"tibble\"），这个可以使用`class(ydat)`进行查看。如果你有其他的标准表格数据，可以使用`as_tibble()`函数将它转换为`tbl`，它的数据显示效果更好。\n",
    "\n",
    "除了上面我介绍的tibble，还可以查看[`tibbles vignette`](https://cran.r-project.org/web/packages/tibble/vignettes/tibble.html)。"
   ]
  },
  {
   "cell_type": "markdown",
   "metadata": {},
   "source": [
    "## dplyr动词\n",
    "\n",
    "dplyr包给出了一些有用的**动词**用于管理数据。下面是一些我们这篇文章内容中会使用的*单表格*动词。（**单表格**动词意思是只处理单个表格的动词——相比于**双表格**动词用于连接数据）\n",
    "\n",
    "1. `filter()`\n",
    "2. `select()`\n",
    "3. `mutate()`\n",
    "4. `arrange()`\n",
    "5. `summarize()`\n",
    "6. `group_by()`\n",
    "\n",
    "这些函数的第一个输入参数都是数据框或者tibble，它们都会返回一个数据框或者tibble作为结果输出。"
   ]
  },
  {
   "cell_type": "markdown",
   "metadata": {},
   "source": [
    "### filter()\n",
    "\n",
    "如果你想要过滤数据中一些条件是真的**行**，使用`filter()`函数。\n",
    "\n",
    "第一个参数是输入数据集，第二个是条件。"
   ]
  },
  {
   "cell_type": "markdown",
   "metadata": {},
   "source": [
    "下面让我们实际操作一下，看一下[LEU1](http://www.yeastgenome.org/locus/Leu1/overview)，一个涉及白氨酸合成的基因。"
   ]
  },
  {
   "cell_type": "code",
   "execution_count": 37,
   "metadata": {},
   "outputs": [
    {
     "data": {
      "text/html": [
       "<table>\n",
       "<thead><tr><th scope=col>symbol</th><th scope=col>systematic_name</th><th scope=col>nutrient</th><th scope=col>rate</th><th scope=col>expression</th><th scope=col>bp</th><th scope=col>mf</th></tr></thead>\n",
       "<tbody>\n",
       "\t<tr><td>LEU1                                  </td><td>YGL009C                               </td><td>Glucose                               </td><td>0.05                                  </td><td>-1.12                                 </td><td>leucine biosynthesis                  </td><td>3-isopropylmalate dehydratase activity</td></tr>\n",
       "\t<tr><td>LEU1                                  </td><td>YGL009C                               </td><td>Glucose                               </td><td>0.10                                  </td><td>-0.77                                 </td><td>leucine biosynthesis                  </td><td>3-isopropylmalate dehydratase activity</td></tr>\n",
       "\t<tr><td>LEU1                                  </td><td>YGL009C                               </td><td>Glucose                               </td><td>0.15                                  </td><td>-0.67                                 </td><td>leucine biosynthesis                  </td><td>3-isopropylmalate dehydratase activity</td></tr>\n",
       "\t<tr><td>LEU1                                  </td><td>YGL009C                               </td><td>Glucose                               </td><td>0.20                                  </td><td>-0.59                                 </td><td>leucine biosynthesis                  </td><td>3-isopropylmalate dehydratase activity</td></tr>\n",
       "\t<tr><td>LEU1                                  </td><td>YGL009C                               </td><td>Glucose                               </td><td>0.25                                  </td><td>-0.20                                 </td><td>leucine biosynthesis                  </td><td>3-isopropylmalate dehydratase activity</td></tr>\n",
       "\t<tr><td>LEU1                                  </td><td>YGL009C                               </td><td>Glucose                               </td><td>0.30                                  </td><td> 0.03                                 </td><td>leucine biosynthesis                  </td><td>3-isopropylmalate dehydratase activity</td></tr>\n",
       "\t<tr><td>LEU1                                  </td><td>YGL009C                               </td><td>Ammonia                               </td><td>0.05                                  </td><td>-0.76                                 </td><td>leucine biosynthesis                  </td><td>3-isopropylmalate dehydratase activity</td></tr>\n",
       "\t<tr><td>LEU1                                  </td><td>YGL009C                               </td><td>Ammonia                               </td><td>0.10                                  </td><td>-1.17                                 </td><td>leucine biosynthesis                  </td><td>3-isopropylmalate dehydratase activity</td></tr>\n",
       "\t<tr><td>LEU1                                  </td><td>YGL009C                               </td><td>Ammonia                               </td><td>0.15                                  </td><td>-1.20                                 </td><td>leucine biosynthesis                  </td><td>3-isopropylmalate dehydratase activity</td></tr>\n",
       "\t<tr><td>LEU1                                  </td><td>YGL009C                               </td><td>Ammonia                               </td><td>0.20                                  </td><td>-1.02                                 </td><td>leucine biosynthesis                  </td><td>3-isopropylmalate dehydratase activity</td></tr>\n",
       "\t<tr><td>LEU1                                  </td><td>YGL009C                               </td><td>Ammonia                               </td><td>0.25                                  </td><td>-0.54                                 </td><td>leucine biosynthesis                  </td><td>3-isopropylmalate dehydratase activity</td></tr>\n",
       "\t<tr><td>LEU1                                  </td><td>YGL009C                               </td><td>Ammonia                               </td><td>0.30                                  </td><td>-0.22                                 </td><td>leucine biosynthesis                  </td><td>3-isopropylmalate dehydratase activity</td></tr>\n",
       "\t<tr><td>LEU1                                  </td><td>YGL009C                               </td><td>Phosphate                             </td><td>0.05                                  </td><td>-0.81                                 </td><td>leucine biosynthesis                  </td><td>3-isopropylmalate dehydratase activity</td></tr>\n",
       "\t<tr><td>LEU1                                  </td><td>YGL009C                               </td><td>Phosphate                             </td><td>0.10                                  </td><td>-0.51                                 </td><td>leucine biosynthesis                  </td><td>3-isopropylmalate dehydratase activity</td></tr>\n",
       "\t<tr><td>LEU1                                  </td><td>YGL009C                               </td><td>Phosphate                             </td><td>0.15                                  </td><td>-0.61                                 </td><td>leucine biosynthesis                  </td><td>3-isopropylmalate dehydratase activity</td></tr>\n",
       "\t<tr><td>LEU1                                  </td><td>YGL009C                               </td><td>Phosphate                             </td><td>0.20                                  </td><td>-0.42                                 </td><td>leucine biosynthesis                  </td><td>3-isopropylmalate dehydratase activity</td></tr>\n",
       "\t<tr><td>LEU1                                  </td><td>YGL009C                               </td><td>Phosphate                             </td><td>0.25                                  </td><td>-0.18                                 </td><td>leucine biosynthesis                  </td><td>3-isopropylmalate dehydratase activity</td></tr>\n",
       "\t<tr><td>LEU1                                  </td><td>YGL009C                               </td><td>Phosphate                             </td><td>0.30                                  </td><td>-0.07                                 </td><td>leucine biosynthesis                  </td><td>3-isopropylmalate dehydratase activity</td></tr>\n",
       "\t<tr><td>LEU1                                  </td><td>YGL009C                               </td><td>Sulfate                               </td><td>0.05                                  </td><td>-1.57                                 </td><td>leucine biosynthesis                  </td><td>3-isopropylmalate dehydratase activity</td></tr>\n",
       "\t<tr><td>LEU1                                  </td><td>YGL009C                               </td><td>Sulfate                               </td><td>0.10                                  </td><td>-1.55                                 </td><td>leucine biosynthesis                  </td><td>3-isopropylmalate dehydratase activity</td></tr>\n",
       "\t<tr><td>LEU1                                  </td><td>YGL009C                               </td><td>Sulfate                               </td><td>0.15                                  </td><td>-1.16                                 </td><td>leucine biosynthesis                  </td><td>3-isopropylmalate dehydratase activity</td></tr>\n",
       "\t<tr><td>LEU1                                  </td><td>YGL009C                               </td><td>Sulfate                               </td><td>0.20                                  </td><td>-1.10                                 </td><td>leucine biosynthesis                  </td><td>3-isopropylmalate dehydratase activity</td></tr>\n",
       "\t<tr><td>LEU1                                  </td><td>YGL009C                               </td><td>Sulfate                               </td><td>0.25                                  </td><td>-0.86                                 </td><td>leucine biosynthesis                  </td><td>3-isopropylmalate dehydratase activity</td></tr>\n",
       "\t<tr><td>LEU1                                  </td><td>YGL009C                               </td><td>Sulfate                               </td><td>0.30                                  </td><td>-0.76                                 </td><td>leucine biosynthesis                  </td><td>3-isopropylmalate dehydratase activity</td></tr>\n",
       "\t<tr><td>LEU1                                  </td><td>YGL009C                               </td><td>Leucine                               </td><td>0.05                                  </td><td> 3.84                                 </td><td>leucine biosynthesis                  </td><td>3-isopropylmalate dehydratase activity</td></tr>\n",
       "\t<tr><td>LEU1                                  </td><td>YGL009C                               </td><td>Leucine                               </td><td>0.10                                  </td><td> 3.36                                 </td><td>leucine biosynthesis                  </td><td>3-isopropylmalate dehydratase activity</td></tr>\n",
       "\t<tr><td>LEU1                                  </td><td>YGL009C                               </td><td>Leucine                               </td><td>0.15                                  </td><td> 3.24                                 </td><td>leucine biosynthesis                  </td><td>3-isopropylmalate dehydratase activity</td></tr>\n",
       "\t<tr><td>LEU1                                  </td><td>YGL009C                               </td><td>Leucine                               </td><td>0.20                                  </td><td> 2.84                                 </td><td>leucine biosynthesis                  </td><td>3-isopropylmalate dehydratase activity</td></tr>\n",
       "\t<tr><td>LEU1                                  </td><td>YGL009C                               </td><td>Leucine                               </td><td>0.25                                  </td><td> 2.04                                 </td><td>leucine biosynthesis                  </td><td>3-isopropylmalate dehydratase activity</td></tr>\n",
       "\t<tr><td>LEU1                                  </td><td>YGL009C                               </td><td>Leucine                               </td><td>0.30                                  </td><td> 0.87                                 </td><td>leucine biosynthesis                  </td><td>3-isopropylmalate dehydratase activity</td></tr>\n",
       "\t<tr><td>LEU1                                  </td><td>YGL009C                               </td><td>Uracil                                </td><td>0.05                                  </td><td>-2.07                                 </td><td>leucine biosynthesis                  </td><td>3-isopropylmalate dehydratase activity</td></tr>\n",
       "\t<tr><td>LEU1                                  </td><td>YGL009C                               </td><td>Uracil                                </td><td>0.10                                  </td><td>-1.09                                 </td><td>leucine biosynthesis                  </td><td>3-isopropylmalate dehydratase activity</td></tr>\n",
       "\t<tr><td>LEU1                                  </td><td>YGL009C                               </td><td>Uracil                                </td><td>0.15                                  </td><td>-0.52                                 </td><td>leucine biosynthesis                  </td><td>3-isopropylmalate dehydratase activity</td></tr>\n",
       "\t<tr><td>LEU1                                  </td><td>YGL009C                               </td><td>Uracil                                </td><td>0.20                                  </td><td>-0.29                                 </td><td>leucine biosynthesis                  </td><td>3-isopropylmalate dehydratase activity</td></tr>\n",
       "\t<tr><td>LEU1                                  </td><td>YGL009C                               </td><td>Uracil                                </td><td>0.25                                  </td><td>-0.34                                 </td><td>leucine biosynthesis                  </td><td>3-isopropylmalate dehydratase activity</td></tr>\n",
       "\t<tr><td>LEU1                                  </td><td>YGL009C                               </td><td>Uracil                                </td><td>0.30                                  </td><td>-0.16                                 </td><td>leucine biosynthesis                  </td><td>3-isopropylmalate dehydratase activity</td></tr>\n",
       "</tbody>\n",
       "</table>\n"
      ],
      "text/latex": [
       "\\begin{tabular}{r|lllllll}\n",
       " symbol & systematic\\_name & nutrient & rate & expression & bp & mf\\\\\n",
       "\\hline\n",
       "\t LEU1                                   & YGL009C                                & Glucose                                & 0.05                                   & -1.12                                  & leucine biosynthesis                   & 3-isopropylmalate dehydratase activity\\\\\n",
       "\t LEU1                                   & YGL009C                                & Glucose                                & 0.10                                   & -0.77                                  & leucine biosynthesis                   & 3-isopropylmalate dehydratase activity\\\\\n",
       "\t LEU1                                   & YGL009C                                & Glucose                                & 0.15                                   & -0.67                                  & leucine biosynthesis                   & 3-isopropylmalate dehydratase activity\\\\\n",
       "\t LEU1                                   & YGL009C                                & Glucose                                & 0.20                                   & -0.59                                  & leucine biosynthesis                   & 3-isopropylmalate dehydratase activity\\\\\n",
       "\t LEU1                                   & YGL009C                                & Glucose                                & 0.25                                   & -0.20                                  & leucine biosynthesis                   & 3-isopropylmalate dehydratase activity\\\\\n",
       "\t LEU1                                   & YGL009C                                & Glucose                                & 0.30                                   &  0.03                                  & leucine biosynthesis                   & 3-isopropylmalate dehydratase activity\\\\\n",
       "\t LEU1                                   & YGL009C                                & Ammonia                                & 0.05                                   & -0.76                                  & leucine biosynthesis                   & 3-isopropylmalate dehydratase activity\\\\\n",
       "\t LEU1                                   & YGL009C                                & Ammonia                                & 0.10                                   & -1.17                                  & leucine biosynthesis                   & 3-isopropylmalate dehydratase activity\\\\\n",
       "\t LEU1                                   & YGL009C                                & Ammonia                                & 0.15                                   & -1.20                                  & leucine biosynthesis                   & 3-isopropylmalate dehydratase activity\\\\\n",
       "\t LEU1                                   & YGL009C                                & Ammonia                                & 0.20                                   & -1.02                                  & leucine biosynthesis                   & 3-isopropylmalate dehydratase activity\\\\\n",
       "\t LEU1                                   & YGL009C                                & Ammonia                                & 0.25                                   & -0.54                                  & leucine biosynthesis                   & 3-isopropylmalate dehydratase activity\\\\\n",
       "\t LEU1                                   & YGL009C                                & Ammonia                                & 0.30                                   & -0.22                                  & leucine biosynthesis                   & 3-isopropylmalate dehydratase activity\\\\\n",
       "\t LEU1                                   & YGL009C                                & Phosphate                              & 0.05                                   & -0.81                                  & leucine biosynthesis                   & 3-isopropylmalate dehydratase activity\\\\\n",
       "\t LEU1                                   & YGL009C                                & Phosphate                              & 0.10                                   & -0.51                                  & leucine biosynthesis                   & 3-isopropylmalate dehydratase activity\\\\\n",
       "\t LEU1                                   & YGL009C                                & Phosphate                              & 0.15                                   & -0.61                                  & leucine biosynthesis                   & 3-isopropylmalate dehydratase activity\\\\\n",
       "\t LEU1                                   & YGL009C                                & Phosphate                              & 0.20                                   & -0.42                                  & leucine biosynthesis                   & 3-isopropylmalate dehydratase activity\\\\\n",
       "\t LEU1                                   & YGL009C                                & Phosphate                              & 0.25                                   & -0.18                                  & leucine biosynthesis                   & 3-isopropylmalate dehydratase activity\\\\\n",
       "\t LEU1                                   & YGL009C                                & Phosphate                              & 0.30                                   & -0.07                                  & leucine biosynthesis                   & 3-isopropylmalate dehydratase activity\\\\\n",
       "\t LEU1                                   & YGL009C                                & Sulfate                                & 0.05                                   & -1.57                                  & leucine biosynthesis                   & 3-isopropylmalate dehydratase activity\\\\\n",
       "\t LEU1                                   & YGL009C                                & Sulfate                                & 0.10                                   & -1.55                                  & leucine biosynthesis                   & 3-isopropylmalate dehydratase activity\\\\\n",
       "\t LEU1                                   & YGL009C                                & Sulfate                                & 0.15                                   & -1.16                                  & leucine biosynthesis                   & 3-isopropylmalate dehydratase activity\\\\\n",
       "\t LEU1                                   & YGL009C                                & Sulfate                                & 0.20                                   & -1.10                                  & leucine biosynthesis                   & 3-isopropylmalate dehydratase activity\\\\\n",
       "\t LEU1                                   & YGL009C                                & Sulfate                                & 0.25                                   & -0.86                                  & leucine biosynthesis                   & 3-isopropylmalate dehydratase activity\\\\\n",
       "\t LEU1                                   & YGL009C                                & Sulfate                                & 0.30                                   & -0.76                                  & leucine biosynthesis                   & 3-isopropylmalate dehydratase activity\\\\\n",
       "\t LEU1                                   & YGL009C                                & Leucine                                & 0.05                                   &  3.84                                  & leucine biosynthesis                   & 3-isopropylmalate dehydratase activity\\\\\n",
       "\t LEU1                                   & YGL009C                                & Leucine                                & 0.10                                   &  3.36                                  & leucine biosynthesis                   & 3-isopropylmalate dehydratase activity\\\\\n",
       "\t LEU1                                   & YGL009C                                & Leucine                                & 0.15                                   &  3.24                                  & leucine biosynthesis                   & 3-isopropylmalate dehydratase activity\\\\\n",
       "\t LEU1                                   & YGL009C                                & Leucine                                & 0.20                                   &  2.84                                  & leucine biosynthesis                   & 3-isopropylmalate dehydratase activity\\\\\n",
       "\t LEU1                                   & YGL009C                                & Leucine                                & 0.25                                   &  2.04                                  & leucine biosynthesis                   & 3-isopropylmalate dehydratase activity\\\\\n",
       "\t LEU1                                   & YGL009C                                & Leucine                                & 0.30                                   &  0.87                                  & leucine biosynthesis                   & 3-isopropylmalate dehydratase activity\\\\\n",
       "\t LEU1                                   & YGL009C                                & Uracil                                 & 0.05                                   & -2.07                                  & leucine biosynthesis                   & 3-isopropylmalate dehydratase activity\\\\\n",
       "\t LEU1                                   & YGL009C                                & Uracil                                 & 0.10                                   & -1.09                                  & leucine biosynthesis                   & 3-isopropylmalate dehydratase activity\\\\\n",
       "\t LEU1                                   & YGL009C                                & Uracil                                 & 0.15                                   & -0.52                                  & leucine biosynthesis                   & 3-isopropylmalate dehydratase activity\\\\\n",
       "\t LEU1                                   & YGL009C                                & Uracil                                 & 0.20                                   & -0.29                                  & leucine biosynthesis                   & 3-isopropylmalate dehydratase activity\\\\\n",
       "\t LEU1                                   & YGL009C                                & Uracil                                 & 0.25                                   & -0.34                                  & leucine biosynthesis                   & 3-isopropylmalate dehydratase activity\\\\\n",
       "\t LEU1                                   & YGL009C                                & Uracil                                 & 0.30                                   & -0.16                                  & leucine biosynthesis                   & 3-isopropylmalate dehydratase activity\\\\\n",
       "\\end{tabular}\n"
      ],
      "text/markdown": [
       "\n",
       "symbol | systematic_name | nutrient | rate | expression | bp | mf | \n",
       "|---|---|---|---|---|---|---|---|---|---|---|---|---|---|---|---|---|---|---|---|---|---|---|---|---|---|---|---|---|---|---|---|---|---|---|---|\n",
       "| LEU1                                   | YGL009C                                | Glucose                                | 0.05                                   | -1.12                                  | leucine biosynthesis                   | 3-isopropylmalate dehydratase activity | \n",
       "| LEU1                                   | YGL009C                                | Glucose                                | 0.10                                   | -0.77                                  | leucine biosynthesis                   | 3-isopropylmalate dehydratase activity | \n",
       "| LEU1                                   | YGL009C                                | Glucose                                | 0.15                                   | -0.67                                  | leucine biosynthesis                   | 3-isopropylmalate dehydratase activity | \n",
       "| LEU1                                   | YGL009C                                | Glucose                                | 0.20                                   | -0.59                                  | leucine biosynthesis                   | 3-isopropylmalate dehydratase activity | \n",
       "| LEU1                                   | YGL009C                                | Glucose                                | 0.25                                   | -0.20                                  | leucine biosynthesis                   | 3-isopropylmalate dehydratase activity | \n",
       "| LEU1                                   | YGL009C                                | Glucose                                | 0.30                                   |  0.03                                  | leucine biosynthesis                   | 3-isopropylmalate dehydratase activity | \n",
       "| LEU1                                   | YGL009C                                | Ammonia                                | 0.05                                   | -0.76                                  | leucine biosynthesis                   | 3-isopropylmalate dehydratase activity | \n",
       "| LEU1                                   | YGL009C                                | Ammonia                                | 0.10                                   | -1.17                                  | leucine biosynthesis                   | 3-isopropylmalate dehydratase activity | \n",
       "| LEU1                                   | YGL009C                                | Ammonia                                | 0.15                                   | -1.20                                  | leucine biosynthesis                   | 3-isopropylmalate dehydratase activity | \n",
       "| LEU1                                   | YGL009C                                | Ammonia                                | 0.20                                   | -1.02                                  | leucine biosynthesis                   | 3-isopropylmalate dehydratase activity | \n",
       "| LEU1                                   | YGL009C                                | Ammonia                                | 0.25                                   | -0.54                                  | leucine biosynthesis                   | 3-isopropylmalate dehydratase activity | \n",
       "| LEU1                                   | YGL009C                                | Ammonia                                | 0.30                                   | -0.22                                  | leucine biosynthesis                   | 3-isopropylmalate dehydratase activity | \n",
       "| LEU1                                   | YGL009C                                | Phosphate                              | 0.05                                   | -0.81                                  | leucine biosynthesis                   | 3-isopropylmalate dehydratase activity | \n",
       "| LEU1                                   | YGL009C                                | Phosphate                              | 0.10                                   | -0.51                                  | leucine biosynthesis                   | 3-isopropylmalate dehydratase activity | \n",
       "| LEU1                                   | YGL009C                                | Phosphate                              | 0.15                                   | -0.61                                  | leucine biosynthesis                   | 3-isopropylmalate dehydratase activity | \n",
       "| LEU1                                   | YGL009C                                | Phosphate                              | 0.20                                   | -0.42                                  | leucine biosynthesis                   | 3-isopropylmalate dehydratase activity | \n",
       "| LEU1                                   | YGL009C                                | Phosphate                              | 0.25                                   | -0.18                                  | leucine biosynthesis                   | 3-isopropylmalate dehydratase activity | \n",
       "| LEU1                                   | YGL009C                                | Phosphate                              | 0.30                                   | -0.07                                  | leucine biosynthesis                   | 3-isopropylmalate dehydratase activity | \n",
       "| LEU1                                   | YGL009C                                | Sulfate                                | 0.05                                   | -1.57                                  | leucine biosynthesis                   | 3-isopropylmalate dehydratase activity | \n",
       "| LEU1                                   | YGL009C                                | Sulfate                                | 0.10                                   | -1.55                                  | leucine biosynthesis                   | 3-isopropylmalate dehydratase activity | \n",
       "| LEU1                                   | YGL009C                                | Sulfate                                | 0.15                                   | -1.16                                  | leucine biosynthesis                   | 3-isopropylmalate dehydratase activity | \n",
       "| LEU1                                   | YGL009C                                | Sulfate                                | 0.20                                   | -1.10                                  | leucine biosynthesis                   | 3-isopropylmalate dehydratase activity | \n",
       "| LEU1                                   | YGL009C                                | Sulfate                                | 0.25                                   | -0.86                                  | leucine biosynthesis                   | 3-isopropylmalate dehydratase activity | \n",
       "| LEU1                                   | YGL009C                                | Sulfate                                | 0.30                                   | -0.76                                  | leucine biosynthesis                   | 3-isopropylmalate dehydratase activity | \n",
       "| LEU1                                   | YGL009C                                | Leucine                                | 0.05                                   |  3.84                                  | leucine biosynthesis                   | 3-isopropylmalate dehydratase activity | \n",
       "| LEU1                                   | YGL009C                                | Leucine                                | 0.10                                   |  3.36                                  | leucine biosynthesis                   | 3-isopropylmalate dehydratase activity | \n",
       "| LEU1                                   | YGL009C                                | Leucine                                | 0.15                                   |  3.24                                  | leucine biosynthesis                   | 3-isopropylmalate dehydratase activity | \n",
       "| LEU1                                   | YGL009C                                | Leucine                                | 0.20                                   |  2.84                                  | leucine biosynthesis                   | 3-isopropylmalate dehydratase activity | \n",
       "| LEU1                                   | YGL009C                                | Leucine                                | 0.25                                   |  2.04                                  | leucine biosynthesis                   | 3-isopropylmalate dehydratase activity | \n",
       "| LEU1                                   | YGL009C                                | Leucine                                | 0.30                                   |  0.87                                  | leucine biosynthesis                   | 3-isopropylmalate dehydratase activity | \n",
       "| LEU1                                   | YGL009C                                | Uracil                                 | 0.05                                   | -2.07                                  | leucine biosynthesis                   | 3-isopropylmalate dehydratase activity | \n",
       "| LEU1                                   | YGL009C                                | Uracil                                 | 0.10                                   | -1.09                                  | leucine biosynthesis                   | 3-isopropylmalate dehydratase activity | \n",
       "| LEU1                                   | YGL009C                                | Uracil                                 | 0.15                                   | -0.52                                  | leucine biosynthesis                   | 3-isopropylmalate dehydratase activity | \n",
       "| LEU1                                   | YGL009C                                | Uracil                                 | 0.20                                   | -0.29                                  | leucine biosynthesis                   | 3-isopropylmalate dehydratase activity | \n",
       "| LEU1                                   | YGL009C                                | Uracil                                 | 0.25                                   | -0.34                                  | leucine biosynthesis                   | 3-isopropylmalate dehydratase activity | \n",
       "| LEU1                                   | YGL009C                                | Uracil                                 | 0.30                                   | -0.16                                  | leucine biosynthesis                   | 3-isopropylmalate dehydratase activity | \n",
       "\n",
       "\n"
      ],
      "text/plain": [
       "   symbol systematic_name nutrient  rate expression bp                  \n",
       "1  LEU1   YGL009C         Glucose   0.05 -1.12      leucine biosynthesis\n",
       "2  LEU1   YGL009C         Glucose   0.10 -0.77      leucine biosynthesis\n",
       "3  LEU1   YGL009C         Glucose   0.15 -0.67      leucine biosynthesis\n",
       "4  LEU1   YGL009C         Glucose   0.20 -0.59      leucine biosynthesis\n",
       "5  LEU1   YGL009C         Glucose   0.25 -0.20      leucine biosynthesis\n",
       "6  LEU1   YGL009C         Glucose   0.30  0.03      leucine biosynthesis\n",
       "7  LEU1   YGL009C         Ammonia   0.05 -0.76      leucine biosynthesis\n",
       "8  LEU1   YGL009C         Ammonia   0.10 -1.17      leucine biosynthesis\n",
       "9  LEU1   YGL009C         Ammonia   0.15 -1.20      leucine biosynthesis\n",
       "10 LEU1   YGL009C         Ammonia   0.20 -1.02      leucine biosynthesis\n",
       "11 LEU1   YGL009C         Ammonia   0.25 -0.54      leucine biosynthesis\n",
       "12 LEU1   YGL009C         Ammonia   0.30 -0.22      leucine biosynthesis\n",
       "13 LEU1   YGL009C         Phosphate 0.05 -0.81      leucine biosynthesis\n",
       "14 LEU1   YGL009C         Phosphate 0.10 -0.51      leucine biosynthesis\n",
       "15 LEU1   YGL009C         Phosphate 0.15 -0.61      leucine biosynthesis\n",
       "16 LEU1   YGL009C         Phosphate 0.20 -0.42      leucine biosynthesis\n",
       "17 LEU1   YGL009C         Phosphate 0.25 -0.18      leucine biosynthesis\n",
       "18 LEU1   YGL009C         Phosphate 0.30 -0.07      leucine biosynthesis\n",
       "19 LEU1   YGL009C         Sulfate   0.05 -1.57      leucine biosynthesis\n",
       "20 LEU1   YGL009C         Sulfate   0.10 -1.55      leucine biosynthesis\n",
       "21 LEU1   YGL009C         Sulfate   0.15 -1.16      leucine biosynthesis\n",
       "22 LEU1   YGL009C         Sulfate   0.20 -1.10      leucine biosynthesis\n",
       "23 LEU1   YGL009C         Sulfate   0.25 -0.86      leucine biosynthesis\n",
       "24 LEU1   YGL009C         Sulfate   0.30 -0.76      leucine biosynthesis\n",
       "25 LEU1   YGL009C         Leucine   0.05  3.84      leucine biosynthesis\n",
       "26 LEU1   YGL009C         Leucine   0.10  3.36      leucine biosynthesis\n",
       "27 LEU1   YGL009C         Leucine   0.15  3.24      leucine biosynthesis\n",
       "28 LEU1   YGL009C         Leucine   0.20  2.84      leucine biosynthesis\n",
       "29 LEU1   YGL009C         Leucine   0.25  2.04      leucine biosynthesis\n",
       "30 LEU1   YGL009C         Leucine   0.30  0.87      leucine biosynthesis\n",
       "31 LEU1   YGL009C         Uracil    0.05 -2.07      leucine biosynthesis\n",
       "32 LEU1   YGL009C         Uracil    0.10 -1.09      leucine biosynthesis\n",
       "33 LEU1   YGL009C         Uracil    0.15 -0.52      leucine biosynthesis\n",
       "34 LEU1   YGL009C         Uracil    0.20 -0.29      leucine biosynthesis\n",
       "35 LEU1   YGL009C         Uracil    0.25 -0.34      leucine biosynthesis\n",
       "36 LEU1   YGL009C         Uracil    0.30 -0.16      leucine biosynthesis\n",
       "   mf                                    \n",
       "1  3-isopropylmalate dehydratase activity\n",
       "2  3-isopropylmalate dehydratase activity\n",
       "3  3-isopropylmalate dehydratase activity\n",
       "4  3-isopropylmalate dehydratase activity\n",
       "5  3-isopropylmalate dehydratase activity\n",
       "6  3-isopropylmalate dehydratase activity\n",
       "7  3-isopropylmalate dehydratase activity\n",
       "8  3-isopropylmalate dehydratase activity\n",
       "9  3-isopropylmalate dehydratase activity\n",
       "10 3-isopropylmalate dehydratase activity\n",
       "11 3-isopropylmalate dehydratase activity\n",
       "12 3-isopropylmalate dehydratase activity\n",
       "13 3-isopropylmalate dehydratase activity\n",
       "14 3-isopropylmalate dehydratase activity\n",
       "15 3-isopropylmalate dehydratase activity\n",
       "16 3-isopropylmalate dehydratase activity\n",
       "17 3-isopropylmalate dehydratase activity\n",
       "18 3-isopropylmalate dehydratase activity\n",
       "19 3-isopropylmalate dehydratase activity\n",
       "20 3-isopropylmalate dehydratase activity\n",
       "21 3-isopropylmalate dehydratase activity\n",
       "22 3-isopropylmalate dehydratase activity\n",
       "23 3-isopropylmalate dehydratase activity\n",
       "24 3-isopropylmalate dehydratase activity\n",
       "25 3-isopropylmalate dehydratase activity\n",
       "26 3-isopropylmalate dehydratase activity\n",
       "27 3-isopropylmalate dehydratase activity\n",
       "28 3-isopropylmalate dehydratase activity\n",
       "29 3-isopropylmalate dehydratase activity\n",
       "30 3-isopropylmalate dehydratase activity\n",
       "31 3-isopropylmalate dehydratase activity\n",
       "32 3-isopropylmalate dehydratase activity\n",
       "33 3-isopropylmalate dehydratase activity\n",
       "34 3-isopropylmalate dehydratase activity\n",
       "35 3-isopropylmalate dehydratase activity\n",
       "36 3-isopropylmalate dehydratase activity"
      ]
     },
     "metadata": {},
     "output_type": "display_data"
    }
   ],
   "source": [
    "# 确保导入了dplyr包\n",
    "library(dplyr)\n",
    "\n",
    "# 查看涉及白氨酸合成通路的一个基因\n",
    "filter(ydat, symbol == \"LEU1\")"
   ]
  },
  {
   "cell_type": "code",
   "execution_count": 38,
   "metadata": {},
   "outputs": [
    {
     "data": {
      "text/html": [
       "<table>\n",
       "<thead><tr><th scope=col>symbol</th><th scope=col>systematic_name</th><th scope=col>nutrient</th><th scope=col>rate</th><th scope=col>expression</th><th scope=col>bp</th><th scope=col>mf</th></tr></thead>\n",
       "<tbody>\n",
       "\t<tr><td>LEU1                                  </td><td>YGL009C                               </td><td>Glucose                               </td><td>0.05                                  </td><td>-1.12                                 </td><td>leucine biosynthesis                  </td><td>3-isopropylmalate dehydratase activity</td></tr>\n",
       "\t<tr><td>ADH2                                  </td><td>YMR303C                               </td><td>Glucose                               </td><td>0.05                                  </td><td> 6.28                                 </td><td>fermentation*                         </td><td>alcohol dehydrogenase activity        </td></tr>\n",
       "\t<tr><td>LEU1                                  </td><td>YGL009C                               </td><td>Glucose                               </td><td>0.10                                  </td><td>-0.77                                 </td><td>leucine biosynthesis                  </td><td>3-isopropylmalate dehydratase activity</td></tr>\n",
       "\t<tr><td>ADH2                                  </td><td>YMR303C                               </td><td>Glucose                               </td><td>0.10                                  </td><td> 5.81                                 </td><td>fermentation*                         </td><td>alcohol dehydrogenase activity        </td></tr>\n",
       "\t<tr><td>LEU1                                  </td><td>YGL009C                               </td><td>Glucose                               </td><td>0.15                                  </td><td>-0.67                                 </td><td>leucine biosynthesis                  </td><td>3-isopropylmalate dehydratase activity</td></tr>\n",
       "\t<tr><td>ADH2                                  </td><td>YMR303C                               </td><td>Glucose                               </td><td>0.15                                  </td><td> 5.64                                 </td><td>fermentation*                         </td><td>alcohol dehydrogenase activity        </td></tr>\n",
       "\t<tr><td>LEU1                                  </td><td>YGL009C                               </td><td>Glucose                               </td><td>0.20                                  </td><td>-0.59                                 </td><td>leucine biosynthesis                  </td><td>3-isopropylmalate dehydratase activity</td></tr>\n",
       "\t<tr><td>ADH2                                  </td><td>YMR303C                               </td><td>Glucose                               </td><td>0.20                                  </td><td> 5.10                                 </td><td>fermentation*                         </td><td>alcohol dehydrogenase activity        </td></tr>\n",
       "\t<tr><td>LEU1                                  </td><td>YGL009C                               </td><td>Glucose                               </td><td>0.25                                  </td><td>-0.20                                 </td><td>leucine biosynthesis                  </td><td>3-isopropylmalate dehydratase activity</td></tr>\n",
       "\t<tr><td>ADH2                                  </td><td>YMR303C                               </td><td>Glucose                               </td><td>0.25                                  </td><td> 1.89                                 </td><td>fermentation*                         </td><td>alcohol dehydrogenase activity        </td></tr>\n",
       "\t<tr><td>LEU1                                  </td><td>YGL009C                               </td><td>Glucose                               </td><td>0.30                                  </td><td> 0.03                                 </td><td>leucine biosynthesis                  </td><td>3-isopropylmalate dehydratase activity</td></tr>\n",
       "\t<tr><td>ADH2                                  </td><td>YMR303C                               </td><td>Glucose                               </td><td>0.30                                  </td><td> 0.83                                 </td><td>fermentation*                         </td><td>alcohol dehydrogenase activity        </td></tr>\n",
       "\t<tr><td>LEU1                                  </td><td>YGL009C                               </td><td>Ammonia                               </td><td>0.05                                  </td><td>-0.76                                 </td><td>leucine biosynthesis                  </td><td>3-isopropylmalate dehydratase activity</td></tr>\n",
       "\t<tr><td>ADH2                                  </td><td>YMR303C                               </td><td>Ammonia                               </td><td>0.05                                  </td><td> 0.55                                 </td><td>fermentation*                         </td><td>alcohol dehydrogenase activity        </td></tr>\n",
       "\t<tr><td>LEU1                                  </td><td>YGL009C                               </td><td>Ammonia                               </td><td>0.10                                  </td><td>-1.17                                 </td><td>leucine biosynthesis                  </td><td>3-isopropylmalate dehydratase activity</td></tr>\n",
       "\t<tr><td>ADH2                                  </td><td>YMR303C                               </td><td>Ammonia                               </td><td>0.10                                  </td><td>-1.55                                 </td><td>fermentation*                         </td><td>alcohol dehydrogenase activity        </td></tr>\n",
       "\t<tr><td>LEU1                                  </td><td>YGL009C                               </td><td>Ammonia                               </td><td>0.15                                  </td><td>-1.20                                 </td><td>leucine biosynthesis                  </td><td>3-isopropylmalate dehydratase activity</td></tr>\n",
       "\t<tr><td>ADH2                                  </td><td>YMR303C                               </td><td>Ammonia                               </td><td>0.15                                  </td><td>-2.52                                 </td><td>fermentation*                         </td><td>alcohol dehydrogenase activity        </td></tr>\n",
       "\t<tr><td>LEU1                                  </td><td>YGL009C                               </td><td>Ammonia                               </td><td>0.20                                  </td><td>-1.02                                 </td><td>leucine biosynthesis                  </td><td>3-isopropylmalate dehydratase activity</td></tr>\n",
       "\t<tr><td>ADH2                                  </td><td>YMR303C                               </td><td>Ammonia                               </td><td>0.20                                  </td><td>-2.46                                 </td><td>fermentation*                         </td><td>alcohol dehydrogenase activity        </td></tr>\n",
       "\t<tr><td>LEU1                                  </td><td>YGL009C                               </td><td>Ammonia                               </td><td>0.25                                  </td><td>-0.54                                 </td><td>leucine biosynthesis                  </td><td>3-isopropylmalate dehydratase activity</td></tr>\n",
       "\t<tr><td>ADH2                                  </td><td>YMR303C                               </td><td>Ammonia                               </td><td>0.25                                  </td><td>-2.40                                 </td><td>fermentation*                         </td><td>alcohol dehydrogenase activity        </td></tr>\n",
       "\t<tr><td>LEU1                                  </td><td>YGL009C                               </td><td>Ammonia                               </td><td>0.30                                  </td><td>-0.22                                 </td><td>leucine biosynthesis                  </td><td>3-isopropylmalate dehydratase activity</td></tr>\n",
       "\t<tr><td>ADH2                                  </td><td>YMR303C                               </td><td>Ammonia                               </td><td>0.30                                  </td><td>-2.15                                 </td><td>fermentation*                         </td><td>alcohol dehydrogenase activity        </td></tr>\n",
       "\t<tr><td>LEU1                                  </td><td>YGL009C                               </td><td>Phosphate                             </td><td>0.05                                  </td><td>-0.81                                 </td><td>leucine biosynthesis                  </td><td>3-isopropylmalate dehydratase activity</td></tr>\n",
       "\t<tr><td>ADH2                                  </td><td>YMR303C                               </td><td>Phosphate                             </td><td>0.05                                  </td><td>-4.60                                 </td><td>fermentation*                         </td><td>alcohol dehydrogenase activity        </td></tr>\n",
       "\t<tr><td>LEU1                                  </td><td>YGL009C                               </td><td>Phosphate                             </td><td>0.10                                  </td><td>-0.51                                 </td><td>leucine biosynthesis                  </td><td>3-isopropylmalate dehydratase activity</td></tr>\n",
       "\t<tr><td>ADH2                                  </td><td>YMR303C                               </td><td>Phosphate                             </td><td>0.10                                  </td><td>-6.15                                 </td><td>fermentation*                         </td><td>alcohol dehydrogenase activity        </td></tr>\n",
       "\t<tr><td>LEU1                                  </td><td>YGL009C                               </td><td>Phosphate                             </td><td>0.15                                  </td><td>-0.61                                 </td><td>leucine biosynthesis                  </td><td>3-isopropylmalate dehydratase activity</td></tr>\n",
       "\t<tr><td>ADH2                                  </td><td>YMR303C                               </td><td>Phosphate                             </td><td>0.15                                  </td><td>-4.36                                 </td><td>fermentation*                         </td><td>alcohol dehydrogenase activity        </td></tr>\n",
       "\t<tr><td>...</td><td>...</td><td>...</td><td>...</td><td>...</td><td>...</td><td>...</td></tr>\n",
       "\t<tr><td>LEU1                                  </td><td>YGL009C                               </td><td>Sulfate                               </td><td>0.20                                  </td><td>-1.10                                 </td><td>leucine biosynthesis                  </td><td>3-isopropylmalate dehydratase activity</td></tr>\n",
       "\t<tr><td>ADH2                                  </td><td>YMR303C                               </td><td>Sulfate                               </td><td>0.20                                  </td><td>-2.05                                 </td><td>fermentation*                         </td><td>alcohol dehydrogenase activity        </td></tr>\n",
       "\t<tr><td>LEU1                                  </td><td>YGL009C                               </td><td>Sulfate                               </td><td>0.25                                  </td><td>-0.86                                 </td><td>leucine biosynthesis                  </td><td>3-isopropylmalate dehydratase activity</td></tr>\n",
       "\t<tr><td>ADH2                                  </td><td>YMR303C                               </td><td>Sulfate                               </td><td>0.25                                  </td><td>-2.48                                 </td><td>fermentation*                         </td><td>alcohol dehydrogenase activity        </td></tr>\n",
       "\t<tr><td>LEU1                                  </td><td>YGL009C                               </td><td>Sulfate                               </td><td>0.30                                  </td><td>-0.76                                 </td><td>leucine biosynthesis                  </td><td>3-isopropylmalate dehydratase activity</td></tr>\n",
       "\t<tr><td>ADH2                                  </td><td>YMR303C                               </td><td>Sulfate                               </td><td>0.30                                  </td><td>-1.59                                 </td><td>fermentation*                         </td><td>alcohol dehydrogenase activity        </td></tr>\n",
       "\t<tr><td>LEU1                                  </td><td>YGL009C                               </td><td>Leucine                               </td><td>0.05                                  </td><td> 3.84                                 </td><td>leucine biosynthesis                  </td><td>3-isopropylmalate dehydratase activity</td></tr>\n",
       "\t<tr><td>ADH2                                  </td><td>YMR303C                               </td><td>Leucine                               </td><td>0.05                                  </td><td> 4.15                                 </td><td>fermentation*                         </td><td>alcohol dehydrogenase activity        </td></tr>\n",
       "\t<tr><td>LEU1                                  </td><td>YGL009C                               </td><td>Leucine                               </td><td>0.10                                  </td><td> 3.36                                 </td><td>leucine biosynthesis                  </td><td>3-isopropylmalate dehydratase activity</td></tr>\n",
       "\t<tr><td>ADH2                                  </td><td>YMR303C                               </td><td>Leucine                               </td><td>0.10                                  </td><td> 2.61                                 </td><td>fermentation*                         </td><td>alcohol dehydrogenase activity        </td></tr>\n",
       "\t<tr><td>LEU1                                  </td><td>YGL009C                               </td><td>Leucine                               </td><td>0.15                                  </td><td> 3.24                                 </td><td>leucine biosynthesis                  </td><td>3-isopropylmalate dehydratase activity</td></tr>\n",
       "\t<tr><td>ADH2                                  </td><td>YMR303C                               </td><td>Leucine                               </td><td>0.15                                  </td><td> 1.89                                 </td><td>fermentation*                         </td><td>alcohol dehydrogenase activity        </td></tr>\n",
       "\t<tr><td>LEU1                                  </td><td>YGL009C                               </td><td>Leucine                               </td><td>0.20                                  </td><td> 2.84                                 </td><td>leucine biosynthesis                  </td><td>3-isopropylmalate dehydratase activity</td></tr>\n",
       "\t<tr><td>ADH2                                  </td><td>YMR303C                               </td><td>Leucine                               </td><td>0.20                                  </td><td> 1.90                                 </td><td>fermentation*                         </td><td>alcohol dehydrogenase activity        </td></tr>\n",
       "\t<tr><td>LEU1                                  </td><td>YGL009C                               </td><td>Leucine                               </td><td>0.25                                  </td><td> 2.04                                 </td><td>leucine biosynthesis                  </td><td>3-isopropylmalate dehydratase activity</td></tr>\n",
       "\t<tr><td>ADH2                                  </td><td>YMR303C                               </td><td>Leucine                               </td><td>0.25                                  </td><td> 1.60                                 </td><td>fermentation*                         </td><td>alcohol dehydrogenase activity        </td></tr>\n",
       "\t<tr><td>LEU1                                  </td><td>YGL009C                               </td><td>Leucine                               </td><td>0.30                                  </td><td> 0.87                                 </td><td>leucine biosynthesis                  </td><td>3-isopropylmalate dehydratase activity</td></tr>\n",
       "\t<tr><td>ADH2                                  </td><td>YMR303C                               </td><td>Leucine                               </td><td>0.30                                  </td><td> 1.56                                 </td><td>fermentation*                         </td><td>alcohol dehydrogenase activity        </td></tr>\n",
       "\t<tr><td>LEU1                                  </td><td>YGL009C                               </td><td>Uracil                                </td><td>0.05                                  </td><td>-2.07                                 </td><td>leucine biosynthesis                  </td><td>3-isopropylmalate dehydratase activity</td></tr>\n",
       "\t<tr><td>ADH2                                  </td><td>YMR303C                               </td><td>Uracil                                </td><td>0.05                                  </td><td> 0.63                                 </td><td>fermentation*                         </td><td>alcohol dehydrogenase activity        </td></tr>\n",
       "\t<tr><td>LEU1                                  </td><td>YGL009C                               </td><td>Uracil                                </td><td>0.10                                  </td><td>-1.09                                 </td><td>leucine biosynthesis                  </td><td>3-isopropylmalate dehydratase activity</td></tr>\n",
       "\t<tr><td>ADH2                                  </td><td>YMR303C                               </td><td>Uracil                                </td><td>0.10                                  </td><td>-0.87                                 </td><td>fermentation*                         </td><td>alcohol dehydrogenase activity        </td></tr>\n",
       "\t<tr><td>LEU1                                  </td><td>YGL009C                               </td><td>Uracil                                </td><td>0.15                                  </td><td>-0.52                                 </td><td>leucine biosynthesis                  </td><td>3-isopropylmalate dehydratase activity</td></tr>\n",
       "\t<tr><td>ADH2                                  </td><td>YMR303C                               </td><td>Uracil                                </td><td>0.15                                  </td><td>-1.32                                 </td><td>fermentation*                         </td><td>alcohol dehydrogenase activity        </td></tr>\n",
       "\t<tr><td>LEU1                                  </td><td>YGL009C                               </td><td>Uracil                                </td><td>0.20                                  </td><td>-0.29                                 </td><td>leucine biosynthesis                  </td><td>3-isopropylmalate dehydratase activity</td></tr>\n",
       "\t<tr><td>ADH2                                  </td><td>YMR303C                               </td><td>Uracil                                </td><td>0.20                                  </td><td>-1.17                                 </td><td>fermentation*                         </td><td>alcohol dehydrogenase activity        </td></tr>\n",
       "\t<tr><td>LEU1                                  </td><td>YGL009C                               </td><td>Uracil                                </td><td>0.25                                  </td><td>-0.34                                 </td><td>leucine biosynthesis                  </td><td>3-isopropylmalate dehydratase activity</td></tr>\n",
       "\t<tr><td>ADH2                                  </td><td>YMR303C                               </td><td>Uracil                                </td><td>0.25                                  </td><td>-1.20                                 </td><td>fermentation*                         </td><td>alcohol dehydrogenase activity        </td></tr>\n",
       "\t<tr><td>LEU1                                  </td><td>YGL009C                               </td><td>Uracil                                </td><td>0.30                                  </td><td>-0.16                                 </td><td>leucine biosynthesis                  </td><td>3-isopropylmalate dehydratase activity</td></tr>\n",
       "\t<tr><td>ADH2                                  </td><td>YMR303C                               </td><td>Uracil                                </td><td>0.30                                  </td><td>-1.19                                 </td><td>fermentation*                         </td><td>alcohol dehydrogenase activity        </td></tr>\n",
       "</tbody>\n",
       "</table>\n"
      ],
      "text/latex": [
       "\\begin{tabular}{r|lllllll}\n",
       " symbol & systematic\\_name & nutrient & rate & expression & bp & mf\\\\\n",
       "\\hline\n",
       "\t LEU1                                   & YGL009C                                & Glucose                                & 0.05                                   & -1.12                                  & leucine biosynthesis                   & 3-isopropylmalate dehydratase activity\\\\\n",
       "\t ADH2                                   & YMR303C                                & Glucose                                & 0.05                                   &  6.28                                  & fermentation*                          & alcohol dehydrogenase activity        \\\\\n",
       "\t LEU1                                   & YGL009C                                & Glucose                                & 0.10                                   & -0.77                                  & leucine biosynthesis                   & 3-isopropylmalate dehydratase activity\\\\\n",
       "\t ADH2                                   & YMR303C                                & Glucose                                & 0.10                                   &  5.81                                  & fermentation*                          & alcohol dehydrogenase activity        \\\\\n",
       "\t LEU1                                   & YGL009C                                & Glucose                                & 0.15                                   & -0.67                                  & leucine biosynthesis                   & 3-isopropylmalate dehydratase activity\\\\\n",
       "\t ADH2                                   & YMR303C                                & Glucose                                & 0.15                                   &  5.64                                  & fermentation*                          & alcohol dehydrogenase activity        \\\\\n",
       "\t LEU1                                   & YGL009C                                & Glucose                                & 0.20                                   & -0.59                                  & leucine biosynthesis                   & 3-isopropylmalate dehydratase activity\\\\\n",
       "\t ADH2                                   & YMR303C                                & Glucose                                & 0.20                                   &  5.10                                  & fermentation*                          & alcohol dehydrogenase activity        \\\\\n",
       "\t LEU1                                   & YGL009C                                & Glucose                                & 0.25                                   & -0.20                                  & leucine biosynthesis                   & 3-isopropylmalate dehydratase activity\\\\\n",
       "\t ADH2                                   & YMR303C                                & Glucose                                & 0.25                                   &  1.89                                  & fermentation*                          & alcohol dehydrogenase activity        \\\\\n",
       "\t LEU1                                   & YGL009C                                & Glucose                                & 0.30                                   &  0.03                                  & leucine biosynthesis                   & 3-isopropylmalate dehydratase activity\\\\\n",
       "\t ADH2                                   & YMR303C                                & Glucose                                & 0.30                                   &  0.83                                  & fermentation*                          & alcohol dehydrogenase activity        \\\\\n",
       "\t LEU1                                   & YGL009C                                & Ammonia                                & 0.05                                   & -0.76                                  & leucine biosynthesis                   & 3-isopropylmalate dehydratase activity\\\\\n",
       "\t ADH2                                   & YMR303C                                & Ammonia                                & 0.05                                   &  0.55                                  & fermentation*                          & alcohol dehydrogenase activity        \\\\\n",
       "\t LEU1                                   & YGL009C                                & Ammonia                                & 0.10                                   & -1.17                                  & leucine biosynthesis                   & 3-isopropylmalate dehydratase activity\\\\\n",
       "\t ADH2                                   & YMR303C                                & Ammonia                                & 0.10                                   & -1.55                                  & fermentation*                          & alcohol dehydrogenase activity        \\\\\n",
       "\t LEU1                                   & YGL009C                                & Ammonia                                & 0.15                                   & -1.20                                  & leucine biosynthesis                   & 3-isopropylmalate dehydratase activity\\\\\n",
       "\t ADH2                                   & YMR303C                                & Ammonia                                & 0.15                                   & -2.52                                  & fermentation*                          & alcohol dehydrogenase activity        \\\\\n",
       "\t LEU1                                   & YGL009C                                & Ammonia                                & 0.20                                   & -1.02                                  & leucine biosynthesis                   & 3-isopropylmalate dehydratase activity\\\\\n",
       "\t ADH2                                   & YMR303C                                & Ammonia                                & 0.20                                   & -2.46                                  & fermentation*                          & alcohol dehydrogenase activity        \\\\\n",
       "\t LEU1                                   & YGL009C                                & Ammonia                                & 0.25                                   & -0.54                                  & leucine biosynthesis                   & 3-isopropylmalate dehydratase activity\\\\\n",
       "\t ADH2                                   & YMR303C                                & Ammonia                                & 0.25                                   & -2.40                                  & fermentation*                          & alcohol dehydrogenase activity        \\\\\n",
       "\t LEU1                                   & YGL009C                                & Ammonia                                & 0.30                                   & -0.22                                  & leucine biosynthesis                   & 3-isopropylmalate dehydratase activity\\\\\n",
       "\t ADH2                                   & YMR303C                                & Ammonia                                & 0.30                                   & -2.15                                  & fermentation*                          & alcohol dehydrogenase activity        \\\\\n",
       "\t LEU1                                   & YGL009C                                & Phosphate                              & 0.05                                   & -0.81                                  & leucine biosynthesis                   & 3-isopropylmalate dehydratase activity\\\\\n",
       "\t ADH2                                   & YMR303C                                & Phosphate                              & 0.05                                   & -4.60                                  & fermentation*                          & alcohol dehydrogenase activity        \\\\\n",
       "\t LEU1                                   & YGL009C                                & Phosphate                              & 0.10                                   & -0.51                                  & leucine biosynthesis                   & 3-isopropylmalate dehydratase activity\\\\\n",
       "\t ADH2                                   & YMR303C                                & Phosphate                              & 0.10                                   & -6.15                                  & fermentation*                          & alcohol dehydrogenase activity        \\\\\n",
       "\t LEU1                                   & YGL009C                                & Phosphate                              & 0.15                                   & -0.61                                  & leucine biosynthesis                   & 3-isopropylmalate dehydratase activity\\\\\n",
       "\t ADH2                                   & YMR303C                                & Phosphate                              & 0.15                                   & -4.36                                  & fermentation*                          & alcohol dehydrogenase activity        \\\\\n",
       "\t ... & ... & ... & ... & ... & ... & ...\\\\\n",
       "\t LEU1                                   & YGL009C                                & Sulfate                                & 0.20                                   & -1.10                                  & leucine biosynthesis                   & 3-isopropylmalate dehydratase activity\\\\\n",
       "\t ADH2                                   & YMR303C                                & Sulfate                                & 0.20                                   & -2.05                                  & fermentation*                          & alcohol dehydrogenase activity        \\\\\n",
       "\t LEU1                                   & YGL009C                                & Sulfate                                & 0.25                                   & -0.86                                  & leucine biosynthesis                   & 3-isopropylmalate dehydratase activity\\\\\n",
       "\t ADH2                                   & YMR303C                                & Sulfate                                & 0.25                                   & -2.48                                  & fermentation*                          & alcohol dehydrogenase activity        \\\\\n",
       "\t LEU1                                   & YGL009C                                & Sulfate                                & 0.30                                   & -0.76                                  & leucine biosynthesis                   & 3-isopropylmalate dehydratase activity\\\\\n",
       "\t ADH2                                   & YMR303C                                & Sulfate                                & 0.30                                   & -1.59                                  & fermentation*                          & alcohol dehydrogenase activity        \\\\\n",
       "\t LEU1                                   & YGL009C                                & Leucine                                & 0.05                                   &  3.84                                  & leucine biosynthesis                   & 3-isopropylmalate dehydratase activity\\\\\n",
       "\t ADH2                                   & YMR303C                                & Leucine                                & 0.05                                   &  4.15                                  & fermentation*                          & alcohol dehydrogenase activity        \\\\\n",
       "\t LEU1                                   & YGL009C                                & Leucine                                & 0.10                                   &  3.36                                  & leucine biosynthesis                   & 3-isopropylmalate dehydratase activity\\\\\n",
       "\t ADH2                                   & YMR303C                                & Leucine                                & 0.10                                   &  2.61                                  & fermentation*                          & alcohol dehydrogenase activity        \\\\\n",
       "\t LEU1                                   & YGL009C                                & Leucine                                & 0.15                                   &  3.24                                  & leucine biosynthesis                   & 3-isopropylmalate dehydratase activity\\\\\n",
       "\t ADH2                                   & YMR303C                                & Leucine                                & 0.15                                   &  1.89                                  & fermentation*                          & alcohol dehydrogenase activity        \\\\\n",
       "\t LEU1                                   & YGL009C                                & Leucine                                & 0.20                                   &  2.84                                  & leucine biosynthesis                   & 3-isopropylmalate dehydratase activity\\\\\n",
       "\t ADH2                                   & YMR303C                                & Leucine                                & 0.20                                   &  1.90                                  & fermentation*                          & alcohol dehydrogenase activity        \\\\\n",
       "\t LEU1                                   & YGL009C                                & Leucine                                & 0.25                                   &  2.04                                  & leucine biosynthesis                   & 3-isopropylmalate dehydratase activity\\\\\n",
       "\t ADH2                                   & YMR303C                                & Leucine                                & 0.25                                   &  1.60                                  & fermentation*                          & alcohol dehydrogenase activity        \\\\\n",
       "\t LEU1                                   & YGL009C                                & Leucine                                & 0.30                                   &  0.87                                  & leucine biosynthesis                   & 3-isopropylmalate dehydratase activity\\\\\n",
       "\t ADH2                                   & YMR303C                                & Leucine                                & 0.30                                   &  1.56                                  & fermentation*                          & alcohol dehydrogenase activity        \\\\\n",
       "\t LEU1                                   & YGL009C                                & Uracil                                 & 0.05                                   & -2.07                                  & leucine biosynthesis                   & 3-isopropylmalate dehydratase activity\\\\\n",
       "\t ADH2                                   & YMR303C                                & Uracil                                 & 0.05                                   &  0.63                                  & fermentation*                          & alcohol dehydrogenase activity        \\\\\n",
       "\t LEU1                                   & YGL009C                                & Uracil                                 & 0.10                                   & -1.09                                  & leucine biosynthesis                   & 3-isopropylmalate dehydratase activity\\\\\n",
       "\t ADH2                                   & YMR303C                                & Uracil                                 & 0.10                                   & -0.87                                  & fermentation*                          & alcohol dehydrogenase activity        \\\\\n",
       "\t LEU1                                   & YGL009C                                & Uracil                                 & 0.15                                   & -0.52                                  & leucine biosynthesis                   & 3-isopropylmalate dehydratase activity\\\\\n",
       "\t ADH2                                   & YMR303C                                & Uracil                                 & 0.15                                   & -1.32                                  & fermentation*                          & alcohol dehydrogenase activity        \\\\\n",
       "\t LEU1                                   & YGL009C                                & Uracil                                 & 0.20                                   & -0.29                                  & leucine biosynthesis                   & 3-isopropylmalate dehydratase activity\\\\\n",
       "\t ADH2                                   & YMR303C                                & Uracil                                 & 0.20                                   & -1.17                                  & fermentation*                          & alcohol dehydrogenase activity        \\\\\n",
       "\t LEU1                                   & YGL009C                                & Uracil                                 & 0.25                                   & -0.34                                  & leucine biosynthesis                   & 3-isopropylmalate dehydratase activity\\\\\n",
       "\t ADH2                                   & YMR303C                                & Uracil                                 & 0.25                                   & -1.20                                  & fermentation*                          & alcohol dehydrogenase activity        \\\\\n",
       "\t LEU1                                   & YGL009C                                & Uracil                                 & 0.30                                   & -0.16                                  & leucine biosynthesis                   & 3-isopropylmalate dehydratase activity\\\\\n",
       "\t ADH2                                   & YMR303C                                & Uracil                                 & 0.30                                   & -1.19                                  & fermentation*                          & alcohol dehydrogenase activity        \\\\\n",
       "\\end{tabular}\n"
      ],
      "text/markdown": [
       "\n",
       "symbol | systematic_name | nutrient | rate | expression | bp | mf | \n",
       "|---|---|---|---|---|---|---|---|---|---|---|---|---|---|---|---|---|---|---|---|---|---|---|---|---|---|---|---|---|---|---|---|---|---|---|---|---|---|---|---|---|---|---|---|---|---|---|---|---|---|---|---|---|---|---|---|---|---|---|---|---|\n",
       "| LEU1                                   | YGL009C                                | Glucose                                | 0.05                                   | -1.12                                  | leucine biosynthesis                   | 3-isopropylmalate dehydratase activity | \n",
       "| ADH2                                   | YMR303C                                | Glucose                                | 0.05                                   |  6.28                                  | fermentation*                          | alcohol dehydrogenase activity         | \n",
       "| LEU1                                   | YGL009C                                | Glucose                                | 0.10                                   | -0.77                                  | leucine biosynthesis                   | 3-isopropylmalate dehydratase activity | \n",
       "| ADH2                                   | YMR303C                                | Glucose                                | 0.10                                   |  5.81                                  | fermentation*                          | alcohol dehydrogenase activity         | \n",
       "| LEU1                                   | YGL009C                                | Glucose                                | 0.15                                   | -0.67                                  | leucine biosynthesis                   | 3-isopropylmalate dehydratase activity | \n",
       "| ADH2                                   | YMR303C                                | Glucose                                | 0.15                                   |  5.64                                  | fermentation*                          | alcohol dehydrogenase activity         | \n",
       "| LEU1                                   | YGL009C                                | Glucose                                | 0.20                                   | -0.59                                  | leucine biosynthesis                   | 3-isopropylmalate dehydratase activity | \n",
       "| ADH2                                   | YMR303C                                | Glucose                                | 0.20                                   |  5.10                                  | fermentation*                          | alcohol dehydrogenase activity         | \n",
       "| LEU1                                   | YGL009C                                | Glucose                                | 0.25                                   | -0.20                                  | leucine biosynthesis                   | 3-isopropylmalate dehydratase activity | \n",
       "| ADH2                                   | YMR303C                                | Glucose                                | 0.25                                   |  1.89                                  | fermentation*                          | alcohol dehydrogenase activity         | \n",
       "| LEU1                                   | YGL009C                                | Glucose                                | 0.30                                   |  0.03                                  | leucine biosynthesis                   | 3-isopropylmalate dehydratase activity | \n",
       "| ADH2                                   | YMR303C                                | Glucose                                | 0.30                                   |  0.83                                  | fermentation*                          | alcohol dehydrogenase activity         | \n",
       "| LEU1                                   | YGL009C                                | Ammonia                                | 0.05                                   | -0.76                                  | leucine biosynthesis                   | 3-isopropylmalate dehydratase activity | \n",
       "| ADH2                                   | YMR303C                                | Ammonia                                | 0.05                                   |  0.55                                  | fermentation*                          | alcohol dehydrogenase activity         | \n",
       "| LEU1                                   | YGL009C                                | Ammonia                                | 0.10                                   | -1.17                                  | leucine biosynthesis                   | 3-isopropylmalate dehydratase activity | \n",
       "| ADH2                                   | YMR303C                                | Ammonia                                | 0.10                                   | -1.55                                  | fermentation*                          | alcohol dehydrogenase activity         | \n",
       "| LEU1                                   | YGL009C                                | Ammonia                                | 0.15                                   | -1.20                                  | leucine biosynthesis                   | 3-isopropylmalate dehydratase activity | \n",
       "| ADH2                                   | YMR303C                                | Ammonia                                | 0.15                                   | -2.52                                  | fermentation*                          | alcohol dehydrogenase activity         | \n",
       "| LEU1                                   | YGL009C                                | Ammonia                                | 0.20                                   | -1.02                                  | leucine biosynthesis                   | 3-isopropylmalate dehydratase activity | \n",
       "| ADH2                                   | YMR303C                                | Ammonia                                | 0.20                                   | -2.46                                  | fermentation*                          | alcohol dehydrogenase activity         | \n",
       "| LEU1                                   | YGL009C                                | Ammonia                                | 0.25                                   | -0.54                                  | leucine biosynthesis                   | 3-isopropylmalate dehydratase activity | \n",
       "| ADH2                                   | YMR303C                                | Ammonia                                | 0.25                                   | -2.40                                  | fermentation*                          | alcohol dehydrogenase activity         | \n",
       "| LEU1                                   | YGL009C                                | Ammonia                                | 0.30                                   | -0.22                                  | leucine biosynthesis                   | 3-isopropylmalate dehydratase activity | \n",
       "| ADH2                                   | YMR303C                                | Ammonia                                | 0.30                                   | -2.15                                  | fermentation*                          | alcohol dehydrogenase activity         | \n",
       "| LEU1                                   | YGL009C                                | Phosphate                              | 0.05                                   | -0.81                                  | leucine biosynthesis                   | 3-isopropylmalate dehydratase activity | \n",
       "| ADH2                                   | YMR303C                                | Phosphate                              | 0.05                                   | -4.60                                  | fermentation*                          | alcohol dehydrogenase activity         | \n",
       "| LEU1                                   | YGL009C                                | Phosphate                              | 0.10                                   | -0.51                                  | leucine biosynthesis                   | 3-isopropylmalate dehydratase activity | \n",
       "| ADH2                                   | YMR303C                                | Phosphate                              | 0.10                                   | -6.15                                  | fermentation*                          | alcohol dehydrogenase activity         | \n",
       "| LEU1                                   | YGL009C                                | Phosphate                              | 0.15                                   | -0.61                                  | leucine biosynthesis                   | 3-isopropylmalate dehydratase activity | \n",
       "| ADH2                                   | YMR303C                                | Phosphate                              | 0.15                                   | -4.36                                  | fermentation*                          | alcohol dehydrogenase activity         | \n",
       "| ... | ... | ... | ... | ... | ... | ... | \n",
       "| LEU1                                   | YGL009C                                | Sulfate                                | 0.20                                   | -1.10                                  | leucine biosynthesis                   | 3-isopropylmalate dehydratase activity | \n",
       "| ADH2                                   | YMR303C                                | Sulfate                                | 0.20                                   | -2.05                                  | fermentation*                          | alcohol dehydrogenase activity         | \n",
       "| LEU1                                   | YGL009C                                | Sulfate                                | 0.25                                   | -0.86                                  | leucine biosynthesis                   | 3-isopropylmalate dehydratase activity | \n",
       "| ADH2                                   | YMR303C                                | Sulfate                                | 0.25                                   | -2.48                                  | fermentation*                          | alcohol dehydrogenase activity         | \n",
       "| LEU1                                   | YGL009C                                | Sulfate                                | 0.30                                   | -0.76                                  | leucine biosynthesis                   | 3-isopropylmalate dehydratase activity | \n",
       "| ADH2                                   | YMR303C                                | Sulfate                                | 0.30                                   | -1.59                                  | fermentation*                          | alcohol dehydrogenase activity         | \n",
       "| LEU1                                   | YGL009C                                | Leucine                                | 0.05                                   |  3.84                                  | leucine biosynthesis                   | 3-isopropylmalate dehydratase activity | \n",
       "| ADH2                                   | YMR303C                                | Leucine                                | 0.05                                   |  4.15                                  | fermentation*                          | alcohol dehydrogenase activity         | \n",
       "| LEU1                                   | YGL009C                                | Leucine                                | 0.10                                   |  3.36                                  | leucine biosynthesis                   | 3-isopropylmalate dehydratase activity | \n",
       "| ADH2                                   | YMR303C                                | Leucine                                | 0.10                                   |  2.61                                  | fermentation*                          | alcohol dehydrogenase activity         | \n",
       "| LEU1                                   | YGL009C                                | Leucine                                | 0.15                                   |  3.24                                  | leucine biosynthesis                   | 3-isopropylmalate dehydratase activity | \n",
       "| ADH2                                   | YMR303C                                | Leucine                                | 0.15                                   |  1.89                                  | fermentation*                          | alcohol dehydrogenase activity         | \n",
       "| LEU1                                   | YGL009C                                | Leucine                                | 0.20                                   |  2.84                                  | leucine biosynthesis                   | 3-isopropylmalate dehydratase activity | \n",
       "| ADH2                                   | YMR303C                                | Leucine                                | 0.20                                   |  1.90                                  | fermentation*                          | alcohol dehydrogenase activity         | \n",
       "| LEU1                                   | YGL009C                                | Leucine                                | 0.25                                   |  2.04                                  | leucine biosynthesis                   | 3-isopropylmalate dehydratase activity | \n",
       "| ADH2                                   | YMR303C                                | Leucine                                | 0.25                                   |  1.60                                  | fermentation*                          | alcohol dehydrogenase activity         | \n",
       "| LEU1                                   | YGL009C                                | Leucine                                | 0.30                                   |  0.87                                  | leucine biosynthesis                   | 3-isopropylmalate dehydratase activity | \n",
       "| ADH2                                   | YMR303C                                | Leucine                                | 0.30                                   |  1.56                                  | fermentation*                          | alcohol dehydrogenase activity         | \n",
       "| LEU1                                   | YGL009C                                | Uracil                                 | 0.05                                   | -2.07                                  | leucine biosynthesis                   | 3-isopropylmalate dehydratase activity | \n",
       "| ADH2                                   | YMR303C                                | Uracil                                 | 0.05                                   |  0.63                                  | fermentation*                          | alcohol dehydrogenase activity         | \n",
       "| LEU1                                   | YGL009C                                | Uracil                                 | 0.10                                   | -1.09                                  | leucine biosynthesis                   | 3-isopropylmalate dehydratase activity | \n",
       "| ADH2                                   | YMR303C                                | Uracil                                 | 0.10                                   | -0.87                                  | fermentation*                          | alcohol dehydrogenase activity         | \n",
       "| LEU1                                   | YGL009C                                | Uracil                                 | 0.15                                   | -0.52                                  | leucine biosynthesis                   | 3-isopropylmalate dehydratase activity | \n",
       "| ADH2                                   | YMR303C                                | Uracil                                 | 0.15                                   | -1.32                                  | fermentation*                          | alcohol dehydrogenase activity         | \n",
       "| LEU1                                   | YGL009C                                | Uracil                                 | 0.20                                   | -0.29                                  | leucine biosynthesis                   | 3-isopropylmalate dehydratase activity | \n",
       "| ADH2                                   | YMR303C                                | Uracil                                 | 0.20                                   | -1.17                                  | fermentation*                          | alcohol dehydrogenase activity         | \n",
       "| LEU1                                   | YGL009C                                | Uracil                                 | 0.25                                   | -0.34                                  | leucine biosynthesis                   | 3-isopropylmalate dehydratase activity | \n",
       "| ADH2                                   | YMR303C                                | Uracil                                 | 0.25                                   | -1.20                                  | fermentation*                          | alcohol dehydrogenase activity         | \n",
       "| LEU1                                   | YGL009C                                | Uracil                                 | 0.30                                   | -0.16                                  | leucine biosynthesis                   | 3-isopropylmalate dehydratase activity | \n",
       "| ADH2                                   | YMR303C                                | Uracil                                 | 0.30                                   | -1.19                                  | fermentation*                          | alcohol dehydrogenase activity         | \n",
       "\n",
       "\n"
      ],
      "text/plain": [
       "    symbol systematic_name nutrient  rate expression bp                  \n",
       "1   LEU1   YGL009C         Glucose   0.05 -1.12      leucine biosynthesis\n",
       "2   ADH2   YMR303C         Glucose   0.05  6.28      fermentation*       \n",
       "3   LEU1   YGL009C         Glucose   0.10 -0.77      leucine biosynthesis\n",
       "4   ADH2   YMR303C         Glucose   0.10  5.81      fermentation*       \n",
       "5   LEU1   YGL009C         Glucose   0.15 -0.67      leucine biosynthesis\n",
       "6   ADH2   YMR303C         Glucose   0.15  5.64      fermentation*       \n",
       "7   LEU1   YGL009C         Glucose   0.20 -0.59      leucine biosynthesis\n",
       "8   ADH2   YMR303C         Glucose   0.20  5.10      fermentation*       \n",
       "9   LEU1   YGL009C         Glucose   0.25 -0.20      leucine biosynthesis\n",
       "10  ADH2   YMR303C         Glucose   0.25  1.89      fermentation*       \n",
       "11  LEU1   YGL009C         Glucose   0.30  0.03      leucine biosynthesis\n",
       "12  ADH2   YMR303C         Glucose   0.30  0.83      fermentation*       \n",
       "13  LEU1   YGL009C         Ammonia   0.05 -0.76      leucine biosynthesis\n",
       "14  ADH2   YMR303C         Ammonia   0.05  0.55      fermentation*       \n",
       "15  LEU1   YGL009C         Ammonia   0.10 -1.17      leucine biosynthesis\n",
       "16  ADH2   YMR303C         Ammonia   0.10 -1.55      fermentation*       \n",
       "17  LEU1   YGL009C         Ammonia   0.15 -1.20      leucine biosynthesis\n",
       "18  ADH2   YMR303C         Ammonia   0.15 -2.52      fermentation*       \n",
       "19  LEU1   YGL009C         Ammonia   0.20 -1.02      leucine biosynthesis\n",
       "20  ADH2   YMR303C         Ammonia   0.20 -2.46      fermentation*       \n",
       "21  LEU1   YGL009C         Ammonia   0.25 -0.54      leucine biosynthesis\n",
       "22  ADH2   YMR303C         Ammonia   0.25 -2.40      fermentation*       \n",
       "23  LEU1   YGL009C         Ammonia   0.30 -0.22      leucine biosynthesis\n",
       "24  ADH2   YMR303C         Ammonia   0.30 -2.15      fermentation*       \n",
       "25  LEU1   YGL009C         Phosphate 0.05 -0.81      leucine biosynthesis\n",
       "26  ADH2   YMR303C         Phosphate 0.05 -4.60      fermentation*       \n",
       "27  LEU1   YGL009C         Phosphate 0.10 -0.51      leucine biosynthesis\n",
       "28  ADH2   YMR303C         Phosphate 0.10 -6.15      fermentation*       \n",
       "29  LEU1   YGL009C         Phosphate 0.15 -0.61      leucine biosynthesis\n",
       "30  ADH2   YMR303C         Phosphate 0.15 -4.36      fermentation*       \n",
       "... ...    ...             ...       ...  ...        ...                 \n",
       "43  LEU1   YGL009C         Sulfate   0.20 -1.10      leucine biosynthesis\n",
       "44  ADH2   YMR303C         Sulfate   0.20 -2.05      fermentation*       \n",
       "45  LEU1   YGL009C         Sulfate   0.25 -0.86      leucine biosynthesis\n",
       "46  ADH2   YMR303C         Sulfate   0.25 -2.48      fermentation*       \n",
       "47  LEU1   YGL009C         Sulfate   0.30 -0.76      leucine biosynthesis\n",
       "48  ADH2   YMR303C         Sulfate   0.30 -1.59      fermentation*       \n",
       "49  LEU1   YGL009C         Leucine   0.05  3.84      leucine biosynthesis\n",
       "50  ADH2   YMR303C         Leucine   0.05  4.15      fermentation*       \n",
       "51  LEU1   YGL009C         Leucine   0.10  3.36      leucine biosynthesis\n",
       "52  ADH2   YMR303C         Leucine   0.10  2.61      fermentation*       \n",
       "53  LEU1   YGL009C         Leucine   0.15  3.24      leucine biosynthesis\n",
       "54  ADH2   YMR303C         Leucine   0.15  1.89      fermentation*       \n",
       "55  LEU1   YGL009C         Leucine   0.20  2.84      leucine biosynthesis\n",
       "56  ADH2   YMR303C         Leucine   0.20  1.90      fermentation*       \n",
       "57  LEU1   YGL009C         Leucine   0.25  2.04      leucine biosynthesis\n",
       "58  ADH2   YMR303C         Leucine   0.25  1.60      fermentation*       \n",
       "59  LEU1   YGL009C         Leucine   0.30  0.87      leucine biosynthesis\n",
       "60  ADH2   YMR303C         Leucine   0.30  1.56      fermentation*       \n",
       "61  LEU1   YGL009C         Uracil    0.05 -2.07      leucine biosynthesis\n",
       "62  ADH2   YMR303C         Uracil    0.05  0.63      fermentation*       \n",
       "63  LEU1   YGL009C         Uracil    0.10 -1.09      leucine biosynthesis\n",
       "64  ADH2   YMR303C         Uracil    0.10 -0.87      fermentation*       \n",
       "65  LEU1   YGL009C         Uracil    0.15 -0.52      leucine biosynthesis\n",
       "66  ADH2   YMR303C         Uracil    0.15 -1.32      fermentation*       \n",
       "67  LEU1   YGL009C         Uracil    0.20 -0.29      leucine biosynthesis\n",
       "68  ADH2   YMR303C         Uracil    0.20 -1.17      fermentation*       \n",
       "69  LEU1   YGL009C         Uracil    0.25 -0.34      leucine biosynthesis\n",
       "70  ADH2   YMR303C         Uracil    0.25 -1.20      fermentation*       \n",
       "71  LEU1   YGL009C         Uracil    0.30 -0.16      leucine biosynthesis\n",
       "72  ADH2   YMR303C         Uracil    0.30 -1.19      fermentation*       \n",
       "    mf                                    \n",
       "1   3-isopropylmalate dehydratase activity\n",
       "2   alcohol dehydrogenase activity        \n",
       "3   3-isopropylmalate dehydratase activity\n",
       "4   alcohol dehydrogenase activity        \n",
       "5   3-isopropylmalate dehydratase activity\n",
       "6   alcohol dehydrogenase activity        \n",
       "7   3-isopropylmalate dehydratase activity\n",
       "8   alcohol dehydrogenase activity        \n",
       "9   3-isopropylmalate dehydratase activity\n",
       "10  alcohol dehydrogenase activity        \n",
       "11  3-isopropylmalate dehydratase activity\n",
       "12  alcohol dehydrogenase activity        \n",
       "13  3-isopropylmalate dehydratase activity\n",
       "14  alcohol dehydrogenase activity        \n",
       "15  3-isopropylmalate dehydratase activity\n",
       "16  alcohol dehydrogenase activity        \n",
       "17  3-isopropylmalate dehydratase activity\n",
       "18  alcohol dehydrogenase activity        \n",
       "19  3-isopropylmalate dehydratase activity\n",
       "20  alcohol dehydrogenase activity        \n",
       "21  3-isopropylmalate dehydratase activity\n",
       "22  alcohol dehydrogenase activity        \n",
       "23  3-isopropylmalate dehydratase activity\n",
       "24  alcohol dehydrogenase activity        \n",
       "25  3-isopropylmalate dehydratase activity\n",
       "26  alcohol dehydrogenase activity        \n",
       "27  3-isopropylmalate dehydratase activity\n",
       "28  alcohol dehydrogenase activity        \n",
       "29  3-isopropylmalate dehydratase activity\n",
       "30  alcohol dehydrogenase activity        \n",
       "... ...                                   \n",
       "43  3-isopropylmalate dehydratase activity\n",
       "44  alcohol dehydrogenase activity        \n",
       "45  3-isopropylmalate dehydratase activity\n",
       "46  alcohol dehydrogenase activity        \n",
       "47  3-isopropylmalate dehydratase activity\n",
       "48  alcohol dehydrogenase activity        \n",
       "49  3-isopropylmalate dehydratase activity\n",
       "50  alcohol dehydrogenase activity        \n",
       "51  3-isopropylmalate dehydratase activity\n",
       "52  alcohol dehydrogenase activity        \n",
       "53  3-isopropylmalate dehydratase activity\n",
       "54  alcohol dehydrogenase activity        \n",
       "55  3-isopropylmalate dehydratase activity\n",
       "56  alcohol dehydrogenase activity        \n",
       "57  3-isopropylmalate dehydratase activity\n",
       "58  alcohol dehydrogenase activity        \n",
       "59  3-isopropylmalate dehydratase activity\n",
       "60  alcohol dehydrogenase activity        \n",
       "61  3-isopropylmalate dehydratase activity\n",
       "62  alcohol dehydrogenase activity        \n",
       "63  3-isopropylmalate dehydratase activity\n",
       "64  alcohol dehydrogenase activity        \n",
       "65  3-isopropylmalate dehydratase activity\n",
       "66  alcohol dehydrogenase activity        \n",
       "67  3-isopropylmalate dehydratase activity\n",
       "68  alcohol dehydrogenase activity        \n",
       "69  3-isopropylmalate dehydratase activity\n",
       "70  alcohol dehydrogenase activity        \n",
       "71  3-isopropylmalate dehydratase activity\n",
       "72  alcohol dehydrogenase activity        "
      ]
     },
     "metadata": {},
     "output_type": "display_data"
    }
   ],
   "source": [
    "# 查看多个基因\n",
    "filter(ydat, symbol == \"LEU1\" | symbol == \"ADH2\")"
   ]
  },
  {
   "cell_type": "markdown",
   "metadata": {},
   "source": [
    "**注意**，因为我是用jupyter notebook写的，有些输入的注释信息没有输出来，最好自己在rstudio试试。"
   ]
  },
  {
   "cell_type": "code",
   "execution_count": 39,
   "metadata": {},
   "outputs": [
    {
     "data": {
      "text/html": [
       "<table>\n",
       "<thead><tr><th scope=col>symbol</th><th scope=col>systematic_name</th><th scope=col>nutrient</th><th scope=col>rate</th><th scope=col>expression</th><th scope=col>bp</th><th scope=col>mf</th></tr></thead>\n",
       "<tbody>\n",
       "\t<tr><td>LEU1                                  </td><td>YGL009C                               </td><td>Glucose                               </td><td>0.05                                  </td><td>-1.12                                 </td><td>leucine biosynthesis                  </td><td>3-isopropylmalate dehydratase activity</td></tr>\n",
       "\t<tr><td>LEU1                                  </td><td>YGL009C                               </td><td>Ammonia                               </td><td>0.05                                  </td><td>-0.76                                 </td><td>leucine biosynthesis                  </td><td>3-isopropylmalate dehydratase activity</td></tr>\n",
       "\t<tr><td>LEU1                                  </td><td>YGL009C                               </td><td>Phosphate                             </td><td>0.05                                  </td><td>-0.81                                 </td><td>leucine biosynthesis                  </td><td>3-isopropylmalate dehydratase activity</td></tr>\n",
       "\t<tr><td>LEU1                                  </td><td>YGL009C                               </td><td>Sulfate                               </td><td>0.05                                  </td><td>-1.57                                 </td><td>leucine biosynthesis                  </td><td>3-isopropylmalate dehydratase activity</td></tr>\n",
       "\t<tr><td>LEU1                                  </td><td>YGL009C                               </td><td>Leucine                               </td><td>0.05                                  </td><td> 3.84                                 </td><td>leucine biosynthesis                  </td><td>3-isopropylmalate dehydratase activity</td></tr>\n",
       "\t<tr><td>LEU1                                  </td><td>YGL009C                               </td><td>Uracil                                </td><td>0.05                                  </td><td>-2.07                                 </td><td>leucine biosynthesis                  </td><td>3-isopropylmalate dehydratase activity</td></tr>\n",
       "</tbody>\n",
       "</table>\n"
      ],
      "text/latex": [
       "\\begin{tabular}{r|lllllll}\n",
       " symbol & systematic\\_name & nutrient & rate & expression & bp & mf\\\\\n",
       "\\hline\n",
       "\t LEU1                                   & YGL009C                                & Glucose                                & 0.05                                   & -1.12                                  & leucine biosynthesis                   & 3-isopropylmalate dehydratase activity\\\\\n",
       "\t LEU1                                   & YGL009C                                & Ammonia                                & 0.05                                   & -0.76                                  & leucine biosynthesis                   & 3-isopropylmalate dehydratase activity\\\\\n",
       "\t LEU1                                   & YGL009C                                & Phosphate                              & 0.05                                   & -0.81                                  & leucine biosynthesis                   & 3-isopropylmalate dehydratase activity\\\\\n",
       "\t LEU1                                   & YGL009C                                & Sulfate                                & 0.05                                   & -1.57                                  & leucine biosynthesis                   & 3-isopropylmalate dehydratase activity\\\\\n",
       "\t LEU1                                   & YGL009C                                & Leucine                                & 0.05                                   &  3.84                                  & leucine biosynthesis                   & 3-isopropylmalate dehydratase activity\\\\\n",
       "\t LEU1                                   & YGL009C                                & Uracil                                 & 0.05                                   & -2.07                                  & leucine biosynthesis                   & 3-isopropylmalate dehydratase activity\\\\\n",
       "\\end{tabular}\n"
      ],
      "text/markdown": [
       "\n",
       "symbol | systematic_name | nutrient | rate | expression | bp | mf | \n",
       "|---|---|---|---|---|---|\n",
       "| LEU1                                   | YGL009C                                | Glucose                                | 0.05                                   | -1.12                                  | leucine biosynthesis                   | 3-isopropylmalate dehydratase activity | \n",
       "| LEU1                                   | YGL009C                                | Ammonia                                | 0.05                                   | -0.76                                  | leucine biosynthesis                   | 3-isopropylmalate dehydratase activity | \n",
       "| LEU1                                   | YGL009C                                | Phosphate                              | 0.05                                   | -0.81                                  | leucine biosynthesis                   | 3-isopropylmalate dehydratase activity | \n",
       "| LEU1                                   | YGL009C                                | Sulfate                                | 0.05                                   | -1.57                                  | leucine biosynthesis                   | 3-isopropylmalate dehydratase activity | \n",
       "| LEU1                                   | YGL009C                                | Leucine                                | 0.05                                   |  3.84                                  | leucine biosynthesis                   | 3-isopropylmalate dehydratase activity | \n",
       "| LEU1                                   | YGL009C                                | Uracil                                 | 0.05                                   | -2.07                                  | leucine biosynthesis                   | 3-isopropylmalate dehydratase activity | \n",
       "\n",
       "\n"
      ],
      "text/plain": [
       "  symbol systematic_name nutrient  rate expression bp                  \n",
       "1 LEU1   YGL009C         Glucose   0.05 -1.12      leucine biosynthesis\n",
       "2 LEU1   YGL009C         Ammonia   0.05 -0.76      leucine biosynthesis\n",
       "3 LEU1   YGL009C         Phosphate 0.05 -0.81      leucine biosynthesis\n",
       "4 LEU1   YGL009C         Sulfate   0.05 -1.57      leucine biosynthesis\n",
       "5 LEU1   YGL009C         Leucine   0.05  3.84      leucine biosynthesis\n",
       "6 LEU1   YGL009C         Uracil    0.05 -2.07      leucine biosynthesis\n",
       "  mf                                    \n",
       "1 3-isopropylmalate dehydratase activity\n",
       "2 3-isopropylmalate dehydratase activity\n",
       "3 3-isopropylmalate dehydratase activity\n",
       "4 3-isopropylmalate dehydratase activity\n",
       "5 3-isopropylmalate dehydratase activity\n",
       "6 3-isopropylmalate dehydratase activity"
      ]
     },
     "metadata": {},
     "output_type": "display_data"
    }
   ],
   "source": [
    "# 查看由于营养缺失导致低生长率的LEU1表达水平\n",
    "# 注意白氨酸缺失时LEU1会高度上调\n",
    "filter(ydat, symbol == \"LEU1\" & rate == .05)"
   ]
  },
  {
   "cell_type": "code",
   "execution_count": 41,
   "metadata": {},
   "outputs": [
    {
     "data": {
      "text/html": [
       "<table>\n",
       "<thead><tr><th scope=col>symbol</th><th scope=col>systematic_name</th><th scope=col>nutrient</th><th scope=col>rate</th><th scope=col>expression</th><th scope=col>bp</th><th scope=col>mf</th></tr></thead>\n",
       "<tbody>\n",
       "\t<tr><td>LEU1                                  </td><td>YGL009C                               </td><td>Glucose                               </td><td>0.3                                   </td><td> 0.03                                 </td><td>leucine biosynthesis                  </td><td>3-isopropylmalate dehydratase activity</td></tr>\n",
       "\t<tr><td>LEU1                                  </td><td>YGL009C                               </td><td>Ammonia                               </td><td>0.3                                   </td><td>-0.22                                 </td><td>leucine biosynthesis                  </td><td>3-isopropylmalate dehydratase activity</td></tr>\n",
       "\t<tr><td>LEU1                                  </td><td>YGL009C                               </td><td>Phosphate                             </td><td>0.3                                   </td><td>-0.07                                 </td><td>leucine biosynthesis                  </td><td>3-isopropylmalate dehydratase activity</td></tr>\n",
       "\t<tr><td>LEU1                                  </td><td>YGL009C                               </td><td>Sulfate                               </td><td>0.3                                   </td><td>-0.76                                 </td><td>leucine biosynthesis                  </td><td>3-isopropylmalate dehydratase activity</td></tr>\n",
       "\t<tr><td>LEU1                                  </td><td>YGL009C                               </td><td>Leucine                               </td><td>0.3                                   </td><td> 0.87                                 </td><td>leucine biosynthesis                  </td><td>3-isopropylmalate dehydratase activity</td></tr>\n",
       "\t<tr><td>LEU1                                  </td><td>YGL009C                               </td><td>Uracil                                </td><td>0.3                                   </td><td>-0.16                                 </td><td>leucine biosynthesis                  </td><td>3-isopropylmalate dehydratase activity</td></tr>\n",
       "</tbody>\n",
       "</table>\n"
      ],
      "text/latex": [
       "\\begin{tabular}{r|lllllll}\n",
       " symbol & systematic\\_name & nutrient & rate & expression & bp & mf\\\\\n",
       "\\hline\n",
       "\t LEU1                                   & YGL009C                                & Glucose                                & 0.3                                    &  0.03                                  & leucine biosynthesis                   & 3-isopropylmalate dehydratase activity\\\\\n",
       "\t LEU1                                   & YGL009C                                & Ammonia                                & 0.3                                    & -0.22                                  & leucine biosynthesis                   & 3-isopropylmalate dehydratase activity\\\\\n",
       "\t LEU1                                   & YGL009C                                & Phosphate                              & 0.3                                    & -0.07                                  & leucine biosynthesis                   & 3-isopropylmalate dehydratase activity\\\\\n",
       "\t LEU1                                   & YGL009C                                & Sulfate                                & 0.3                                    & -0.76                                  & leucine biosynthesis                   & 3-isopropylmalate dehydratase activity\\\\\n",
       "\t LEU1                                   & YGL009C                                & Leucine                                & 0.3                                    &  0.87                                  & leucine biosynthesis                   & 3-isopropylmalate dehydratase activity\\\\\n",
       "\t LEU1                                   & YGL009C                                & Uracil                                 & 0.3                                    & -0.16                                  & leucine biosynthesis                   & 3-isopropylmalate dehydratase activity\\\\\n",
       "\\end{tabular}\n"
      ],
      "text/markdown": [
       "\n",
       "symbol | systematic_name | nutrient | rate | expression | bp | mf | \n",
       "|---|---|---|---|---|---|\n",
       "| LEU1                                   | YGL009C                                | Glucose                                | 0.3                                    |  0.03                                  | leucine biosynthesis                   | 3-isopropylmalate dehydratase activity | \n",
       "| LEU1                                   | YGL009C                                | Ammonia                                | 0.3                                    | -0.22                                  | leucine biosynthesis                   | 3-isopropylmalate dehydratase activity | \n",
       "| LEU1                                   | YGL009C                                | Phosphate                              | 0.3                                    | -0.07                                  | leucine biosynthesis                   | 3-isopropylmalate dehydratase activity | \n",
       "| LEU1                                   | YGL009C                                | Sulfate                                | 0.3                                    | -0.76                                  | leucine biosynthesis                   | 3-isopropylmalate dehydratase activity | \n",
       "| LEU1                                   | YGL009C                                | Leucine                                | 0.3                                    |  0.87                                  | leucine biosynthesis                   | 3-isopropylmalate dehydratase activity | \n",
       "| LEU1                                   | YGL009C                                | Uracil                                 | 0.3                                    | -0.16                                  | leucine biosynthesis                   | 3-isopropylmalate dehydratase activity | \n",
       "\n",
       "\n"
      ],
      "text/plain": [
       "  symbol systematic_name nutrient  rate expression bp                  \n",
       "1 LEU1   YGL009C         Glucose   0.3   0.03      leucine biosynthesis\n",
       "2 LEU1   YGL009C         Ammonia   0.3  -0.22      leucine biosynthesis\n",
       "3 LEU1   YGL009C         Phosphate 0.3  -0.07      leucine biosynthesis\n",
       "4 LEU1   YGL009C         Sulfate   0.3  -0.76      leucine biosynthesis\n",
       "5 LEU1   YGL009C         Leucine   0.3   0.87      leucine biosynthesis\n",
       "6 LEU1   YGL009C         Uracil    0.3  -0.16      leucine biosynthesis\n",
       "  mf                                    \n",
       "1 3-isopropylmalate dehydratase activity\n",
       "2 3-isopropylmalate dehydratase activity\n",
       "3 3-isopropylmalate dehydratase activity\n",
       "4 3-isopropylmalate dehydratase activity\n",
       "5 3-isopropylmalate dehydratase activity\n",
       "6 3-isopropylmalate dehydratase activity"
      ]
     },
     "metadata": {},
     "output_type": "display_data"
    }
   ],
   "source": [
    "# 但是生长/营养限制解除后表达会下降\n",
    "filter(ydat, symbol == \"LEU1\" & rate == .3)"
   ]
  },
  {
   "cell_type": "code",
   "execution_count": 42,
   "metadata": {},
   "outputs": [
    {
     "data": {
      "text/html": [
       "<table>\n",
       "<thead><tr><th scope=col>symbol</th><th scope=col>systematic_name</th><th scope=col>nutrient</th><th scope=col>rate</th><th scope=col>expression</th><th scope=col>bp</th><th scope=col>mf</th></tr></thead>\n",
       "<tbody>\n",
       "\t<tr><td>LEU1                                  </td><td>YGL009C                               </td><td>Leucine                               </td><td>0.05                                  </td><td>3.84                                  </td><td>leucine biosynthesis                  </td><td>3-isopropylmalate dehydratase activity</td></tr>\n",
       "\t<tr><td>LEU1                                  </td><td>YGL009C                               </td><td>Leucine                               </td><td>0.10                                  </td><td>3.36                                  </td><td>leucine biosynthesis                  </td><td>3-isopropylmalate dehydratase activity</td></tr>\n",
       "\t<tr><td>LEU1                                  </td><td>YGL009C                               </td><td>Leucine                               </td><td>0.15                                  </td><td>3.24                                  </td><td>leucine biosynthesis                  </td><td>3-isopropylmalate dehydratase activity</td></tr>\n",
       "\t<tr><td>LEU1                                  </td><td>YGL009C                               </td><td>Leucine                               </td><td>0.20                                  </td><td>2.84                                  </td><td>leucine biosynthesis                  </td><td>3-isopropylmalate dehydratase activity</td></tr>\n",
       "\t<tr><td>LEU1                                  </td><td>YGL009C                               </td><td>Leucine                               </td><td>0.25                                  </td><td>2.04                                  </td><td>leucine biosynthesis                  </td><td>3-isopropylmalate dehydratase activity</td></tr>\n",
       "\t<tr><td>LEU1                                  </td><td>YGL009C                               </td><td>Leucine                               </td><td>0.30                                  </td><td>0.87                                  </td><td>leucine biosynthesis                  </td><td>3-isopropylmalate dehydratase activity</td></tr>\n",
       "</tbody>\n",
       "</table>\n"
      ],
      "text/latex": [
       "\\begin{tabular}{r|lllllll}\n",
       " symbol & systematic\\_name & nutrient & rate & expression & bp & mf\\\\\n",
       "\\hline\n",
       "\t LEU1                                   & YGL009C                                & Leucine                                & 0.05                                   & 3.84                                   & leucine biosynthesis                   & 3-isopropylmalate dehydratase activity\\\\\n",
       "\t LEU1                                   & YGL009C                                & Leucine                                & 0.10                                   & 3.36                                   & leucine biosynthesis                   & 3-isopropylmalate dehydratase activity\\\\\n",
       "\t LEU1                                   & YGL009C                                & Leucine                                & 0.15                                   & 3.24                                   & leucine biosynthesis                   & 3-isopropylmalate dehydratase activity\\\\\n",
       "\t LEU1                                   & YGL009C                                & Leucine                                & 0.20                                   & 2.84                                   & leucine biosynthesis                   & 3-isopropylmalate dehydratase activity\\\\\n",
       "\t LEU1                                   & YGL009C                                & Leucine                                & 0.25                                   & 2.04                                   & leucine biosynthesis                   & 3-isopropylmalate dehydratase activity\\\\\n",
       "\t LEU1                                   & YGL009C                                & Leucine                                & 0.30                                   & 0.87                                   & leucine biosynthesis                   & 3-isopropylmalate dehydratase activity\\\\\n",
       "\\end{tabular}\n"
      ],
      "text/markdown": [
       "\n",
       "symbol | systematic_name | nutrient | rate | expression | bp | mf | \n",
       "|---|---|---|---|---|---|\n",
       "| LEU1                                   | YGL009C                                | Leucine                                | 0.05                                   | 3.84                                   | leucine biosynthesis                   | 3-isopropylmalate dehydratase activity | \n",
       "| LEU1                                   | YGL009C                                | Leucine                                | 0.10                                   | 3.36                                   | leucine biosynthesis                   | 3-isopropylmalate dehydratase activity | \n",
       "| LEU1                                   | YGL009C                                | Leucine                                | 0.15                                   | 3.24                                   | leucine biosynthesis                   | 3-isopropylmalate dehydratase activity | \n",
       "| LEU1                                   | YGL009C                                | Leucine                                | 0.20                                   | 2.84                                   | leucine biosynthesis                   | 3-isopropylmalate dehydratase activity | \n",
       "| LEU1                                   | YGL009C                                | Leucine                                | 0.25                                   | 2.04                                   | leucine biosynthesis                   | 3-isopropylmalate dehydratase activity | \n",
       "| LEU1                                   | YGL009C                                | Leucine                                | 0.30                                   | 0.87                                   | leucine biosynthesis                   | 3-isopropylmalate dehydratase activity | \n",
       "\n",
       "\n"
      ],
      "text/plain": [
       "  symbol systematic_name nutrient rate expression bp                  \n",
       "1 LEU1   YGL009C         Leucine  0.05 3.84       leucine biosynthesis\n",
       "2 LEU1   YGL009C         Leucine  0.10 3.36       leucine biosynthesis\n",
       "3 LEU1   YGL009C         Leucine  0.15 3.24       leucine biosynthesis\n",
       "4 LEU1   YGL009C         Leucine  0.20 2.84       leucine biosynthesis\n",
       "5 LEU1   YGL009C         Leucine  0.25 2.04       leucine biosynthesis\n",
       "6 LEU1   YGL009C         Leucine  0.30 0.87       leucine biosynthesis\n",
       "  mf                                    \n",
       "1 3-isopropylmalate dehydratase activity\n",
       "2 3-isopropylmalate dehydratase activity\n",
       "3 3-isopropylmalate dehydratase activity\n",
       "4 3-isopropylmalate dehydratase activity\n",
       "5 3-isopropylmalate dehydratase activity\n",
       "6 3-isopropylmalate dehydratase activity"
      ]
     },
     "metadata": {},
     "output_type": "display_data"
    }
   ],
   "source": [
    "# 仅显示LEU1和Leucine缺失的数据\n",
    "filter(ydat, symbol == \"LEU1\" & nutrient == \"Leucine\")"
   ]
  },
  {
   "cell_type": "code",
   "execution_count": 43,
   "metadata": {},
   "outputs": [
    {
     "data": {
      "text/html": [
       "<table>\n",
       "<thead><tr><th scope=col>symbol</th><th scope=col>systematic_name</th><th scope=col>nutrient</th><th scope=col>rate</th><th scope=col>expression</th><th scope=col>bp</th><th scope=col>mf</th></tr></thead>\n",
       "<tbody>\n",
       "\t<tr><td>LEU1                                  </td><td>YGL009C                               </td><td>Glucose                               </td><td>0.05                                  </td><td>-1.12                                 </td><td>leucine biosynthesis                  </td><td>3-isopropylmalate dehydratase activity</td></tr>\n",
       "\t<tr><td>LEU1                                  </td><td>YGL009C                               </td><td>Glucose                               </td><td>0.10                                  </td><td>-0.77                                 </td><td>leucine biosynthesis                  </td><td>3-isopropylmalate dehydratase activity</td></tr>\n",
       "\t<tr><td>LEU1                                  </td><td>YGL009C                               </td><td>Glucose                               </td><td>0.15                                  </td><td>-0.67                                 </td><td>leucine biosynthesis                  </td><td>3-isopropylmalate dehydratase activity</td></tr>\n",
       "\t<tr><td>LEU1                                  </td><td>YGL009C                               </td><td>Glucose                               </td><td>0.20                                  </td><td>-0.59                                 </td><td>leucine biosynthesis                  </td><td>3-isopropylmalate dehydratase activity</td></tr>\n",
       "\t<tr><td>LEU1                                  </td><td>YGL009C                               </td><td>Glucose                               </td><td>0.25                                  </td><td>-0.20                                 </td><td>leucine biosynthesis                  </td><td>3-isopropylmalate dehydratase activity</td></tr>\n",
       "\t<tr><td>LEU1                                  </td><td>YGL009C                               </td><td>Glucose                               </td><td>0.30                                  </td><td> 0.03                                 </td><td>leucine biosynthesis                  </td><td>3-isopropylmalate dehydratase activity</td></tr>\n",
       "</tbody>\n",
       "</table>\n"
      ],
      "text/latex": [
       "\\begin{tabular}{r|lllllll}\n",
       " symbol & systematic\\_name & nutrient & rate & expression & bp & mf\\\\\n",
       "\\hline\n",
       "\t LEU1                                   & YGL009C                                & Glucose                                & 0.05                                   & -1.12                                  & leucine biosynthesis                   & 3-isopropylmalate dehydratase activity\\\\\n",
       "\t LEU1                                   & YGL009C                                & Glucose                                & 0.10                                   & -0.77                                  & leucine biosynthesis                   & 3-isopropylmalate dehydratase activity\\\\\n",
       "\t LEU1                                   & YGL009C                                & Glucose                                & 0.15                                   & -0.67                                  & leucine biosynthesis                   & 3-isopropylmalate dehydratase activity\\\\\n",
       "\t LEU1                                   & YGL009C                                & Glucose                                & 0.20                                   & -0.59                                  & leucine biosynthesis                   & 3-isopropylmalate dehydratase activity\\\\\n",
       "\t LEU1                                   & YGL009C                                & Glucose                                & 0.25                                   & -0.20                                  & leucine biosynthesis                   & 3-isopropylmalate dehydratase activity\\\\\n",
       "\t LEU1                                   & YGL009C                                & Glucose                                & 0.30                                   &  0.03                                  & leucine biosynthesis                   & 3-isopropylmalate dehydratase activity\\\\\n",
       "\\end{tabular}\n"
      ],
      "text/markdown": [
       "\n",
       "symbol | systematic_name | nutrient | rate | expression | bp | mf | \n",
       "|---|---|---|---|---|---|\n",
       "| LEU1                                   | YGL009C                                | Glucose                                | 0.05                                   | -1.12                                  | leucine biosynthesis                   | 3-isopropylmalate dehydratase activity | \n",
       "| LEU1                                   | YGL009C                                | Glucose                                | 0.10                                   | -0.77                                  | leucine biosynthesis                   | 3-isopropylmalate dehydratase activity | \n",
       "| LEU1                                   | YGL009C                                | Glucose                                | 0.15                                   | -0.67                                  | leucine biosynthesis                   | 3-isopropylmalate dehydratase activity | \n",
       "| LEU1                                   | YGL009C                                | Glucose                                | 0.20                                   | -0.59                                  | leucine biosynthesis                   | 3-isopropylmalate dehydratase activity | \n",
       "| LEU1                                   | YGL009C                                | Glucose                                | 0.25                                   | -0.20                                  | leucine biosynthesis                   | 3-isopropylmalate dehydratase activity | \n",
       "| LEU1                                   | YGL009C                                | Glucose                                | 0.30                                   |  0.03                                  | leucine biosynthesis                   | 3-isopropylmalate dehydratase activity | \n",
       "\n",
       "\n"
      ],
      "text/plain": [
       "  symbol systematic_name nutrient rate expression bp                  \n",
       "1 LEU1   YGL009C         Glucose  0.05 -1.12      leucine biosynthesis\n",
       "2 LEU1   YGL009C         Glucose  0.10 -0.77      leucine biosynthesis\n",
       "3 LEU1   YGL009C         Glucose  0.15 -0.67      leucine biosynthesis\n",
       "4 LEU1   YGL009C         Glucose  0.20 -0.59      leucine biosynthesis\n",
       "5 LEU1   YGL009C         Glucose  0.25 -0.20      leucine biosynthesis\n",
       "6 LEU1   YGL009C         Glucose  0.30  0.03      leucine biosynthesis\n",
       "  mf                                    \n",
       "1 3-isopropylmalate dehydratase activity\n",
       "2 3-isopropylmalate dehydratase activity\n",
       "3 3-isopropylmalate dehydratase activity\n",
       "4 3-isopropylmalate dehydratase activity\n",
       "5 3-isopropylmalate dehydratase activity\n",
       "6 3-isopropylmalate dehydratase activity"
      ]
     },
     "metadata": {},
     "output_type": "display_data"
    }
   ],
   "source": [
    "# 当其他营养缺失时LEU1表达如何？\n",
    "filter(ydat, symbol == \"LEU1\" & nutrient == \"Glucose\")"
   ]
  },
  {
   "cell_type": "markdown",
   "metadata": {},
   "source": [
    "**让我们用图形显示看看**"
   ]
  },
  {
   "cell_type": "code",
   "execution_count": 44,
   "metadata": {},
   "outputs": [
    {
     "data": {},
     "metadata": {},
     "output_type": "display_data"
    },
    {
     "data": {
      "image/png": "[encoded data removed]",
      "text/plain": [
       "plot without title"
      ]
     },
     "metadata": {},
     "output_type": "display_data"
    }
   ],
   "source": [
    "library(ggplot2)\n",
    "filter(ydat, symbol == \"LEU1\") %>%\n",
    "    ggplot(aes(rate, expression, colour=nutrient)) + geom_line(lwd=1.5)"
   ]
  },
  {
   "cell_type": "markdown",
   "metadata": {},
   "source": [
    "**仔细看看，当leucine缺失时LEU1高度表达，因为细胞必须自己合成。**"
   ]
  },
  {
   "cell_type": "markdown",
   "metadata": {},
   "source": [
    "#### EXERCISE 1\n",
    "\n",
    "1. Display the data where the gene ontology biological process (the bp variable) is “leucine biosynthesis” (case-sensitive) and the limiting nutrient was Leucine. (Answer should return a 24-by-7 data frame – 4 genes × 6 growth rates).\n",
    "2. Gene/rate combinations had high expression (in the top 1% of expressed genes)? Hint: see ?quantile and try quantile(ydat$expression, probs=.99) to see the expression value which is higher than 99% of all the data, then filter() based on that. Try wrapping your answer with a View() function so you can see the whole thing. What does it look like those genes are doing? Answer should return a 1971-by-7 data frame."
   ]
  },
  {
   "cell_type": "code",
   "execution_count": 45,
   "metadata": {},
   "outputs": [
    {
     "data": {
      "text/html": [
       "<table>\n",
       "<thead><tr><th scope=col>symbol</th><th scope=col>systematic_name</th><th scope=col>nutrient</th><th scope=col>rate</th><th scope=col>expression</th><th scope=col>bp</th><th scope=col>mf</th></tr></thead>\n",
       "<tbody>\n",
       "\t<tr><td>LEU9                                    </td><td>YOR108W                                 </td><td>Leucine                                 </td><td>0.05                                    </td><td> 0.44                                   </td><td>leucine biosynthesis                    </td><td>2-isopropylmalate synthase activity     </td></tr>\n",
       "\t<tr><td>LEU1                                    </td><td>YGL009C                                 </td><td>Leucine                                 </td><td>0.05                                    </td><td> 3.84                                   </td><td>leucine biosynthesis                    </td><td>3-isopropylmalate dehydratase activity  </td></tr>\n",
       "\t<tr><td>LEU2                                    </td><td>YCL018W                                 </td><td>Leucine                                 </td><td>0.05                                    </td><td> 1.54                                   </td><td>leucine biosynthesis                    </td><td>3-isopropylmalate dehydrogenase activity</td></tr>\n",
       "\t<tr><td>LEU4                                    </td><td>YNL104C                                 </td><td>Leucine                                 </td><td>0.05                                    </td><td> 1.94                                   </td><td>leucine biosynthesis                    </td><td>2-isopropylmalate synthase activity     </td></tr>\n",
       "\t<tr><td>LEU9                                    </td><td>YOR108W                                 </td><td>Leucine                                 </td><td>0.10                                    </td><td> 0.57                                   </td><td>leucine biosynthesis                    </td><td>2-isopropylmalate synthase activity     </td></tr>\n",
       "\t<tr><td>LEU1                                    </td><td>YGL009C                                 </td><td>Leucine                                 </td><td>0.10                                    </td><td> 3.36                                   </td><td>leucine biosynthesis                    </td><td>3-isopropylmalate dehydratase activity  </td></tr>\n",
       "\t<tr><td>LEU2                                    </td><td>YCL018W                                 </td><td>Leucine                                 </td><td>0.10                                    </td><td> 1.23                                   </td><td>leucine biosynthesis                    </td><td>3-isopropylmalate dehydrogenase activity</td></tr>\n",
       "\t<tr><td>LEU4                                    </td><td>YNL104C                                 </td><td>Leucine                                 </td><td>0.10                                    </td><td> 1.71                                   </td><td>leucine biosynthesis                    </td><td>2-isopropylmalate synthase activity     </td></tr>\n",
       "\t<tr><td>LEU9                                    </td><td>YOR108W                                 </td><td>Leucine                                 </td><td>0.15                                    </td><td> 0.46                                   </td><td>leucine biosynthesis                    </td><td>2-isopropylmalate synthase activity     </td></tr>\n",
       "\t<tr><td>LEU1                                    </td><td>YGL009C                                 </td><td>Leucine                                 </td><td>0.15                                    </td><td> 3.24                                   </td><td>leucine biosynthesis                    </td><td>3-isopropylmalate dehydratase activity  </td></tr>\n",
       "\t<tr><td>LEU2                                    </td><td>YCL018W                                 </td><td>Leucine                                 </td><td>0.15                                    </td><td> 0.69                                   </td><td>leucine biosynthesis                    </td><td>3-isopropylmalate dehydrogenase activity</td></tr>\n",
       "\t<tr><td>LEU4                                    </td><td>YNL104C                                 </td><td>Leucine                                 </td><td>0.15                                    </td><td> 1.06                                   </td><td>leucine biosynthesis                    </td><td>2-isopropylmalate synthase activity     </td></tr>\n",
       "\t<tr><td>LEU9                                    </td><td>YOR108W                                 </td><td>Leucine                                 </td><td>0.20                                    </td><td> 0.46                                   </td><td>leucine biosynthesis                    </td><td>2-isopropylmalate synthase activity     </td></tr>\n",
       "\t<tr><td>LEU1                                    </td><td>YGL009C                                 </td><td>Leucine                                 </td><td>0.20                                    </td><td> 2.84                                   </td><td>leucine biosynthesis                    </td><td>3-isopropylmalate dehydratase activity  </td></tr>\n",
       "\t<tr><td>LEU2                                    </td><td>YCL018W                                 </td><td>Leucine                                 </td><td>0.20                                    </td><td> 0.39                                   </td><td>leucine biosynthesis                    </td><td>3-isopropylmalate dehydrogenase activity</td></tr>\n",
       "\t<tr><td>LEU4                                    </td><td>YNL104C                                 </td><td>Leucine                                 </td><td>0.20                                    </td><td> 0.85                                   </td><td>leucine biosynthesis                    </td><td>2-isopropylmalate synthase activity     </td></tr>\n",
       "\t<tr><td>LEU9                                    </td><td>YOR108W                                 </td><td>Leucine                                 </td><td>0.25                                    </td><td> 0.36                                   </td><td>leucine biosynthesis                    </td><td>2-isopropylmalate synthase activity     </td></tr>\n",
       "\t<tr><td>LEU1                                    </td><td>YGL009C                                 </td><td>Leucine                                 </td><td>0.25                                    </td><td> 2.04                                   </td><td>leucine biosynthesis                    </td><td>3-isopropylmalate dehydratase activity  </td></tr>\n",
       "\t<tr><td>LEU2                                    </td><td>YCL018W                                 </td><td>Leucine                                 </td><td>0.25                                    </td><td>-0.59                                   </td><td>leucine biosynthesis                    </td><td>3-isopropylmalate dehydrogenase activity</td></tr>\n",
       "\t<tr><td>LEU4                                    </td><td>YNL104C                                 </td><td>Leucine                                 </td><td>0.25                                    </td><td> 0.17                                   </td><td>leucine biosynthesis                    </td><td>2-isopropylmalate synthase activity     </td></tr>\n",
       "\t<tr><td>LEU9                                    </td><td>YOR108W                                 </td><td>Leucine                                 </td><td>0.30                                    </td><td> 0.06                                   </td><td>leucine biosynthesis                    </td><td>2-isopropylmalate synthase activity     </td></tr>\n",
       "\t<tr><td>LEU1                                    </td><td>YGL009C                                 </td><td>Leucine                                 </td><td>0.30                                    </td><td> 0.87                                   </td><td>leucine biosynthesis                    </td><td>3-isopropylmalate dehydratase activity  </td></tr>\n",
       "\t<tr><td>LEU2                                    </td><td>YCL018W                                 </td><td>Leucine                                 </td><td>0.30                                    </td><td>-1.55                                   </td><td>leucine biosynthesis                    </td><td>3-isopropylmalate dehydrogenase activity</td></tr>\n",
       "\t<tr><td>LEU4                                    </td><td>YNL104C                                 </td><td>Leucine                                 </td><td>0.30                                    </td><td>-0.93                                   </td><td>leucine biosynthesis                    </td><td>2-isopropylmalate synthase activity     </td></tr>\n",
       "</tbody>\n",
       "</table>\n"
      ],
      "text/latex": [
       "\\begin{tabular}{r|lllllll}\n",
       " symbol & systematic\\_name & nutrient & rate & expression & bp & mf\\\\\n",
       "\\hline\n",
       "\t LEU9                                     & YOR108W                                  & Leucine                                  & 0.05                                     &  0.44                                    & leucine biosynthesis                     & 2-isopropylmalate synthase activity     \\\\\n",
       "\t LEU1                                     & YGL009C                                  & Leucine                                  & 0.05                                     &  3.84                                    & leucine biosynthesis                     & 3-isopropylmalate dehydratase activity  \\\\\n",
       "\t LEU2                                     & YCL018W                                  & Leucine                                  & 0.05                                     &  1.54                                    & leucine biosynthesis                     & 3-isopropylmalate dehydrogenase activity\\\\\n",
       "\t LEU4                                     & YNL104C                                  & Leucine                                  & 0.05                                     &  1.94                                    & leucine biosynthesis                     & 2-isopropylmalate synthase activity     \\\\\n",
       "\t LEU9                                     & YOR108W                                  & Leucine                                  & 0.10                                     &  0.57                                    & leucine biosynthesis                     & 2-isopropylmalate synthase activity     \\\\\n",
       "\t LEU1                                     & YGL009C                                  & Leucine                                  & 0.10                                     &  3.36                                    & leucine biosynthesis                     & 3-isopropylmalate dehydratase activity  \\\\\n",
       "\t LEU2                                     & YCL018W                                  & Leucine                                  & 0.10                                     &  1.23                                    & leucine biosynthesis                     & 3-isopropylmalate dehydrogenase activity\\\\\n",
       "\t LEU4                                     & YNL104C                                  & Leucine                                  & 0.10                                     &  1.71                                    & leucine biosynthesis                     & 2-isopropylmalate synthase activity     \\\\\n",
       "\t LEU9                                     & YOR108W                                  & Leucine                                  & 0.15                                     &  0.46                                    & leucine biosynthesis                     & 2-isopropylmalate synthase activity     \\\\\n",
       "\t LEU1                                     & YGL009C                                  & Leucine                                  & 0.15                                     &  3.24                                    & leucine biosynthesis                     & 3-isopropylmalate dehydratase activity  \\\\\n",
       "\t LEU2                                     & YCL018W                                  & Leucine                                  & 0.15                                     &  0.69                                    & leucine biosynthesis                     & 3-isopropylmalate dehydrogenase activity\\\\\n",
       "\t LEU4                                     & YNL104C                                  & Leucine                                  & 0.15                                     &  1.06                                    & leucine biosynthesis                     & 2-isopropylmalate synthase activity     \\\\\n",
       "\t LEU9                                     & YOR108W                                  & Leucine                                  & 0.20                                     &  0.46                                    & leucine biosynthesis                     & 2-isopropylmalate synthase activity     \\\\\n",
       "\t LEU1                                     & YGL009C                                  & Leucine                                  & 0.20                                     &  2.84                                    & leucine biosynthesis                     & 3-isopropylmalate dehydratase activity  \\\\\n",
       "\t LEU2                                     & YCL018W                                  & Leucine                                  & 0.20                                     &  0.39                                    & leucine biosynthesis                     & 3-isopropylmalate dehydrogenase activity\\\\\n",
       "\t LEU4                                     & YNL104C                                  & Leucine                                  & 0.20                                     &  0.85                                    & leucine biosynthesis                     & 2-isopropylmalate synthase activity     \\\\\n",
       "\t LEU9                                     & YOR108W                                  & Leucine                                  & 0.25                                     &  0.36                                    & leucine biosynthesis                     & 2-isopropylmalate synthase activity     \\\\\n",
       "\t LEU1                                     & YGL009C                                  & Leucine                                  & 0.25                                     &  2.04                                    & leucine biosynthesis                     & 3-isopropylmalate dehydratase activity  \\\\\n",
       "\t LEU2                                     & YCL018W                                  & Leucine                                  & 0.25                                     & -0.59                                    & leucine biosynthesis                     & 3-isopropylmalate dehydrogenase activity\\\\\n",
       "\t LEU4                                     & YNL104C                                  & Leucine                                  & 0.25                                     &  0.17                                    & leucine biosynthesis                     & 2-isopropylmalate synthase activity     \\\\\n",
       "\t LEU9                                     & YOR108W                                  & Leucine                                  & 0.30                                     &  0.06                                    & leucine biosynthesis                     & 2-isopropylmalate synthase activity     \\\\\n",
       "\t LEU1                                     & YGL009C                                  & Leucine                                  & 0.30                                     &  0.87                                    & leucine biosynthesis                     & 3-isopropylmalate dehydratase activity  \\\\\n",
       "\t LEU2                                     & YCL018W                                  & Leucine                                  & 0.30                                     & -1.55                                    & leucine biosynthesis                     & 3-isopropylmalate dehydrogenase activity\\\\\n",
       "\t LEU4                                     & YNL104C                                  & Leucine                                  & 0.30                                     & -0.93                                    & leucine biosynthesis                     & 2-isopropylmalate synthase activity     \\\\\n",
       "\\end{tabular}\n"
      ],
      "text/markdown": [
       "\n",
       "symbol | systematic_name | nutrient | rate | expression | bp | mf | \n",
       "|---|---|---|---|---|---|---|---|---|---|---|---|---|---|---|---|---|---|---|---|---|---|---|---|\n",
       "| LEU9                                     | YOR108W                                  | Leucine                                  | 0.05                                     |  0.44                                    | leucine biosynthesis                     | 2-isopropylmalate synthase activity      | \n",
       "| LEU1                                     | YGL009C                                  | Leucine                                  | 0.05                                     |  3.84                                    | leucine biosynthesis                     | 3-isopropylmalate dehydratase activity   | \n",
       "| LEU2                                     | YCL018W                                  | Leucine                                  | 0.05                                     |  1.54                                    | leucine biosynthesis                     | 3-isopropylmalate dehydrogenase activity | \n",
       "| LEU4                                     | YNL104C                                  | Leucine                                  | 0.05                                     |  1.94                                    | leucine biosynthesis                     | 2-isopropylmalate synthase activity      | \n",
       "| LEU9                                     | YOR108W                                  | Leucine                                  | 0.10                                     |  0.57                                    | leucine biosynthesis                     | 2-isopropylmalate synthase activity      | \n",
       "| LEU1                                     | YGL009C                                  | Leucine                                  | 0.10                                     |  3.36                                    | leucine biosynthesis                     | 3-isopropylmalate dehydratase activity   | \n",
       "| LEU2                                     | YCL018W                                  | Leucine                                  | 0.10                                     |  1.23                                    | leucine biosynthesis                     | 3-isopropylmalate dehydrogenase activity | \n",
       "| LEU4                                     | YNL104C                                  | Leucine                                  | 0.10                                     |  1.71                                    | leucine biosynthesis                     | 2-isopropylmalate synthase activity      | \n",
       "| LEU9                                     | YOR108W                                  | Leucine                                  | 0.15                                     |  0.46                                    | leucine biosynthesis                     | 2-isopropylmalate synthase activity      | \n",
       "| LEU1                                     | YGL009C                                  | Leucine                                  | 0.15                                     |  3.24                                    | leucine biosynthesis                     | 3-isopropylmalate dehydratase activity   | \n",
       "| LEU2                                     | YCL018W                                  | Leucine                                  | 0.15                                     |  0.69                                    | leucine biosynthesis                     | 3-isopropylmalate dehydrogenase activity | \n",
       "| LEU4                                     | YNL104C                                  | Leucine                                  | 0.15                                     |  1.06                                    | leucine biosynthesis                     | 2-isopropylmalate synthase activity      | \n",
       "| LEU9                                     | YOR108W                                  | Leucine                                  | 0.20                                     |  0.46                                    | leucine biosynthesis                     | 2-isopropylmalate synthase activity      | \n",
       "| LEU1                                     | YGL009C                                  | Leucine                                  | 0.20                                     |  2.84                                    | leucine biosynthesis                     | 3-isopropylmalate dehydratase activity   | \n",
       "| LEU2                                     | YCL018W                                  | Leucine                                  | 0.20                                     |  0.39                                    | leucine biosynthesis                     | 3-isopropylmalate dehydrogenase activity | \n",
       "| LEU4                                     | YNL104C                                  | Leucine                                  | 0.20                                     |  0.85                                    | leucine biosynthesis                     | 2-isopropylmalate synthase activity      | \n",
       "| LEU9                                     | YOR108W                                  | Leucine                                  | 0.25                                     |  0.36                                    | leucine biosynthesis                     | 2-isopropylmalate synthase activity      | \n",
       "| LEU1                                     | YGL009C                                  | Leucine                                  | 0.25                                     |  2.04                                    | leucine biosynthesis                     | 3-isopropylmalate dehydratase activity   | \n",
       "| LEU2                                     | YCL018W                                  | Leucine                                  | 0.25                                     | -0.59                                    | leucine biosynthesis                     | 3-isopropylmalate dehydrogenase activity | \n",
       "| LEU4                                     | YNL104C                                  | Leucine                                  | 0.25                                     |  0.17                                    | leucine biosynthesis                     | 2-isopropylmalate synthase activity      | \n",
       "| LEU9                                     | YOR108W                                  | Leucine                                  | 0.30                                     |  0.06                                    | leucine biosynthesis                     | 2-isopropylmalate synthase activity      | \n",
       "| LEU1                                     | YGL009C                                  | Leucine                                  | 0.30                                     |  0.87                                    | leucine biosynthesis                     | 3-isopropylmalate dehydratase activity   | \n",
       "| LEU2                                     | YCL018W                                  | Leucine                                  | 0.30                                     | -1.55                                    | leucine biosynthesis                     | 3-isopropylmalate dehydrogenase activity | \n",
       "| LEU4                                     | YNL104C                                  | Leucine                                  | 0.30                                     | -0.93                                    | leucine biosynthesis                     | 2-isopropylmalate synthase activity      | \n",
       "\n",
       "\n"
      ],
      "text/plain": [
       "   symbol systematic_name nutrient rate expression bp                  \n",
       "1  LEU9   YOR108W         Leucine  0.05  0.44      leucine biosynthesis\n",
       "2  LEU1   YGL009C         Leucine  0.05  3.84      leucine biosynthesis\n",
       "3  LEU2   YCL018W         Leucine  0.05  1.54      leucine biosynthesis\n",
       "4  LEU4   YNL104C         Leucine  0.05  1.94      leucine biosynthesis\n",
       "5  LEU9   YOR108W         Leucine  0.10  0.57      leucine biosynthesis\n",
       "6  LEU1   YGL009C         Leucine  0.10  3.36      leucine biosynthesis\n",
       "7  LEU2   YCL018W         Leucine  0.10  1.23      leucine biosynthesis\n",
       "8  LEU4   YNL104C         Leucine  0.10  1.71      leucine biosynthesis\n",
       "9  LEU9   YOR108W         Leucine  0.15  0.46      leucine biosynthesis\n",
       "10 LEU1   YGL009C         Leucine  0.15  3.24      leucine biosynthesis\n",
       "11 LEU2   YCL018W         Leucine  0.15  0.69      leucine biosynthesis\n",
       "12 LEU4   YNL104C         Leucine  0.15  1.06      leucine biosynthesis\n",
       "13 LEU9   YOR108W         Leucine  0.20  0.46      leucine biosynthesis\n",
       "14 LEU1   YGL009C         Leucine  0.20  2.84      leucine biosynthesis\n",
       "15 LEU2   YCL018W         Leucine  0.20  0.39      leucine biosynthesis\n",
       "16 LEU4   YNL104C         Leucine  0.20  0.85      leucine biosynthesis\n",
       "17 LEU9   YOR108W         Leucine  0.25  0.36      leucine biosynthesis\n",
       "18 LEU1   YGL009C         Leucine  0.25  2.04      leucine biosynthesis\n",
       "19 LEU2   YCL018W         Leucine  0.25 -0.59      leucine biosynthesis\n",
       "20 LEU4   YNL104C         Leucine  0.25  0.17      leucine biosynthesis\n",
       "21 LEU9   YOR108W         Leucine  0.30  0.06      leucine biosynthesis\n",
       "22 LEU1   YGL009C         Leucine  0.30  0.87      leucine biosynthesis\n",
       "23 LEU2   YCL018W         Leucine  0.30 -1.55      leucine biosynthesis\n",
       "24 LEU4   YNL104C         Leucine  0.30 -0.93      leucine biosynthesis\n",
       "   mf                                      \n",
       "1  2-isopropylmalate synthase activity     \n",
       "2  3-isopropylmalate dehydratase activity  \n",
       "3  3-isopropylmalate dehydrogenase activity\n",
       "4  2-isopropylmalate synthase activity     \n",
       "5  2-isopropylmalate synthase activity     \n",
       "6  3-isopropylmalate dehydratase activity  \n",
       "7  3-isopropylmalate dehydrogenase activity\n",
       "8  2-isopropylmalate synthase activity     \n",
       "9  2-isopropylmalate synthase activity     \n",
       "10 3-isopropylmalate dehydratase activity  \n",
       "11 3-isopropylmalate dehydrogenase activity\n",
       "12 2-isopropylmalate synthase activity     \n",
       "13 2-isopropylmalate synthase activity     \n",
       "14 3-isopropylmalate dehydratase activity  \n",
       "15 3-isopropylmalate dehydrogenase activity\n",
       "16 2-isopropylmalate synthase activity     \n",
       "17 2-isopropylmalate synthase activity     \n",
       "18 3-isopropylmalate dehydratase activity  \n",
       "19 3-isopropylmalate dehydrogenase activity\n",
       "20 2-isopropylmalate synthase activity     \n",
       "21 2-isopropylmalate synthase activity     \n",
       "22 3-isopropylmalate dehydratase activity  \n",
       "23 3-isopropylmalate dehydrogenase activity\n",
       "24 2-isopropylmalate synthase activity     "
      ]
     },
     "metadata": {},
     "output_type": "display_data"
    }
   ],
   "source": [
    "# 习题1\n",
    "filter(ydat, bp == \"leucine biosynthesis\" & nutrient == \"Leucine\")"
   ]
  },
  {
   "cell_type": "code",
   "execution_count": 47,
   "metadata": {},
   "outputs": [
    {
     "name": "stdout",
     "output_type": "stream",
     "text": [
      "Classes 'tbl_df', 'tbl' and 'data.frame':\t198430 obs. of  7 variables:\n",
      " $ symbol         : chr  \"SFB2\" NA \"QRI7\" \"CFT2\" ...\n",
      " $ systematic_name: chr  \"YNL049C\" \"YNL095C\" \"YDL104C\" \"YLR115W\" ...\n",
      " $ nutrient       : chr  \"Glucose\" \"Glucose\" \"Glucose\" \"Glucose\" ...\n",
      " $ rate           : num  0.05 0.05 0.05 0.05 0.05 0.05 0.05 0.05 0.05 0.05 ...\n",
      " $ expression     : num  -0.24 0.28 -0.02 -0.33 0.05 -0.69 -0.55 -0.75 -0.24 -0.16 ...\n",
      " $ bp             : chr  \"ER to Golgi transport\" \"biological process unknown\" \"proteolysis and peptidolysis\" \"mRNA polyadenylylation*\" ...\n",
      " $ mf             : chr  \"molecular function unknown\" \"molecular function unknown\" \"metalloendopeptidase activity\" \"RNA binding\" ...\n",
      " - attr(*, \"spec\")=List of 2\n",
      "  ..$ cols   :List of 7\n",
      "  .. ..$ symbol         : list()\n",
      "  .. .. ..- attr(*, \"class\")= chr  \"collector_character\" \"collector\"\n",
      "  .. ..$ systematic_name: list()\n",
      "  .. .. ..- attr(*, \"class\")= chr  \"collector_character\" \"collector\"\n",
      "  .. ..$ nutrient       : list()\n",
      "  .. .. ..- attr(*, \"class\")= chr  \"collector_character\" \"collector\"\n",
      "  .. ..$ rate           : list()\n",
      "  .. .. ..- attr(*, \"class\")= chr  \"collector_double\" \"collector\"\n",
      "  .. ..$ expression     : list()\n",
      "  .. .. ..- attr(*, \"class\")= chr  \"collector_double\" \"collector\"\n",
      "  .. ..$ bp             : list()\n",
      "  .. .. ..- attr(*, \"class\")= chr  \"collector_character\" \"collector\"\n",
      "  .. ..$ mf             : list()\n",
      "  .. .. ..- attr(*, \"class\")= chr  \"collector_character\" \"collector\"\n",
      "  ..$ default: list()\n",
      "  .. ..- attr(*, \"class\")= chr  \"collector_guess\" \"collector\"\n",
      "  ..- attr(*, \"class\")= chr \"col_spec\"\n"
     ]
    }
   ],
   "source": [
    "# 习题2\n",
    "str(ydat) # 先看看数据"
   ]
  },
  {
   "cell_type": "code",
   "execution_count": 49,
   "metadata": {},
   "outputs": [
    {
     "data": {
      "text/html": [
       "<strong>99%:</strong> 2.07"
      ],
      "text/latex": [
       "\\textbf{99\\textbackslash{}\\%:} 2.07"
      ],
      "text/markdown": [
       "**99%:** 2.07"
      ],
      "text/plain": [
       " 99% \n",
       "2.07 "
      ]
     },
     "metadata": {},
     "output_type": "display_data"
    }
   ],
   "source": [
    "quantile(ydat$expression, probs=.99)"
   ]
  },
  {
   "cell_type": "code",
   "execution_count": 50,
   "metadata": {},
   "outputs": [
    {
     "name": "stdout",
     "output_type": "stream",
     "text": [
      "Classes 'tbl_df', 'tbl' and 'data.frame':\t1971 obs. of  7 variables:\n",
      " $ symbol         : chr  \"ATO3\" NA NA NA ...\n",
      " $ systematic_name: chr  \"YDR384C\" \"YKL187C\" \"YGL117W\" \"YBR047W\" ...\n",
      " $ nutrient       : chr  \"Glucose\" \"Glucose\" \"Glucose\" \"Glucose\" ...\n",
      " $ rate           : num  0.05 0.05 0.05 0.05 0.05 0.05 0.05 0.05 0.05 0.05 ...\n",
      " $ expression     : num  2.27 4.13 2.3 2.14 3.71 2.4 3.22 2.19 2.38 2.54 ...\n",
      " $ bp             : chr  \"transport*\" \"biological process unknown\" \"biological process unknown\" \"biological process unknown\" ...\n",
      " $ mf             : chr  \"transporter activity\" \"molecular function unknown\" \"molecular function unknown\" \"molecular function unknown\" ...\n",
      " - attr(*, \"spec\")=List of 2\n",
      "  ..$ cols   :List of 7\n",
      "  .. ..$ symbol         : list()\n",
      "  .. .. ..- attr(*, \"class\")= chr  \"collector_character\" \"collector\"\n",
      "  .. ..$ systematic_name: list()\n",
      "  .. .. ..- attr(*, \"class\")= chr  \"collector_character\" \"collector\"\n",
      "  .. ..$ nutrient       : list()\n",
      "  .. .. ..- attr(*, \"class\")= chr  \"collector_character\" \"collector\"\n",
      "  .. ..$ rate           : list()\n",
      "  .. .. ..- attr(*, \"class\")= chr  \"collector_double\" \"collector\"\n",
      "  .. ..$ expression     : list()\n",
      "  .. .. ..- attr(*, \"class\")= chr  \"collector_double\" \"collector\"\n",
      "  .. ..$ bp             : list()\n",
      "  .. .. ..- attr(*, \"class\")= chr  \"collector_character\" \"collector\"\n",
      "  .. ..$ mf             : list()\n",
      "  .. .. ..- attr(*, \"class\")= chr  \"collector_character\" \"collector\"\n",
      "  ..$ default: list()\n",
      "  .. ..- attr(*, \"class\")= chr  \"collector_guess\" \"collector\"\n",
      "  ..- attr(*, \"class\")= chr \"col_spec\"\n"
     ]
    }
   ],
   "source": [
    "str(filter(ydat, expression > quantile(ydat$expression, probs=.99)))"
   ]
  },
  {
   "cell_type": "markdown",
   "metadata": {},
   "source": [
    "**可以看到结果跟提示的一致**，这里我没有输出所有结果，比较多，如果你想查看所有的结果，去掉最外层的`str()`函数。"
   ]
  },
  {
   "cell_type": "markdown",
   "metadata": {},
   "source": [
    "#### 旁白：将数据写入文件\n",
    "\n",
    "既然有`read.csv`对应的`read_csv`函数（我们这里使用的），当然也有`write.csv`对应的`write_csv`函数啦。\n",
    "\n",
    "下面我将部分数据存储为新对象并写入磁盘文件："
   ]
  },
  {
   "cell_type": "code",
   "execution_count": 53,
   "metadata": {
    "collapsed": true
   },
   "outputs": [],
   "source": [
    "# 将结果赋给新对象\n",
    "leudat = filter(ydat, nutrient == \"Leucine\" & bp == \"leucine biosynthesis\")"
   ]
  },
  {
   "cell_type": "code",
   "execution_count": 55,
   "metadata": {},
   "outputs": [
    {
     "name": "stdout",
     "output_type": "stream",
     "text": [
      "Classes 'tbl_df', 'tbl' and 'data.frame':\t24 obs. of  7 variables:\n",
      " $ symbol         : chr  \"LEU9\" \"LEU1\" \"LEU2\" \"LEU4\" ...\n",
      " $ systematic_name: chr  \"YOR108W\" \"YGL009C\" \"YCL018W\" \"YNL104C\" ...\n",
      " $ nutrient       : chr  \"Leucine\" \"Leucine\" \"Leucine\" \"Leucine\" ...\n",
      " $ rate           : num  0.05 0.05 0.05 0.05 0.1 0.1 0.1 0.1 0.15 0.15 ...\n",
      " $ expression     : num  0.44 3.84 1.54 1.94 0.57 3.36 1.23 1.71 0.46 3.24 ...\n",
      " $ bp             : chr  \"leucine biosynthesis\" \"leucine biosynthesis\" \"leucine biosynthesis\" \"leucine biosynthesis\" ...\n",
      " $ mf             : chr  \"2-isopropylmalate synthase activity\" \"3-isopropylmalate dehydratase activity\" \"3-isopropylmalate dehydrogenase activity\" \"2-isopropylmalate synthase activity\" ...\n",
      " - attr(*, \"spec\")=List of 2\n",
      "  ..$ cols   :List of 7\n",
      "  .. ..$ symbol         : list()\n",
      "  .. .. ..- attr(*, \"class\")= chr  \"collector_character\" \"collector\"\n",
      "  .. ..$ systematic_name: list()\n",
      "  .. .. ..- attr(*, \"class\")= chr  \"collector_character\" \"collector\"\n",
      "  .. ..$ nutrient       : list()\n",
      "  .. .. ..- attr(*, \"class\")= chr  \"collector_character\" \"collector\"\n",
      "  .. ..$ rate           : list()\n",
      "  .. .. ..- attr(*, \"class\")= chr  \"collector_double\" \"collector\"\n",
      "  .. ..$ expression     : list()\n",
      "  .. .. ..- attr(*, \"class\")= chr  \"collector_double\" \"collector\"\n",
      "  .. ..$ bp             : list()\n",
      "  .. .. ..- attr(*, \"class\")= chr  \"collector_character\" \"collector\"\n",
      "  .. ..$ mf             : list()\n",
      "  .. .. ..- attr(*, \"class\")= chr  \"collector_character\" \"collector\"\n",
      "  ..$ default: list()\n",
      "  .. ..- attr(*, \"class\")= chr  \"collector_guess\" \"collector\"\n",
      "  ..- attr(*, \"class\")= chr \"col_spec\"\n"
     ]
    }
   ],
   "source": [
    "str(leudat) # 确保前面的没写错"
   ]
  },
  {
   "cell_type": "code",
   "execution_count": 56,
   "metadata": {
    "collapsed": true
   },
   "outputs": [],
   "source": [
    "# 将结果写入磁盘\n",
    "write_csv(leudat, \"leucinedata.csv\")"
   ]
  },
  {
   "cell_type": "markdown",
   "metadata": {},
   "source": [
    "### select()\n",
    "\n",
    "前面我们看到了`filter()`函数用来返回匹配行，`select()`则是用来返回匹配列的。这有点像`subset()`函数的`select`参数吧。"
   ]
  },
  {
   "cell_type": "code",
   "execution_count": 61,
   "metadata": {},
   "outputs": [
    {
     "data": {
      "text/html": [
       "<table>\n",
       "<thead><tr><th scope=col>symbol</th><th scope=col>systematic_name</th></tr></thead>\n",
       "<tbody>\n",
       "\t<tr><td>SFB2   </td><td>YNL049C</td></tr>\n",
       "\t<tr><td>NA     </td><td>YNL095C</td></tr>\n",
       "\t<tr><td>QRI7   </td><td>YDL104C</td></tr>\n",
       "\t<tr><td>CFT2   </td><td>YLR115W</td></tr>\n",
       "\t<tr><td>SSO2   </td><td>YMR183C</td></tr>\n",
       "\t<tr><td>PSP2   </td><td>YML017W</td></tr>\n",
       "</tbody>\n",
       "</table>\n"
      ],
      "text/latex": [
       "\\begin{tabular}{r|ll}\n",
       " symbol & systematic\\_name\\\\\n",
       "\\hline\n",
       "\t SFB2    & YNL049C\\\\\n",
       "\t NA      & YNL095C\\\\\n",
       "\t QRI7    & YDL104C\\\\\n",
       "\t CFT2    & YLR115W\\\\\n",
       "\t SSO2    & YMR183C\\\\\n",
       "\t PSP2    & YML017W\\\\\n",
       "\\end{tabular}\n"
      ],
      "text/markdown": [
       "\n",
       "symbol | systematic_name | \n",
       "|---|---|---|---|---|---|\n",
       "| SFB2    | YNL049C | \n",
       "| NA      | YNL095C | \n",
       "| QRI7    | YDL104C | \n",
       "| CFT2    | YLR115W | \n",
       "| SSO2    | YMR183C | \n",
       "| PSP2    | YML017W | \n",
       "\n",
       "\n"
      ],
      "text/plain": [
       "  symbol systematic_name\n",
       "1 SFB2   YNL049C        \n",
       "2 NA     YNL095C        \n",
       "3 QRI7   YDL104C        \n",
       "4 CFT2   YLR115W        \n",
       "5 SSO2   YMR183C        \n",
       "6 PSP2   YML017W        "
      ]
     },
     "metadata": {},
     "output_type": "display_data"
    }
   ],
   "source": [
    "# 仅仅选择symbol 和 systematic_name\n",
    "head(select(ydat, symbol, systematic_name)) # 加了个head防止显示太多"
   ]
  },
  {
   "cell_type": "code",
   "execution_count": 59,
   "metadata": {},
   "outputs": [
    {
     "data": {
      "text/html": [
       "<table>\n",
       "<thead><tr><th scope=col>symbol</th><th scope=col>systematic_name</th><th scope=col>nutrient</th><th scope=col>rate</th><th scope=col>expression</th></tr></thead>\n",
       "<tbody>\n",
       "\t<tr><td>SFB2   </td><td>YNL049C</td><td>Glucose</td><td>0.05   </td><td>-0.24  </td></tr>\n",
       "\t<tr><td>NA     </td><td>YNL095C</td><td>Glucose</td><td>0.05   </td><td> 0.28  </td></tr>\n",
       "\t<tr><td>QRI7   </td><td>YDL104C</td><td>Glucose</td><td>0.05   </td><td>-0.02  </td></tr>\n",
       "\t<tr><td>CFT2   </td><td>YLR115W</td><td>Glucose</td><td>0.05   </td><td>-0.33  </td></tr>\n",
       "\t<tr><td>SSO2   </td><td>YMR183C</td><td>Glucose</td><td>0.05   </td><td> 0.05  </td></tr>\n",
       "\t<tr><td>PSP2   </td><td>YML017W</td><td>Glucose</td><td>0.05   </td><td>-0.69  </td></tr>\n",
       "</tbody>\n",
       "</table>\n"
      ],
      "text/latex": [
       "\\begin{tabular}{r|lllll}\n",
       " symbol & systematic\\_name & nutrient & rate & expression\\\\\n",
       "\\hline\n",
       "\t SFB2    & YNL049C & Glucose & 0.05    & -0.24  \\\\\n",
       "\t NA      & YNL095C & Glucose & 0.05    &  0.28  \\\\\n",
       "\t QRI7    & YDL104C & Glucose & 0.05    & -0.02  \\\\\n",
       "\t CFT2    & YLR115W & Glucose & 0.05    & -0.33  \\\\\n",
       "\t SSO2    & YMR183C & Glucose & 0.05    &  0.05  \\\\\n",
       "\t PSP2    & YML017W & Glucose & 0.05    & -0.69  \\\\\n",
       "\\end{tabular}\n"
      ],
      "text/markdown": [
       "\n",
       "symbol | systematic_name | nutrient | rate | expression | \n",
       "|---|---|---|---|---|---|\n",
       "| SFB2    | YNL049C | Glucose | 0.05    | -0.24   | \n",
       "| NA      | YNL095C | Glucose | 0.05    |  0.28   | \n",
       "| QRI7    | YDL104C | Glucose | 0.05    | -0.02   | \n",
       "| CFT2    | YLR115W | Glucose | 0.05    | -0.33   | \n",
       "| SSO2    | YMR183C | Glucose | 0.05    |  0.05   | \n",
       "| PSP2    | YML017W | Glucose | 0.05    | -0.69   | \n",
       "\n",
       "\n"
      ],
      "text/plain": [
       "  symbol systematic_name nutrient rate expression\n",
       "1 SFB2   YNL049C         Glucose  0.05 -0.24     \n",
       "2 NA     YNL095C         Glucose  0.05  0.28     \n",
       "3 QRI7   YDL104C         Glucose  0.05 -0.02     \n",
       "4 CFT2   YLR115W         Glucose  0.05 -0.33     \n",
       "5 SSO2   YMR183C         Glucose  0.05  0.05     \n",
       "6 PSP2   YML017W         Glucose  0.05 -0.69     "
      ]
     },
     "metadata": {},
     "output_type": "display_data"
    }
   ],
   "source": [
    "# 可以这样移除列\n",
    "head(select(ydat, -bp, -mf)) # 加了个head防止显示太多"
   ]
  },
  {
   "cell_type": "markdown",
   "metadata": {},
   "source": [
    "**注意**进行了上面操作后，原始数据ydat没有改变！相当于先生成了一个拷贝，进拷贝进行了修改。"
   ]
  },
  {
   "cell_type": "code",
   "execution_count": 62,
   "metadata": {
    "collapsed": true
   },
   "outputs": [],
   "source": [
    "# 如果我们要保存上述数据\n",
    "nogo = select(ydat, -bp, -mf)"
   ]
  },
  {
   "cell_type": "code",
   "execution_count": 63,
   "metadata": {},
   "outputs": [
    {
     "name": "stdout",
     "output_type": "stream",
     "text": [
      "Classes 'tbl_df', 'tbl' and 'data.frame':\t198430 obs. of  5 variables:\n",
      " $ symbol         : chr  \"SFB2\" NA \"QRI7\" \"CFT2\" ...\n",
      " $ systematic_name: chr  \"YNL049C\" \"YNL095C\" \"YDL104C\" \"YLR115W\" ...\n",
      " $ nutrient       : chr  \"Glucose\" \"Glucose\" \"Glucose\" \"Glucose\" ...\n",
      " $ rate           : num  0.05 0.05 0.05 0.05 0.05 0.05 0.05 0.05 0.05 0.05 ...\n",
      " $ expression     : num  -0.24 0.28 -0.02 -0.33 0.05 -0.69 -0.55 -0.75 -0.24 -0.16 ...\n",
      " - attr(*, \"spec\")=List of 2\n",
      "  ..$ cols   :List of 7\n",
      "  .. ..$ symbol         : list()\n",
      "  .. .. ..- attr(*, \"class\")= chr  \"collector_character\" \"collector\"\n",
      "  .. ..$ systematic_name: list()\n",
      "  .. .. ..- attr(*, \"class\")= chr  \"collector_character\" \"collector\"\n",
      "  .. ..$ nutrient       : list()\n",
      "  .. .. ..- attr(*, \"class\")= chr  \"collector_character\" \"collector\"\n",
      "  .. ..$ rate           : list()\n",
      "  .. .. ..- attr(*, \"class\")= chr  \"collector_double\" \"collector\"\n",
      "  .. ..$ expression     : list()\n",
      "  .. .. ..- attr(*, \"class\")= chr  \"collector_double\" \"collector\"\n",
      "  .. ..$ bp             : list()\n",
      "  .. .. ..- attr(*, \"class\")= chr  \"collector_character\" \"collector\"\n",
      "  .. ..$ mf             : list()\n",
      "  .. .. ..- attr(*, \"class\")= chr  \"collector_character\" \"collector\"\n",
      "  ..$ default: list()\n",
      "  .. ..- attr(*, \"class\")= chr  \"collector_guess\" \"collector\"\n",
      "  ..- attr(*, \"class\")= chr \"col_spec\"\n"
     ]
    }
   ],
   "source": [
    "str(nogo)"
   ]
  },
  {
   "cell_type": "code",
   "execution_count": 64,
   "metadata": {},
   "outputs": [
    {
     "data": {
      "text/html": [
       "<table>\n",
       "<thead><tr><th scope=col>symbol</th><th scope=col>systematic_name</th><th scope=col>nutrient</th><th scope=col>rate</th><th scope=col>expression</th></tr></thead>\n",
       "<tbody>\n",
       "\t<tr><td>LEU1     </td><td>YGL009C  </td><td>Glucose  </td><td>0.05     </td><td>-1.12    </td></tr>\n",
       "\t<tr><td>LEU1     </td><td>YGL009C  </td><td>Ammonia  </td><td>0.05     </td><td>-0.76    </td></tr>\n",
       "\t<tr><td>LEU1     </td><td>YGL009C  </td><td>Phosphate</td><td>0.05     </td><td>-0.81    </td></tr>\n",
       "\t<tr><td>LEU1     </td><td>YGL009C  </td><td>Sulfate  </td><td>0.05     </td><td>-1.57    </td></tr>\n",
       "\t<tr><td>LEU1     </td><td>YGL009C  </td><td>Leucine  </td><td>0.05     </td><td> 3.84    </td></tr>\n",
       "\t<tr><td>LEU1     </td><td>YGL009C  </td><td>Uracil   </td><td>0.05     </td><td>-2.07    </td></tr>\n",
       "</tbody>\n",
       "</table>\n"
      ],
      "text/latex": [
       "\\begin{tabular}{r|lllll}\n",
       " symbol & systematic\\_name & nutrient & rate & expression\\\\\n",
       "\\hline\n",
       "\t LEU1      & YGL009C   & Glucose   & 0.05      & -1.12    \\\\\n",
       "\t LEU1      & YGL009C   & Ammonia   & 0.05      & -0.76    \\\\\n",
       "\t LEU1      & YGL009C   & Phosphate & 0.05      & -0.81    \\\\\n",
       "\t LEU1      & YGL009C   & Sulfate   & 0.05      & -1.57    \\\\\n",
       "\t LEU1      & YGL009C   & Leucine   & 0.05      &  3.84    \\\\\n",
       "\t LEU1      & YGL009C   & Uracil    & 0.05      & -2.07    \\\\\n",
       "\\end{tabular}\n"
      ],
      "text/markdown": [
       "\n",
       "symbol | systematic_name | nutrient | rate | expression | \n",
       "|---|---|---|---|---|---|\n",
       "| LEU1      | YGL009C   | Glucose   | 0.05      | -1.12     | \n",
       "| LEU1      | YGL009C   | Ammonia   | 0.05      | -0.76     | \n",
       "| LEU1      | YGL009C   | Phosphate | 0.05      | -0.81     | \n",
       "| LEU1      | YGL009C   | Sulfate   | 0.05      | -1.57     | \n",
       "| LEU1      | YGL009C   | Leucine   | 0.05      |  3.84     | \n",
       "| LEU1      | YGL009C   | Uracil    | 0.05      | -2.07     | \n",
       "\n",
       "\n"
      ],
      "text/plain": [
       "  symbol systematic_name nutrient  rate expression\n",
       "1 LEU1   YGL009C         Glucose   0.05 -1.12     \n",
       "2 LEU1   YGL009C         Ammonia   0.05 -0.76     \n",
       "3 LEU1   YGL009C         Phosphate 0.05 -0.81     \n",
       "4 LEU1   YGL009C         Sulfate   0.05 -1.57     \n",
       "5 LEU1   YGL009C         Leucine   0.05  3.84     \n",
       "6 LEU1   YGL009C         Uracil    0.05 -2.07     "
      ]
     },
     "metadata": {},
     "output_type": "display_data"
    }
   ],
   "source": [
    "# 我们可以过滤这个新的数据集\n",
    "filter(nogo, symbol == \"LEU1\" & rate == .05)"
   ]
  },
  {
   "cell_type": "markdown",
   "metadata": {},
   "source": [
    "### mutate()\n",
    "\n",
    "mutate()函数用来给数据添加新的列。**记住，这些函数都不会修改操作的数据。**"
   ]
  },
  {
   "cell_type": "markdown",
   "metadata": {},
   "source": [
    ">The expression level reported here is the log2 of the sample signal divided by the signal in the reference channel, where the reference RNA for all samples was taken from the glucose-limited chemostat grown at a dilution rate of 0.25 h−1. Let’s mutate this data to add a new variable called “signal” that’s the actual raw signal ratio instead of the log-transformed signal."
   ]
  },
  {
   "cell_type": "markdown",
   "metadata": {},
   "source": [
    "意思是让我们添加新的一列，它的数值是表达的原始信号值。"
   ]
  },
  {
   "cell_type": "code",
   "execution_count": 66,
   "metadata": {},
   "outputs": [
    {
     "data": {
      "text/html": [
       "<table>\n",
       "<thead><tr><th scope=col>symbol</th><th scope=col>systematic_name</th><th scope=col>nutrient</th><th scope=col>rate</th><th scope=col>expression</th><th scope=col>signal</th></tr></thead>\n",
       "<tbody>\n",
       "\t<tr><td>SFB2     </td><td>YNL049C  </td><td>Glucose  </td><td>0.05     </td><td>-0.24    </td><td>0.8467453</td></tr>\n",
       "\t<tr><td>NA       </td><td>YNL095C  </td><td>Glucose  </td><td>0.05     </td><td> 0.28    </td><td>1.2141949</td></tr>\n",
       "\t<tr><td>QRI7     </td><td>YDL104C  </td><td>Glucose  </td><td>0.05     </td><td>-0.02    </td><td>0.9862327</td></tr>\n",
       "\t<tr><td>CFT2     </td><td>YLR115W  </td><td>Glucose  </td><td>0.05     </td><td>-0.33    </td><td>0.7955365</td></tr>\n",
       "\t<tr><td>SSO2     </td><td>YMR183C  </td><td>Glucose  </td><td>0.05     </td><td> 0.05    </td><td>1.0352649</td></tr>\n",
       "\t<tr><td>PSP2     </td><td>YML017W  </td><td>Glucose  </td><td>0.05     </td><td>-0.69    </td><td>0.6198538</td></tr>\n",
       "</tbody>\n",
       "</table>\n"
      ],
      "text/latex": [
       "\\begin{tabular}{r|llllll}\n",
       " symbol & systematic\\_name & nutrient & rate & expression & signal\\\\\n",
       "\\hline\n",
       "\t SFB2      & YNL049C   & Glucose   & 0.05      & -0.24     & 0.8467453\\\\\n",
       "\t NA        & YNL095C   & Glucose   & 0.05      &  0.28     & 1.2141949\\\\\n",
       "\t QRI7      & YDL104C   & Glucose   & 0.05      & -0.02     & 0.9862327\\\\\n",
       "\t CFT2      & YLR115W   & Glucose   & 0.05      & -0.33     & 0.7955365\\\\\n",
       "\t SSO2      & YMR183C   & Glucose   & 0.05      &  0.05     & 1.0352649\\\\\n",
       "\t PSP2      & YML017W   & Glucose   & 0.05      & -0.69     & 0.6198538\\\\\n",
       "\\end{tabular}\n"
      ],
      "text/markdown": [
       "\n",
       "symbol | systematic_name | nutrient | rate | expression | signal | \n",
       "|---|---|---|---|---|---|\n",
       "| SFB2      | YNL049C   | Glucose   | 0.05      | -0.24     | 0.8467453 | \n",
       "| NA        | YNL095C   | Glucose   | 0.05      |  0.28     | 1.2141949 | \n",
       "| QRI7      | YDL104C   | Glucose   | 0.05      | -0.02     | 0.9862327 | \n",
       "| CFT2      | YLR115W   | Glucose   | 0.05      | -0.33     | 0.7955365 | \n",
       "| SSO2      | YMR183C   | Glucose   | 0.05      |  0.05     | 1.0352649 | \n",
       "| PSP2      | YML017W   | Glucose   | 0.05      | -0.69     | 0.6198538 | \n",
       "\n",
       "\n"
      ],
      "text/plain": [
       "  symbol systematic_name nutrient rate expression signal   \n",
       "1 SFB2   YNL049C         Glucose  0.05 -0.24      0.8467453\n",
       "2 NA     YNL095C         Glucose  0.05  0.28      1.2141949\n",
       "3 QRI7   YDL104C         Glucose  0.05 -0.02      0.9862327\n",
       "4 CFT2   YLR115W         Glucose  0.05 -0.33      0.7955365\n",
       "5 SSO2   YMR183C         Glucose  0.05  0.05      1.0352649\n",
       "6 PSP2   YML017W         Glucose  0.05 -0.69      0.6198538"
      ]
     },
     "metadata": {},
     "output_type": "display_data"
    }
   ],
   "source": [
    "head(mutate(nogo, signal = 2^expression))"
   ]
  },
  {
   "cell_type": "code",
   "execution_count": 68,
   "metadata": {},
   "outputs": [
    {
     "data": {
      "text/html": [
       "<table>\n",
       "<thead><tr><th scope=col>symbol</th><th scope=col>systematic_name</th><th scope=col>nutrient</th><th scope=col>rate</th><th scope=col>expression</th><th scope=col>signal</th><th scope=col>sigsr</th></tr></thead>\n",
       "<tbody>\n",
       "\t<tr><td>SFB2     </td><td>YNL049C  </td><td>Glucose  </td><td>0.05     </td><td>-0.24    </td><td>0.8467453</td><td>0.9201877</td></tr>\n",
       "\t<tr><td>NA       </td><td>YNL095C  </td><td>Glucose  </td><td>0.05     </td><td> 0.28    </td><td>1.2141949</td><td>1.1019051</td></tr>\n",
       "\t<tr><td>QRI7     </td><td>YDL104C  </td><td>Glucose  </td><td>0.05     </td><td>-0.02    </td><td>0.9862327</td><td>0.9930925</td></tr>\n",
       "\t<tr><td>CFT2     </td><td>YLR115W  </td><td>Glucose  </td><td>0.05     </td><td>-0.33    </td><td>0.7955365</td><td>0.8919285</td></tr>\n",
       "\t<tr><td>SSO2     </td><td>YMR183C  </td><td>Glucose  </td><td>0.05     </td><td> 0.05    </td><td>1.0352649</td><td>1.0174797</td></tr>\n",
       "\t<tr><td>PSP2     </td><td>YML017W  </td><td>Glucose  </td><td>0.05     </td><td>-0.69    </td><td>0.6198538</td><td>0.7873080</td></tr>\n",
       "</tbody>\n",
       "</table>\n"
      ],
      "text/latex": [
       "\\begin{tabular}{r|lllllll}\n",
       " symbol & systematic\\_name & nutrient & rate & expression & signal & sigsr\\\\\n",
       "\\hline\n",
       "\t SFB2      & YNL049C   & Glucose   & 0.05      & -0.24     & 0.8467453 & 0.9201877\\\\\n",
       "\t NA        & YNL095C   & Glucose   & 0.05      &  0.28     & 1.2141949 & 1.1019051\\\\\n",
       "\t QRI7      & YDL104C   & Glucose   & 0.05      & -0.02     & 0.9862327 & 0.9930925\\\\\n",
       "\t CFT2      & YLR115W   & Glucose   & 0.05      & -0.33     & 0.7955365 & 0.8919285\\\\\n",
       "\t SSO2      & YMR183C   & Glucose   & 0.05      &  0.05     & 1.0352649 & 1.0174797\\\\\n",
       "\t PSP2      & YML017W   & Glucose   & 0.05      & -0.69     & 0.6198538 & 0.7873080\\\\\n",
       "\\end{tabular}\n"
      ],
      "text/markdown": [
       "\n",
       "symbol | systematic_name | nutrient | rate | expression | signal | sigsr | \n",
       "|---|---|---|---|---|---|\n",
       "| SFB2      | YNL049C   | Glucose   | 0.05      | -0.24     | 0.8467453 | 0.9201877 | \n",
       "| NA        | YNL095C   | Glucose   | 0.05      |  0.28     | 1.2141949 | 1.1019051 | \n",
       "| QRI7      | YDL104C   | Glucose   | 0.05      | -0.02     | 0.9862327 | 0.9930925 | \n",
       "| CFT2      | YLR115W   | Glucose   | 0.05      | -0.33     | 0.7955365 | 0.8919285 | \n",
       "| SSO2      | YMR183C   | Glucose   | 0.05      |  0.05     | 1.0352649 | 1.0174797 | \n",
       "| PSP2      | YML017W   | Glucose   | 0.05      | -0.69     | 0.6198538 | 0.7873080 | \n",
       "\n",
       "\n"
      ],
      "text/plain": [
       "  symbol systematic_name nutrient rate expression signal    sigsr    \n",
       "1 SFB2   YNL049C         Glucose  0.05 -0.24      0.8467453 0.9201877\n",
       "2 NA     YNL095C         Glucose  0.05  0.28      1.2141949 1.1019051\n",
       "3 QRI7   YDL104C         Glucose  0.05 -0.02      0.9862327 0.9930925\n",
       "4 CFT2   YLR115W         Glucose  0.05 -0.33      0.7955365 0.8919285\n",
       "5 SSO2   YMR183C         Glucose  0.05  0.05      1.0352649 1.0174797\n",
       "6 PSP2   YML017W         Glucose  0.05 -0.69      0.6198538 0.7873080"
      ]
     },
     "metadata": {},
     "output_type": "display_data"
    }
   ],
   "source": [
    "# 我们可以继续往后面加变量\n",
    "head(mutate(nogo, signal = 2^expression, sigsr = sqrt(signal))) # 注意喔，最后的变量是基于第一个生成的变量，有点意思呢"
   ]
  },
  {
   "cell_type": "markdown",
   "metadata": {},
   "source": [
    "关于画图，我们后面再讲，这里看看我们为啥用对数化的值来取代原始信号呢？"
   ]
  },
  {
   "cell_type": "code",
   "execution_count": 69,
   "metadata": {},
   "outputs": [
    {
     "data": {},
     "metadata": {},
     "output_type": "display_data"
    },
    {
     "data": {
      "image/png": "[encoded data removed]",
      "text/plain": [
       "plot without title"
      ]
     },
     "metadata": {},
     "output_type": "display_data"
    }
   ],
   "source": [
    "library(tidyr)\n",
    "mutate(nogo, signal=2^expression, sigsr=sqrt(signal)) %>%\n",
    "    gather(unit, value, expression:sigsr) %>%\n",
    "    ggplot(aes(value)) + geom_histogram(bins=100) + facet_wrap(~unit, scales=\"free\")"
   ]
  },
  {
   "cell_type": "markdown",
   "metadata": {},
   "source": [
    "**很显然第一个更接近正态分布，所以进行分析和检验的效果最好**"
   ]
  },
  {
   "cell_type": "markdown",
   "metadata": {},
   "source": [
    "### arrange()\n",
    "\n",
    "arrange()函数听名字就知道它要做的事情了。它对感兴趣的列进行排列（或者说排序），第一个参数是数据，后面的是排序变量，可以使用`desc()`函数进行降序排列。\n"
   ]
  },
  {
   "cell_type": "code",
   "execution_count": 72,
   "metadata": {},
   "outputs": [
    {
     "data": {
      "text/html": [
       "<table>\n",
       "<thead><tr><th scope=col>symbol</th><th scope=col>systematic_name</th><th scope=col>nutrient</th><th scope=col>rate</th><th scope=col>expression</th><th scope=col>bp</th><th scope=col>mf</th></tr></thead>\n",
       "<tbody>\n",
       "\t<tr><td>AAC1                       </td><td>YMR056C                    </td><td>Glucose                    </td><td>0.05                       </td><td>1.50                       </td><td>aerobic respiration*       </td><td>ATP:ADP antiporter activity</td></tr>\n",
       "\t<tr><td>AAC1                       </td><td>YMR056C                    </td><td>Glucose                    </td><td>0.10                       </td><td>1.54                       </td><td>aerobic respiration*       </td><td>ATP:ADP antiporter activity</td></tr>\n",
       "\t<tr><td>AAC1                       </td><td>YMR056C                    </td><td>Glucose                    </td><td>0.15                       </td><td>1.16                       </td><td>aerobic respiration*       </td><td>ATP:ADP antiporter activity</td></tr>\n",
       "\t<tr><td>AAC1                       </td><td>YMR056C                    </td><td>Glucose                    </td><td>0.20                       </td><td>1.04                       </td><td>aerobic respiration*       </td><td>ATP:ADP antiporter activity</td></tr>\n",
       "\t<tr><td>AAC1                       </td><td>YMR056C                    </td><td>Glucose                    </td><td>0.25                       </td><td>0.84                       </td><td>aerobic respiration*       </td><td>ATP:ADP antiporter activity</td></tr>\n",
       "\t<tr><td>AAC1                       </td><td>YMR056C                    </td><td>Glucose                    </td><td>0.30                       </td><td>0.01                       </td><td>aerobic respiration*       </td><td>ATP:ADP antiporter activity</td></tr>\n",
       "</tbody>\n",
       "</table>\n"
      ],
      "text/latex": [
       "\\begin{tabular}{r|lllllll}\n",
       " symbol & systematic\\_name & nutrient & rate & expression & bp & mf\\\\\n",
       "\\hline\n",
       "\t AAC1                        & YMR056C                     & Glucose                     & 0.05                        & 1.50                        & aerobic respiration*        & ATP:ADP antiporter activity\\\\\n",
       "\t AAC1                        & YMR056C                     & Glucose                     & 0.10                        & 1.54                        & aerobic respiration*        & ATP:ADP antiporter activity\\\\\n",
       "\t AAC1                        & YMR056C                     & Glucose                     & 0.15                        & 1.16                        & aerobic respiration*        & ATP:ADP antiporter activity\\\\\n",
       "\t AAC1                        & YMR056C                     & Glucose                     & 0.20                        & 1.04                        & aerobic respiration*        & ATP:ADP antiporter activity\\\\\n",
       "\t AAC1                        & YMR056C                     & Glucose                     & 0.25                        & 0.84                        & aerobic respiration*        & ATP:ADP antiporter activity\\\\\n",
       "\t AAC1                        & YMR056C                     & Glucose                     & 0.30                        & 0.01                        & aerobic respiration*        & ATP:ADP antiporter activity\\\\\n",
       "\\end{tabular}\n"
      ],
      "text/markdown": [
       "\n",
       "symbol | systematic_name | nutrient | rate | expression | bp | mf | \n",
       "|---|---|---|---|---|---|\n",
       "| AAC1                        | YMR056C                     | Glucose                     | 0.05                        | 1.50                        | aerobic respiration*        | ATP:ADP antiporter activity | \n",
       "| AAC1                        | YMR056C                     | Glucose                     | 0.10                        | 1.54                        | aerobic respiration*        | ATP:ADP antiporter activity | \n",
       "| AAC1                        | YMR056C                     | Glucose                     | 0.15                        | 1.16                        | aerobic respiration*        | ATP:ADP antiporter activity | \n",
       "| AAC1                        | YMR056C                     | Glucose                     | 0.20                        | 1.04                        | aerobic respiration*        | ATP:ADP antiporter activity | \n",
       "| AAC1                        | YMR056C                     | Glucose                     | 0.25                        | 0.84                        | aerobic respiration*        | ATP:ADP antiporter activity | \n",
       "| AAC1                        | YMR056C                     | Glucose                     | 0.30                        | 0.01                        | aerobic respiration*        | ATP:ADP antiporter activity | \n",
       "\n",
       "\n"
      ],
      "text/plain": [
       "  symbol systematic_name nutrient rate expression bp                  \n",
       "1 AAC1   YMR056C         Glucose  0.05 1.50       aerobic respiration*\n",
       "2 AAC1   YMR056C         Glucose  0.10 1.54       aerobic respiration*\n",
       "3 AAC1   YMR056C         Glucose  0.15 1.16       aerobic respiration*\n",
       "4 AAC1   YMR056C         Glucose  0.20 1.04       aerobic respiration*\n",
       "5 AAC1   YMR056C         Glucose  0.25 0.84       aerobic respiration*\n",
       "6 AAC1   YMR056C         Glucose  0.30 0.01       aerobic respiration*\n",
       "  mf                         \n",
       "1 ATP:ADP antiporter activity\n",
       "2 ATP:ADP antiporter activity\n",
       "3 ATP:ADP antiporter activity\n",
       "4 ATP:ADP antiporter activity\n",
       "5 ATP:ADP antiporter activity\n",
       "6 ATP:ADP antiporter activity"
      ]
     },
     "metadata": {},
     "output_type": "display_data"
    }
   ],
   "source": [
    "# 通过gene symbol排序\n",
    "head(arrange(ydat, symbol))"
   ]
  },
  {
   "cell_type": "code",
   "execution_count": 73,
   "metadata": {},
   "outputs": [
    {
     "data": {
      "text/html": [
       "<table>\n",
       "<thead><tr><th scope=col>symbol</th><th scope=col>systematic_name</th><th scope=col>nutrient</th><th scope=col>rate</th><th scope=col>expression</th><th scope=col>bp</th><th scope=col>mf</th></tr></thead>\n",
       "<tbody>\n",
       "\t<tr><td>SUL1                          </td><td>YBR294W                       </td><td>Phosphate                     </td><td>0.05                          </td><td>-6.50                         </td><td>sulfate transport             </td><td>sulfate transporter activity  </td></tr>\n",
       "\t<tr><td>SUL1                          </td><td>YBR294W                       </td><td>Phosphate                     </td><td>0.10                          </td><td>-6.34                         </td><td>sulfate transport             </td><td>sulfate transporter activity  </td></tr>\n",
       "\t<tr><td>ADH2                          </td><td>YMR303C                       </td><td>Phosphate                     </td><td>0.10                          </td><td>-6.15                         </td><td>fermentation*                 </td><td>alcohol dehydrogenase activity</td></tr>\n",
       "\t<tr><td>ADH2                          </td><td>YMR303C                       </td><td>Phosphate                     </td><td>0.30                          </td><td>-6.04                         </td><td>fermentation*                 </td><td>alcohol dehydrogenase activity</td></tr>\n",
       "\t<tr><td>ADH2                          </td><td>YMR303C                       </td><td>Phosphate                     </td><td>0.25                          </td><td>-5.89                         </td><td>fermentation*                 </td><td>alcohol dehydrogenase activity</td></tr>\n",
       "\t<tr><td>SUL1                          </td><td>YBR294W                       </td><td>Uracil                        </td><td>0.05                          </td><td>-5.55                         </td><td>sulfate transport             </td><td>sulfate transporter activity  </td></tr>\n",
       "</tbody>\n",
       "</table>\n"
      ],
      "text/latex": [
       "\\begin{tabular}{r|lllllll}\n",
       " symbol & systematic\\_name & nutrient & rate & expression & bp & mf\\\\\n",
       "\\hline\n",
       "\t SUL1                           & YBR294W                        & Phosphate                      & 0.05                           & -6.50                          & sulfate transport              & sulfate transporter activity  \\\\\n",
       "\t SUL1                           & YBR294W                        & Phosphate                      & 0.10                           & -6.34                          & sulfate transport              & sulfate transporter activity  \\\\\n",
       "\t ADH2                           & YMR303C                        & Phosphate                      & 0.10                           & -6.15                          & fermentation*                  & alcohol dehydrogenase activity\\\\\n",
       "\t ADH2                           & YMR303C                        & Phosphate                      & 0.30                           & -6.04                          & fermentation*                  & alcohol dehydrogenase activity\\\\\n",
       "\t ADH2                           & YMR303C                        & Phosphate                      & 0.25                           & -5.89                          & fermentation*                  & alcohol dehydrogenase activity\\\\\n",
       "\t SUL1                           & YBR294W                        & Uracil                         & 0.05                           & -5.55                          & sulfate transport              & sulfate transporter activity  \\\\\n",
       "\\end{tabular}\n"
      ],
      "text/markdown": [
       "\n",
       "symbol | systematic_name | nutrient | rate | expression | bp | mf | \n",
       "|---|---|---|---|---|---|\n",
       "| SUL1                           | YBR294W                        | Phosphate                      | 0.05                           | -6.50                          | sulfate transport              | sulfate transporter activity   | \n",
       "| SUL1                           | YBR294W                        | Phosphate                      | 0.10                           | -6.34                          | sulfate transport              | sulfate transporter activity   | \n",
       "| ADH2                           | YMR303C                        | Phosphate                      | 0.10                           | -6.15                          | fermentation*                  | alcohol dehydrogenase activity | \n",
       "| ADH2                           | YMR303C                        | Phosphate                      | 0.30                           | -6.04                          | fermentation*                  | alcohol dehydrogenase activity | \n",
       "| ADH2                           | YMR303C                        | Phosphate                      | 0.25                           | -5.89                          | fermentation*                  | alcohol dehydrogenase activity | \n",
       "| SUL1                           | YBR294W                        | Uracil                         | 0.05                           | -5.55                          | sulfate transport              | sulfate transporter activity   | \n",
       "\n",
       "\n"
      ],
      "text/plain": [
       "  symbol systematic_name nutrient  rate expression bp               \n",
       "1 SUL1   YBR294W         Phosphate 0.05 -6.50      sulfate transport\n",
       "2 SUL1   YBR294W         Phosphate 0.10 -6.34      sulfate transport\n",
       "3 ADH2   YMR303C         Phosphate 0.10 -6.15      fermentation*    \n",
       "4 ADH2   YMR303C         Phosphate 0.30 -6.04      fermentation*    \n",
       "5 ADH2   YMR303C         Phosphate 0.25 -5.89      fermentation*    \n",
       "6 SUL1   YBR294W         Uracil    0.05 -5.55      sulfate transport\n",
       "  mf                            \n",
       "1 sulfate transporter activity  \n",
       "2 sulfate transporter activity  \n",
       "3 alcohol dehydrogenase activity\n",
       "4 alcohol dehydrogenase activity\n",
       "5 alcohol dehydrogenase activity\n",
       "6 sulfate transporter activity  "
      ]
     },
     "metadata": {},
     "output_type": "display_data"
    }
   ],
   "source": [
    "# 按表达值，默认升序排列\n",
    "head(arrange(ydat, expression))"
   ]
  },
  {
   "cell_type": "code",
   "execution_count": 74,
   "metadata": {},
   "outputs": [
    {
     "data": {
      "text/html": [
       "<table>\n",
       "<thead><tr><th scope=col>symbol</th><th scope=col>systematic_name</th><th scope=col>nutrient</th><th scope=col>rate</th><th scope=col>expression</th><th scope=col>bp</th><th scope=col>mf</th></tr></thead>\n",
       "<tbody>\n",
       "\t<tr><td>GAP1                           </td><td>YKR039W                        </td><td>Ammonia                        </td><td>0.05                           </td><td>6.64                           </td><td>amino acid transport*          </td><td>L-proline permease activity*   </td></tr>\n",
       "\t<tr><td>DAL5                           </td><td>YJR152W                        </td><td>Ammonia                        </td><td>0.05                           </td><td>6.64                           </td><td>allantoate transport           </td><td>allantoate transporter activity</td></tr>\n",
       "\t<tr><td>GAP1                           </td><td>YKR039W                        </td><td>Ammonia                        </td><td>0.10                           </td><td>6.64                           </td><td>amino acid transport*          </td><td>L-proline permease activity*   </td></tr>\n",
       "\t<tr><td>DAL5                           </td><td>YJR152W                        </td><td>Ammonia                        </td><td>0.10                           </td><td>6.64                           </td><td>allantoate transport           </td><td>allantoate transporter activity</td></tr>\n",
       "\t<tr><td>DAL5                           </td><td>YJR152W                        </td><td>Ammonia                        </td><td>0.15                           </td><td>6.64                           </td><td>allantoate transport           </td><td>allantoate transporter activity</td></tr>\n",
       "\t<tr><td>DAL5                           </td><td>YJR152W                        </td><td>Ammonia                        </td><td>0.20                           </td><td>6.64                           </td><td>allantoate transport           </td><td>allantoate transporter activity</td></tr>\n",
       "</tbody>\n",
       "</table>\n"
      ],
      "text/latex": [
       "\\begin{tabular}{r|lllllll}\n",
       " symbol & systematic\\_name & nutrient & rate & expression & bp & mf\\\\\n",
       "\\hline\n",
       "\t GAP1                            & YKR039W                         & Ammonia                         & 0.05                            & 6.64                            & amino acid transport*           & L-proline permease activity*   \\\\\n",
       "\t DAL5                            & YJR152W                         & Ammonia                         & 0.05                            & 6.64                            & allantoate transport            & allantoate transporter activity\\\\\n",
       "\t GAP1                            & YKR039W                         & Ammonia                         & 0.10                            & 6.64                            & amino acid transport*           & L-proline permease activity*   \\\\\n",
       "\t DAL5                            & YJR152W                         & Ammonia                         & 0.10                            & 6.64                            & allantoate transport            & allantoate transporter activity\\\\\n",
       "\t DAL5                            & YJR152W                         & Ammonia                         & 0.15                            & 6.64                            & allantoate transport            & allantoate transporter activity\\\\\n",
       "\t DAL5                            & YJR152W                         & Ammonia                         & 0.20                            & 6.64                            & allantoate transport            & allantoate transporter activity\\\\\n",
       "\\end{tabular}\n"
      ],
      "text/markdown": [
       "\n",
       "symbol | systematic_name | nutrient | rate | expression | bp | mf | \n",
       "|---|---|---|---|---|---|\n",
       "| GAP1                            | YKR039W                         | Ammonia                         | 0.05                            | 6.64                            | amino acid transport*           | L-proline permease activity*    | \n",
       "| DAL5                            | YJR152W                         | Ammonia                         | 0.05                            | 6.64                            | allantoate transport            | allantoate transporter activity | \n",
       "| GAP1                            | YKR039W                         | Ammonia                         | 0.10                            | 6.64                            | amino acid transport*           | L-proline permease activity*    | \n",
       "| DAL5                            | YJR152W                         | Ammonia                         | 0.10                            | 6.64                            | allantoate transport            | allantoate transporter activity | \n",
       "| DAL5                            | YJR152W                         | Ammonia                         | 0.15                            | 6.64                            | allantoate transport            | allantoate transporter activity | \n",
       "| DAL5                            | YJR152W                         | Ammonia                         | 0.20                            | 6.64                            | allantoate transport            | allantoate transporter activity | \n",
       "\n",
       "\n"
      ],
      "text/plain": [
       "  symbol systematic_name nutrient rate expression bp                   \n",
       "1 GAP1   YKR039W         Ammonia  0.05 6.64       amino acid transport*\n",
       "2 DAL5   YJR152W         Ammonia  0.05 6.64       allantoate transport \n",
       "3 GAP1   YKR039W         Ammonia  0.10 6.64       amino acid transport*\n",
       "4 DAL5   YJR152W         Ammonia  0.10 6.64       allantoate transport \n",
       "5 DAL5   YJR152W         Ammonia  0.15 6.64       allantoate transport \n",
       "6 DAL5   YJR152W         Ammonia  0.20 6.64       allantoate transport \n",
       "  mf                             \n",
       "1 L-proline permease activity*   \n",
       "2 allantoate transporter activity\n",
       "3 L-proline permease activity*   \n",
       "4 allantoate transporter activity\n",
       "5 allantoate transporter activity\n",
       "6 allantoate transporter activity"
      ]
     },
     "metadata": {},
     "output_type": "display_data"
    }
   ],
   "source": [
    "# 降序\n",
    "head(arrange(ydat, desc(expression)))"
   ]
  },
  {
   "cell_type": "markdown",
   "metadata": {},
   "source": [
    "#### EXERCISE 2\n",
    "\n",
    "1. First, re-run the command you used above to filter the data for genes involved in the “leucine biosynthesis” biological process and where the limiting nutrient is Leucine.\n",
    "2. Wrap this entire filtered result with a call to arrange() where you’ll arrange the result of #1 by the gene symbol.\n",
    "3. Wrap this entire result in a View() statement so you can see the entire result.\n"
   ]
  },
  {
   "cell_type": "code",
   "execution_count": 2,
   "metadata": {},
   "outputs": [],
   "source": [
    "library(tidyverse) # 这是第二次接着学习，我先导入包"
   ]
  },
  {
   "cell_type": "code",
   "execution_count": 3,
   "metadata": {},
   "outputs": [
    {
     "name": "stderr",
     "output_type": "stream",
     "text": [
      "Parsed with column specification:\n",
      "cols(\n",
      "  symbol = col_character(),\n",
      "  systematic_name = col_character(),\n",
      "  nutrient = col_character(),\n",
      "  rate = col_double(),\n",
      "  expression = col_double(),\n",
      "  bp = col_character(),\n",
      "  mf = col_character()\n",
      ")\n"
     ]
    }
   ],
   "source": [
    "ydat = read_csv(file=\"./brauer2007_tidy.csv\")"
   ]
  },
  {
   "cell_type": "code",
   "execution_count": 4,
   "metadata": {
    "collapsed": true
   },
   "outputs": [],
   "source": [
    "leudat = filter(ydat, nutrient == \"Leucine\" & bp == \"leucine biosynthesis\") # 习题1"
   ]
  },
  {
   "cell_type": "code",
   "execution_count": 5,
   "metadata": {},
   "outputs": [
    {
     "data": {
      "text/html": [
       "<table>\n",
       "<thead><tr><th scope=col>symbol</th><th scope=col>systematic_name</th><th scope=col>nutrient</th><th scope=col>rate</th><th scope=col>expression</th><th scope=col>bp</th><th scope=col>mf</th></tr></thead>\n",
       "<tbody>\n",
       "\t<tr><td>LEU9                                    </td><td>YOR108W                                 </td><td>Leucine                                 </td><td>0.05                                    </td><td>0.44                                    </td><td>leucine biosynthesis                    </td><td>2-isopropylmalate synthase activity     </td></tr>\n",
       "\t<tr><td>LEU1                                    </td><td>YGL009C                                 </td><td>Leucine                                 </td><td>0.05                                    </td><td>3.84                                    </td><td>leucine biosynthesis                    </td><td>3-isopropylmalate dehydratase activity  </td></tr>\n",
       "\t<tr><td>LEU2                                    </td><td>YCL018W                                 </td><td>Leucine                                 </td><td>0.05                                    </td><td>1.54                                    </td><td>leucine biosynthesis                    </td><td>3-isopropylmalate dehydrogenase activity</td></tr>\n",
       "\t<tr><td>LEU4                                    </td><td>YNL104C                                 </td><td>Leucine                                 </td><td>0.05                                    </td><td>1.94                                    </td><td>leucine biosynthesis                    </td><td>2-isopropylmalate synthase activity     </td></tr>\n",
       "\t<tr><td>LEU9                                    </td><td>YOR108W                                 </td><td>Leucine                                 </td><td>0.10                                    </td><td>0.57                                    </td><td>leucine biosynthesis                    </td><td>2-isopropylmalate synthase activity     </td></tr>\n",
       "\t<tr><td>LEU1                                    </td><td>YGL009C                                 </td><td>Leucine                                 </td><td>0.10                                    </td><td>3.36                                    </td><td>leucine biosynthesis                    </td><td>3-isopropylmalate dehydratase activity  </td></tr>\n",
       "</tbody>\n",
       "</table>\n"
      ],
      "text/latex": [
       "\\begin{tabular}{r|lllllll}\n",
       " symbol & systematic\\_name & nutrient & rate & expression & bp & mf\\\\\n",
       "\\hline\n",
       "\t LEU9                                     & YOR108W                                  & Leucine                                  & 0.05                                     & 0.44                                     & leucine biosynthesis                     & 2-isopropylmalate synthase activity     \\\\\n",
       "\t LEU1                                     & YGL009C                                  & Leucine                                  & 0.05                                     & 3.84                                     & leucine biosynthesis                     & 3-isopropylmalate dehydratase activity  \\\\\n",
       "\t LEU2                                     & YCL018W                                  & Leucine                                  & 0.05                                     & 1.54                                     & leucine biosynthesis                     & 3-isopropylmalate dehydrogenase activity\\\\\n",
       "\t LEU4                                     & YNL104C                                  & Leucine                                  & 0.05                                     & 1.94                                     & leucine biosynthesis                     & 2-isopropylmalate synthase activity     \\\\\n",
       "\t LEU9                                     & YOR108W                                  & Leucine                                  & 0.10                                     & 0.57                                     & leucine biosynthesis                     & 2-isopropylmalate synthase activity     \\\\\n",
       "\t LEU1                                     & YGL009C                                  & Leucine                                  & 0.10                                     & 3.36                                     & leucine biosynthesis                     & 3-isopropylmalate dehydratase activity  \\\\\n",
       "\\end{tabular}\n"
      ],
      "text/markdown": [
       "\n",
       "symbol | systematic_name | nutrient | rate | expression | bp | mf | \n",
       "|---|---|---|---|---|---|\n",
       "| LEU9                                     | YOR108W                                  | Leucine                                  | 0.05                                     | 0.44                                     | leucine biosynthesis                     | 2-isopropylmalate synthase activity      | \n",
       "| LEU1                                     | YGL009C                                  | Leucine                                  | 0.05                                     | 3.84                                     | leucine biosynthesis                     | 3-isopropylmalate dehydratase activity   | \n",
       "| LEU2                                     | YCL018W                                  | Leucine                                  | 0.05                                     | 1.54                                     | leucine biosynthesis                     | 3-isopropylmalate dehydrogenase activity | \n",
       "| LEU4                                     | YNL104C                                  | Leucine                                  | 0.05                                     | 1.94                                     | leucine biosynthesis                     | 2-isopropylmalate synthase activity      | \n",
       "| LEU9                                     | YOR108W                                  | Leucine                                  | 0.10                                     | 0.57                                     | leucine biosynthesis                     | 2-isopropylmalate synthase activity      | \n",
       "| LEU1                                     | YGL009C                                  | Leucine                                  | 0.10                                     | 3.36                                     | leucine biosynthesis                     | 3-isopropylmalate dehydratase activity   | \n",
       "\n",
       "\n"
      ],
      "text/plain": [
       "  symbol systematic_name nutrient rate expression bp                  \n",
       "1 LEU9   YOR108W         Leucine  0.05 0.44       leucine biosynthesis\n",
       "2 LEU1   YGL009C         Leucine  0.05 3.84       leucine biosynthesis\n",
       "3 LEU2   YCL018W         Leucine  0.05 1.54       leucine biosynthesis\n",
       "4 LEU4   YNL104C         Leucine  0.05 1.94       leucine biosynthesis\n",
       "5 LEU9   YOR108W         Leucine  0.10 0.57       leucine biosynthesis\n",
       "6 LEU1   YGL009C         Leucine  0.10 3.36       leucine biosynthesis\n",
       "  mf                                      \n",
       "1 2-isopropylmalate synthase activity     \n",
       "2 3-isopropylmalate dehydratase activity  \n",
       "3 3-isopropylmalate dehydrogenase activity\n",
       "4 2-isopropylmalate synthase activity     \n",
       "5 2-isopropylmalate synthase activity     \n",
       "6 3-isopropylmalate dehydratase activity  "
      ]
     },
     "metadata": {},
     "output_type": "display_data"
    }
   ],
   "source": [
    "head(leudat)"
   ]
  },
  {
   "cell_type": "code",
   "execution_count": 6,
   "metadata": {},
   "outputs": [
    {
     "data": {
      "text/html": [
       "<table>\n",
       "<thead><tr><th scope=col>symbol</th><th scope=col>systematic_name</th><th scope=col>nutrient</th><th scope=col>rate</th><th scope=col>expression</th><th scope=col>bp</th><th scope=col>mf</th></tr></thead>\n",
       "<tbody>\n",
       "\t<tr><td>LEU1                                  </td><td>YGL009C                               </td><td>Leucine                               </td><td>0.05                                  </td><td>3.84                                  </td><td>leucine biosynthesis                  </td><td>3-isopropylmalate dehydratase activity</td></tr>\n",
       "\t<tr><td>LEU1                                  </td><td>YGL009C                               </td><td>Leucine                               </td><td>0.10                                  </td><td>3.36                                  </td><td>leucine biosynthesis                  </td><td>3-isopropylmalate dehydratase activity</td></tr>\n",
       "\t<tr><td>LEU1                                  </td><td>YGL009C                               </td><td>Leucine                               </td><td>0.15                                  </td><td>3.24                                  </td><td>leucine biosynthesis                  </td><td>3-isopropylmalate dehydratase activity</td></tr>\n",
       "\t<tr><td>LEU1                                  </td><td>YGL009C                               </td><td>Leucine                               </td><td>0.20                                  </td><td>2.84                                  </td><td>leucine biosynthesis                  </td><td>3-isopropylmalate dehydratase activity</td></tr>\n",
       "\t<tr><td>LEU1                                  </td><td>YGL009C                               </td><td>Leucine                               </td><td>0.25                                  </td><td>2.04                                  </td><td>leucine biosynthesis                  </td><td>3-isopropylmalate dehydratase activity</td></tr>\n",
       "\t<tr><td>LEU1                                  </td><td>YGL009C                               </td><td>Leucine                               </td><td>0.30                                  </td><td>0.87                                  </td><td>leucine biosynthesis                  </td><td>3-isopropylmalate dehydratase activity</td></tr>\n",
       "</tbody>\n",
       "</table>\n"
      ],
      "text/latex": [
       "\\begin{tabular}{r|lllllll}\n",
       " symbol & systematic\\_name & nutrient & rate & expression & bp & mf\\\\\n",
       "\\hline\n",
       "\t LEU1                                   & YGL009C                                & Leucine                                & 0.05                                   & 3.84                                   & leucine biosynthesis                   & 3-isopropylmalate dehydratase activity\\\\\n",
       "\t LEU1                                   & YGL009C                                & Leucine                                & 0.10                                   & 3.36                                   & leucine biosynthesis                   & 3-isopropylmalate dehydratase activity\\\\\n",
       "\t LEU1                                   & YGL009C                                & Leucine                                & 0.15                                   & 3.24                                   & leucine biosynthesis                   & 3-isopropylmalate dehydratase activity\\\\\n",
       "\t LEU1                                   & YGL009C                                & Leucine                                & 0.20                                   & 2.84                                   & leucine biosynthesis                   & 3-isopropylmalate dehydratase activity\\\\\n",
       "\t LEU1                                   & YGL009C                                & Leucine                                & 0.25                                   & 2.04                                   & leucine biosynthesis                   & 3-isopropylmalate dehydratase activity\\\\\n",
       "\t LEU1                                   & YGL009C                                & Leucine                                & 0.30                                   & 0.87                                   & leucine biosynthesis                   & 3-isopropylmalate dehydratase activity\\\\\n",
       "\\end{tabular}\n"
      ],
      "text/markdown": [
       "\n",
       "symbol | systematic_name | nutrient | rate | expression | bp | mf | \n",
       "|---|---|---|---|---|---|\n",
       "| LEU1                                   | YGL009C                                | Leucine                                | 0.05                                   | 3.84                                   | leucine biosynthesis                   | 3-isopropylmalate dehydratase activity | \n",
       "| LEU1                                   | YGL009C                                | Leucine                                | 0.10                                   | 3.36                                   | leucine biosynthesis                   | 3-isopropylmalate dehydratase activity | \n",
       "| LEU1                                   | YGL009C                                | Leucine                                | 0.15                                   | 3.24                                   | leucine biosynthesis                   | 3-isopropylmalate dehydratase activity | \n",
       "| LEU1                                   | YGL009C                                | Leucine                                | 0.20                                   | 2.84                                   | leucine biosynthesis                   | 3-isopropylmalate dehydratase activity | \n",
       "| LEU1                                   | YGL009C                                | Leucine                                | 0.25                                   | 2.04                                   | leucine biosynthesis                   | 3-isopropylmalate dehydratase activity | \n",
       "| LEU1                                   | YGL009C                                | Leucine                                | 0.30                                   | 0.87                                   | leucine biosynthesis                   | 3-isopropylmalate dehydratase activity | \n",
       "\n",
       "\n"
      ],
      "text/plain": [
       "  symbol systematic_name nutrient rate expression bp                  \n",
       "1 LEU1   YGL009C         Leucine  0.05 3.84       leucine biosynthesis\n",
       "2 LEU1   YGL009C         Leucine  0.10 3.36       leucine biosynthesis\n",
       "3 LEU1   YGL009C         Leucine  0.15 3.24       leucine biosynthesis\n",
       "4 LEU1   YGL009C         Leucine  0.20 2.84       leucine biosynthesis\n",
       "5 LEU1   YGL009C         Leucine  0.25 2.04       leucine biosynthesis\n",
       "6 LEU1   YGL009C         Leucine  0.30 0.87       leucine biosynthesis\n",
       "  mf                                    \n",
       "1 3-isopropylmalate dehydratase activity\n",
       "2 3-isopropylmalate dehydratase activity\n",
       "3 3-isopropylmalate dehydratase activity\n",
       "4 3-isopropylmalate dehydratase activity\n",
       "5 3-isopropylmalate dehydratase activity\n",
       "6 3-isopropylmalate dehydratase activity"
      ]
     },
     "metadata": {},
     "output_type": "display_data"
    }
   ],
   "source": [
    "head(arrange(leudat, symbol)) # 习题2"
   ]
  },
  {
   "cell_type": "code",
   "execution_count": 8,
   "metadata": {},
   "outputs": [],
   "source": [
    "# 习题3，这里jupyter notebook不支持，需要在rstudio中运行\n",
    "# View(leudat) "
   ]
  },
  {
   "cell_type": "markdown",
   "metadata": {},
   "source": [
    "### summarize()"
   ]
  },
  {
   "cell_type": "markdown",
   "metadata": {},
   "source": [
    "这个函数顾名思义是用来总结数据的。"
   ]
  },
  {
   "cell_type": "code",
   "execution_count": 9,
   "metadata": {},
   "outputs": [
    {
     "data": {
      "text/html": [
       "<table>\n",
       "<thead><tr><th scope=col>mean(expression)</th></tr></thead>\n",
       "<tbody>\n",
       "\t<tr><td>0.003367182</td></tr>\n",
       "</tbody>\n",
       "</table>\n"
      ],
      "text/latex": [
       "\\begin{tabular}{r|l}\n",
       " mean(expression)\\\\\n",
       "\\hline\n",
       "\t 0.003367182\\\\\n",
       "\\end{tabular}\n"
      ],
      "text/markdown": [
       "\n",
       "mean(expression) | \n",
       "|---|\n",
       "| 0.003367182 | \n",
       "\n",
       "\n"
      ],
      "text/plain": [
       "  mean(expression)\n",
       "1 0.003367182     "
      ]
     },
     "metadata": {},
     "output_type": "display_data"
    }
   ],
   "source": [
    "# 获取所有基因的平均表达值\n",
    "summarize(ydat, mean(expression))"
   ]
  },
  {
   "cell_type": "code",
   "execution_count": 10,
   "metadata": {},
   "outputs": [
    {
     "data": {
      "text/html": [
       "<table>\n",
       "<thead><tr><th scope=col>meanexp</th></tr></thead>\n",
       "<tbody>\n",
       "\t<tr><td>0.003367182</td></tr>\n",
       "</tbody>\n",
       "</table>\n"
      ],
      "text/latex": [
       "\\begin{tabular}{r|l}\n",
       " meanexp\\\\\n",
       "\\hline\n",
       "\t 0.003367182\\\\\n",
       "\\end{tabular}\n"
      ],
      "text/markdown": [
       "\n",
       "meanexp | \n",
       "|---|\n",
       "| 0.003367182 | \n",
       "\n",
       "\n"
      ],
      "text/plain": [
       "  meanexp    \n",
       "1 0.003367182"
      ]
     },
     "metadata": {},
     "output_type": "display_data"
    }
   ],
   "source": [
    "# 发现列名不是很好用，我们改改\n",
    "summarize(ydat, meanexp=mean(expression))"
   ]
  },
  {
   "cell_type": "code",
   "execution_count": 11,
   "metadata": {},
   "outputs": [
    {
     "data": {
      "text/html": [
       "<table>\n",
       "<thead><tr><th scope=col>r</th></tr></thead>\n",
       "<tbody>\n",
       "\t<tr><td>-0.02197312</td></tr>\n",
       "</tbody>\n",
       "</table>\n"
      ],
      "text/latex": [
       "\\begin{tabular}{r|l}\n",
       " r\\\\\n",
       "\\hline\n",
       "\t -0.02197312\\\\\n",
       "\\end{tabular}\n"
      ],
      "text/markdown": [
       "\n",
       "r | \n",
       "|---|\n",
       "| -0.02197312 | \n",
       "\n",
       "\n"
      ],
      "text/plain": [
       "  r          \n",
       "1 -0.02197312"
      ]
     },
     "metadata": {},
     "output_type": "display_data"
    }
   ],
   "source": [
    "# 计算生长率和表达的相关性\n",
    "summarize(ydat, r=cor(rate, expression))"
   ]
  },
  {
   "cell_type": "code",
   "execution_count": 12,
   "metadata": {},
   "outputs": [
    {
     "data": {
      "text/html": [
       "<table>\n",
       "<thead><tr><th scope=col>n()</th></tr></thead>\n",
       "<tbody>\n",
       "\t<tr><td>198430</td></tr>\n",
       "</tbody>\n",
       "</table>\n"
      ],
      "text/latex": [
       "\\begin{tabular}{r|l}\n",
       " n()\\\\\n",
       "\\hline\n",
       "\t 198430\\\\\n",
       "\\end{tabular}\n"
      ],
      "text/markdown": [
       "\n",
       "n() | \n",
       "|---|\n",
       "| 198430 | \n",
       "\n",
       "\n"
      ],
      "text/plain": [
       "  n()   \n",
       "1 198430"
      ]
     },
     "metadata": {},
     "output_type": "display_data"
    }
   ],
   "source": [
    "# 获取观测值的数目\n",
    "summarize(ydat, n())"
   ]
  },
  {
   "cell_type": "code",
   "execution_count": 13,
   "metadata": {},
   "outputs": [
    {
     "data": {
      "text/html": [
       "<table>\n",
       "<thead><tr><th scope=col>n_distinct(symbol)</th></tr></thead>\n",
       "<tbody>\n",
       "\t<tr><td>4211</td></tr>\n",
       "</tbody>\n",
       "</table>\n"
      ],
      "text/latex": [
       "\\begin{tabular}{r|l}\n",
       " n\\_distinct(symbol)\\\\\n",
       "\\hline\n",
       "\t 4211\\\\\n",
       "\\end{tabular}\n"
      ],
      "text/markdown": [
       "\n",
       "n_distinct(symbol) | \n",
       "|---|\n",
       "| 4211 | \n",
       "\n",
       "\n"
      ],
      "text/plain": [
       "  n_distinct(symbol)\n",
       "1 4211              "
      ]
     },
     "metadata": {},
     "output_type": "display_data"
    }
   ],
   "source": [
    "# 获取数据中有唯一基因符号的数目（就是有重叠的行都看作一）\n",
    "summarize(ydat, n_distinct(symbol))"
   ]
  },
  {
   "cell_type": "markdown",
   "metadata": {},
   "source": [
    "### Group_by()"
   ]
  },
  {
   "cell_type": "markdown",
   "metadata": {},
   "source": [
    "从上次操作中我们发现`summarize()`函数本身并不是非常有用。`group_by()`函数也是如此，它将已知数据框转换为分组的数据框。"
   ]
  },
  {
   "cell_type": "code",
   "execution_count": 15,
   "metadata": {},
   "outputs": [
    {
     "data": {
      "text/html": [
       "<table>\n",
       "<thead><tr><th scope=col>symbol</th><th scope=col>systematic_name</th><th scope=col>nutrient</th><th scope=col>rate</th><th scope=col>expression</th><th scope=col>bp</th><th scope=col>mf</th></tr></thead>\n",
       "<tbody>\n",
       "\t<tr><td>SFB2                                                       </td><td>YNL049C                                                    </td><td>Glucose                                                    </td><td>0.05                                                       </td><td>-0.24                                                      </td><td>ER to Golgi transport                                      </td><td>molecular function unknown                                 </td></tr>\n",
       "\t<tr><td>NA                                                         </td><td>YNL095C                                                    </td><td>Glucose                                                    </td><td>0.05                                                       </td><td> 0.28                                                      </td><td>biological process unknown                                 </td><td>molecular function unknown                                 </td></tr>\n",
       "\t<tr><td>QRI7                                                       </td><td>YDL104C                                                    </td><td>Glucose                                                    </td><td>0.05                                                       </td><td>-0.02                                                      </td><td>proteolysis and peptidolysis                               </td><td>metalloendopeptidase activity                              </td></tr>\n",
       "\t<tr><td>CFT2                                                       </td><td>YLR115W                                                    </td><td>Glucose                                                    </td><td>0.05                                                       </td><td>-0.33                                                      </td><td>mRNA polyadenylylation*                                    </td><td>RNA binding                                                </td></tr>\n",
       "\t<tr><td>SSO2                                                       </td><td>YMR183C                                                    </td><td>Glucose                                                    </td><td>0.05                                                       </td><td> 0.05                                                      </td><td>vesicle fusion*                                            </td><td>t-SNARE activity                                           </td></tr>\n",
       "\t<tr><td>PSP2                                                       </td><td>YML017W                                                    </td><td>Glucose                                                    </td><td>0.05                                                       </td><td>-0.69                                                      </td><td>biological process unknown                                 </td><td>molecular function unknown                                 </td></tr>\n",
       "\t<tr><td>RIB2                                                       </td><td>YOL066C                                                    </td><td>Glucose                                                    </td><td>0.05                                                       </td><td>-0.55                                                      </td><td>riboflavin biosynthesis                                    </td><td>pseudouridylate synthase activity*                         </td></tr>\n",
       "\t<tr><td>VMA13                                                      </td><td>YPR036W                                                    </td><td>Glucose                                                    </td><td>0.05                                                       </td><td>-0.75                                                      </td><td>vacuolar acidification                                     </td><td>hydrogen-transporting ATPase activity, rotational mechanism</td></tr>\n",
       "\t<tr><td>EDC3                                                       </td><td>YEL015W                                                    </td><td>Glucose                                                    </td><td>0.05                                                       </td><td>-0.24                                                      </td><td>deadenylylation-independent decapping                      </td><td>molecular function unknown                                 </td></tr>\n",
       "\t<tr><td>VPS5                                                       </td><td>YOR069W                                                    </td><td>Glucose                                                    </td><td>0.05                                                       </td><td>-0.16                                                      </td><td>protein retention in Golgi*                                </td><td>protein transporter activity                               </td></tr>\n",
       "</tbody>\n",
       "</table>\n"
      ],
      "text/latex": [
       "\\begin{tabular}{r|lllllll}\n",
       " symbol & systematic\\_name & nutrient & rate & expression & bp & mf\\\\\n",
       "\\hline\n",
       "\t SFB2                                                        & YNL049C                                                     & Glucose                                                     & 0.05                                                        & -0.24                                                       & ER to Golgi transport                                       & molecular function unknown                                 \\\\\n",
       "\t NA                                                          & YNL095C                                                     & Glucose                                                     & 0.05                                                        &  0.28                                                       & biological process unknown                                  & molecular function unknown                                 \\\\\n",
       "\t QRI7                                                        & YDL104C                                                     & Glucose                                                     & 0.05                                                        & -0.02                                                       & proteolysis and peptidolysis                                & metalloendopeptidase activity                              \\\\\n",
       "\t CFT2                                                        & YLR115W                                                     & Glucose                                                     & 0.05                                                        & -0.33                                                       & mRNA polyadenylylation*                                     & RNA binding                                                \\\\\n",
       "\t SSO2                                                        & YMR183C                                                     & Glucose                                                     & 0.05                                                        &  0.05                                                       & vesicle fusion*                                             & t-SNARE activity                                           \\\\\n",
       "\t PSP2                                                        & YML017W                                                     & Glucose                                                     & 0.05                                                        & -0.69                                                       & biological process unknown                                  & molecular function unknown                                 \\\\\n",
       "\t RIB2                                                        & YOL066C                                                     & Glucose                                                     & 0.05                                                        & -0.55                                                       & riboflavin biosynthesis                                     & pseudouridylate synthase activity*                         \\\\\n",
       "\t VMA13                                                       & YPR036W                                                     & Glucose                                                     & 0.05                                                        & -0.75                                                       & vacuolar acidification                                      & hydrogen-transporting ATPase activity, rotational mechanism\\\\\n",
       "\t EDC3                                                        & YEL015W                                                     & Glucose                                                     & 0.05                                                        & -0.24                                                       & deadenylylation-independent decapping                       & molecular function unknown                                 \\\\\n",
       "\t VPS5                                                        & YOR069W                                                     & Glucose                                                     & 0.05                                                        & -0.16                                                       & protein retention in Golgi*                                 & protein transporter activity                               \\\\\n",
       "\\end{tabular}\n"
      ],
      "text/markdown": [
       "\n",
       "symbol | systematic_name | nutrient | rate | expression | bp | mf | \n",
       "|---|---|---|---|---|---|---|---|---|---|\n",
       "| SFB2                                                        | YNL049C                                                     | Glucose                                                     | 0.05                                                        | -0.24                                                       | ER to Golgi transport                                       | molecular function unknown                                  | \n",
       "| NA                                                          | YNL095C                                                     | Glucose                                                     | 0.05                                                        |  0.28                                                       | biological process unknown                                  | molecular function unknown                                  | \n",
       "| QRI7                                                        | YDL104C                                                     | Glucose                                                     | 0.05                                                        | -0.02                                                       | proteolysis and peptidolysis                                | metalloendopeptidase activity                               | \n",
       "| CFT2                                                        | YLR115W                                                     | Glucose                                                     | 0.05                                                        | -0.33                                                       | mRNA polyadenylylation*                                     | RNA binding                                                 | \n",
       "| SSO2                                                        | YMR183C                                                     | Glucose                                                     | 0.05                                                        |  0.05                                                       | vesicle fusion*                                             | t-SNARE activity                                            | \n",
       "| PSP2                                                        | YML017W                                                     | Glucose                                                     | 0.05                                                        | -0.69                                                       | biological process unknown                                  | molecular function unknown                                  | \n",
       "| RIB2                                                        | YOL066C                                                     | Glucose                                                     | 0.05                                                        | -0.55                                                       | riboflavin biosynthesis                                     | pseudouridylate synthase activity*                          | \n",
       "| VMA13                                                       | YPR036W                                                     | Glucose                                                     | 0.05                                                        | -0.75                                                       | vacuolar acidification                                      | hydrogen-transporting ATPase activity, rotational mechanism | \n",
       "| EDC3                                                        | YEL015W                                                     | Glucose                                                     | 0.05                                                        | -0.24                                                       | deadenylylation-independent decapping                       | molecular function unknown                                  | \n",
       "| VPS5                                                        | YOR069W                                                     | Glucose                                                     | 0.05                                                        | -0.16                                                       | protein retention in Golgi*                                 | protein transporter activity                                | \n",
       "\n",
       "\n"
      ],
      "text/plain": [
       "   symbol systematic_name nutrient rate expression\n",
       "1  SFB2   YNL049C         Glucose  0.05 -0.24     \n",
       "2  NA     YNL095C         Glucose  0.05  0.28     \n",
       "3  QRI7   YDL104C         Glucose  0.05 -0.02     \n",
       "4  CFT2   YLR115W         Glucose  0.05 -0.33     \n",
       "5  SSO2   YMR183C         Glucose  0.05  0.05     \n",
       "6  PSP2   YML017W         Glucose  0.05 -0.69     \n",
       "7  RIB2   YOL066C         Glucose  0.05 -0.55     \n",
       "8  VMA13  YPR036W         Glucose  0.05 -0.75     \n",
       "9  EDC3   YEL015W         Glucose  0.05 -0.24     \n",
       "10 VPS5   YOR069W         Glucose  0.05 -0.16     \n",
       "   bp                                   \n",
       "1  ER to Golgi transport                \n",
       "2  biological process unknown           \n",
       "3  proteolysis and peptidolysis         \n",
       "4  mRNA polyadenylylation*              \n",
       "5  vesicle fusion*                      \n",
       "6  biological process unknown           \n",
       "7  riboflavin biosynthesis              \n",
       "8  vacuolar acidification               \n",
       "9  deadenylylation-independent decapping\n",
       "10 protein retention in Golgi*          \n",
       "   mf                                                         \n",
       "1  molecular function unknown                                 \n",
       "2  molecular function unknown                                 \n",
       "3  metalloendopeptidase activity                              \n",
       "4  RNA binding                                                \n",
       "5  t-SNARE activity                                           \n",
       "6  molecular function unknown                                 \n",
       "7  pseudouridylate synthase activity*                         \n",
       "8  hydrogen-transporting ATPase activity, rotational mechanism\n",
       "9  molecular function unknown                                 \n",
       "10 protein transporter activity                               "
      ]
     },
     "metadata": {},
     "output_type": "display_data"
    }
   ],
   "source": [
    "head(ydat, 10) "
   ]
  },
  {
   "cell_type": "code",
   "execution_count": 17,
   "metadata": {},
   "outputs": [
    {
     "data": {
      "text/html": [
       "<table>\n",
       "<thead><tr><th scope=col>symbol</th><th scope=col>systematic_name</th><th scope=col>nutrient</th><th scope=col>rate</th><th scope=col>expression</th><th scope=col>bp</th><th scope=col>mf</th></tr></thead>\n",
       "<tbody>\n",
       "\t<tr><td>SFB2                                                       </td><td>YNL049C                                                    </td><td>Glucose                                                    </td><td>0.05                                                       </td><td>-0.24                                                      </td><td>ER to Golgi transport                                      </td><td>molecular function unknown                                 </td></tr>\n",
       "\t<tr><td>NA                                                         </td><td>YNL095C                                                    </td><td>Glucose                                                    </td><td>0.05                                                       </td><td> 0.28                                                      </td><td>biological process unknown                                 </td><td>molecular function unknown                                 </td></tr>\n",
       "\t<tr><td>QRI7                                                       </td><td>YDL104C                                                    </td><td>Glucose                                                    </td><td>0.05                                                       </td><td>-0.02                                                      </td><td>proteolysis and peptidolysis                               </td><td>metalloendopeptidase activity                              </td></tr>\n",
       "\t<tr><td>CFT2                                                       </td><td>YLR115W                                                    </td><td>Glucose                                                    </td><td>0.05                                                       </td><td>-0.33                                                      </td><td>mRNA polyadenylylation*                                    </td><td>RNA binding                                                </td></tr>\n",
       "\t<tr><td>SSO2                                                       </td><td>YMR183C                                                    </td><td>Glucose                                                    </td><td>0.05                                                       </td><td> 0.05                                                      </td><td>vesicle fusion*                                            </td><td>t-SNARE activity                                           </td></tr>\n",
       "\t<tr><td>PSP2                                                       </td><td>YML017W                                                    </td><td>Glucose                                                    </td><td>0.05                                                       </td><td>-0.69                                                      </td><td>biological process unknown                                 </td><td>molecular function unknown                                 </td></tr>\n",
       "\t<tr><td>RIB2                                                       </td><td>YOL066C                                                    </td><td>Glucose                                                    </td><td>0.05                                                       </td><td>-0.55                                                      </td><td>riboflavin biosynthesis                                    </td><td>pseudouridylate synthase activity*                         </td></tr>\n",
       "\t<tr><td>VMA13                                                      </td><td>YPR036W                                                    </td><td>Glucose                                                    </td><td>0.05                                                       </td><td>-0.75                                                      </td><td>vacuolar acidification                                     </td><td>hydrogen-transporting ATPase activity, rotational mechanism</td></tr>\n",
       "\t<tr><td>EDC3                                                       </td><td>YEL015W                                                    </td><td>Glucose                                                    </td><td>0.05                                                       </td><td>-0.24                                                      </td><td>deadenylylation-independent decapping                      </td><td>molecular function unknown                                 </td></tr>\n",
       "\t<tr><td>VPS5                                                       </td><td>YOR069W                                                    </td><td>Glucose                                                    </td><td>0.05                                                       </td><td>-0.16                                                      </td><td>protein retention in Golgi*                                </td><td>protein transporter activity                               </td></tr>\n",
       "</tbody>\n",
       "</table>\n"
      ],
      "text/latex": [
       "\\begin{tabular}{r|lllllll}\n",
       " symbol & systematic\\_name & nutrient & rate & expression & bp & mf\\\\\n",
       "\\hline\n",
       "\t SFB2                                                        & YNL049C                                                     & Glucose                                                     & 0.05                                                        & -0.24                                                       & ER to Golgi transport                                       & molecular function unknown                                 \\\\\n",
       "\t NA                                                          & YNL095C                                                     & Glucose                                                     & 0.05                                                        &  0.28                                                       & biological process unknown                                  & molecular function unknown                                 \\\\\n",
       "\t QRI7                                                        & YDL104C                                                     & Glucose                                                     & 0.05                                                        & -0.02                                                       & proteolysis and peptidolysis                                & metalloendopeptidase activity                              \\\\\n",
       "\t CFT2                                                        & YLR115W                                                     & Glucose                                                     & 0.05                                                        & -0.33                                                       & mRNA polyadenylylation*                                     & RNA binding                                                \\\\\n",
       "\t SSO2                                                        & YMR183C                                                     & Glucose                                                     & 0.05                                                        &  0.05                                                       & vesicle fusion*                                             & t-SNARE activity                                           \\\\\n",
       "\t PSP2                                                        & YML017W                                                     & Glucose                                                     & 0.05                                                        & -0.69                                                       & biological process unknown                                  & molecular function unknown                                 \\\\\n",
       "\t RIB2                                                        & YOL066C                                                     & Glucose                                                     & 0.05                                                        & -0.55                                                       & riboflavin biosynthesis                                     & pseudouridylate synthase activity*                         \\\\\n",
       "\t VMA13                                                       & YPR036W                                                     & Glucose                                                     & 0.05                                                        & -0.75                                                       & vacuolar acidification                                      & hydrogen-transporting ATPase activity, rotational mechanism\\\\\n",
       "\t EDC3                                                        & YEL015W                                                     & Glucose                                                     & 0.05                                                        & -0.24                                                       & deadenylylation-independent decapping                       & molecular function unknown                                 \\\\\n",
       "\t VPS5                                                        & YOR069W                                                     & Glucose                                                     & 0.05                                                        & -0.16                                                       & protein retention in Golgi*                                 & protein transporter activity                               \\\\\n",
       "\\end{tabular}\n"
      ],
      "text/markdown": [
       "\n",
       "symbol | systematic_name | nutrient | rate | expression | bp | mf | \n",
       "|---|---|---|---|---|---|---|---|---|---|\n",
       "| SFB2                                                        | YNL049C                                                     | Glucose                                                     | 0.05                                                        | -0.24                                                       | ER to Golgi transport                                       | molecular function unknown                                  | \n",
       "| NA                                                          | YNL095C                                                     | Glucose                                                     | 0.05                                                        |  0.28                                                       | biological process unknown                                  | molecular function unknown                                  | \n",
       "| QRI7                                                        | YDL104C                                                     | Glucose                                                     | 0.05                                                        | -0.02                                                       | proteolysis and peptidolysis                                | metalloendopeptidase activity                               | \n",
       "| CFT2                                                        | YLR115W                                                     | Glucose                                                     | 0.05                                                        | -0.33                                                       | mRNA polyadenylylation*                                     | RNA binding                                                 | \n",
       "| SSO2                                                        | YMR183C                                                     | Glucose                                                     | 0.05                                                        |  0.05                                                       | vesicle fusion*                                             | t-SNARE activity                                            | \n",
       "| PSP2                                                        | YML017W                                                     | Glucose                                                     | 0.05                                                        | -0.69                                                       | biological process unknown                                  | molecular function unknown                                  | \n",
       "| RIB2                                                        | YOL066C                                                     | Glucose                                                     | 0.05                                                        | -0.55                                                       | riboflavin biosynthesis                                     | pseudouridylate synthase activity*                          | \n",
       "| VMA13                                                       | YPR036W                                                     | Glucose                                                     | 0.05                                                        | -0.75                                                       | vacuolar acidification                                      | hydrogen-transporting ATPase activity, rotational mechanism | \n",
       "| EDC3                                                        | YEL015W                                                     | Glucose                                                     | 0.05                                                        | -0.24                                                       | deadenylylation-independent decapping                       | molecular function unknown                                  | \n",
       "| VPS5                                                        | YOR069W                                                     | Glucose                                                     | 0.05                                                        | -0.16                                                       | protein retention in Golgi*                                 | protein transporter activity                                | \n",
       "\n",
       "\n"
      ],
      "text/plain": [
       "   symbol systematic_name nutrient rate expression\n",
       "1  SFB2   YNL049C         Glucose  0.05 -0.24     \n",
       "2  NA     YNL095C         Glucose  0.05  0.28     \n",
       "3  QRI7   YDL104C         Glucose  0.05 -0.02     \n",
       "4  CFT2   YLR115W         Glucose  0.05 -0.33     \n",
       "5  SSO2   YMR183C         Glucose  0.05  0.05     \n",
       "6  PSP2   YML017W         Glucose  0.05 -0.69     \n",
       "7  RIB2   YOL066C         Glucose  0.05 -0.55     \n",
       "8  VMA13  YPR036W         Glucose  0.05 -0.75     \n",
       "9  EDC3   YEL015W         Glucose  0.05 -0.24     \n",
       "10 VPS5   YOR069W         Glucose  0.05 -0.16     \n",
       "   bp                                   \n",
       "1  ER to Golgi transport                \n",
       "2  biological process unknown           \n",
       "3  proteolysis and peptidolysis         \n",
       "4  mRNA polyadenylylation*              \n",
       "5  vesicle fusion*                      \n",
       "6  biological process unknown           \n",
       "7  riboflavin biosynthesis              \n",
       "8  vacuolar acidification               \n",
       "9  deadenylylation-independent decapping\n",
       "10 protein retention in Golgi*          \n",
       "   mf                                                         \n",
       "1  molecular function unknown                                 \n",
       "2  molecular function unknown                                 \n",
       "3  metalloendopeptidase activity                              \n",
       "4  RNA binding                                                \n",
       "5  t-SNARE activity                                           \n",
       "6  molecular function unknown                                 \n",
       "7  pseudouridylate synthase activity*                         \n",
       "8  hydrogen-transporting ATPase activity, rotational mechanism\n",
       "9  molecular function unknown                                 \n",
       "10 protein transporter activity                               "
      ]
     },
     "metadata": {},
     "output_type": "display_data"
    }
   ],
   "source": [
    "head(group_by(ydat, nutrient),10)"
   ]
  },
  {
   "cell_type": "code",
   "execution_count": 18,
   "metadata": {},
   "outputs": [
    {
     "data": {
      "text/html": [
       "<table>\n",
       "<thead><tr><th scope=col>symbol</th><th scope=col>systematic_name</th><th scope=col>nutrient</th><th scope=col>rate</th><th scope=col>expression</th><th scope=col>bp</th><th scope=col>mf</th></tr></thead>\n",
       "<tbody>\n",
       "\t<tr><td>SFB2                                                       </td><td>YNL049C                                                    </td><td>Glucose                                                    </td><td>0.05                                                       </td><td>-0.24                                                      </td><td>ER to Golgi transport                                      </td><td>molecular function unknown                                 </td></tr>\n",
       "\t<tr><td>NA                                                         </td><td>YNL095C                                                    </td><td>Glucose                                                    </td><td>0.05                                                       </td><td> 0.28                                                      </td><td>biological process unknown                                 </td><td>molecular function unknown                                 </td></tr>\n",
       "\t<tr><td>QRI7                                                       </td><td>YDL104C                                                    </td><td>Glucose                                                    </td><td>0.05                                                       </td><td>-0.02                                                      </td><td>proteolysis and peptidolysis                               </td><td>metalloendopeptidase activity                              </td></tr>\n",
       "\t<tr><td>CFT2                                                       </td><td>YLR115W                                                    </td><td>Glucose                                                    </td><td>0.05                                                       </td><td>-0.33                                                      </td><td>mRNA polyadenylylation*                                    </td><td>RNA binding                                                </td></tr>\n",
       "\t<tr><td>SSO2                                                       </td><td>YMR183C                                                    </td><td>Glucose                                                    </td><td>0.05                                                       </td><td> 0.05                                                      </td><td>vesicle fusion*                                            </td><td>t-SNARE activity                                           </td></tr>\n",
       "\t<tr><td>PSP2                                                       </td><td>YML017W                                                    </td><td>Glucose                                                    </td><td>0.05                                                       </td><td>-0.69                                                      </td><td>biological process unknown                                 </td><td>molecular function unknown                                 </td></tr>\n",
       "\t<tr><td>RIB2                                                       </td><td>YOL066C                                                    </td><td>Glucose                                                    </td><td>0.05                                                       </td><td>-0.55                                                      </td><td>riboflavin biosynthesis                                    </td><td>pseudouridylate synthase activity*                         </td></tr>\n",
       "\t<tr><td>VMA13                                                      </td><td>YPR036W                                                    </td><td>Glucose                                                    </td><td>0.05                                                       </td><td>-0.75                                                      </td><td>vacuolar acidification                                     </td><td>hydrogen-transporting ATPase activity, rotational mechanism</td></tr>\n",
       "\t<tr><td>EDC3                                                       </td><td>YEL015W                                                    </td><td>Glucose                                                    </td><td>0.05                                                       </td><td>-0.24                                                      </td><td>deadenylylation-independent decapping                      </td><td>molecular function unknown                                 </td></tr>\n",
       "\t<tr><td>VPS5                                                       </td><td>YOR069W                                                    </td><td>Glucose                                                    </td><td>0.05                                                       </td><td>-0.16                                                      </td><td>protein retention in Golgi*                                </td><td>protein transporter activity                               </td></tr>\n",
       "</tbody>\n",
       "</table>\n"
      ],
      "text/latex": [
       "\\begin{tabular}{r|lllllll}\n",
       " symbol & systematic\\_name & nutrient & rate & expression & bp & mf\\\\\n",
       "\\hline\n",
       "\t SFB2                                                        & YNL049C                                                     & Glucose                                                     & 0.05                                                        & -0.24                                                       & ER to Golgi transport                                       & molecular function unknown                                 \\\\\n",
       "\t NA                                                          & YNL095C                                                     & Glucose                                                     & 0.05                                                        &  0.28                                                       & biological process unknown                                  & molecular function unknown                                 \\\\\n",
       "\t QRI7                                                        & YDL104C                                                     & Glucose                                                     & 0.05                                                        & -0.02                                                       & proteolysis and peptidolysis                                & metalloendopeptidase activity                              \\\\\n",
       "\t CFT2                                                        & YLR115W                                                     & Glucose                                                     & 0.05                                                        & -0.33                                                       & mRNA polyadenylylation*                                     & RNA binding                                                \\\\\n",
       "\t SSO2                                                        & YMR183C                                                     & Glucose                                                     & 0.05                                                        &  0.05                                                       & vesicle fusion*                                             & t-SNARE activity                                           \\\\\n",
       "\t PSP2                                                        & YML017W                                                     & Glucose                                                     & 0.05                                                        & -0.69                                                       & biological process unknown                                  & molecular function unknown                                 \\\\\n",
       "\t RIB2                                                        & YOL066C                                                     & Glucose                                                     & 0.05                                                        & -0.55                                                       & riboflavin biosynthesis                                     & pseudouridylate synthase activity*                         \\\\\n",
       "\t VMA13                                                       & YPR036W                                                     & Glucose                                                     & 0.05                                                        & -0.75                                                       & vacuolar acidification                                      & hydrogen-transporting ATPase activity, rotational mechanism\\\\\n",
       "\t EDC3                                                        & YEL015W                                                     & Glucose                                                     & 0.05                                                        & -0.24                                                       & deadenylylation-independent decapping                       & molecular function unknown                                 \\\\\n",
       "\t VPS5                                                        & YOR069W                                                     & Glucose                                                     & 0.05                                                        & -0.16                                                       & protein retention in Golgi*                                 & protein transporter activity                               \\\\\n",
       "\\end{tabular}\n"
      ],
      "text/markdown": [
       "\n",
       "symbol | systematic_name | nutrient | rate | expression | bp | mf | \n",
       "|---|---|---|---|---|---|---|---|---|---|\n",
       "| SFB2                                                        | YNL049C                                                     | Glucose                                                     | 0.05                                                        | -0.24                                                       | ER to Golgi transport                                       | molecular function unknown                                  | \n",
       "| NA                                                          | YNL095C                                                     | Glucose                                                     | 0.05                                                        |  0.28                                                       | biological process unknown                                  | molecular function unknown                                  | \n",
       "| QRI7                                                        | YDL104C                                                     | Glucose                                                     | 0.05                                                        | -0.02                                                       | proteolysis and peptidolysis                                | metalloendopeptidase activity                               | \n",
       "| CFT2                                                        | YLR115W                                                     | Glucose                                                     | 0.05                                                        | -0.33                                                       | mRNA polyadenylylation*                                     | RNA binding                                                 | \n",
       "| SSO2                                                        | YMR183C                                                     | Glucose                                                     | 0.05                                                        |  0.05                                                       | vesicle fusion*                                             | t-SNARE activity                                            | \n",
       "| PSP2                                                        | YML017W                                                     | Glucose                                                     | 0.05                                                        | -0.69                                                       | biological process unknown                                  | molecular function unknown                                  | \n",
       "| RIB2                                                        | YOL066C                                                     | Glucose                                                     | 0.05                                                        | -0.55                                                       | riboflavin biosynthesis                                     | pseudouridylate synthase activity*                          | \n",
       "| VMA13                                                       | YPR036W                                                     | Glucose                                                     | 0.05                                                        | -0.75                                                       | vacuolar acidification                                      | hydrogen-transporting ATPase activity, rotational mechanism | \n",
       "| EDC3                                                        | YEL015W                                                     | Glucose                                                     | 0.05                                                        | -0.24                                                       | deadenylylation-independent decapping                       | molecular function unknown                                  | \n",
       "| VPS5                                                        | YOR069W                                                     | Glucose                                                     | 0.05                                                        | -0.16                                                       | protein retention in Golgi*                                 | protein transporter activity                                | \n",
       "\n",
       "\n"
      ],
      "text/plain": [
       "   symbol systematic_name nutrient rate expression\n",
       "1  SFB2   YNL049C         Glucose  0.05 -0.24     \n",
       "2  NA     YNL095C         Glucose  0.05  0.28     \n",
       "3  QRI7   YDL104C         Glucose  0.05 -0.02     \n",
       "4  CFT2   YLR115W         Glucose  0.05 -0.33     \n",
       "5  SSO2   YMR183C         Glucose  0.05  0.05     \n",
       "6  PSP2   YML017W         Glucose  0.05 -0.69     \n",
       "7  RIB2   YOL066C         Glucose  0.05 -0.55     \n",
       "8  VMA13  YPR036W         Glucose  0.05 -0.75     \n",
       "9  EDC3   YEL015W         Glucose  0.05 -0.24     \n",
       "10 VPS5   YOR069W         Glucose  0.05 -0.16     \n",
       "   bp                                   \n",
       "1  ER to Golgi transport                \n",
       "2  biological process unknown           \n",
       "3  proteolysis and peptidolysis         \n",
       "4  mRNA polyadenylylation*              \n",
       "5  vesicle fusion*                      \n",
       "6  biological process unknown           \n",
       "7  riboflavin biosynthesis              \n",
       "8  vacuolar acidification               \n",
       "9  deadenylylation-independent decapping\n",
       "10 protein retention in Golgi*          \n",
       "   mf                                                         \n",
       "1  molecular function unknown                                 \n",
       "2  molecular function unknown                                 \n",
       "3  metalloendopeptidase activity                              \n",
       "4  RNA binding                                                \n",
       "5  t-SNARE activity                                           \n",
       "6  molecular function unknown                                 \n",
       "7  pseudouridylate synthase activity*                         \n",
       "8  hydrogen-transporting ATPase activity, rotational mechanism\n",
       "9  molecular function unknown                                 \n",
       "10 protein transporter activity                               "
      ]
     },
     "metadata": {},
     "output_type": "display_data"
    }
   ],
   "source": [
    "head(group_by(ydat, nutrient, rate),10) # 看起来跟上面结果没差别，这个可能需要多看一些行"
   ]
  },
  {
   "cell_type": "markdown",
   "metadata": {},
   "source": [
    "**真正非常有用的是将`group_by()`与`summarize`结合起来使用。**"
   ]
  },
  {
   "cell_type": "code",
   "execution_count": 19,
   "metadata": {},
   "outputs": [
    {
     "data": {
      "text/html": [
       "<table>\n",
       "<thead><tr><th scope=col>symbol</th><th scope=col>meanexp</th></tr></thead>\n",
       "<tbody>\n",
       "\t<tr><td>AAC1        </td><td> 0.528888889</td></tr>\n",
       "\t<tr><td>AAC3        </td><td>-0.216285714</td></tr>\n",
       "\t<tr><td>AAD10       </td><td> 0.438333333</td></tr>\n",
       "\t<tr><td>AAD14       </td><td>-0.071666667</td></tr>\n",
       "\t<tr><td>AAD16       </td><td> 0.241944444</td></tr>\n",
       "\t<tr><td>AAD4        </td><td>-0.791666667</td></tr>\n",
       "\t<tr><td>AAD6        </td><td> 0.290277778</td></tr>\n",
       "\t<tr><td>AAH1        </td><td> 0.046111111</td></tr>\n",
       "\t<tr><td>AAP1        </td><td>-0.003611111</td></tr>\n",
       "\t<tr><td>AAP1'       </td><td>-0.421388889</td></tr>\n",
       "\t<tr><td>AAT1        </td><td> 0.120277778</td></tr>\n",
       "\t<tr><td>AAT2        </td><td>-0.049444444</td></tr>\n",
       "\t<tr><td>ABC1        </td><td>-0.127500000</td></tr>\n",
       "\t<tr><td>ABD1        </td><td> 0.185000000</td></tr>\n",
       "\t<tr><td>ABF1        </td><td> 0.256388889</td></tr>\n",
       "\t<tr><td>ABF2        </td><td> 0.488611111</td></tr>\n",
       "\t<tr><td>ABP1        </td><td> 0.042222222</td></tr>\n",
       "\t<tr><td>ABP140      </td><td>-0.394722222</td></tr>\n",
       "\t<tr><td>ABZ1        </td><td>-0.076388889</td></tr>\n",
       "\t<tr><td>ACA1        </td><td> 0.158888889</td></tr>\n",
       "\t<tr><td>ACB1        </td><td> 0.179166667</td></tr>\n",
       "\t<tr><td>ACC1        </td><td> 0.323611111</td></tr>\n",
       "\t<tr><td>ACE2        </td><td>-0.306111111</td></tr>\n",
       "\t<tr><td>ACF2        </td><td> 0.180000000</td></tr>\n",
       "\t<tr><td>ACF4        </td><td> 0.319722222</td></tr>\n",
       "\t<tr><td>ACH1        </td><td>-0.738333333</td></tr>\n",
       "\t<tr><td>ACN9        </td><td>-0.382222222</td></tr>\n",
       "\t<tr><td>ACO1        </td><td> 0.130000000</td></tr>\n",
       "\t<tr><td>ACP1        </td><td>-0.802777778</td></tr>\n",
       "\t<tr><td>ACS1        </td><td>-0.078055556</td></tr>\n",
       "\t<tr><td>...</td><td>...</td></tr>\n",
       "\t<tr><td>YSY6       </td><td> 0.53222222</td></tr>\n",
       "\t<tr><td>YTA12      </td><td>-0.28000000</td></tr>\n",
       "\t<tr><td>YTA6       </td><td>-0.16305556</td></tr>\n",
       "\t<tr><td>YTA7       </td><td> 0.17194444</td></tr>\n",
       "\t<tr><td>YTH1       </td><td> 0.22527778</td></tr>\n",
       "\t<tr><td>YTM1       </td><td>-0.55888889</td></tr>\n",
       "\t<tr><td>YTP1       </td><td> 0.22416667</td></tr>\n",
       "\t<tr><td>YUH1       </td><td> 0.21000000</td></tr>\n",
       "\t<tr><td>YUR1       </td><td>-0.02694444</td></tr>\n",
       "\t<tr><td>YVC1       </td><td>-0.19657143</td></tr>\n",
       "\t<tr><td>YVH1       </td><td>-0.38472222</td></tr>\n",
       "\t<tr><td>ZAP1       </td><td> 0.20416667</td></tr>\n",
       "\t<tr><td>ZDS1       </td><td> 0.03444444</td></tr>\n",
       "\t<tr><td>ZDS2       </td><td>-0.03166667</td></tr>\n",
       "\t<tr><td>ZEO1       </td><td> 0.78000000</td></tr>\n",
       "\t<tr><td>ZIM17      </td><td>-0.10388889</td></tr>\n",
       "\t<tr><td>ZIP1       </td><td> 0.10750000</td></tr>\n",
       "\t<tr><td>ZMS1       </td><td> 0.43111111</td></tr>\n",
       "\t<tr><td>ZPR1       </td><td>-0.36888889</td></tr>\n",
       "\t<tr><td>ZPS1       </td><td> 0.65861111</td></tr>\n",
       "\t<tr><td>ZRC1       </td><td>-0.58416667</td></tr>\n",
       "\t<tr><td>ZRG17      </td><td>-0.26611111</td></tr>\n",
       "\t<tr><td>ZRG8       </td><td> 0.24833333</td></tr>\n",
       "\t<tr><td>ZRT1       </td><td>-0.79833333</td></tr>\n",
       "\t<tr><td>ZRT2       </td><td>-0.51833333</td></tr>\n",
       "\t<tr><td>ZRT3       </td><td>-0.22055556</td></tr>\n",
       "\t<tr><td>ZTA1       </td><td> 0.08777778</td></tr>\n",
       "\t<tr><td>ZUO1       </td><td>-0.06861111</td></tr>\n",
       "\t<tr><td>ZWF1       </td><td>-0.30583333</td></tr>\n",
       "\t<tr><td>NA         </td><td> 0.06314836</td></tr>\n",
       "</tbody>\n",
       "</table>\n"
      ],
      "text/latex": [
       "\\begin{tabular}{r|ll}\n",
       " symbol & meanexp\\\\\n",
       "\\hline\n",
       "\t AAC1         &  0.528888889\\\\\n",
       "\t AAC3         & -0.216285714\\\\\n",
       "\t AAD10        &  0.438333333\\\\\n",
       "\t AAD14        & -0.071666667\\\\\n",
       "\t AAD16        &  0.241944444\\\\\n",
       "\t AAD4         & -0.791666667\\\\\n",
       "\t AAD6         &  0.290277778\\\\\n",
       "\t AAH1         &  0.046111111\\\\\n",
       "\t AAP1         & -0.003611111\\\\\n",
       "\t AAP1'        & -0.421388889\\\\\n",
       "\t AAT1         &  0.120277778\\\\\n",
       "\t AAT2         & -0.049444444\\\\\n",
       "\t ABC1         & -0.127500000\\\\\n",
       "\t ABD1         &  0.185000000\\\\\n",
       "\t ABF1         &  0.256388889\\\\\n",
       "\t ABF2         &  0.488611111\\\\\n",
       "\t ABP1         &  0.042222222\\\\\n",
       "\t ABP140       & -0.394722222\\\\\n",
       "\t ABZ1         & -0.076388889\\\\\n",
       "\t ACA1         &  0.158888889\\\\\n",
       "\t ACB1         &  0.179166667\\\\\n",
       "\t ACC1         &  0.323611111\\\\\n",
       "\t ACE2         & -0.306111111\\\\\n",
       "\t ACF2         &  0.180000000\\\\\n",
       "\t ACF4         &  0.319722222\\\\\n",
       "\t ACH1         & -0.738333333\\\\\n",
       "\t ACN9         & -0.382222222\\\\\n",
       "\t ACO1         &  0.130000000\\\\\n",
       "\t ACP1         & -0.802777778\\\\\n",
       "\t ACS1         & -0.078055556\\\\\n",
       "\t ... & ...\\\\\n",
       "\t YSY6        &  0.53222222\\\\\n",
       "\t YTA12       & -0.28000000\\\\\n",
       "\t YTA6        & -0.16305556\\\\\n",
       "\t YTA7        &  0.17194444\\\\\n",
       "\t YTH1        &  0.22527778\\\\\n",
       "\t YTM1        & -0.55888889\\\\\n",
       "\t YTP1        &  0.22416667\\\\\n",
       "\t YUH1        &  0.21000000\\\\\n",
       "\t YUR1        & -0.02694444\\\\\n",
       "\t YVC1        & -0.19657143\\\\\n",
       "\t YVH1        & -0.38472222\\\\\n",
       "\t ZAP1        &  0.20416667\\\\\n",
       "\t ZDS1        &  0.03444444\\\\\n",
       "\t ZDS2        & -0.03166667\\\\\n",
       "\t ZEO1        &  0.78000000\\\\\n",
       "\t ZIM17       & -0.10388889\\\\\n",
       "\t ZIP1        &  0.10750000\\\\\n",
       "\t ZMS1        &  0.43111111\\\\\n",
       "\t ZPR1        & -0.36888889\\\\\n",
       "\t ZPS1        &  0.65861111\\\\\n",
       "\t ZRC1        & -0.58416667\\\\\n",
       "\t ZRG17       & -0.26611111\\\\\n",
       "\t ZRG8        &  0.24833333\\\\\n",
       "\t ZRT1        & -0.79833333\\\\\n",
       "\t ZRT2        & -0.51833333\\\\\n",
       "\t ZRT3        & -0.22055556\\\\\n",
       "\t ZTA1        &  0.08777778\\\\\n",
       "\t ZUO1        & -0.06861111\\\\\n",
       "\t ZWF1        & -0.30583333\\\\\n",
       "\t NA          &  0.06314836\\\\\n",
       "\\end{tabular}\n"
      ],
      "text/markdown": [
       "\n",
       "symbol | meanexp | \n",
       "|---|---|---|---|---|---|---|---|---|---|---|---|---|---|---|---|---|---|---|---|---|---|---|---|---|---|---|---|---|---|---|---|---|---|---|---|---|---|---|---|---|---|---|---|---|---|---|---|---|---|---|---|---|---|---|---|---|---|---|---|---|\n",
       "| AAC1         |  0.528888889 | \n",
       "| AAC3         | -0.216285714 | \n",
       "| AAD10        |  0.438333333 | \n",
       "| AAD14        | -0.071666667 | \n",
       "| AAD16        |  0.241944444 | \n",
       "| AAD4         | -0.791666667 | \n",
       "| AAD6         |  0.290277778 | \n",
       "| AAH1         |  0.046111111 | \n",
       "| AAP1         | -0.003611111 | \n",
       "| AAP1'        | -0.421388889 | \n",
       "| AAT1         |  0.120277778 | \n",
       "| AAT2         | -0.049444444 | \n",
       "| ABC1         | -0.127500000 | \n",
       "| ABD1         |  0.185000000 | \n",
       "| ABF1         |  0.256388889 | \n",
       "| ABF2         |  0.488611111 | \n",
       "| ABP1         |  0.042222222 | \n",
       "| ABP140       | -0.394722222 | \n",
       "| ABZ1         | -0.076388889 | \n",
       "| ACA1         |  0.158888889 | \n",
       "| ACB1         |  0.179166667 | \n",
       "| ACC1         |  0.323611111 | \n",
       "| ACE2         | -0.306111111 | \n",
       "| ACF2         |  0.180000000 | \n",
       "| ACF4         |  0.319722222 | \n",
       "| ACH1         | -0.738333333 | \n",
       "| ACN9         | -0.382222222 | \n",
       "| ACO1         |  0.130000000 | \n",
       "| ACP1         | -0.802777778 | \n",
       "| ACS1         | -0.078055556 | \n",
       "| ... | ... | \n",
       "| YSY6        |  0.53222222 | \n",
       "| YTA12       | -0.28000000 | \n",
       "| YTA6        | -0.16305556 | \n",
       "| YTA7        |  0.17194444 | \n",
       "| YTH1        |  0.22527778 | \n",
       "| YTM1        | -0.55888889 | \n",
       "| YTP1        |  0.22416667 | \n",
       "| YUH1        |  0.21000000 | \n",
       "| YUR1        | -0.02694444 | \n",
       "| YVC1        | -0.19657143 | \n",
       "| YVH1        | -0.38472222 | \n",
       "| ZAP1        |  0.20416667 | \n",
       "| ZDS1        |  0.03444444 | \n",
       "| ZDS2        | -0.03166667 | \n",
       "| ZEO1        |  0.78000000 | \n",
       "| ZIM17       | -0.10388889 | \n",
       "| ZIP1        |  0.10750000 | \n",
       "| ZMS1        |  0.43111111 | \n",
       "| ZPR1        | -0.36888889 | \n",
       "| ZPS1        |  0.65861111 | \n",
       "| ZRC1        | -0.58416667 | \n",
       "| ZRG17       | -0.26611111 | \n",
       "| ZRG8        |  0.24833333 | \n",
       "| ZRT1        | -0.79833333 | \n",
       "| ZRT2        | -0.51833333 | \n",
       "| ZRT3        | -0.22055556 | \n",
       "| ZTA1        |  0.08777778 | \n",
       "| ZUO1        | -0.06861111 | \n",
       "| ZWF1        | -0.30583333 | \n",
       "| NA          |  0.06314836 | \n",
       "\n",
       "\n"
      ],
      "text/plain": [
       "     symbol meanexp     \n",
       "1    AAC1    0.528888889\n",
       "2    AAC3   -0.216285714\n",
       "3    AAD10   0.438333333\n",
       "4    AAD14  -0.071666667\n",
       "5    AAD16   0.241944444\n",
       "6    AAD4   -0.791666667\n",
       "7    AAD6    0.290277778\n",
       "8    AAH1    0.046111111\n",
       "9    AAP1   -0.003611111\n",
       "10   AAP1'  -0.421388889\n",
       "11   AAT1    0.120277778\n",
       "12   AAT2   -0.049444444\n",
       "13   ABC1   -0.127500000\n",
       "14   ABD1    0.185000000\n",
       "15   ABF1    0.256388889\n",
       "16   ABF2    0.488611111\n",
       "17   ABP1    0.042222222\n",
       "18   ABP140 -0.394722222\n",
       "19   ABZ1   -0.076388889\n",
       "20   ACA1    0.158888889\n",
       "21   ACB1    0.179166667\n",
       "22   ACC1    0.323611111\n",
       "23   ACE2   -0.306111111\n",
       "24   ACF2    0.180000000\n",
       "25   ACF4    0.319722222\n",
       "26   ACH1   -0.738333333\n",
       "27   ACN9   -0.382222222\n",
       "28   ACO1    0.130000000\n",
       "29   ACP1   -0.802777778\n",
       "30   ACS1   -0.078055556\n",
       "...  ...    ...         \n",
       "4182 YSY6    0.53222222 \n",
       "4183 YTA12  -0.28000000 \n",
       "4184 YTA6   -0.16305556 \n",
       "4185 YTA7    0.17194444 \n",
       "4186 YTH1    0.22527778 \n",
       "4187 YTM1   -0.55888889 \n",
       "4188 YTP1    0.22416667 \n",
       "4189 YUH1    0.21000000 \n",
       "4190 YUR1   -0.02694444 \n",
       "4191 YVC1   -0.19657143 \n",
       "4192 YVH1   -0.38472222 \n",
       "4193 ZAP1    0.20416667 \n",
       "4194 ZDS1    0.03444444 \n",
       "4195 ZDS2   -0.03166667 \n",
       "4196 ZEO1    0.78000000 \n",
       "4197 ZIM17  -0.10388889 \n",
       "4198 ZIP1    0.10750000 \n",
       "4199 ZMS1    0.43111111 \n",
       "4200 ZPR1   -0.36888889 \n",
       "4201 ZPS1    0.65861111 \n",
       "4202 ZRC1   -0.58416667 \n",
       "4203 ZRG17  -0.26611111 \n",
       "4204 ZRG8    0.24833333 \n",
       "4205 ZRT1   -0.79833333 \n",
       "4206 ZRT2   -0.51833333 \n",
       "4207 ZRT3   -0.22055556 \n",
       "4208 ZTA1    0.08777778 \n",
       "4209 ZUO1   -0.06861111 \n",
       "4210 ZWF1   -0.30583333 \n",
       "4211 NA      0.06314836 "
      ]
     },
     "metadata": {},
     "output_type": "display_data"
    }
   ],
   "source": [
    "# 求取每个基因的平均表达值\n",
    "summarize(group_by(ydat, symbol), meanexp=mean(expression))"
   ]
  },
  {
   "cell_type": "code",
   "execution_count": 20,
   "metadata": {},
   "outputs": [
    {
     "data": {
      "text/html": [
       "<table>\n",
       "<thead><tr><th scope=col>nutrient</th><th scope=col>r</th></tr></thead>\n",
       "<tbody>\n",
       "\t<tr><td>Ammonia    </td><td>-0.01752025</td></tr>\n",
       "\t<tr><td>Glucose    </td><td>-0.01119529</td></tr>\n",
       "\t<tr><td>Leucine    </td><td>-0.03837677</td></tr>\n",
       "\t<tr><td>Phosphate  </td><td>-0.01935061</td></tr>\n",
       "\t<tr><td>Sulfate    </td><td>-0.01664016</td></tr>\n",
       "\t<tr><td>Uracil     </td><td>-0.03534036</td></tr>\n",
       "</tbody>\n",
       "</table>\n"
      ],
      "text/latex": [
       "\\begin{tabular}{r|ll}\n",
       " nutrient & r\\\\\n",
       "\\hline\n",
       "\t Ammonia     & -0.01752025\\\\\n",
       "\t Glucose     & -0.01119529\\\\\n",
       "\t Leucine     & -0.03837677\\\\\n",
       "\t Phosphate   & -0.01935061\\\\\n",
       "\t Sulfate     & -0.01664016\\\\\n",
       "\t Uracil      & -0.03534036\\\\\n",
       "\\end{tabular}\n"
      ],
      "text/markdown": [
       "\n",
       "nutrient | r | \n",
       "|---|---|---|---|---|---|\n",
       "| Ammonia     | -0.01752025 | \n",
       "| Glucose     | -0.01119529 | \n",
       "| Leucine     | -0.03837677 | \n",
       "| Phosphate   | -0.01935061 | \n",
       "| Sulfate     | -0.01664016 | \n",
       "| Uracil      | -0.03534036 | \n",
       "\n",
       "\n"
      ],
      "text/plain": [
       "  nutrient  r          \n",
       "1 Ammonia   -0.01752025\n",
       "2 Glucose   -0.01119529\n",
       "3 Leucine   -0.03837677\n",
       "4 Phosphate -0.01935061\n",
       "5 Sulfate   -0.01664016\n",
       "6 Uracil    -0.03534036"
      ]
     },
     "metadata": {},
     "output_type": "display_data"
    }
   ],
   "source": [
    "# 获取每一种营养物质生长率与表达值的相关性\n",
    "summarize(group_by(ydat, nutrient), r=cor(rate, expression))"
   ]
  },
  {
   "cell_type": "markdown",
   "metadata": {},
   "source": [
    "## %>%管道"
   ]
  },
  {
   "cell_type": "markdown",
   "metadata": {},
   "source": [
    "### %>%怎么工作\n",
    "\n",
    "dplyr包从magrittr包导入了一些功能特性，使得我们可以将函数的输出输送到另一个函数的输入，因此我们可以避免使用非常复杂的嵌套函数。它看起来就是`^%>%`，安装好dplyr包导入即可使用。"
   ]
  },
  {
   "cell_type": "markdown",
   "metadata": {},
   "source": [
    "下面是一个简单的例子，两种操作结果一致，我们仔细观察和体会实现的不同。"
   ]
  },
  {
   "cell_type": "code",
   "execution_count": 21,
   "metadata": {},
   "outputs": [
    {
     "data": {
      "text/html": [
       "<table>\n",
       "<thead><tr><th scope=col>symbol</th><th scope=col>systematic_name</th><th scope=col>nutrient</th><th scope=col>rate</th><th scope=col>expression</th><th scope=col>bp</th><th scope=col>mf</th></tr></thead>\n",
       "<tbody>\n",
       "\t<tr><td>KRE1                                      </td><td>YNL322C                                   </td><td>Uracil                                    </td><td>0.3                                       </td><td>0.28                                      </td><td>cell wall organization and biogenesis     </td><td>structural constituent of cell wall       </td></tr>\n",
       "\t<tr><td>MTL1                                      </td><td>YGR023W                                   </td><td>Uracil                                    </td><td>0.3                                       </td><td>0.27                                      </td><td>cell wall organization and biogenesis     </td><td>molecular function unknown                </td></tr>\n",
       "\t<tr><td>KRE9                                      </td><td>YJL174W                                   </td><td>Uracil                                    </td><td>0.3                                       </td><td>0.43                                      </td><td>cell wall organization and biogenesis*    </td><td>molecular function unknown                </td></tr>\n",
       "\t<tr><td>UTH1                                      </td><td>YKR042W                                   </td><td>Uracil                                    </td><td>0.3                                       </td><td>0.19                                      </td><td>mitochondrion organization and biogenesis*</td><td>molecular function unknown                </td></tr>\n",
       "\t<tr><td>NA                                        </td><td>YOL111C                                   </td><td>Uracil                                    </td><td>0.3                                       </td><td>0.04                                      </td><td>biological process unknown                </td><td>molecular function unknown                </td></tr>\n",
       "</tbody>\n",
       "</table>\n"
      ],
      "text/latex": [
       "\\begin{tabular}{r|lllllll}\n",
       " symbol & systematic\\_name & nutrient & rate & expression & bp & mf\\\\\n",
       "\\hline\n",
       "\t KRE1                                       & YNL322C                                    & Uracil                                     & 0.3                                        & 0.28                                       & cell wall organization and biogenesis      & structural constituent of cell wall       \\\\\n",
       "\t MTL1                                       & YGR023W                                    & Uracil                                     & 0.3                                        & 0.27                                       & cell wall organization and biogenesis      & molecular function unknown                \\\\\n",
       "\t KRE9                                       & YJL174W                                    & Uracil                                     & 0.3                                        & 0.43                                       & cell wall organization and biogenesis*     & molecular function unknown                \\\\\n",
       "\t UTH1                                       & YKR042W                                    & Uracil                                     & 0.3                                        & 0.19                                       & mitochondrion organization and biogenesis* & molecular function unknown                \\\\\n",
       "\t NA                                         & YOL111C                                    & Uracil                                     & 0.3                                        & 0.04                                       & biological process unknown                 & molecular function unknown                \\\\\n",
       "\\end{tabular}\n"
      ],
      "text/markdown": [
       "\n",
       "symbol | systematic_name | nutrient | rate | expression | bp | mf | \n",
       "|---|---|---|---|---|\n",
       "| KRE1                                       | YNL322C                                    | Uracil                                     | 0.3                                        | 0.28                                       | cell wall organization and biogenesis      | structural constituent of cell wall        | \n",
       "| MTL1                                       | YGR023W                                    | Uracil                                     | 0.3                                        | 0.27                                       | cell wall organization and biogenesis      | molecular function unknown                 | \n",
       "| KRE9                                       | YJL174W                                    | Uracil                                     | 0.3                                        | 0.43                                       | cell wall organization and biogenesis*     | molecular function unknown                 | \n",
       "| UTH1                                       | YKR042W                                    | Uracil                                     | 0.3                                        | 0.19                                       | mitochondrion organization and biogenesis* | molecular function unknown                 | \n",
       "| NA                                         | YOL111C                                    | Uracil                                     | 0.3                                        | 0.04                                       | biological process unknown                 | molecular function unknown                 | \n",
       "\n",
       "\n"
      ],
      "text/plain": [
       "  symbol systematic_name nutrient rate expression\n",
       "1 KRE1   YNL322C         Uracil   0.3  0.28      \n",
       "2 MTL1   YGR023W         Uracil   0.3  0.27      \n",
       "3 KRE9   YJL174W         Uracil   0.3  0.43      \n",
       "4 UTH1   YKR042W         Uracil   0.3  0.19      \n",
       "5 NA     YOL111C         Uracil   0.3  0.04      \n",
       "  bp                                        \n",
       "1 cell wall organization and biogenesis     \n",
       "2 cell wall organization and biogenesis     \n",
       "3 cell wall organization and biogenesis*    \n",
       "4 mitochondrion organization and biogenesis*\n",
       "5 biological process unknown                \n",
       "  mf                                 \n",
       "1 structural constituent of cell wall\n",
       "2 molecular function unknown         \n",
       "3 molecular function unknown         \n",
       "4 molecular function unknown         \n",
       "5 molecular function unknown         "
      ]
     },
     "metadata": {},
     "output_type": "display_data"
    }
   ],
   "source": [
    "tail(ydat, 5)"
   ]
  },
  {
   "cell_type": "code",
   "execution_count": 22,
   "metadata": {},
   "outputs": [
    {
     "data": {
      "text/html": [
       "<table>\n",
       "<thead><tr><th scope=col>symbol</th><th scope=col>systematic_name</th><th scope=col>nutrient</th><th scope=col>rate</th><th scope=col>expression</th><th scope=col>bp</th><th scope=col>mf</th></tr></thead>\n",
       "<tbody>\n",
       "\t<tr><td>KRE1                                      </td><td>YNL322C                                   </td><td>Uracil                                    </td><td>0.3                                       </td><td>0.28                                      </td><td>cell wall organization and biogenesis     </td><td>structural constituent of cell wall       </td></tr>\n",
       "\t<tr><td>MTL1                                      </td><td>YGR023W                                   </td><td>Uracil                                    </td><td>0.3                                       </td><td>0.27                                      </td><td>cell wall organization and biogenesis     </td><td>molecular function unknown                </td></tr>\n",
       "\t<tr><td>KRE9                                      </td><td>YJL174W                                   </td><td>Uracil                                    </td><td>0.3                                       </td><td>0.43                                      </td><td>cell wall organization and biogenesis*    </td><td>molecular function unknown                </td></tr>\n",
       "\t<tr><td>UTH1                                      </td><td>YKR042W                                   </td><td>Uracil                                    </td><td>0.3                                       </td><td>0.19                                      </td><td>mitochondrion organization and biogenesis*</td><td>molecular function unknown                </td></tr>\n",
       "\t<tr><td>NA                                        </td><td>YOL111C                                   </td><td>Uracil                                    </td><td>0.3                                       </td><td>0.04                                      </td><td>biological process unknown                </td><td>molecular function unknown                </td></tr>\n",
       "</tbody>\n",
       "</table>\n"
      ],
      "text/latex": [
       "\\begin{tabular}{r|lllllll}\n",
       " symbol & systematic\\_name & nutrient & rate & expression & bp & mf\\\\\n",
       "\\hline\n",
       "\t KRE1                                       & YNL322C                                    & Uracil                                     & 0.3                                        & 0.28                                       & cell wall organization and biogenesis      & structural constituent of cell wall       \\\\\n",
       "\t MTL1                                       & YGR023W                                    & Uracil                                     & 0.3                                        & 0.27                                       & cell wall organization and biogenesis      & molecular function unknown                \\\\\n",
       "\t KRE9                                       & YJL174W                                    & Uracil                                     & 0.3                                        & 0.43                                       & cell wall organization and biogenesis*     & molecular function unknown                \\\\\n",
       "\t UTH1                                       & YKR042W                                    & Uracil                                     & 0.3                                        & 0.19                                       & mitochondrion organization and biogenesis* & molecular function unknown                \\\\\n",
       "\t NA                                         & YOL111C                                    & Uracil                                     & 0.3                                        & 0.04                                       & biological process unknown                 & molecular function unknown                \\\\\n",
       "\\end{tabular}\n"
      ],
      "text/markdown": [
       "\n",
       "symbol | systematic_name | nutrient | rate | expression | bp | mf | \n",
       "|---|---|---|---|---|\n",
       "| KRE1                                       | YNL322C                                    | Uracil                                     | 0.3                                        | 0.28                                       | cell wall organization and biogenesis      | structural constituent of cell wall        | \n",
       "| MTL1                                       | YGR023W                                    | Uracil                                     | 0.3                                        | 0.27                                       | cell wall organization and biogenesis      | molecular function unknown                 | \n",
       "| KRE9                                       | YJL174W                                    | Uracil                                     | 0.3                                        | 0.43                                       | cell wall organization and biogenesis*     | molecular function unknown                 | \n",
       "| UTH1                                       | YKR042W                                    | Uracil                                     | 0.3                                        | 0.19                                       | mitochondrion organization and biogenesis* | molecular function unknown                 | \n",
       "| NA                                         | YOL111C                                    | Uracil                                     | 0.3                                        | 0.04                                       | biological process unknown                 | molecular function unknown                 | \n",
       "\n",
       "\n"
      ],
      "text/plain": [
       "  symbol systematic_name nutrient rate expression\n",
       "1 KRE1   YNL322C         Uracil   0.3  0.28      \n",
       "2 MTL1   YGR023W         Uracil   0.3  0.27      \n",
       "3 KRE9   YJL174W         Uracil   0.3  0.43      \n",
       "4 UTH1   YKR042W         Uracil   0.3  0.19      \n",
       "5 NA     YOL111C         Uracil   0.3  0.04      \n",
       "  bp                                        \n",
       "1 cell wall organization and biogenesis     \n",
       "2 cell wall organization and biogenesis     \n",
       "3 cell wall organization and biogenesis*    \n",
       "4 mitochondrion organization and biogenesis*\n",
       "5 biological process unknown                \n",
       "  mf                                 \n",
       "1 structural constituent of cell wall\n",
       "2 molecular function unknown         \n",
       "3 molecular function unknown         \n",
       "4 molecular function unknown         \n",
       "5 molecular function unknown         "
      ]
     },
     "metadata": {},
     "output_type": "display_data"
    }
   ],
   "source": [
    "ydat %>% tail(5)"
   ]
  },
  {
   "cell_type": "markdown",
   "metadata": {},
   "source": [
    "我们使用一个dplyr包动词："
   ]
  },
  {
   "cell_type": "code",
   "execution_count": 23,
   "metadata": {},
   "outputs": [
    {
     "data": {
      "text/html": [
       "<table>\n",
       "<thead><tr><th scope=col>symbol</th><th scope=col>systematic_name</th><th scope=col>nutrient</th><th scope=col>rate</th><th scope=col>expression</th><th scope=col>bp</th><th scope=col>mf</th></tr></thead>\n",
       "<tbody>\n",
       "\t<tr><td>SFB2                                                                      </td><td>YNL049C                                                                   </td><td>Leucine                                                                   </td><td>0.05                                                                      </td><td> 0.18                                                                     </td><td>ER to Golgi transport                                                     </td><td>molecular function unknown                                                </td></tr>\n",
       "\t<tr><td>NA                                                                        </td><td>YNL095C                                                                   </td><td>Leucine                                                                   </td><td>0.05                                                                      </td><td> 0.16                                                                     </td><td>biological process unknown                                                </td><td>molecular function unknown                                                </td></tr>\n",
       "\t<tr><td>QRI7                                                                      </td><td>YDL104C                                                                   </td><td>Leucine                                                                   </td><td>0.05                                                                      </td><td>-0.30                                                                     </td><td>proteolysis and peptidolysis                                              </td><td>metalloendopeptidase activity                                             </td></tr>\n",
       "\t<tr><td>CFT2                                                                      </td><td>YLR115W                                                                   </td><td>Leucine                                                                   </td><td>0.05                                                                      </td><td>-0.27                                                                     </td><td>mRNA polyadenylylation*                                                   </td><td>RNA binding                                                               </td></tr>\n",
       "\t<tr><td>SSO2                                                                      </td><td>YMR183C                                                                   </td><td>Leucine                                                                   </td><td>0.05                                                                      </td><td>-0.59                                                                     </td><td>vesicle fusion*                                                           </td><td>t-SNARE activity                                                          </td></tr>\n",
       "\t<tr><td>PSP2                                                                      </td><td>YML017W                                                                   </td><td>Leucine                                                                   </td><td>0.05                                                                      </td><td>-0.17                                                                     </td><td>biological process unknown                                                </td><td>molecular function unknown                                                </td></tr>\n",
       "\t<tr><td>RIB2                                                                      </td><td>YOL066C                                                                   </td><td>Leucine                                                                   </td><td>0.05                                                                      </td><td>-0.02                                                                     </td><td>riboflavin biosynthesis                                                   </td><td>pseudouridylate synthase activity*                                        </td></tr>\n",
       "\t<tr><td>VMA13                                                                     </td><td>YPR036W                                                                   </td><td>Leucine                                                                   </td><td>0.05                                                                      </td><td>-0.11                                                                     </td><td>vacuolar acidification                                                    </td><td>hydrogen-transporting ATPase activity, rotational mechanism               </td></tr>\n",
       "\t<tr><td>EDC3                                                                      </td><td>YEL015W                                                                   </td><td>Leucine                                                                   </td><td>0.05                                                                      </td><td> 0.12                                                                     </td><td>deadenylylation-independent decapping                                     </td><td>molecular function unknown                                                </td></tr>\n",
       "\t<tr><td>VPS5                                                                      </td><td>YOR069W                                                                   </td><td>Leucine                                                                   </td><td>0.05                                                                      </td><td>-0.20                                                                     </td><td>protein retention in Golgi*                                               </td><td>protein transporter activity                                              </td></tr>\n",
       "\t<tr><td>NA                                                                        </td><td>YOL029C                                                                   </td><td>Leucine                                                                   </td><td>0.05                                                                      </td><td>-0.10                                                                     </td><td>biological process unknown                                                </td><td>molecular function unknown                                                </td></tr>\n",
       "\t<tr><td>AMN1                                                                      </td><td>YBR158W                                                                   </td><td>Leucine                                                                   </td><td>0.05                                                                      </td><td>-1.09                                                                     </td><td>negative regulation of exit from mitosis*                                 </td><td>protein binding                                                           </td></tr>\n",
       "\t<tr><td>SCW11                                                                     </td><td>YGL028C                                                                   </td><td>Leucine                                                                   </td><td>0.05                                                                      </td><td>-1.03                                                                     </td><td>cytokinesis, completion of separation                                     </td><td>glucan 1,3-beta-glucosidase activity                                      </td></tr>\n",
       "\t<tr><td>DSE2                                                                      </td><td>YHR143W                                                                   </td><td>Leucine                                                                   </td><td>0.05                                                                      </td><td>-0.77                                                                     </td><td>cell wall organization and biogenesis*                                    </td><td>glucan 1,3-beta-glucosidase activity                                      </td></tr>\n",
       "\t<tr><td>COX15                                                                     </td><td>YER141W                                                                   </td><td>Leucine                                                                   </td><td>0.05                                                                      </td><td>-1.02                                                                     </td><td>cytochrome c oxidase complex assembly*                                    </td><td>oxidoreductase activity, acting on NADH or NADPH, heme protein as acceptor</td></tr>\n",
       "\t<tr><td>SPE1                                                                      </td><td>YKL184W                                                                   </td><td>Leucine                                                                   </td><td>0.05                                                                      </td><td>-0.11                                                                     </td><td>pantothenate biosynthesis*                                                </td><td>ornithine decarboxylase activity                                          </td></tr>\n",
       "\t<tr><td>MTF1                                                                      </td><td>YMR228W                                                                   </td><td>Leucine                                                                   </td><td>0.05                                                                      </td><td>-0.82                                                                     </td><td>transcription from mitochondrial promoter                                 </td><td>S-adenosylmethionine-dependent methyltransferase activity*                </td></tr>\n",
       "\t<tr><td>KSS1                                                                      </td><td>YGR040W                                                                   </td><td>Leucine                                                                   </td><td>0.05                                                                      </td><td>-0.60                                                                     </td><td>invasive growth (sensu Saccharomyces)*                                    </td><td>MAP kinase activity                                                       </td></tr>\n",
       "\t<tr><td>NA                                                                        </td><td>YHR036W                                                                   </td><td>Leucine                                                                   </td><td>0.05                                                                      </td><td>-0.67                                                                     </td><td>biological process unknown                                                </td><td>molecular function unknown                                                </td></tr>\n",
       "\t<tr><td>NA                                                                        </td><td>YNL158W                                                                   </td><td>Leucine                                                                   </td><td>0.05                                                                      </td><td>-0.40                                                                     </td><td>biological process unknown                                                </td><td>molecular function unknown                                                </td></tr>\n",
       "\t<tr><td>YAP7                                                                      </td><td>YOL028C                                                                   </td><td>Leucine                                                                   </td><td>0.05                                                                      </td><td>-0.41                                                                     </td><td>positive regulation of transcription from RNA polymerase II promoter      </td><td>RNA polymerase II transcription factor activity                           </td></tr>\n",
       "\t<tr><td>NA                                                                        </td><td>YBR074W                                                                   </td><td>Leucine                                                                   </td><td>0.05                                                                      </td><td>-1.61                                                                     </td><td>proteolysis and peptidolysis                                              </td><td>metalloendopeptidase activity                                             </td></tr>\n",
       "\t<tr><td>YVC1                                                                      </td><td>YOR087W                                                                   </td><td>Leucine                                                                   </td><td>0.05                                                                      </td><td>-1.51                                                                     </td><td>cation homeostasis                                                        </td><td>calcium channel activity*                                                 </td></tr>\n",
       "\t<tr><td>CDC40                                                                     </td><td>YDR364C                                                                   </td><td>Leucine                                                                   </td><td>0.05                                                                      </td><td>-0.30                                                                     </td><td>nuclear mRNA splicing, via spliceosome*                                   </td><td>RNA splicing factor activity, transesterification mechanism*              </td></tr>\n",
       "\t<tr><td>NA                                                                        </td><td>YPL162C                                                                   </td><td>Leucine                                                                   </td><td>0.05                                                                      </td><td>-0.66                                                                     </td><td>biological process unknown                                                </td><td>molecular function unknown                                                </td></tr>\n",
       "\t<tr><td>RMD1                                                                      </td><td>YDL001W                                                                   </td><td>Leucine                                                                   </td><td>0.05                                                                      </td><td>-0.47                                                                     </td><td>biological process unknown                                                </td><td>molecular function unknown                                                </td></tr>\n",
       "\t<tr><td>PCL6                                                                      </td><td>YER059W                                                                   </td><td>Leucine                                                                   </td><td>0.05                                                                      </td><td>-0.61                                                                     </td><td>regulation of glycogen biosynthesis*                                      </td><td>cyclin-dependent protein kinase regulator activity                        </td></tr>\n",
       "\t<tr><td>AI4                                                                       </td><td>Q0065                                                                     </td><td>Leucine                                                                   </td><td>0.05                                                                      </td><td>-0.58                                                                     </td><td>RNA splicing*                                                             </td><td>endonuclease activity                                                     </td></tr>\n",
       "\t<tr><td>GGC1                                                                      </td><td>YDL198C                                                                   </td><td>Leucine                                                                   </td><td>0.05                                                                      </td><td>-0.15                                                                     </td><td>mitochondrial genome maintenance*                                         </td><td>guanine nucleotide transporter activity                                   </td></tr>\n",
       "\t<tr><td>SUL1                                                                      </td><td>YBR294W                                                                   </td><td>Leucine                                                                   </td><td>0.05                                                                      </td><td>-1.83                                                                     </td><td>sulfate transport                                                         </td><td>sulfate transporter activity                                              </td></tr>\n",
       "\t<tr><td>...</td><td>...</td><td>...</td><td>...</td><td>...</td><td>...</td><td>...</td></tr>\n",
       "\t<tr><td>NA                                                              </td><td>YNL046W                                                         </td><td>Leucine                                                         </td><td>0.3                                                             </td><td>-0.03                                                           </td><td>biological process unknown                                      </td><td>molecular function unknown                                      </td></tr>\n",
       "\t<tr><td>RPS0B                                                           </td><td>YLR048W                                                         </td><td>Leucine                                                         </td><td>0.3                                                             </td><td> 0.12                                                           </td><td>protein biosynthesis*                                           </td><td>structural constituent of ribosome                              </td></tr>\n",
       "\t<tr><td>COS12                                                           </td><td>YGL263W                                                         </td><td>Leucine                                                         </td><td>0.3                                                             </td><td> 1.17                                                           </td><td>biological process unknown                                      </td><td>molecular function unknown                                      </td></tr>\n",
       "\t<tr><td>NA                                                              </td><td>YNR065C                                                         </td><td>Leucine                                                         </td><td>0.3                                                             </td><td>-0.11                                                           </td><td>biological process unknown                                      </td><td>molecular function unknown                                      </td></tr>\n",
       "\t<tr><td>IZH1                                                            </td><td>YDR492W                                                         </td><td>Leucine                                                         </td><td>0.3                                                             </td><td>-0.51                                                           </td><td>lipid metabolism*                                               </td><td>metal ion binding                                               </td></tr>\n",
       "\t<tr><td>NA                                                              </td><td>YPR064W                                                         </td><td>Leucine                                                         </td><td>0.3                                                             </td><td>-0.37                                                           </td><td>NA                                                              </td><td>NA                                                              </td></tr>\n",
       "\t<tr><td>IZH4                                                            </td><td>YOL101C                                                         </td><td>Leucine                                                         </td><td>0.3                                                             </td><td>-0.42                                                           </td><td>lipid metabolism*                                               </td><td>metal ion binding                                               </td></tr>\n",
       "\t<tr><td>PST1                                                            </td><td>YDR055W                                                         </td><td>Leucine                                                         </td><td>0.3                                                             </td><td>-0.29                                                           </td><td>cell wall organization and biogenesis                           </td><td>molecular function unknown                                      </td></tr>\n",
       "\t<tr><td>PRM10                                                           </td><td>YJL108C                                                         </td><td>Leucine                                                         </td><td>0.3                                                             </td><td>-0.08                                                           </td><td>conjugation with cellular fusion                                </td><td>molecular function unknown                                      </td></tr>\n",
       "\t<tr><td>NA                                                              </td><td>YJL107C                                                         </td><td>Leucine                                                         </td><td>0.3                                                             </td><td>-0.21                                                           </td><td>biological process unknown                                      </td><td>molecular function unknown                                      </td></tr>\n",
       "\t<tr><td>SFA1                                                            </td><td>YDL168W                                                         </td><td>Leucine                                                         </td><td>0.3                                                             </td><td> 0.01                                                           </td><td>formaldehyde catabolism                                         </td><td>alcohol dehydrogenase activity*                                 </td></tr>\n",
       "\t<tr><td>CAP2                                                            </td><td>YIL034C                                                         </td><td>Leucine                                                         </td><td>0.3                                                             </td><td>-0.05                                                           </td><td>filamentous growth*                                             </td><td>actin filament binding                                          </td></tr>\n",
       "\t<tr><td>NA                                                              </td><td>YMR122W-A                                                       </td><td>Leucine                                                         </td><td>0.3                                                             </td><td> 0.05                                                           </td><td>biological process unknown                                      </td><td>molecular function unknown                                      </td></tr>\n",
       "\t<tr><td>CIS3                                                            </td><td>YJL158C                                                         </td><td>Leucine                                                         </td><td>0.3                                                             </td><td> 0.03                                                           </td><td>cell wall organization and biogenesis                           </td><td>structural constituent of cell wall                             </td></tr>\n",
       "\t<tr><td>NA                                                              </td><td>YPR012W                                                         </td><td>Leucine                                                         </td><td>0.3                                                             </td><td> 0.04                                                           </td><td>NA                                                              </td><td>NA                                                              </td></tr>\n",
       "\t<tr><td>RGS2                                                            </td><td>YOR107W                                                         </td><td>Leucine                                                         </td><td>0.3                                                             </td><td>-0.29                                                           </td><td>G-protein signaling, coupled to cAMP nucleotide second messenger</td><td>GTPase activator activity                                       </td></tr>\n",
       "\t<tr><td>NA                                                              </td><td>YPR117W                                                         </td><td>Leucine                                                         </td><td>0.3                                                             </td><td>-0.48                                                           </td><td>biological process unknown                                      </td><td>molecular function unknown                                      </td></tr>\n",
       "\t<tr><td>NA                                                              </td><td>YPR150W                                                         </td><td>Leucine                                                         </td><td>0.3                                                             </td><td>-0.52                                                           </td><td>NA                                                              </td><td>NA                                                              </td></tr>\n",
       "\t<tr><td>CSG2                                                            </td><td>YBR036C                                                         </td><td>Leucine                                                         </td><td>0.3                                                             </td><td>-0.15                                                           </td><td>calcium ion homeostasis*                                        </td><td>enzyme regulator activity                                       </td></tr>\n",
       "\t<tr><td>SPO11                                                           </td><td>YHL022C                                                         </td><td>Leucine                                                         </td><td>0.3                                                             </td><td>-0.23                                                           </td><td>meiotic DNA double-strand break formation                       </td><td>endodeoxyribonuclease activity, producing 3'-phosphomonoesters  </td></tr>\n",
       "\t<tr><td>CHO1                                                            </td><td>YER026C                                                         </td><td>Leucine                                                         </td><td>0.3                                                             </td><td>-0.16                                                           </td><td>phosphatidylserine biosynthesis                                 </td><td>CDP-diacylglycerol-serine O-phosphatidyltransferase activity    </td></tr>\n",
       "\t<tr><td>WSC2                                                            </td><td>YNL283C                                                         </td><td>Leucine                                                         </td><td>0.3                                                             </td><td>-0.20                                                           </td><td>cell wall organization and biogenesis*                          </td><td>transmembrane receptor activity                                 </td></tr>\n",
       "\t<tr><td>MYO2                                                            </td><td>YOR326W                                                         </td><td>Leucine                                                         </td><td>0.3                                                             </td><td>-0.24                                                           </td><td>endocytosis*                                                    </td><td>microfilament motor activity                                    </td></tr>\n",
       "\t<tr><td>NA                                                              </td><td>YPL066W                                                         </td><td>Leucine                                                         </td><td>0.3                                                             </td><td> 0.06                                                           </td><td>biological process unknown                                      </td><td>molecular function unknown                                      </td></tr>\n",
       "\t<tr><td>DOA1                                                            </td><td>YKL213C                                                         </td><td>Leucine                                                         </td><td>0.3                                                             </td><td> 0.02                                                           </td><td>ubiquitin-dependent protein catabolism*                         </td><td>molecular function unknown                                      </td></tr>\n",
       "\t<tr><td>KRE1                                                            </td><td>YNL322C                                                         </td><td>Leucine                                                         </td><td>0.3                                                             </td><td> 0.15                                                           </td><td>cell wall organization and biogenesis                           </td><td>structural constituent of cell wall                             </td></tr>\n",
       "\t<tr><td>MTL1                                                            </td><td>YGR023W                                                         </td><td>Leucine                                                         </td><td>0.3                                                             </td><td>-0.10                                                           </td><td>cell wall organization and biogenesis                           </td><td>molecular function unknown                                      </td></tr>\n",
       "\t<tr><td>KRE9                                                            </td><td>YJL174W                                                         </td><td>Leucine                                                         </td><td>0.3                                                             </td><td>-0.01                                                           </td><td>cell wall organization and biogenesis*                          </td><td>molecular function unknown                                      </td></tr>\n",
       "\t<tr><td>UTH1                                                            </td><td>YKR042W                                                         </td><td>Leucine                                                         </td><td>0.3                                                             </td><td> 0.18                                                           </td><td>mitochondrion organization and biogenesis*                      </td><td>molecular function unknown                                      </td></tr>\n",
       "\t<tr><td>NA                                                              </td><td>YOL111C                                                         </td><td>Leucine                                                         </td><td>0.3                                                             </td><td>-0.06                                                           </td><td>biological process unknown                                      </td><td>molecular function unknown                                      </td></tr>\n",
       "</tbody>\n",
       "</table>\n"
      ],
      "text/latex": [
       "\\begin{tabular}{r|lllllll}\n",
       " symbol & systematic\\_name & nutrient & rate & expression & bp & mf\\\\\n",
       "\\hline\n",
       "\t SFB2                                                                       & YNL049C                                                                    & Leucine                                                                    & 0.05                                                                       &  0.18                                                                      & ER to Golgi transport                                                      & molecular function unknown                                                \\\\\n",
       "\t NA                                                                         & YNL095C                                                                    & Leucine                                                                    & 0.05                                                                       &  0.16                                                                      & biological process unknown                                                 & molecular function unknown                                                \\\\\n",
       "\t QRI7                                                                       & YDL104C                                                                    & Leucine                                                                    & 0.05                                                                       & -0.30                                                                      & proteolysis and peptidolysis                                               & metalloendopeptidase activity                                             \\\\\n",
       "\t CFT2                                                                       & YLR115W                                                                    & Leucine                                                                    & 0.05                                                                       & -0.27                                                                      & mRNA polyadenylylation*                                                    & RNA binding                                                               \\\\\n",
       "\t SSO2                                                                       & YMR183C                                                                    & Leucine                                                                    & 0.05                                                                       & -0.59                                                                      & vesicle fusion*                                                            & t-SNARE activity                                                          \\\\\n",
       "\t PSP2                                                                       & YML017W                                                                    & Leucine                                                                    & 0.05                                                                       & -0.17                                                                      & biological process unknown                                                 & molecular function unknown                                                \\\\\n",
       "\t RIB2                                                                       & YOL066C                                                                    & Leucine                                                                    & 0.05                                                                       & -0.02                                                                      & riboflavin biosynthesis                                                    & pseudouridylate synthase activity*                                        \\\\\n",
       "\t VMA13                                                                      & YPR036W                                                                    & Leucine                                                                    & 0.05                                                                       & -0.11                                                                      & vacuolar acidification                                                     & hydrogen-transporting ATPase activity, rotational mechanism               \\\\\n",
       "\t EDC3                                                                       & YEL015W                                                                    & Leucine                                                                    & 0.05                                                                       &  0.12                                                                      & deadenylylation-independent decapping                                      & molecular function unknown                                                \\\\\n",
       "\t VPS5                                                                       & YOR069W                                                                    & Leucine                                                                    & 0.05                                                                       & -0.20                                                                      & protein retention in Golgi*                                                & protein transporter activity                                              \\\\\n",
       "\t NA                                                                         & YOL029C                                                                    & Leucine                                                                    & 0.05                                                                       & -0.10                                                                      & biological process unknown                                                 & molecular function unknown                                                \\\\\n",
       "\t AMN1                                                                       & YBR158W                                                                    & Leucine                                                                    & 0.05                                                                       & -1.09                                                                      & negative regulation of exit from mitosis*                                  & protein binding                                                           \\\\\n",
       "\t SCW11                                                                      & YGL028C                                                                    & Leucine                                                                    & 0.05                                                                       & -1.03                                                                      & cytokinesis, completion of separation                                      & glucan 1,3-beta-glucosidase activity                                      \\\\\n",
       "\t DSE2                                                                       & YHR143W                                                                    & Leucine                                                                    & 0.05                                                                       & -0.77                                                                      & cell wall organization and biogenesis*                                     & glucan 1,3-beta-glucosidase activity                                      \\\\\n",
       "\t COX15                                                                      & YER141W                                                                    & Leucine                                                                    & 0.05                                                                       & -1.02                                                                      & cytochrome c oxidase complex assembly*                                     & oxidoreductase activity, acting on NADH or NADPH, heme protein as acceptor\\\\\n",
       "\t SPE1                                                                       & YKL184W                                                                    & Leucine                                                                    & 0.05                                                                       & -0.11                                                                      & pantothenate biosynthesis*                                                 & ornithine decarboxylase activity                                          \\\\\n",
       "\t MTF1                                                                       & YMR228W                                                                    & Leucine                                                                    & 0.05                                                                       & -0.82                                                                      & transcription from mitochondrial promoter                                  & S-adenosylmethionine-dependent methyltransferase activity*                \\\\\n",
       "\t KSS1                                                                       & YGR040W                                                                    & Leucine                                                                    & 0.05                                                                       & -0.60                                                                      & invasive growth (sensu Saccharomyces)*                                     & MAP kinase activity                                                       \\\\\n",
       "\t NA                                                                         & YHR036W                                                                    & Leucine                                                                    & 0.05                                                                       & -0.67                                                                      & biological process unknown                                                 & molecular function unknown                                                \\\\\n",
       "\t NA                                                                         & YNL158W                                                                    & Leucine                                                                    & 0.05                                                                       & -0.40                                                                      & biological process unknown                                                 & molecular function unknown                                                \\\\\n",
       "\t YAP7                                                                       & YOL028C                                                                    & Leucine                                                                    & 0.05                                                                       & -0.41                                                                      & positive regulation of transcription from RNA polymerase II promoter       & RNA polymerase II transcription factor activity                           \\\\\n",
       "\t NA                                                                         & YBR074W                                                                    & Leucine                                                                    & 0.05                                                                       & -1.61                                                                      & proteolysis and peptidolysis                                               & metalloendopeptidase activity                                             \\\\\n",
       "\t YVC1                                                                       & YOR087W                                                                    & Leucine                                                                    & 0.05                                                                       & -1.51                                                                      & cation homeostasis                                                         & calcium channel activity*                                                 \\\\\n",
       "\t CDC40                                                                      & YDR364C                                                                    & Leucine                                                                    & 0.05                                                                       & -0.30                                                                      & nuclear mRNA splicing, via spliceosome*                                    & RNA splicing factor activity, transesterification mechanism*              \\\\\n",
       "\t NA                                                                         & YPL162C                                                                    & Leucine                                                                    & 0.05                                                                       & -0.66                                                                      & biological process unknown                                                 & molecular function unknown                                                \\\\\n",
       "\t RMD1                                                                       & YDL001W                                                                    & Leucine                                                                    & 0.05                                                                       & -0.47                                                                      & biological process unknown                                                 & molecular function unknown                                                \\\\\n",
       "\t PCL6                                                                       & YER059W                                                                    & Leucine                                                                    & 0.05                                                                       & -0.61                                                                      & regulation of glycogen biosynthesis*                                       & cyclin-dependent protein kinase regulator activity                        \\\\\n",
       "\t AI4                                                                        & Q0065                                                                      & Leucine                                                                    & 0.05                                                                       & -0.58                                                                      & RNA splicing*                                                              & endonuclease activity                                                     \\\\\n",
       "\t GGC1                                                                       & YDL198C                                                                    & Leucine                                                                    & 0.05                                                                       & -0.15                                                                      & mitochondrial genome maintenance*                                          & guanine nucleotide transporter activity                                   \\\\\n",
       "\t SUL1                                                                       & YBR294W                                                                    & Leucine                                                                    & 0.05                                                                       & -1.83                                                                      & sulfate transport                                                          & sulfate transporter activity                                              \\\\\n",
       "\t ... & ... & ... & ... & ... & ... & ...\\\\\n",
       "\t NA                                                               & YNL046W                                                          & Leucine                                                          & 0.3                                                              & -0.03                                                            & biological process unknown                                       & molecular function unknown                                      \\\\\n",
       "\t RPS0B                                                            & YLR048W                                                          & Leucine                                                          & 0.3                                                              &  0.12                                                            & protein biosynthesis*                                            & structural constituent of ribosome                              \\\\\n",
       "\t COS12                                                            & YGL263W                                                          & Leucine                                                          & 0.3                                                              &  1.17                                                            & biological process unknown                                       & molecular function unknown                                      \\\\\n",
       "\t NA                                                               & YNR065C                                                          & Leucine                                                          & 0.3                                                              & -0.11                                                            & biological process unknown                                       & molecular function unknown                                      \\\\\n",
       "\t IZH1                                                             & YDR492W                                                          & Leucine                                                          & 0.3                                                              & -0.51                                                            & lipid metabolism*                                                & metal ion binding                                               \\\\\n",
       "\t NA                                                               & YPR064W                                                          & Leucine                                                          & 0.3                                                              & -0.37                                                            & NA                                                               & NA                                                              \\\\\n",
       "\t IZH4                                                             & YOL101C                                                          & Leucine                                                          & 0.3                                                              & -0.42                                                            & lipid metabolism*                                                & metal ion binding                                               \\\\\n",
       "\t PST1                                                             & YDR055W                                                          & Leucine                                                          & 0.3                                                              & -0.29                                                            & cell wall organization and biogenesis                            & molecular function unknown                                      \\\\\n",
       "\t PRM10                                                            & YJL108C                                                          & Leucine                                                          & 0.3                                                              & -0.08                                                            & conjugation with cellular fusion                                 & molecular function unknown                                      \\\\\n",
       "\t NA                                                               & YJL107C                                                          & Leucine                                                          & 0.3                                                              & -0.21                                                            & biological process unknown                                       & molecular function unknown                                      \\\\\n",
       "\t SFA1                                                             & YDL168W                                                          & Leucine                                                          & 0.3                                                              &  0.01                                                            & formaldehyde catabolism                                          & alcohol dehydrogenase activity*                                 \\\\\n",
       "\t CAP2                                                             & YIL034C                                                          & Leucine                                                          & 0.3                                                              & -0.05                                                            & filamentous growth*                                              & actin filament binding                                          \\\\\n",
       "\t NA                                                               & YMR122W-A                                                        & Leucine                                                          & 0.3                                                              &  0.05                                                            & biological process unknown                                       & molecular function unknown                                      \\\\\n",
       "\t CIS3                                                             & YJL158C                                                          & Leucine                                                          & 0.3                                                              &  0.03                                                            & cell wall organization and biogenesis                            & structural constituent of cell wall                             \\\\\n",
       "\t NA                                                               & YPR012W                                                          & Leucine                                                          & 0.3                                                              &  0.04                                                            & NA                                                               & NA                                                              \\\\\n",
       "\t RGS2                                                             & YOR107W                                                          & Leucine                                                          & 0.3                                                              & -0.29                                                            & G-protein signaling, coupled to cAMP nucleotide second messenger & GTPase activator activity                                       \\\\\n",
       "\t NA                                                               & YPR117W                                                          & Leucine                                                          & 0.3                                                              & -0.48                                                            & biological process unknown                                       & molecular function unknown                                      \\\\\n",
       "\t NA                                                               & YPR150W                                                          & Leucine                                                          & 0.3                                                              & -0.52                                                            & NA                                                               & NA                                                              \\\\\n",
       "\t CSG2                                                             & YBR036C                                                          & Leucine                                                          & 0.3                                                              & -0.15                                                            & calcium ion homeostasis*                                         & enzyme regulator activity                                       \\\\\n",
       "\t SPO11                                                            & YHL022C                                                          & Leucine                                                          & 0.3                                                              & -0.23                                                            & meiotic DNA double-strand break formation                        & endodeoxyribonuclease activity, producing 3'-phosphomonoesters  \\\\\n",
       "\t CHO1                                                             & YER026C                                                          & Leucine                                                          & 0.3                                                              & -0.16                                                            & phosphatidylserine biosynthesis                                  & CDP-diacylglycerol-serine O-phosphatidyltransferase activity    \\\\\n",
       "\t WSC2                                                             & YNL283C                                                          & Leucine                                                          & 0.3                                                              & -0.20                                                            & cell wall organization and biogenesis*                           & transmembrane receptor activity                                 \\\\\n",
       "\t MYO2                                                             & YOR326W                                                          & Leucine                                                          & 0.3                                                              & -0.24                                                            & endocytosis*                                                     & microfilament motor activity                                    \\\\\n",
       "\t NA                                                               & YPL066W                                                          & Leucine                                                          & 0.3                                                              &  0.06                                                            & biological process unknown                                       & molecular function unknown                                      \\\\\n",
       "\t DOA1                                                             & YKL213C                                                          & Leucine                                                          & 0.3                                                              &  0.02                                                            & ubiquitin-dependent protein catabolism*                          & molecular function unknown                                      \\\\\n",
       "\t KRE1                                                             & YNL322C                                                          & Leucine                                                          & 0.3                                                              &  0.15                                                            & cell wall organization and biogenesis                            & structural constituent of cell wall                             \\\\\n",
       "\t MTL1                                                             & YGR023W                                                          & Leucine                                                          & 0.3                                                              & -0.10                                                            & cell wall organization and biogenesis                            & molecular function unknown                                      \\\\\n",
       "\t KRE9                                                             & YJL174W                                                          & Leucine                                                          & 0.3                                                              & -0.01                                                            & cell wall organization and biogenesis*                           & molecular function unknown                                      \\\\\n",
       "\t UTH1                                                             & YKR042W                                                          & Leucine                                                          & 0.3                                                              &  0.18                                                            & mitochondrion organization and biogenesis*                       & molecular function unknown                                      \\\\\n",
       "\t NA                                                               & YOL111C                                                          & Leucine                                                          & 0.3                                                              & -0.06                                                            & biological process unknown                                       & molecular function unknown                                      \\\\\n",
       "\\end{tabular}\n"
      ],
      "text/markdown": [
       "\n",
       "symbol | systematic_name | nutrient | rate | expression | bp | mf | \n",
       "|---|---|---|---|---|---|---|---|---|---|---|---|---|---|---|---|---|---|---|---|---|---|---|---|---|---|---|---|---|---|---|---|---|---|---|---|---|---|---|---|---|---|---|---|---|---|---|---|---|---|---|---|---|---|---|---|---|---|---|---|---|\n",
       "| SFB2                                                                       | YNL049C                                                                    | Leucine                                                                    | 0.05                                                                       |  0.18                                                                      | ER to Golgi transport                                                      | molecular function unknown                                                 | \n",
       "| NA                                                                         | YNL095C                                                                    | Leucine                                                                    | 0.05                                                                       |  0.16                                                                      | biological process unknown                                                 | molecular function unknown                                                 | \n",
       "| QRI7                                                                       | YDL104C                                                                    | Leucine                                                                    | 0.05                                                                       | -0.30                                                                      | proteolysis and peptidolysis                                               | metalloendopeptidase activity                                              | \n",
       "| CFT2                                                                       | YLR115W                                                                    | Leucine                                                                    | 0.05                                                                       | -0.27                                                                      | mRNA polyadenylylation*                                                    | RNA binding                                                                | \n",
       "| SSO2                                                                       | YMR183C                                                                    | Leucine                                                                    | 0.05                                                                       | -0.59                                                                      | vesicle fusion*                                                            | t-SNARE activity                                                           | \n",
       "| PSP2                                                                       | YML017W                                                                    | Leucine                                                                    | 0.05                                                                       | -0.17                                                                      | biological process unknown                                                 | molecular function unknown                                                 | \n",
       "| RIB2                                                                       | YOL066C                                                                    | Leucine                                                                    | 0.05                                                                       | -0.02                                                                      | riboflavin biosynthesis                                                    | pseudouridylate synthase activity*                                         | \n",
       "| VMA13                                                                      | YPR036W                                                                    | Leucine                                                                    | 0.05                                                                       | -0.11                                                                      | vacuolar acidification                                                     | hydrogen-transporting ATPase activity, rotational mechanism                | \n",
       "| EDC3                                                                       | YEL015W                                                                    | Leucine                                                                    | 0.05                                                                       |  0.12                                                                      | deadenylylation-independent decapping                                      | molecular function unknown                                                 | \n",
       "| VPS5                                                                       | YOR069W                                                                    | Leucine                                                                    | 0.05                                                                       | -0.20                                                                      | protein retention in Golgi*                                                | protein transporter activity                                               | \n",
       "| NA                                                                         | YOL029C                                                                    | Leucine                                                                    | 0.05                                                                       | -0.10                                                                      | biological process unknown                                                 | molecular function unknown                                                 | \n",
       "| AMN1                                                                       | YBR158W                                                                    | Leucine                                                                    | 0.05                                                                       | -1.09                                                                      | negative regulation of exit from mitosis*                                  | protein binding                                                            | \n",
       "| SCW11                                                                      | YGL028C                                                                    | Leucine                                                                    | 0.05                                                                       | -1.03                                                                      | cytokinesis, completion of separation                                      | glucan 1,3-beta-glucosidase activity                                       | \n",
       "| DSE2                                                                       | YHR143W                                                                    | Leucine                                                                    | 0.05                                                                       | -0.77                                                                      | cell wall organization and biogenesis*                                     | glucan 1,3-beta-glucosidase activity                                       | \n",
       "| COX15                                                                      | YER141W                                                                    | Leucine                                                                    | 0.05                                                                       | -1.02                                                                      | cytochrome c oxidase complex assembly*                                     | oxidoreductase activity, acting on NADH or NADPH, heme protein as acceptor | \n",
       "| SPE1                                                                       | YKL184W                                                                    | Leucine                                                                    | 0.05                                                                       | -0.11                                                                      | pantothenate biosynthesis*                                                 | ornithine decarboxylase activity                                           | \n",
       "| MTF1                                                                       | YMR228W                                                                    | Leucine                                                                    | 0.05                                                                       | -0.82                                                                      | transcription from mitochondrial promoter                                  | S-adenosylmethionine-dependent methyltransferase activity*                 | \n",
       "| KSS1                                                                       | YGR040W                                                                    | Leucine                                                                    | 0.05                                                                       | -0.60                                                                      | invasive growth (sensu Saccharomyces)*                                     | MAP kinase activity                                                        | \n",
       "| NA                                                                         | YHR036W                                                                    | Leucine                                                                    | 0.05                                                                       | -0.67                                                                      | biological process unknown                                                 | molecular function unknown                                                 | \n",
       "| NA                                                                         | YNL158W                                                                    | Leucine                                                                    | 0.05                                                                       | -0.40                                                                      | biological process unknown                                                 | molecular function unknown                                                 | \n",
       "| YAP7                                                                       | YOL028C                                                                    | Leucine                                                                    | 0.05                                                                       | -0.41                                                                      | positive regulation of transcription from RNA polymerase II promoter       | RNA polymerase II transcription factor activity                            | \n",
       "| NA                                                                         | YBR074W                                                                    | Leucine                                                                    | 0.05                                                                       | -1.61                                                                      | proteolysis and peptidolysis                                               | metalloendopeptidase activity                                              | \n",
       "| YVC1                                                                       | YOR087W                                                                    | Leucine                                                                    | 0.05                                                                       | -1.51                                                                      | cation homeostasis                                                         | calcium channel activity*                                                  | \n",
       "| CDC40                                                                      | YDR364C                                                                    | Leucine                                                                    | 0.05                                                                       | -0.30                                                                      | nuclear mRNA splicing, via spliceosome*                                    | RNA splicing factor activity, transesterification mechanism*               | \n",
       "| NA                                                                         | YPL162C                                                                    | Leucine                                                                    | 0.05                                                                       | -0.66                                                                      | biological process unknown                                                 | molecular function unknown                                                 | \n",
       "| RMD1                                                                       | YDL001W                                                                    | Leucine                                                                    | 0.05                                                                       | -0.47                                                                      | biological process unknown                                                 | molecular function unknown                                                 | \n",
       "| PCL6                                                                       | YER059W                                                                    | Leucine                                                                    | 0.05                                                                       | -0.61                                                                      | regulation of glycogen biosynthesis*                                       | cyclin-dependent protein kinase regulator activity                         | \n",
       "| AI4                                                                        | Q0065                                                                      | Leucine                                                                    | 0.05                                                                       | -0.58                                                                      | RNA splicing*                                                              | endonuclease activity                                                      | \n",
       "| GGC1                                                                       | YDL198C                                                                    | Leucine                                                                    | 0.05                                                                       | -0.15                                                                      | mitochondrial genome maintenance*                                          | guanine nucleotide transporter activity                                    | \n",
       "| SUL1                                                                       | YBR294W                                                                    | Leucine                                                                    | 0.05                                                                       | -1.83                                                                      | sulfate transport                                                          | sulfate transporter activity                                               | \n",
       "| ... | ... | ... | ... | ... | ... | ... | \n",
       "| NA                                                               | YNL046W                                                          | Leucine                                                          | 0.3                                                              | -0.03                                                            | biological process unknown                                       | molecular function unknown                                       | \n",
       "| RPS0B                                                            | YLR048W                                                          | Leucine                                                          | 0.3                                                              |  0.12                                                            | protein biosynthesis*                                            | structural constituent of ribosome                               | \n",
       "| COS12                                                            | YGL263W                                                          | Leucine                                                          | 0.3                                                              |  1.17                                                            | biological process unknown                                       | molecular function unknown                                       | \n",
       "| NA                                                               | YNR065C                                                          | Leucine                                                          | 0.3                                                              | -0.11                                                            | biological process unknown                                       | molecular function unknown                                       | \n",
       "| IZH1                                                             | YDR492W                                                          | Leucine                                                          | 0.3                                                              | -0.51                                                            | lipid metabolism*                                                | metal ion binding                                                | \n",
       "| NA                                                               | YPR064W                                                          | Leucine                                                          | 0.3                                                              | -0.37                                                            | NA                                                               | NA                                                               | \n",
       "| IZH4                                                             | YOL101C                                                          | Leucine                                                          | 0.3                                                              | -0.42                                                            | lipid metabolism*                                                | metal ion binding                                                | \n",
       "| PST1                                                             | YDR055W                                                          | Leucine                                                          | 0.3                                                              | -0.29                                                            | cell wall organization and biogenesis                            | molecular function unknown                                       | \n",
       "| PRM10                                                            | YJL108C                                                          | Leucine                                                          | 0.3                                                              | -0.08                                                            | conjugation with cellular fusion                                 | molecular function unknown                                       | \n",
       "| NA                                                               | YJL107C                                                          | Leucine                                                          | 0.3                                                              | -0.21                                                            | biological process unknown                                       | molecular function unknown                                       | \n",
       "| SFA1                                                             | YDL168W                                                          | Leucine                                                          | 0.3                                                              |  0.01                                                            | formaldehyde catabolism                                          | alcohol dehydrogenase activity*                                  | \n",
       "| CAP2                                                             | YIL034C                                                          | Leucine                                                          | 0.3                                                              | -0.05                                                            | filamentous growth*                                              | actin filament binding                                           | \n",
       "| NA                                                               | YMR122W-A                                                        | Leucine                                                          | 0.3                                                              |  0.05                                                            | biological process unknown                                       | molecular function unknown                                       | \n",
       "| CIS3                                                             | YJL158C                                                          | Leucine                                                          | 0.3                                                              |  0.03                                                            | cell wall organization and biogenesis                            | structural constituent of cell wall                              | \n",
       "| NA                                                               | YPR012W                                                          | Leucine                                                          | 0.3                                                              |  0.04                                                            | NA                                                               | NA                                                               | \n",
       "| RGS2                                                             | YOR107W                                                          | Leucine                                                          | 0.3                                                              | -0.29                                                            | G-protein signaling, coupled to cAMP nucleotide second messenger | GTPase activator activity                                        | \n",
       "| NA                                                               | YPR117W                                                          | Leucine                                                          | 0.3                                                              | -0.48                                                            | biological process unknown                                       | molecular function unknown                                       | \n",
       "| NA                                                               | YPR150W                                                          | Leucine                                                          | 0.3                                                              | -0.52                                                            | NA                                                               | NA                                                               | \n",
       "| CSG2                                                             | YBR036C                                                          | Leucine                                                          | 0.3                                                              | -0.15                                                            | calcium ion homeostasis*                                         | enzyme regulator activity                                        | \n",
       "| SPO11                                                            | YHL022C                                                          | Leucine                                                          | 0.3                                                              | -0.23                                                            | meiotic DNA double-strand break formation                        | endodeoxyribonuclease activity, producing 3'-phosphomonoesters   | \n",
       "| CHO1                                                             | YER026C                                                          | Leucine                                                          | 0.3                                                              | -0.16                                                            | phosphatidylserine biosynthesis                                  | CDP-diacylglycerol-serine O-phosphatidyltransferase activity     | \n",
       "| WSC2                                                             | YNL283C                                                          | Leucine                                                          | 0.3                                                              | -0.20                                                            | cell wall organization and biogenesis*                           | transmembrane receptor activity                                  | \n",
       "| MYO2                                                             | YOR326W                                                          | Leucine                                                          | 0.3                                                              | -0.24                                                            | endocytosis*                                                     | microfilament motor activity                                     | \n",
       "| NA                                                               | YPL066W                                                          | Leucine                                                          | 0.3                                                              |  0.06                                                            | biological process unknown                                       | molecular function unknown                                       | \n",
       "| DOA1                                                             | YKL213C                                                          | Leucine                                                          | 0.3                                                              |  0.02                                                            | ubiquitin-dependent protein catabolism*                          | molecular function unknown                                       | \n",
       "| KRE1                                                             | YNL322C                                                          | Leucine                                                          | 0.3                                                              |  0.15                                                            | cell wall organization and biogenesis                            | structural constituent of cell wall                              | \n",
       "| MTL1                                                             | YGR023W                                                          | Leucine                                                          | 0.3                                                              | -0.10                                                            | cell wall organization and biogenesis                            | molecular function unknown                                       | \n",
       "| KRE9                                                             | YJL174W                                                          | Leucine                                                          | 0.3                                                              | -0.01                                                            | cell wall organization and biogenesis*                           | molecular function unknown                                       | \n",
       "| UTH1                                                             | YKR042W                                                          | Leucine                                                          | 0.3                                                              |  0.18                                                            | mitochondrion organization and biogenesis*                       | molecular function unknown                                       | \n",
       "| NA                                                               | YOL111C                                                          | Leucine                                                          | 0.3                                                              | -0.06                                                            | biological process unknown                                       | molecular function unknown                                       | \n",
       "\n",
       "\n"
      ],
      "text/plain": [
       "      symbol systematic_name nutrient rate expression\n",
       "1     SFB2   YNL049C         Leucine  0.05  0.18     \n",
       "2     NA     YNL095C         Leucine  0.05  0.16     \n",
       "3     QRI7   YDL104C         Leucine  0.05 -0.30     \n",
       "4     CFT2   YLR115W         Leucine  0.05 -0.27     \n",
       "5     SSO2   YMR183C         Leucine  0.05 -0.59     \n",
       "6     PSP2   YML017W         Leucine  0.05 -0.17     \n",
       "7     RIB2   YOL066C         Leucine  0.05 -0.02     \n",
       "8     VMA13  YPR036W         Leucine  0.05 -0.11     \n",
       "9     EDC3   YEL015W         Leucine  0.05  0.12     \n",
       "10    VPS5   YOR069W         Leucine  0.05 -0.20     \n",
       "11    NA     YOL029C         Leucine  0.05 -0.10     \n",
       "12    AMN1   YBR158W         Leucine  0.05 -1.09     \n",
       "13    SCW11  YGL028C         Leucine  0.05 -1.03     \n",
       "14    DSE2   YHR143W         Leucine  0.05 -0.77     \n",
       "15    COX15  YER141W         Leucine  0.05 -1.02     \n",
       "16    SPE1   YKL184W         Leucine  0.05 -0.11     \n",
       "17    MTF1   YMR228W         Leucine  0.05 -0.82     \n",
       "18    KSS1   YGR040W         Leucine  0.05 -0.60     \n",
       "19    NA     YHR036W         Leucine  0.05 -0.67     \n",
       "20    NA     YNL158W         Leucine  0.05 -0.40     \n",
       "21    YAP7   YOL028C         Leucine  0.05 -0.41     \n",
       "22    NA     YBR074W         Leucine  0.05 -1.61     \n",
       "23    YVC1   YOR087W         Leucine  0.05 -1.51     \n",
       "24    CDC40  YDR364C         Leucine  0.05 -0.30     \n",
       "25    NA     YPL162C         Leucine  0.05 -0.66     \n",
       "26    RMD1   YDL001W         Leucine  0.05 -0.47     \n",
       "27    PCL6   YER059W         Leucine  0.05 -0.61     \n",
       "28    AI4    Q0065           Leucine  0.05 -0.58     \n",
       "29    GGC1   YDL198C         Leucine  0.05 -0.15     \n",
       "30    SUL1   YBR294W         Leucine  0.05 -1.83     \n",
       "...   ...    ...             ...      ...  ...       \n",
       "33149 NA     YNL046W         Leucine  0.3  -0.03     \n",
       "33150 RPS0B  YLR048W         Leucine  0.3   0.12     \n",
       "33151 COS12  YGL263W         Leucine  0.3   1.17     \n",
       "33152 NA     YNR065C         Leucine  0.3  -0.11     \n",
       "33153 IZH1   YDR492W         Leucine  0.3  -0.51     \n",
       "33154 NA     YPR064W         Leucine  0.3  -0.37     \n",
       "33155 IZH4   YOL101C         Leucine  0.3  -0.42     \n",
       "33156 PST1   YDR055W         Leucine  0.3  -0.29     \n",
       "33157 PRM10  YJL108C         Leucine  0.3  -0.08     \n",
       "33158 NA     YJL107C         Leucine  0.3  -0.21     \n",
       "33159 SFA1   YDL168W         Leucine  0.3   0.01     \n",
       "33160 CAP2   YIL034C         Leucine  0.3  -0.05     \n",
       "33161 NA     YMR122W-A       Leucine  0.3   0.05     \n",
       "33162 CIS3   YJL158C         Leucine  0.3   0.03     \n",
       "33163 NA     YPR012W         Leucine  0.3   0.04     \n",
       "33164 RGS2   YOR107W         Leucine  0.3  -0.29     \n",
       "33165 NA     YPR117W         Leucine  0.3  -0.48     \n",
       "33166 NA     YPR150W         Leucine  0.3  -0.52     \n",
       "33167 CSG2   YBR036C         Leucine  0.3  -0.15     \n",
       "33168 SPO11  YHL022C         Leucine  0.3  -0.23     \n",
       "33169 CHO1   YER026C         Leucine  0.3  -0.16     \n",
       "33170 WSC2   YNL283C         Leucine  0.3  -0.20     \n",
       "33171 MYO2   YOR326W         Leucine  0.3  -0.24     \n",
       "33172 NA     YPL066W         Leucine  0.3   0.06     \n",
       "33173 DOA1   YKL213C         Leucine  0.3   0.02     \n",
       "33174 KRE1   YNL322C         Leucine  0.3   0.15     \n",
       "33175 MTL1   YGR023W         Leucine  0.3  -0.10     \n",
       "33176 KRE9   YJL174W         Leucine  0.3  -0.01     \n",
       "33177 UTH1   YKR042W         Leucine  0.3   0.18     \n",
       "33178 NA     YOL111C         Leucine  0.3  -0.06     \n",
       "      bp                                                                  \n",
       "1     ER to Golgi transport                                               \n",
       "2     biological process unknown                                          \n",
       "3     proteolysis and peptidolysis                                        \n",
       "4     mRNA polyadenylylation*                                             \n",
       "5     vesicle fusion*                                                     \n",
       "6     biological process unknown                                          \n",
       "7     riboflavin biosynthesis                                             \n",
       "8     vacuolar acidification                                              \n",
       "9     deadenylylation-independent decapping                               \n",
       "10    protein retention in Golgi*                                         \n",
       "11    biological process unknown                                          \n",
       "12    negative regulation of exit from mitosis*                           \n",
       "13    cytokinesis, completion of separation                               \n",
       "14    cell wall organization and biogenesis*                              \n",
       "15    cytochrome c oxidase complex assembly*                              \n",
       "16    pantothenate biosynthesis*                                          \n",
       "17    transcription from mitochondrial promoter                           \n",
       "18    invasive growth (sensu Saccharomyces)*                              \n",
       "19    biological process unknown                                          \n",
       "20    biological process unknown                                          \n",
       "21    positive regulation of transcription from RNA polymerase II promoter\n",
       "22    proteolysis and peptidolysis                                        \n",
       "23    cation homeostasis                                                  \n",
       "24    nuclear mRNA splicing, via spliceosome*                             \n",
       "25    biological process unknown                                          \n",
       "26    biological process unknown                                          \n",
       "27    regulation of glycogen biosynthesis*                                \n",
       "28    RNA splicing*                                                       \n",
       "29    mitochondrial genome maintenance*                                   \n",
       "30    sulfate transport                                                   \n",
       "...   ...                                                                 \n",
       "33149 biological process unknown                                          \n",
       "33150 protein biosynthesis*                                               \n",
       "33151 biological process unknown                                          \n",
       "33152 biological process unknown                                          \n",
       "33153 lipid metabolism*                                                   \n",
       "33154 NA                                                                  \n",
       "33155 lipid metabolism*                                                   \n",
       "33156 cell wall organization and biogenesis                               \n",
       "33157 conjugation with cellular fusion                                    \n",
       "33158 biological process unknown                                          \n",
       "33159 formaldehyde catabolism                                             \n",
       "33160 filamentous growth*                                                 \n",
       "33161 biological process unknown                                          \n",
       "33162 cell wall organization and biogenesis                               \n",
       "33163 NA                                                                  \n",
       "33164 G-protein signaling, coupled to cAMP nucleotide second messenger    \n",
       "33165 biological process unknown                                          \n",
       "33166 NA                                                                  \n",
       "33167 calcium ion homeostasis*                                            \n",
       "33168 meiotic DNA double-strand break formation                           \n",
       "33169 phosphatidylserine biosynthesis                                     \n",
       "33170 cell wall organization and biogenesis*                              \n",
       "33171 endocytosis*                                                        \n",
       "33172 biological process unknown                                          \n",
       "33173 ubiquitin-dependent protein catabolism*                             \n",
       "33174 cell wall organization and biogenesis                               \n",
       "33175 cell wall organization and biogenesis                               \n",
       "33176 cell wall organization and biogenesis*                              \n",
       "33177 mitochondrion organization and biogenesis*                          \n",
       "33178 biological process unknown                                          \n",
       "      mf                                                                        \n",
       "1     molecular function unknown                                                \n",
       "2     molecular function unknown                                                \n",
       "3     metalloendopeptidase activity                                             \n",
       "4     RNA binding                                                               \n",
       "5     t-SNARE activity                                                          \n",
       "6     molecular function unknown                                                \n",
       "7     pseudouridylate synthase activity*                                        \n",
       "8     hydrogen-transporting ATPase activity, rotational mechanism               \n",
       "9     molecular function unknown                                                \n",
       "10    protein transporter activity                                              \n",
       "11    molecular function unknown                                                \n",
       "12    protein binding                                                           \n",
       "13    glucan 1,3-beta-glucosidase activity                                      \n",
       "14    glucan 1,3-beta-glucosidase activity                                      \n",
       "15    oxidoreductase activity, acting on NADH or NADPH, heme protein as acceptor\n",
       "16    ornithine decarboxylase activity                                          \n",
       "17    S-adenosylmethionine-dependent methyltransferase activity*                \n",
       "18    MAP kinase activity                                                       \n",
       "19    molecular function unknown                                                \n",
       "20    molecular function unknown                                                \n",
       "21    RNA polymerase II transcription factor activity                           \n",
       "22    metalloendopeptidase activity                                             \n",
       "23    calcium channel activity*                                                 \n",
       "24    RNA splicing factor activity, transesterification mechanism*              \n",
       "25    molecular function unknown                                                \n",
       "26    molecular function unknown                                                \n",
       "27    cyclin-dependent protein kinase regulator activity                        \n",
       "28    endonuclease activity                                                     \n",
       "29    guanine nucleotide transporter activity                                   \n",
       "30    sulfate transporter activity                                              \n",
       "...   ...                                                                       \n",
       "33149 molecular function unknown                                                \n",
       "33150 structural constituent of ribosome                                        \n",
       "33151 molecular function unknown                                                \n",
       "33152 molecular function unknown                                                \n",
       "33153 metal ion binding                                                         \n",
       "33154 NA                                                                        \n",
       "33155 metal ion binding                                                         \n",
       "33156 molecular function unknown                                                \n",
       "33157 molecular function unknown                                                \n",
       "33158 molecular function unknown                                                \n",
       "33159 alcohol dehydrogenase activity*                                           \n",
       "33160 actin filament binding                                                    \n",
       "33161 molecular function unknown                                                \n",
       "33162 structural constituent of cell wall                                       \n",
       "33163 NA                                                                        \n",
       "33164 GTPase activator activity                                                 \n",
       "33165 molecular function unknown                                                \n",
       "33166 NA                                                                        \n",
       "33167 enzyme regulator activity                                                 \n",
       "33168 endodeoxyribonuclease activity, producing 3'-phosphomonoesters            \n",
       "33169 CDP-diacylglycerol-serine O-phosphatidyltransferase activity              \n",
       "33170 transmembrane receptor activity                                           \n",
       "33171 microfilament motor activity                                              \n",
       "33172 molecular function unknown                                                \n",
       "33173 molecular function unknown                                                \n",
       "33174 structural constituent of cell wall                                       \n",
       "33175 molecular function unknown                                                \n",
       "33176 molecular function unknown                                                \n",
       "33177 molecular function unknown                                                \n",
       "33178 molecular function unknown                                                "
      ]
     },
     "metadata": {},
     "output_type": "display_data"
    }
   ],
   "source": [
    "ydat %>% filter(nutrient==\"Leucine\")"
   ]
  },
  {
   "cell_type": "markdown",
   "metadata": {},
   "source": [
    "### 嵌套比对%>%"
   ]
  },
  {
   "cell_type": "markdown",
   "metadata": {},
   "source": [
    "我们来为一个问题思考一分钟：要是我们想要获得每一种营养条件下涉及白氨酸合成通路中基因表达与生长率的相关性。我们可能会这么做："
   ]
  },
  {
   "cell_type": "markdown",
   "metadata": {},
   "source": [
    "0. 取得`ydat`数据集\n",
    "1. 然后使用`filter()`函数取得涉及白氨酸合成通路的基因\n",
    "2. 然后使用`group_by()`函数处理限定的营养物质\n",
    "3. 然后`summarize()`总结获得生长率和表达的相关\n",
    "4. 然后使用`mutate()`将结果保留两位有效数字\n",
    "5. 然后使用`arrange()`对相关系数进行排序"
   ]
  },
  {
   "cell_type": "markdown",
   "metadata": {},
   "source": [
    "**我们来看看用我们上述的认知去实现它和管道实现它的差别**"
   ]
  },
  {
   "cell_type": "markdown",
   "metadata": {},
   "source": [
    "![](dplyr-pipeline.png)"
   ]
  },
  {
   "cell_type": "markdown",
   "metadata": {},
   "source": [
    "**dplyr的处理方式很干净易懂**"
   ]
  },
  {
   "cell_type": "code",
   "execution_count": 24,
   "metadata": {},
   "outputs": [
    {
     "data": {
      "text/html": [
       "<table>\n",
       "<thead><tr><th scope=col>nutrient</th><th scope=col>r</th></tr></thead>\n",
       "<tbody>\n",
       "\t<tr><td>Leucine  </td><td>-0.58    </td></tr>\n",
       "\t<tr><td>Glucose  </td><td>-0.04    </td></tr>\n",
       "\t<tr><td>Ammonia  </td><td> 0.16    </td></tr>\n",
       "\t<tr><td>Sulfate  </td><td> 0.33    </td></tr>\n",
       "\t<tr><td>Phosphate</td><td> 0.44    </td></tr>\n",
       "\t<tr><td>Uracil   </td><td> 0.58    </td></tr>\n",
       "</tbody>\n",
       "</table>\n"
      ],
      "text/latex": [
       "\\begin{tabular}{r|ll}\n",
       " nutrient & r\\\\\n",
       "\\hline\n",
       "\t Leucine   & -0.58    \\\\\n",
       "\t Glucose   & -0.04    \\\\\n",
       "\t Ammonia   &  0.16    \\\\\n",
       "\t Sulfate   &  0.33    \\\\\n",
       "\t Phosphate &  0.44    \\\\\n",
       "\t Uracil    &  0.58    \\\\\n",
       "\\end{tabular}\n"
      ],
      "text/markdown": [
       "\n",
       "nutrient | r | \n",
       "|---|---|---|---|---|---|\n",
       "| Leucine   | -0.58     | \n",
       "| Glucose   | -0.04     | \n",
       "| Ammonia   |  0.16     | \n",
       "| Sulfate   |  0.33     | \n",
       "| Phosphate |  0.44     | \n",
       "| Uracil    |  0.58     | \n",
       "\n",
       "\n"
      ],
      "text/plain": [
       "  nutrient  r    \n",
       "1 Leucine   -0.58\n",
       "2 Glucose   -0.04\n",
       "3 Ammonia    0.16\n",
       "4 Sulfate    0.33\n",
       "5 Phosphate  0.44\n",
       "6 Uracil     0.58"
      ]
     },
     "metadata": {},
     "output_type": "display_data"
    }
   ],
   "source": [
    "ydat %>% \n",
    "  filter(bp==\"leucine biosynthesis\") %>%\n",
    "  group_by(nutrient) %>% \n",
    "  summarize(r=cor(rate, expression)) %>% \n",
    "  mutate(r=round(r,2)) %>% \n",
    "  arrange(r)"
   ]
  },
  {
   "cell_type": "markdown",
   "metadata": {},
   "source": [
    "### 管道操作练习"
   ]
  },
  {
   "cell_type": "markdown",
   "metadata": {},
   "source": [
    "下面练习热热身。"
   ]
  },
  {
   "cell_type": "code",
   "execution_count": 25,
   "metadata": {},
   "outputs": [
    {
     "data": {
      "text/html": [
       "<table>\n",
       "<thead><tr><th scope=col>nutrient</th><th scope=col>expression</th></tr></thead>\n",
       "<tbody>\n",
       "\t<tr><td>Glucose  </td><td> 6.28    </td></tr>\n",
       "\t<tr><td>Ammonia  </td><td> 0.55    </td></tr>\n",
       "\t<tr><td>Phosphate</td><td>-4.60    </td></tr>\n",
       "\t<tr><td>Sulfate  </td><td>-1.18    </td></tr>\n",
       "\t<tr><td>Leucine  </td><td> 4.15    </td></tr>\n",
       "\t<tr><td>Uracil   </td><td> 0.63    </td></tr>\n",
       "</tbody>\n",
       "</table>\n"
      ],
      "text/latex": [
       "\\begin{tabular}{r|ll}\n",
       " nutrient & expression\\\\\n",
       "\\hline\n",
       "\t Glucose   &  6.28    \\\\\n",
       "\t Ammonia   &  0.55    \\\\\n",
       "\t Phosphate & -4.60    \\\\\n",
       "\t Sulfate   & -1.18    \\\\\n",
       "\t Leucine   &  4.15    \\\\\n",
       "\t Uracil    &  0.63    \\\\\n",
       "\\end{tabular}\n"
      ],
      "text/markdown": [
       "\n",
       "nutrient | expression | \n",
       "|---|---|---|---|---|---|\n",
       "| Glucose   |  6.28     | \n",
       "| Ammonia   |  0.55     | \n",
       "| Phosphate | -4.60     | \n",
       "| Sulfate   | -1.18     | \n",
       "| Leucine   |  4.15     | \n",
       "| Uracil    |  0.63     | \n",
       "\n",
       "\n"
      ],
      "text/plain": [
       "  nutrient  expression\n",
       "1 Glucose    6.28     \n",
       "2 Ammonia    0.55     \n",
       "3 Phosphate -4.60     \n",
       "4 Sulfate   -1.18     \n",
       "5 Leucine    4.15     \n",
       "6 Uracil     0.63     "
      ]
     },
     "metadata": {},
     "output_type": "display_data"
    }
   ],
   "source": [
    "# 找出ADH2基因的生长率为0.05时的营养和表达值\n",
    "# Hint: filter and select\n",
    "# 我们先找基因ADH2再取列值\n",
    "ydat %>% \n",
    "filter(symbol == \"ADH2\" & rate == 0.05) %>%\n",
    "select(nutrient, expression)"
   ]
  },
  {
   "cell_type": "code",
   "execution_count": 1,
   "metadata": {},
   "outputs": [
    {
     "name": "stderr",
     "output_type": "stream",
     "text": [
      "-- Attaching packages --------------------------------------- tidyverse 1.2.1 --\n",
      "√ ggplot2 2.2.1     √ purrr   0.2.4\n",
      "√ tibble  1.3.4     √ dplyr   0.7.4\n",
      "√ tidyr   0.7.2     √ stringr 1.2.0\n",
      "√ readr   1.1.1     √ forcats 0.2.0\n",
      "-- Conflicts ------------------------------------------ tidyverse_conflicts() --\n",
      "x dplyr::filter() masks stats::filter()\n",
      "x dplyr::lag()    masks stats::lag()\n",
      "Parsed with column specification:\n",
      "cols(\n",
      "  symbol = col_character(),\n",
      "  systematic_name = col_character(),\n",
      "  nutrient = col_character(),\n",
      "  rate = col_double(),\n",
      "  expression = col_double(),\n",
      "  bp = col_character(),\n",
      "  mf = col_character()\n",
      ")\n"
     ]
    },
    {
     "data": {
      "text/html": [
       "<table>\n",
       "<thead><tr><th scope=col>symbol</th><th scope=col>expression</th><th scope=col>bp</th><th scope=col>mf</th></tr></thead>\n",
       "<tbody>\n",
       "\t<tr><td>ADH2                          </td><td>6.28                          </td><td>fermentation*                 </td><td>alcohol dehydrogenase activity</td></tr>\n",
       "\t<tr><td>HSP26                         </td><td>5.86                          </td><td>response to stress*           </td><td>unfolded protein binding      </td></tr>\n",
       "\t<tr><td>MLS1                          </td><td>5.64                          </td><td>glyoxylate cycle              </td><td>malate synthase activity      </td></tr>\n",
       "\t<tr><td>HXT5                          </td><td>5.56                          </td><td>hexose transport              </td><td>glucose transporter activity* </td></tr>\n",
       "</tbody>\n",
       "</table>\n"
      ],
      "text/latex": [
       "\\begin{tabular}{r|llll}\n",
       " symbol & expression & bp & mf\\\\\n",
       "\\hline\n",
       "\t ADH2                           & 6.28                           & fermentation*                  & alcohol dehydrogenase activity\\\\\n",
       "\t HSP26                          & 5.86                           & response to stress*            & unfolded protein binding      \\\\\n",
       "\t MLS1                           & 5.64                           & glyoxylate cycle               & malate synthase activity      \\\\\n",
       "\t HXT5                           & 5.56                           & hexose transport               & glucose transporter activity* \\\\\n",
       "\\end{tabular}\n"
      ],
      "text/markdown": [
       "\n",
       "symbol | expression | bp | mf | \n",
       "|---|---|---|---|\n",
       "| ADH2                           | 6.28                           | fermentation*                  | alcohol dehydrogenase activity | \n",
       "| HSP26                          | 5.86                           | response to stress*            | unfolded protein binding       | \n",
       "| MLS1                           | 5.64                           | glyoxylate cycle               | malate synthase activity       | \n",
       "| HXT5                           | 5.56                           | hexose transport               | glucose transporter activity*  | \n",
       "\n",
       "\n"
      ],
      "text/plain": [
       "  symbol expression bp                  mf                            \n",
       "1 ADH2   6.28       fermentation*       alcohol dehydrogenase activity\n",
       "2 HSP26  5.86       response to stress* unfolded protein binding      \n",
       "3 MLS1   5.64       glyoxylate cycle    malate synthase activity      \n",
       "4 HXT5   5.56       hexose transport    glucose transporter activity* "
      ]
     },
     "metadata": {},
     "output_type": "display_data"
    }
   ],
   "source": [
    "# 营养限定为Glucose，生长率限定为0.05时表达值最高的4个基因\n",
    "# 仅仅显示基因符号，表达值，GO terms\n",
    "# Hint: filter, arrange, head, select\n",
    "library(tidyverse)\n",
    "ydat = read_csv(file=\"./brauer2007_tidy.csv\")\n",
    "ydat %>%\n",
    "filter(nutrient == \"Glucose\" & rate == 0.05) %>%\n",
    "arrange(desc(expression)) %>%\n",
    "head(4) %>%\n",
    "select(symbol, expression, bp, mf)"
   ]
  },
  {
   "cell_type": "code",
   "execution_count": 6,
   "metadata": {},
   "outputs": [
    {
     "data": {
      "text/html": [
       "<table>\n",
       "<thead><tr><th scope=col>nutrient</th><th scope=col>meanexp</th></tr></thead>\n",
       "<tbody>\n",
       "\t<tr><td>Ammonia  </td><td>0.9426667</td></tr>\n",
       "\t<tr><td>Glucose  </td><td>0.7426667</td></tr>\n",
       "\t<tr><td>Leucine  </td><td>0.8106667</td></tr>\n",
       "\t<tr><td>Phosphate</td><td>0.9806667</td></tr>\n",
       "\t<tr><td>Sulfate  </td><td>0.7430769</td></tr>\n",
       "\t<tr><td>Uracil   </td><td>0.7313333</td></tr>\n",
       "</tbody>\n",
       "</table>\n"
      ],
      "text/latex": [
       "\\begin{tabular}{r|ll}\n",
       " nutrient & meanexp\\\\\n",
       "\\hline\n",
       "\t Ammonia   & 0.9426667\\\\\n",
       "\t Glucose   & 0.7426667\\\\\n",
       "\t Leucine   & 0.8106667\\\\\n",
       "\t Phosphate & 0.9806667\\\\\n",
       "\t Sulfate   & 0.7430769\\\\\n",
       "\t Uracil    & 0.7313333\\\\\n",
       "\\end{tabular}\n"
      ],
      "text/markdown": [
       "\n",
       "nutrient | meanexp | \n",
       "|---|---|---|---|---|---|\n",
       "| Ammonia   | 0.9426667 | \n",
       "| Glucose   | 0.7426667 | \n",
       "| Leucine   | 0.8106667 | \n",
       "| Phosphate | 0.9806667 | \n",
       "| Sulfate   | 0.7430769 | \n",
       "| Uracil    | 0.7313333 | \n",
       "\n",
       "\n"
      ],
      "text/plain": [
       "  nutrient  meanexp  \n",
       "1 Ammonia   0.9426667\n",
       "2 Glucose   0.7426667\n",
       "3 Leucine   0.8106667\n",
       "4 Phosphate 0.9806667\n",
       "5 Sulfate   0.7430769\n",
       "6 Uracil    0.7313333"
      ]
     },
     "metadata": {},
     "output_type": "display_data"
    }
   ],
   "source": [
    "# 当生长率限定为0.05时，每种营养条件下在response to stress通路中每个基因的平均表达值时多少？\n",
    "# protein biosynthesis通路呢？\n",
    "# Hint: filter, group_by, summary\n",
    "ydat %>%\n",
    "filter(rate == 0.05 & bp == \"response to stress\") %>%\n",
    "group_by(nutrient) %>%\n",
    "summarize(meanexp=mean(expression))"
   ]
  },
  {
   "cell_type": "code",
   "execution_count": 7,
   "metadata": {},
   "outputs": [
    {
     "data": {
      "text/html": [
       "<table>\n",
       "<thead><tr><th scope=col>nutrient</th><th scope=col>meanexp</th></tr></thead>\n",
       "<tbody>\n",
       "\t<tr><td>Ammonia   </td><td>-1.6133514</td></tr>\n",
       "\t<tr><td>Glucose   </td><td>-0.6911351</td></tr>\n",
       "\t<tr><td>Leucine   </td><td>-0.5735676</td></tr>\n",
       "\t<tr><td>Phosphate </td><td>-0.7496216</td></tr>\n",
       "\t<tr><td>Sulfate   </td><td>-0.9134807</td></tr>\n",
       "\t<tr><td>Uracil    </td><td>-0.8799454</td></tr>\n",
       "</tbody>\n",
       "</table>\n"
      ],
      "text/latex": [
       "\\begin{tabular}{r|ll}\n",
       " nutrient & meanexp\\\\\n",
       "\\hline\n",
       "\t Ammonia    & -1.6133514\\\\\n",
       "\t Glucose    & -0.6911351\\\\\n",
       "\t Leucine    & -0.5735676\\\\\n",
       "\t Phosphate  & -0.7496216\\\\\n",
       "\t Sulfate    & -0.9134807\\\\\n",
       "\t Uracil     & -0.8799454\\\\\n",
       "\\end{tabular}\n"
      ],
      "text/markdown": [
       "\n",
       "nutrient | meanexp | \n",
       "|---|---|---|---|---|---|\n",
       "| Ammonia    | -1.6133514 | \n",
       "| Glucose    | -0.6911351 | \n",
       "| Leucine    | -0.5735676 | \n",
       "| Phosphate  | -0.7496216 | \n",
       "| Sulfate    | -0.9134807 | \n",
       "| Uracil     | -0.8799454 | \n",
       "\n",
       "\n"
      ],
      "text/plain": [
       "  nutrient  meanexp   \n",
       "1 Ammonia   -1.6133514\n",
       "2 Glucose   -0.6911351\n",
       "3 Leucine   -0.5735676\n",
       "4 Phosphate -0.7496216\n",
       "5 Sulfate   -0.9134807\n",
       "6 Uracil    -0.8799454"
      ]
     },
     "metadata": {},
     "output_type": "display_data"
    }
   ],
   "source": [
    "ydat %>%\n",
    "filter(rate == 0.05 & bp == \"protein biosynthesis\") %>%\n",
    "group_by(nutrient) %>%\n",
    "summarize(meanexp=mean(expression))"
   ]
  },
  {
   "cell_type": "markdown",
   "metadata": {},
   "source": [
    "**让我们来试点更有难度的**"
   ]
  },
  {
   "cell_type": "code",
   "execution_count": 3,
   "metadata": {},
   "outputs": [
    {
     "data": {
      "text/html": [
       "<table>\n",
       "<thead><tr><th scope=col>bp</th><th scope=col>n</th></tr></thead>\n",
       "<tbody>\n",
       "\t<tr><td>biological process unknown                                  </td><td>269                                                         </td></tr>\n",
       "\t<tr><td>protein biosynthesis                                        </td><td>182                                                         </td></tr>\n",
       "\t<tr><td>protein amino acid phosphorylation*                         </td><td> 78                                                         </td></tr>\n",
       "\t<tr><td>protein biosynthesis*                                       </td><td> 73                                                         </td></tr>\n",
       "\t<tr><td>cell wall organization and biogenesis*                      </td><td> 64                                                         </td></tr>\n",
       "\t<tr><td>regulation of transcription from RNA polymerase II promoter*</td><td> 49                                                         </td></tr>\n",
       "\t<tr><td>nuclear mRNA splicing, via spliceosome                      </td><td> 47                                                         </td></tr>\n",
       "\t<tr><td>DNA repair*                                                 </td><td> 44                                                         </td></tr>\n",
       "\t<tr><td>aerobic respiration*                                        </td><td> 42                                                         </td></tr>\n",
       "\t<tr><td>ER to Golgi transport*                                      </td><td> 42                                                         </td></tr>\n",
       "</tbody>\n",
       "</table>\n"
      ],
      "text/latex": [
       "\\begin{tabular}{r|ll}\n",
       " bp & n\\\\\n",
       "\\hline\n",
       "\t biological process unknown                                   & 269                                                         \\\\\n",
       "\t protein biosynthesis                                         & 182                                                         \\\\\n",
       "\t protein amino acid phosphorylation*                          &  78                                                         \\\\\n",
       "\t protein biosynthesis*                                        &  73                                                         \\\\\n",
       "\t cell wall organization and biogenesis*                       &  64                                                         \\\\\n",
       "\t regulation of transcription from RNA polymerase II promoter* &  49                                                         \\\\\n",
       "\t nuclear mRNA splicing, via spliceosome                       &  47                                                         \\\\\n",
       "\t DNA repair*                                                  &  44                                                         \\\\\n",
       "\t aerobic respiration*                                         &  42                                                         \\\\\n",
       "\t ER to Golgi transport*                                       &  42                                                         \\\\\n",
       "\\end{tabular}\n"
      ],
      "text/markdown": [
       "\n",
       "bp | n | \n",
       "|---|---|---|---|---|---|---|---|---|---|\n",
       "| biological process unknown                                   | 269                                                          | \n",
       "| protein biosynthesis                                         | 182                                                          | \n",
       "| protein amino acid phosphorylation*                          |  78                                                          | \n",
       "| protein biosynthesis*                                        |  73                                                          | \n",
       "| cell wall organization and biogenesis*                       |  64                                                          | \n",
       "| regulation of transcription from RNA polymerase II promoter* |  49                                                          | \n",
       "| nuclear mRNA splicing, via spliceosome                       |  47                                                          | \n",
       "| DNA repair*                                                  |  44                                                          | \n",
       "| aerobic respiration*                                         |  42                                                          | \n",
       "| ER to Golgi transport*                                       |  42                                                          | \n",
       "\n",
       "\n"
      ],
      "text/plain": [
       "   bp                                                           n  \n",
       "1  biological process unknown                                   269\n",
       "2  protein biosynthesis                                         182\n",
       "3  protein amino acid phosphorylation*                           78\n",
       "4  protein biosynthesis*                                         73\n",
       "5  cell wall organization and biogenesis*                        64\n",
       "6  regulation of transcription from RNA polymerase II promoter*  49\n",
       "7  nuclear mRNA splicing, via spliceosome                        47\n",
       "8  DNA repair*                                                   44\n",
       "9  aerobic respiration*                                          42\n",
       "10 ER to Golgi transport*                                        42"
      ]
     },
     "metadata": {},
     "output_type": "display_data"
    }
   ],
   "source": [
    "# 得到10个有最多基因关联的生物学过程？如果改成分子功能呢？\n",
    "# Hint: group_by summarize n_distinct arrange head\n",
    "ydat %>%\n",
    "group_by(bp)%>%\n",
    "summarize(n = n_distinct(symbol)) %>%\n",
    "arrange(desc(n)) %>%\n",
    "head(10)"
   ]
  },
  {
   "cell_type": "code",
   "execution_count": 4,
   "metadata": {},
   "outputs": [
    {
     "data": {
      "text/html": [
       "<table>\n",
       "<thead><tr><th scope=col>mf</th><th scope=col>n</th></tr></thead>\n",
       "<tbody>\n",
       "\t<tr><td>molecular function unknown            </td><td>886                                   </td></tr>\n",
       "\t<tr><td>structural constituent of ribosome    </td><td>185                                   </td></tr>\n",
       "\t<tr><td>protein binding                       </td><td>107                                   </td></tr>\n",
       "\t<tr><td>RNA binding                           </td><td> 63                                   </td></tr>\n",
       "\t<tr><td>protein binding*                      </td><td> 53                                   </td></tr>\n",
       "\t<tr><td>DNA binding*                          </td><td> 44                                   </td></tr>\n",
       "\t<tr><td>structural molecule activity          </td><td> 43                                   </td></tr>\n",
       "\t<tr><td>GTPase activity                       </td><td> 40                                   </td></tr>\n",
       "\t<tr><td>structural constituent of cytoskeleton</td><td> 39                                   </td></tr>\n",
       "\t<tr><td>transcription factor activity         </td><td> 38                                   </td></tr>\n",
       "</tbody>\n",
       "</table>\n"
      ],
      "text/latex": [
       "\\begin{tabular}{r|ll}\n",
       " mf & n\\\\\n",
       "\\hline\n",
       "\t molecular function unknown             & 886                                   \\\\\n",
       "\t structural constituent of ribosome     & 185                                   \\\\\n",
       "\t protein binding                        & 107                                   \\\\\n",
       "\t RNA binding                            &  63                                   \\\\\n",
       "\t protein binding*                       &  53                                   \\\\\n",
       "\t DNA binding*                           &  44                                   \\\\\n",
       "\t structural molecule activity           &  43                                   \\\\\n",
       "\t GTPase activity                        &  40                                   \\\\\n",
       "\t structural constituent of cytoskeleton &  39                                   \\\\\n",
       "\t transcription factor activity          &  38                                   \\\\\n",
       "\\end{tabular}\n"
      ],
      "text/markdown": [
       "\n",
       "mf | n | \n",
       "|---|---|---|---|---|---|---|---|---|---|\n",
       "| molecular function unknown             | 886                                    | \n",
       "| structural constituent of ribosome     | 185                                    | \n",
       "| protein binding                        | 107                                    | \n",
       "| RNA binding                            |  63                                    | \n",
       "| protein binding*                       |  53                                    | \n",
       "| DNA binding*                           |  44                                    | \n",
       "| structural molecule activity           |  43                                    | \n",
       "| GTPase activity                        |  40                                    | \n",
       "| structural constituent of cytoskeleton |  39                                    | \n",
       "| transcription factor activity          |  38                                    | \n",
       "\n",
       "\n"
      ],
      "text/plain": [
       "   mf                                     n  \n",
       "1  molecular function unknown             886\n",
       "2  structural constituent of ribosome     185\n",
       "3  protein binding                        107\n",
       "4  RNA binding                             63\n",
       "5  protein binding*                        53\n",
       "6  DNA binding*                            44\n",
       "7  structural molecule activity            43\n",
       "8  GTPase activity                         40\n",
       "9  structural constituent of cytoskeleton  39\n",
       "10 transcription factor activity           38"
      ]
     },
     "metadata": {},
     "output_type": "display_data"
    }
   ],
   "source": [
    "ydat %>%\n",
    "group_by(mf)%>%\n",
    "summarize(n = n_distinct(symbol)) %>%\n",
    "arrange(desc(n)) %>%\n",
    "head(10)"
   ]
  },
  {
   "cell_type": "code",
   "execution_count": 6,
   "metadata": {},
   "outputs": [
    {
     "data": {
      "text/html": [
       "<table>\n",
       "<thead><tr><th scope=col>symbol</th><th scope=col>bp</th></tr></thead>\n",
       "<tbody>\n",
       "\t<tr><td>SFB2                                                           </td><td>ER to Golgi transport                                          </td></tr>\n",
       "\t<tr><td>EDC3                                                           </td><td>deadenylylation-independent decapping                          </td></tr>\n",
       "\t<tr><td>PER1                                                           </td><td>response to unfolded protein*                                  </td></tr>\n",
       "\t<tr><td>PEX25                                                          </td><td>peroxisome organization and biogenesis*                        </td></tr>\n",
       "\t<tr><td>BNI5                                                           </td><td>cytokinesis*                                                   </td></tr>\n",
       "\t<tr><td>CSN12                                                          </td><td>adaptation to pheromone during conjugation with cellular fusion</td></tr>\n",
       "\t<tr><td>SEC39                                                          </td><td>secretory pathway                                              </td></tr>\n",
       "\t<tr><td>ABC1                                                           </td><td>ubiquinone biosynthesis                                        </td></tr>\n",
       "\t<tr><td>PRP46                                                          </td><td>nuclear mRNA splicing, via spliceosome                         </td></tr>\n",
       "\t<tr><td>MAM3                                                           </td><td>mitochondrion organization and biogenesis*                     </td></tr>\n",
       "\t<tr><td>AEP1                                                           </td><td>protein biosynthesis                                           </td></tr>\n",
       "\t<tr><td>RSC2                                                           </td><td>chromatin remodeling*                                          </td></tr>\n",
       "\t<tr><td>CWH43                                                          </td><td>cell wall organization and biogenesis*                         </td></tr>\n",
       "\t<tr><td>SWC3                                                           </td><td>chromatin remodeling*                                          </td></tr>\n",
       "\t<tr><td>NA                                                             </td><td>karyogamy                                                      </td></tr>\n",
       "\t<tr><td>BUD14                                                          </td><td>cellular morphogenesis during vegetative growth                </td></tr>\n",
       "\t<tr><td>CYK3                                                           </td><td>cytokinesis                                                    </td></tr>\n",
       "\t<tr><td>PAC1                                                           </td><td>nuclear migration, microtubule-mediated                        </td></tr>\n",
       "\t<tr><td>SUR7                                                           </td><td>sporulation (sensu Fungi)                                      </td></tr>\n",
       "\t<tr><td>RAX1                                                           </td><td>bud site selection                                             </td></tr>\n",
       "\t<tr><td>DFM1                                                           </td><td>biological process unknown*                                    </td></tr>\n",
       "\t<tr><td>ERV29                                                          </td><td>ER to Golgi transport                                          </td></tr>\n",
       "\t<tr><td>SFK1                                                           </td><td>actin cytoskeleton organization and biogenesis*                </td></tr>\n",
       "\t<tr><td>DPH2                                                           </td><td>peptidyl-diphthamide biosynthesis from peptidyl-histidine      </td></tr>\n",
       "\t<tr><td>SAM50                                                          </td><td>protein complex assembly*                                      </td></tr>\n",
       "\t<tr><td>PHB2                                                           </td><td>protein folding*                                               </td></tr>\n",
       "\t<tr><td>GSF2                                                           </td><td>protein folding*                                               </td></tr>\n",
       "\t<tr><td>CYC2                                                           </td><td>mitochondrial intermembrane space protein import*              </td></tr>\n",
       "\t<tr><td>MDM34                                                          </td><td>mitochondrion organization and biogenesis                      </td></tr>\n",
       "\t<tr><td>MDM38                                                          </td><td>mitochondrion organization and biogenesis*                     </td></tr>\n",
       "\t<tr><td>...</td><td>...</td></tr>\n",
       "\t<tr><td>NCA2                                                                 </td><td>aerobic respiration*                                                 </td></tr>\n",
       "\t<tr><td>ASR1                                                                 </td><td>response to ethanol                                                  </td></tr>\n",
       "\t<tr><td>APP1                                                                 </td><td>actin filament organization*                                         </td></tr>\n",
       "\t<tr><td>YIP3                                                                 </td><td>ER to Golgi transport                                                </td></tr>\n",
       "\t<tr><td>NBP2                                                                 </td><td>response to heat*                                                    </td></tr>\n",
       "\t<tr><td>ORM2                                                                 </td><td>response to unfolded protein                                         </td></tr>\n",
       "\t<tr><td>CWC25                                                                </td><td>nuclear mRNA splicing, via spliceosome                               </td></tr>\n",
       "\t<tr><td>YSC84                                                                </td><td>endocytosis*                                                         </td></tr>\n",
       "\t<tr><td>AEP3                                                                 </td><td>mRNA metabolism                                                      </td></tr>\n",
       "\t<tr><td>PIN3                                                                 </td><td>actin cytoskeleton organization and biogenesis                       </td></tr>\n",
       "\t<tr><td>SGF73                                                                </td><td>histone acetylation                                                  </td></tr>\n",
       "\t<tr><td>SEL1                                                                 </td><td>protein secretion*                                                   </td></tr>\n",
       "\t<tr><td>PBP1                                                                 </td><td>mRNA polyadenylylation                                               </td></tr>\n",
       "\t<tr><td>PIH1                                                                 </td><td>rRNA processing*                                                     </td></tr>\n",
       "\t<tr><td>RIM8                                                                 </td><td>meiosis*                                                             </td></tr>\n",
       "\t<tr><td>LSB3                                                                 </td><td>actin filament organization                                          </td></tr>\n",
       "\t<tr><td>COQ4                                                                 </td><td>ubiquinone metabolism                                                </td></tr>\n",
       "\t<tr><td>HAL1                                                                 </td><td>positive regulation of transcription from RNA polymerase II promoter*</td></tr>\n",
       "\t<tr><td>OXR1                                                                 </td><td>response to oxidative stress                                         </td></tr>\n",
       "\t<tr><td>PRM5                                                                 </td><td>conjugation with cellular fusion                                     </td></tr>\n",
       "\t<tr><td>GIS3                                                                 </td><td>intracellular signaling cascade                                      </td></tr>\n",
       "\t<tr><td>BUD7                                                                 </td><td>bud site selection                                                   </td></tr>\n",
       "\t<tr><td>IES6                                                                 </td><td>metabolism                                                           </td></tr>\n",
       "\t<tr><td>CAF40                                                                </td><td>regulation of transcription from RNA polymerase II promoter          </td></tr>\n",
       "\t<tr><td>PST1                                                                 </td><td>cell wall organization and biogenesis                                </td></tr>\n",
       "\t<tr><td>PRM10                                                                </td><td>conjugation with cellular fusion                                     </td></tr>\n",
       "\t<tr><td>DOA1                                                                 </td><td>ubiquitin-dependent protein catabolism*                              </td></tr>\n",
       "\t<tr><td>MTL1                                                                 </td><td>cell wall organization and biogenesis                                </td></tr>\n",
       "\t<tr><td>KRE9                                                                 </td><td>cell wall organization and biogenesis*                               </td></tr>\n",
       "\t<tr><td>UTH1                                                                 </td><td>mitochondrion organization and biogenesis*                           </td></tr>\n",
       "</tbody>\n",
       "</table>\n"
      ],
      "text/latex": [
       "\\begin{tabular}{r|ll}\n",
       " symbol & bp\\\\\n",
       "\\hline\n",
       "\t SFB2                                                            & ER to Golgi transport                                          \\\\\n",
       "\t EDC3                                                            & deadenylylation-independent decapping                          \\\\\n",
       "\t PER1                                                            & response to unfolded protein*                                  \\\\\n",
       "\t PEX25                                                           & peroxisome organization and biogenesis*                        \\\\\n",
       "\t BNI5                                                            & cytokinesis*                                                   \\\\\n",
       "\t CSN12                                                           & adaptation to pheromone during conjugation with cellular fusion\\\\\n",
       "\t SEC39                                                           & secretory pathway                                              \\\\\n",
       "\t ABC1                                                            & ubiquinone biosynthesis                                        \\\\\n",
       "\t PRP46                                                           & nuclear mRNA splicing, via spliceosome                         \\\\\n",
       "\t MAM3                                                            & mitochondrion organization and biogenesis*                     \\\\\n",
       "\t AEP1                                                            & protein biosynthesis                                           \\\\\n",
       "\t RSC2                                                            & chromatin remodeling*                                          \\\\\n",
       "\t CWH43                                                           & cell wall organization and biogenesis*                         \\\\\n",
       "\t SWC3                                                            & chromatin remodeling*                                          \\\\\n",
       "\t NA                                                              & karyogamy                                                      \\\\\n",
       "\t BUD14                                                           & cellular morphogenesis during vegetative growth                \\\\\n",
       "\t CYK3                                                            & cytokinesis                                                    \\\\\n",
       "\t PAC1                                                            & nuclear migration, microtubule-mediated                        \\\\\n",
       "\t SUR7                                                            & sporulation (sensu Fungi)                                      \\\\\n",
       "\t RAX1                                                            & bud site selection                                             \\\\\n",
       "\t DFM1                                                            & biological process unknown*                                    \\\\\n",
       "\t ERV29                                                           & ER to Golgi transport                                          \\\\\n",
       "\t SFK1                                                            & actin cytoskeleton organization and biogenesis*                \\\\\n",
       "\t DPH2                                                            & peptidyl-diphthamide biosynthesis from peptidyl-histidine      \\\\\n",
       "\t SAM50                                                           & protein complex assembly*                                      \\\\\n",
       "\t PHB2                                                            & protein folding*                                               \\\\\n",
       "\t GSF2                                                            & protein folding*                                               \\\\\n",
       "\t CYC2                                                            & mitochondrial intermembrane space protein import*              \\\\\n",
       "\t MDM34                                                           & mitochondrion organization and biogenesis                      \\\\\n",
       "\t MDM38                                                           & mitochondrion organization and biogenesis*                     \\\\\n",
       "\t ... & ...\\\\\n",
       "\t NCA2                                                                  & aerobic respiration*                                                 \\\\\n",
       "\t ASR1                                                                  & response to ethanol                                                  \\\\\n",
       "\t APP1                                                                  & actin filament organization*                                         \\\\\n",
       "\t YIP3                                                                  & ER to Golgi transport                                                \\\\\n",
       "\t NBP2                                                                  & response to heat*                                                    \\\\\n",
       "\t ORM2                                                                  & response to unfolded protein                                         \\\\\n",
       "\t CWC25                                                                 & nuclear mRNA splicing, via spliceosome                               \\\\\n",
       "\t YSC84                                                                 & endocytosis*                                                         \\\\\n",
       "\t AEP3                                                                  & mRNA metabolism                                                      \\\\\n",
       "\t PIN3                                                                  & actin cytoskeleton organization and biogenesis                       \\\\\n",
       "\t SGF73                                                                 & histone acetylation                                                  \\\\\n",
       "\t SEL1                                                                  & protein secretion*                                                   \\\\\n",
       "\t PBP1                                                                  & mRNA polyadenylylation                                               \\\\\n",
       "\t PIH1                                                                  & rRNA processing*                                                     \\\\\n",
       "\t RIM8                                                                  & meiosis*                                                             \\\\\n",
       "\t LSB3                                                                  & actin filament organization                                          \\\\\n",
       "\t COQ4                                                                  & ubiquinone metabolism                                                \\\\\n",
       "\t HAL1                                                                  & positive regulation of transcription from RNA polymerase II promoter*\\\\\n",
       "\t OXR1                                                                  & response to oxidative stress                                         \\\\\n",
       "\t PRM5                                                                  & conjugation with cellular fusion                                     \\\\\n",
       "\t GIS3                                                                  & intracellular signaling cascade                                      \\\\\n",
       "\t BUD7                                                                  & bud site selection                                                   \\\\\n",
       "\t IES6                                                                  & metabolism                                                           \\\\\n",
       "\t CAF40                                                                 & regulation of transcription from RNA polymerase II promoter          \\\\\n",
       "\t PST1                                                                  & cell wall organization and biogenesis                                \\\\\n",
       "\t PRM10                                                                 & conjugation with cellular fusion                                     \\\\\n",
       "\t DOA1                                                                  & ubiquitin-dependent protein catabolism*                              \\\\\n",
       "\t MTL1                                                                  & cell wall organization and biogenesis                                \\\\\n",
       "\t KRE9                                                                  & cell wall organization and biogenesis*                               \\\\\n",
       "\t UTH1                                                                  & mitochondrion organization and biogenesis*                           \\\\\n",
       "\\end{tabular}\n"
      ],
      "text/markdown": [
       "\n",
       "symbol | bp | \n",
       "|---|---|---|---|---|---|---|---|---|---|---|---|---|---|---|---|---|---|---|---|---|---|---|---|---|---|---|---|---|---|---|---|---|---|---|---|---|---|---|---|---|---|---|---|---|---|---|---|---|---|---|---|---|---|---|---|---|---|---|---|---|\n",
       "| SFB2                                                            | ER to Golgi transport                                           | \n",
       "| EDC3                                                            | deadenylylation-independent decapping                           | \n",
       "| PER1                                                            | response to unfolded protein*                                   | \n",
       "| PEX25                                                           | peroxisome organization and biogenesis*                         | \n",
       "| BNI5                                                            | cytokinesis*                                                    | \n",
       "| CSN12                                                           | adaptation to pheromone during conjugation with cellular fusion | \n",
       "| SEC39                                                           | secretory pathway                                               | \n",
       "| ABC1                                                            | ubiquinone biosynthesis                                         | \n",
       "| PRP46                                                           | nuclear mRNA splicing, via spliceosome                          | \n",
       "| MAM3                                                            | mitochondrion organization and biogenesis*                      | \n",
       "| AEP1                                                            | protein biosynthesis                                            | \n",
       "| RSC2                                                            | chromatin remodeling*                                           | \n",
       "| CWH43                                                           | cell wall organization and biogenesis*                          | \n",
       "| SWC3                                                            | chromatin remodeling*                                           | \n",
       "| NA                                                              | karyogamy                                                       | \n",
       "| BUD14                                                           | cellular morphogenesis during vegetative growth                 | \n",
       "| CYK3                                                            | cytokinesis                                                     | \n",
       "| PAC1                                                            | nuclear migration, microtubule-mediated                         | \n",
       "| SUR7                                                            | sporulation (sensu Fungi)                                       | \n",
       "| RAX1                                                            | bud site selection                                              | \n",
       "| DFM1                                                            | biological process unknown*                                     | \n",
       "| ERV29                                                           | ER to Golgi transport                                           | \n",
       "| SFK1                                                            | actin cytoskeleton organization and biogenesis*                 | \n",
       "| DPH2                                                            | peptidyl-diphthamide biosynthesis from peptidyl-histidine       | \n",
       "| SAM50                                                           | protein complex assembly*                                       | \n",
       "| PHB2                                                            | protein folding*                                                | \n",
       "| GSF2                                                            | protein folding*                                                | \n",
       "| CYC2                                                            | mitochondrial intermembrane space protein import*               | \n",
       "| MDM34                                                           | mitochondrion organization and biogenesis                       | \n",
       "| MDM38                                                           | mitochondrion organization and biogenesis*                      | \n",
       "| ... | ... | \n",
       "| NCA2                                                                  | aerobic respiration*                                                  | \n",
       "| ASR1                                                                  | response to ethanol                                                   | \n",
       "| APP1                                                                  | actin filament organization*                                          | \n",
       "| YIP3                                                                  | ER to Golgi transport                                                 | \n",
       "| NBP2                                                                  | response to heat*                                                     | \n",
       "| ORM2                                                                  | response to unfolded protein                                          | \n",
       "| CWC25                                                                 | nuclear mRNA splicing, via spliceosome                                | \n",
       "| YSC84                                                                 | endocytosis*                                                          | \n",
       "| AEP3                                                                  | mRNA metabolism                                                       | \n",
       "| PIN3                                                                  | actin cytoskeleton organization and biogenesis                        | \n",
       "| SGF73                                                                 | histone acetylation                                                   | \n",
       "| SEL1                                                                  | protein secretion*                                                    | \n",
       "| PBP1                                                                  | mRNA polyadenylylation                                                | \n",
       "| PIH1                                                                  | rRNA processing*                                                      | \n",
       "| RIM8                                                                  | meiosis*                                                              | \n",
       "| LSB3                                                                  | actin filament organization                                           | \n",
       "| COQ4                                                                  | ubiquinone metabolism                                                 | \n",
       "| HAL1                                                                  | positive regulation of transcription from RNA polymerase II promoter* | \n",
       "| OXR1                                                                  | response to oxidative stress                                          | \n",
       "| PRM5                                                                  | conjugation with cellular fusion                                      | \n",
       "| GIS3                                                                  | intracellular signaling cascade                                       | \n",
       "| BUD7                                                                  | bud site selection                                                    | \n",
       "| IES6                                                                  | metabolism                                                            | \n",
       "| CAF40                                                                 | regulation of transcription from RNA polymerase II promoter           | \n",
       "| PST1                                                                  | cell wall organization and biogenesis                                 | \n",
       "| PRM10                                                                 | conjugation with cellular fusion                                      | \n",
       "| DOA1                                                                  | ubiquitin-dependent protein catabolism*                               | \n",
       "| MTL1                                                                  | cell wall organization and biogenesis                                 | \n",
       "| KRE9                                                                  | cell wall organization and biogenesis*                                | \n",
       "| UTH1                                                                  | mitochondrion organization and biogenesis*                            | \n",
       "\n",
       "\n"
      ],
      "text/plain": [
       "    symbol\n",
       "1   SFB2  \n",
       "2   EDC3  \n",
       "3   PER1  \n",
       "4   PEX25 \n",
       "5   BNI5  \n",
       "6   CSN12 \n",
       "7   SEC39 \n",
       "8   ABC1  \n",
       "9   PRP46 \n",
       "10  MAM3  \n",
       "11  AEP1  \n",
       "12  RSC2  \n",
       "13  CWH43 \n",
       "14  SWC3  \n",
       "15  NA    \n",
       "16  BUD14 \n",
       "17  CYK3  \n",
       "18  PAC1  \n",
       "19  SUR7  \n",
       "20  RAX1  \n",
       "21  DFM1  \n",
       "22  ERV29 \n",
       "23  SFK1  \n",
       "24  DPH2  \n",
       "25  SAM50 \n",
       "26  PHB2  \n",
       "27  GSF2  \n",
       "28  CYC2  \n",
       "29  MDM34 \n",
       "30  MDM38 \n",
       "... ...   \n",
       "708 NCA2  \n",
       "709 ASR1  \n",
       "710 APP1  \n",
       "711 YIP3  \n",
       "712 NBP2  \n",
       "713 ORM2  \n",
       "714 CWC25 \n",
       "715 YSC84 \n",
       "716 AEP3  \n",
       "717 PIN3  \n",
       "718 SGF73 \n",
       "719 SEL1  \n",
       "720 PBP1  \n",
       "721 PIH1  \n",
       "722 RIM8  \n",
       "723 LSB3  \n",
       "724 COQ4  \n",
       "725 HAL1  \n",
       "726 OXR1  \n",
       "727 PRM5  \n",
       "728 GIS3  \n",
       "729 BUD7  \n",
       "730 IES6  \n",
       "731 CAF40 \n",
       "732 PST1  \n",
       "733 PRM10 \n",
       "734 DOA1  \n",
       "735 MTL1  \n",
       "736 KRE9  \n",
       "737 UTH1  \n",
       "    bp                                                                   \n",
       "1   ER to Golgi transport                                                \n",
       "2   deadenylylation-independent decapping                                \n",
       "3   response to unfolded protein*                                        \n",
       "4   peroxisome organization and biogenesis*                              \n",
       "5   cytokinesis*                                                         \n",
       "6   adaptation to pheromone during conjugation with cellular fusion      \n",
       "7   secretory pathway                                                    \n",
       "8   ubiquinone biosynthesis                                              \n",
       "9   nuclear mRNA splicing, via spliceosome                               \n",
       "10  mitochondrion organization and biogenesis*                           \n",
       "11  protein biosynthesis                                                 \n",
       "12  chromatin remodeling*                                                \n",
       "13  cell wall organization and biogenesis*                               \n",
       "14  chromatin remodeling*                                                \n",
       "15  karyogamy                                                            \n",
       "16  cellular morphogenesis during vegetative growth                      \n",
       "17  cytokinesis                                                          \n",
       "18  nuclear migration, microtubule-mediated                              \n",
       "19  sporulation (sensu Fungi)                                            \n",
       "20  bud site selection                                                   \n",
       "21  biological process unknown*                                          \n",
       "22  ER to Golgi transport                                                \n",
       "23  actin cytoskeleton organization and biogenesis*                      \n",
       "24  peptidyl-diphthamide biosynthesis from peptidyl-histidine            \n",
       "25  protein complex assembly*                                            \n",
       "26  protein folding*                                                     \n",
       "27  protein folding*                                                     \n",
       "28  mitochondrial intermembrane space protein import*                    \n",
       "29  mitochondrion organization and biogenesis                            \n",
       "30  mitochondrion organization and biogenesis*                           \n",
       "... ...                                                                  \n",
       "708 aerobic respiration*                                                 \n",
       "709 response to ethanol                                                  \n",
       "710 actin filament organization*                                         \n",
       "711 ER to Golgi transport                                                \n",
       "712 response to heat*                                                    \n",
       "713 response to unfolded protein                                         \n",
       "714 nuclear mRNA splicing, via spliceosome                               \n",
       "715 endocytosis*                                                         \n",
       "716 mRNA metabolism                                                      \n",
       "717 actin cytoskeleton organization and biogenesis                       \n",
       "718 histone acetylation                                                  \n",
       "719 protein secretion*                                                   \n",
       "720 mRNA polyadenylylation                                               \n",
       "721 rRNA processing*                                                     \n",
       "722 meiosis*                                                             \n",
       "723 actin filament organization                                          \n",
       "724 ubiquinone metabolism                                                \n",
       "725 positive regulation of transcription from RNA polymerase II promoter*\n",
       "726 response to oxidative stress                                         \n",
       "727 conjugation with cellular fusion                                     \n",
       "728 intracellular signaling cascade                                      \n",
       "729 bud site selection                                                   \n",
       "730 metabolism                                                           \n",
       "731 regulation of transcription from RNA polymerase II promoter          \n",
       "732 cell wall organization and biogenesis                                \n",
       "733 conjugation with cellular fusion                                     \n",
       "734 ubiquitin-dependent protein catabolism*                              \n",
       "735 cell wall organization and biogenesis                                \n",
       "736 cell wall organization and biogenesis*                               \n",
       "737 mitochondrion organization and biogenesis*                           "
      ]
     },
     "metadata": {},
     "output_type": "display_data"
    }
   ],
   "source": [
    "# 有多少基因我们知道涉及什么过程但我们不知道它是什么\n",
    "# Hint: filter where bp!=\"biological process unknown\" & mf==\"molecular function unknown\"\n",
    "ydat %>%\n",
    "filter(bp!=\"biological process unknown\" & mf==\"molecular function unknown\") %>%\n",
    "select(symbol, bp) %>%\n",
    "distinct()"
   ]
  },
  {
   "cell_type": "code",
   "execution_count": 12,
   "metadata": {},
   "outputs": [
    {
     "data": {
      "text/html": [
       "<table>\n",
       "<thead><tr><th scope=col>bp</th><th scope=col>meanexp</th></tr></thead>\n",
       "<tbody>\n",
       "\t<tr><td>fermentation*                                                 </td><td>6.28                                                          </td></tr>\n",
       "\t<tr><td>glyoxylate cycle                                              </td><td>5.29                                                          </td></tr>\n",
       "\t<tr><td>oxygen and reactive oxygen species metabolism                 </td><td>5.04                                                          </td></tr>\n",
       "\t<tr><td>fumarate transport*                                           </td><td>5.03                                                          </td></tr>\n",
       "\t<tr><td>acetyl-CoA biosynthesis*                                      </td><td>4.32                                                          </td></tr>\n",
       "\t<tr><td>gluconeogenesis                                               </td><td>3.64                                                          </td></tr>\n",
       "\t<tr><td>fatty acid beta-oxidation                                     </td><td>3.57                                                          </td></tr>\n",
       "\t<tr><td>lactate transport                                             </td><td>3.48                                                          </td></tr>\n",
       "\t<tr><td>carnitine metabolism                                          </td><td>3.30                                                          </td></tr>\n",
       "\t<tr><td>alcohol metabolism*                                           </td><td>3.25                                                          </td></tr>\n",
       "\t<tr><td>sulfite transport                                             </td><td>3.22                                                          </td></tr>\n",
       "\t<tr><td>biotin biosynthesis*                                          </td><td>3.10                                                          </td></tr>\n",
       "\t<tr><td>pyridoxine metabolism*                                        </td><td>3.05                                                          </td></tr>\n",
       "\t<tr><td>fatty acid transport                                          </td><td>2.87                                                          </td></tr>\n",
       "\t<tr><td>aromatic amino acid family metabolism                         </td><td>2.69                                                          </td></tr>\n",
       "\t<tr><td>sodium ion transport                                          </td><td>2.56                                                          </td></tr>\n",
       "\t<tr><td>arginine catabolism                                           </td><td>2.48                                                          </td></tr>\n",
       "\t<tr><td>ethanol fermentation*                                         </td><td>2.29                                                          </td></tr>\n",
       "\t<tr><td>fatty acid beta-oxidation*                                    </td><td>2.21                                                          </td></tr>\n",
       "\t<tr><td>propionate metabolism                                         </td><td>2.21                                                          </td></tr>\n",
       "\t<tr><td>carbohydrate metabolism*                                      </td><td>2.10                                                          </td></tr>\n",
       "\t<tr><td>propionate metabolism*                                        </td><td>2.05                                                          </td></tr>\n",
       "\t<tr><td>regulation of proteolysis and peptidolysis                    </td><td>2.05                                                          </td></tr>\n",
       "\t<tr><td>ethanol metabolism                                            </td><td>2.02                                                          </td></tr>\n",
       "\t<tr><td>pyridoxine metabolism                                         </td><td>1.96                                                          </td></tr>\n",
       "\t<tr><td>response to copper ion                                        </td><td>1.73                                                          </td></tr>\n",
       "\t<tr><td>glycine biosynthesis                                          </td><td>1.70                                                          </td></tr>\n",
       "\t<tr><td>urea transport                                                </td><td>1.61                                                          </td></tr>\n",
       "\t<tr><td>acetate biosynthesis                                          </td><td>1.42                                                          </td></tr>\n",
       "\t<tr><td>cellular morphogenesis during conjugation with cellular fusion</td><td>1.42                                                          </td></tr>\n",
       "\t<tr><td>...</td><td>...</td></tr>\n",
       "\t<tr><td>translational elongation*                                     </td><td>-1.02                                                         </td></tr>\n",
       "\t<tr><td>thiamin diphosphate biosynthesis                              </td><td>-1.04                                                         </td></tr>\n",
       "\t<tr><td>glycolysis*                                                   </td><td>-1.05                                                         </td></tr>\n",
       "\t<tr><td>intracellular mRNA localization                               </td><td>-1.05                                                         </td></tr>\n",
       "\t<tr><td>serine family amino acid biosynthesis                         </td><td>-1.05                                                         </td></tr>\n",
       "\t<tr><td>translation*                                                  </td><td>-1.05                                                         </td></tr>\n",
       "\t<tr><td>steroid metabolism                                            </td><td>-1.11                                                         </td></tr>\n",
       "\t<tr><td>FAD transport                                                 </td><td>-1.12                                                         </td></tr>\n",
       "\t<tr><td>posttranslational protein-membrane targeting*                 </td><td>-1.14                                                         </td></tr>\n",
       "\t<tr><td>RNA splicing                                                  </td><td>-1.14                                                         </td></tr>\n",
       "\t<tr><td>peptide pheromone export                                      </td><td>-1.16                                                         </td></tr>\n",
       "\t<tr><td>meiotic DNA recombinase assembly*                             </td><td>-1.18                                                         </td></tr>\n",
       "\t<tr><td>asparagine catabolism                                         </td><td>-1.19                                                         </td></tr>\n",
       "\t<tr><td>protein-ER targeting                                          </td><td>-1.19                                                         </td></tr>\n",
       "\t<tr><td>phosphatidylglycerol biosynthesis*                            </td><td>-1.21                                                         </td></tr>\n",
       "\t<tr><td>regulation of cyclin dependent protein kinase activity*       </td><td>-1.23                                                         </td></tr>\n",
       "\t<tr><td>mating type switching*                                        </td><td>-1.26                                                         </td></tr>\n",
       "\t<tr><td>sucrose catabolism                                            </td><td>-1.26                                                         </td></tr>\n",
       "\t<tr><td>maltose catabolism                                            </td><td>-1.32                                                         </td></tr>\n",
       "\t<tr><td>anaerobic respiration                                         </td><td>-1.36                                                         </td></tr>\n",
       "\t<tr><td>mitochondrial citrate transport                               </td><td>-1.36                                                         </td></tr>\n",
       "\t<tr><td>cell cycle*                                                   </td><td>-1.48                                                         </td></tr>\n",
       "\t<tr><td>ferric-enterobactin transport                                 </td><td>-1.54                                                         </td></tr>\n",
       "\t<tr><td>intron homing                                                 </td><td>-1.62                                                         </td></tr>\n",
       "\t<tr><td>hypusine biosynthesis from peptidyl-lysine                    </td><td>-1.67                                                         </td></tr>\n",
       "\t<tr><td>iron-siderophore transport                                    </td><td>-1.67                                                         </td></tr>\n",
       "\t<tr><td>low-affinity zinc ion transport                               </td><td>-1.78                                                         </td></tr>\n",
       "\t<tr><td>siderophore transport                                         </td><td>-1.89                                                         </td></tr>\n",
       "\t<tr><td>response to pheromone during conjugation with cellular fusion*</td><td>-2.19                                                         </td></tr>\n",
       "\t<tr><td>high affinity iron ion transport*                             </td><td>-2.33                                                         </td></tr>\n",
       "</tbody>\n",
       "</table>\n"
      ],
      "text/latex": [
       "\\begin{tabular}{r|ll}\n",
       " bp & meanexp\\\\\n",
       "\\hline\n",
       "\t fermentation*                                                  & 6.28                                                          \\\\\n",
       "\t glyoxylate cycle                                               & 5.29                                                          \\\\\n",
       "\t oxygen and reactive oxygen species metabolism                  & 5.04                                                          \\\\\n",
       "\t fumarate transport*                                            & 5.03                                                          \\\\\n",
       "\t acetyl-CoA biosynthesis*                                       & 4.32                                                          \\\\\n",
       "\t gluconeogenesis                                                & 3.64                                                          \\\\\n",
       "\t fatty acid beta-oxidation                                      & 3.57                                                          \\\\\n",
       "\t lactate transport                                              & 3.48                                                          \\\\\n",
       "\t carnitine metabolism                                           & 3.30                                                          \\\\\n",
       "\t alcohol metabolism*                                            & 3.25                                                          \\\\\n",
       "\t sulfite transport                                              & 3.22                                                          \\\\\n",
       "\t biotin biosynthesis*                                           & 3.10                                                          \\\\\n",
       "\t pyridoxine metabolism*                                         & 3.05                                                          \\\\\n",
       "\t fatty acid transport                                           & 2.87                                                          \\\\\n",
       "\t aromatic amino acid family metabolism                          & 2.69                                                          \\\\\n",
       "\t sodium ion transport                                           & 2.56                                                          \\\\\n",
       "\t arginine catabolism                                            & 2.48                                                          \\\\\n",
       "\t ethanol fermentation*                                          & 2.29                                                          \\\\\n",
       "\t fatty acid beta-oxidation*                                     & 2.21                                                          \\\\\n",
       "\t propionate metabolism                                          & 2.21                                                          \\\\\n",
       "\t carbohydrate metabolism*                                       & 2.10                                                          \\\\\n",
       "\t propionate metabolism*                                         & 2.05                                                          \\\\\n",
       "\t regulation of proteolysis and peptidolysis                     & 2.05                                                          \\\\\n",
       "\t ethanol metabolism                                             & 2.02                                                          \\\\\n",
       "\t pyridoxine metabolism                                          & 1.96                                                          \\\\\n",
       "\t response to copper ion                                         & 1.73                                                          \\\\\n",
       "\t glycine biosynthesis                                           & 1.70                                                          \\\\\n",
       "\t urea transport                                                 & 1.61                                                          \\\\\n",
       "\t acetate biosynthesis                                           & 1.42                                                          \\\\\n",
       "\t cellular morphogenesis during conjugation with cellular fusion & 1.42                                                          \\\\\n",
       "\t ... & ...\\\\\n",
       "\t translational elongation*                                      & -1.02                                                         \\\\\n",
       "\t thiamin diphosphate biosynthesis                               & -1.04                                                         \\\\\n",
       "\t glycolysis*                                                    & -1.05                                                         \\\\\n",
       "\t intracellular mRNA localization                                & -1.05                                                         \\\\\n",
       "\t serine family amino acid biosynthesis                          & -1.05                                                         \\\\\n",
       "\t translation*                                                   & -1.05                                                         \\\\\n",
       "\t steroid metabolism                                             & -1.11                                                         \\\\\n",
       "\t FAD transport                                                  & -1.12                                                         \\\\\n",
       "\t posttranslational protein-membrane targeting*                  & -1.14                                                         \\\\\n",
       "\t RNA splicing                                                   & -1.14                                                         \\\\\n",
       "\t peptide pheromone export                                       & -1.16                                                         \\\\\n",
       "\t meiotic DNA recombinase assembly*                              & -1.18                                                         \\\\\n",
       "\t asparagine catabolism                                          & -1.19                                                         \\\\\n",
       "\t protein-ER targeting                                           & -1.19                                                         \\\\\n",
       "\t phosphatidylglycerol biosynthesis*                             & -1.21                                                         \\\\\n",
       "\t regulation of cyclin dependent protein kinase activity*        & -1.23                                                         \\\\\n",
       "\t mating type switching*                                         & -1.26                                                         \\\\\n",
       "\t sucrose catabolism                                             & -1.26                                                         \\\\\n",
       "\t maltose catabolism                                             & -1.32                                                         \\\\\n",
       "\t anaerobic respiration                                          & -1.36                                                         \\\\\n",
       "\t mitochondrial citrate transport                                & -1.36                                                         \\\\\n",
       "\t cell cycle*                                                    & -1.48                                                         \\\\\n",
       "\t ferric-enterobactin transport                                  & -1.54                                                         \\\\\n",
       "\t intron homing                                                  & -1.62                                                         \\\\\n",
       "\t hypusine biosynthesis from peptidyl-lysine                     & -1.67                                                         \\\\\n",
       "\t iron-siderophore transport                                     & -1.67                                                         \\\\\n",
       "\t low-affinity zinc ion transport                                & -1.78                                                         \\\\\n",
       "\t siderophore transport                                          & -1.89                                                         \\\\\n",
       "\t response to pheromone during conjugation with cellular fusion* & -2.19                                                         \\\\\n",
       "\t high affinity iron ion transport*                              & -2.33                                                         \\\\\n",
       "\\end{tabular}\n"
      ],
      "text/markdown": [
       "\n",
       "bp | meanexp | \n",
       "|---|---|---|---|---|---|---|---|---|---|---|---|---|---|---|---|---|---|---|---|---|---|---|---|---|---|---|---|---|---|---|---|---|---|---|---|---|---|---|---|---|---|---|---|---|---|---|---|---|---|---|---|---|---|---|---|---|---|---|---|---|\n",
       "| fermentation*                                                  | 6.28                                                           | \n",
       "| glyoxylate cycle                                               | 5.29                                                           | \n",
       "| oxygen and reactive oxygen species metabolism                  | 5.04                                                           | \n",
       "| fumarate transport*                                            | 5.03                                                           | \n",
       "| acetyl-CoA biosynthesis*                                       | 4.32                                                           | \n",
       "| gluconeogenesis                                                | 3.64                                                           | \n",
       "| fatty acid beta-oxidation                                      | 3.57                                                           | \n",
       "| lactate transport                                              | 3.48                                                           | \n",
       "| carnitine metabolism                                           | 3.30                                                           | \n",
       "| alcohol metabolism*                                            | 3.25                                                           | \n",
       "| sulfite transport                                              | 3.22                                                           | \n",
       "| biotin biosynthesis*                                           | 3.10                                                           | \n",
       "| pyridoxine metabolism*                                         | 3.05                                                           | \n",
       "| fatty acid transport                                           | 2.87                                                           | \n",
       "| aromatic amino acid family metabolism                          | 2.69                                                           | \n",
       "| sodium ion transport                                           | 2.56                                                           | \n",
       "| arginine catabolism                                            | 2.48                                                           | \n",
       "| ethanol fermentation*                                          | 2.29                                                           | \n",
       "| fatty acid beta-oxidation*                                     | 2.21                                                           | \n",
       "| propionate metabolism                                          | 2.21                                                           | \n",
       "| carbohydrate metabolism*                                       | 2.10                                                           | \n",
       "| propionate metabolism*                                         | 2.05                                                           | \n",
       "| regulation of proteolysis and peptidolysis                     | 2.05                                                           | \n",
       "| ethanol metabolism                                             | 2.02                                                           | \n",
       "| pyridoxine metabolism                                          | 1.96                                                           | \n",
       "| response to copper ion                                         | 1.73                                                           | \n",
       "| glycine biosynthesis                                           | 1.70                                                           | \n",
       "| urea transport                                                 | 1.61                                                           | \n",
       "| acetate biosynthesis                                           | 1.42                                                           | \n",
       "| cellular morphogenesis during conjugation with cellular fusion | 1.42                                                           | \n",
       "| ... | ... | \n",
       "| translational elongation*                                      | -1.02                                                          | \n",
       "| thiamin diphosphate biosynthesis                               | -1.04                                                          | \n",
       "| glycolysis*                                                    | -1.05                                                          | \n",
       "| intracellular mRNA localization                                | -1.05                                                          | \n",
       "| serine family amino acid biosynthesis                          | -1.05                                                          | \n",
       "| translation*                                                   | -1.05                                                          | \n",
       "| steroid metabolism                                             | -1.11                                                          | \n",
       "| FAD transport                                                  | -1.12                                                          | \n",
       "| posttranslational protein-membrane targeting*                  | -1.14                                                          | \n",
       "| RNA splicing                                                   | -1.14                                                          | \n",
       "| peptide pheromone export                                       | -1.16                                                          | \n",
       "| meiotic DNA recombinase assembly*                              | -1.18                                                          | \n",
       "| asparagine catabolism                                          | -1.19                                                          | \n",
       "| protein-ER targeting                                           | -1.19                                                          | \n",
       "| phosphatidylglycerol biosynthesis*                             | -1.21                                                          | \n",
       "| regulation of cyclin dependent protein kinase activity*        | -1.23                                                          | \n",
       "| mating type switching*                                         | -1.26                                                          | \n",
       "| sucrose catabolism                                             | -1.26                                                          | \n",
       "| maltose catabolism                                             | -1.32                                                          | \n",
       "| anaerobic respiration                                          | -1.36                                                          | \n",
       "| mitochondrial citrate transport                                | -1.36                                                          | \n",
       "| cell cycle*                                                    | -1.48                                                          | \n",
       "| ferric-enterobactin transport                                  | -1.54                                                          | \n",
       "| intron homing                                                  | -1.62                                                          | \n",
       "| hypusine biosynthesis from peptidyl-lysine                     | -1.67                                                          | \n",
       "| iron-siderophore transport                                     | -1.67                                                          | \n",
       "| low-affinity zinc ion transport                                | -1.78                                                          | \n",
       "| siderophore transport                                          | -1.89                                                          | \n",
       "| response to pheromone during conjugation with cellular fusion* | -2.19                                                          | \n",
       "| high affinity iron ion transport*                              | -2.33                                                          | \n",
       "\n",
       "\n"
      ],
      "text/plain": [
       "    bp                                                             meanexp\n",
       "1   fermentation*                                                  6.28   \n",
       "2   glyoxylate cycle                                               5.29   \n",
       "3   oxygen and reactive oxygen species metabolism                  5.04   \n",
       "4   fumarate transport*                                            5.03   \n",
       "5   acetyl-CoA biosynthesis*                                       4.32   \n",
       "6   gluconeogenesis                                                3.64   \n",
       "7   fatty acid beta-oxidation                                      3.57   \n",
       "8   lactate transport                                              3.48   \n",
       "9   carnitine metabolism                                           3.30   \n",
       "10  alcohol metabolism*                                            3.25   \n",
       "11  sulfite transport                                              3.22   \n",
       "12  biotin biosynthesis*                                           3.10   \n",
       "13  pyridoxine metabolism*                                         3.05   \n",
       "14  fatty acid transport                                           2.87   \n",
       "15  aromatic amino acid family metabolism                          2.69   \n",
       "16  sodium ion transport                                           2.56   \n",
       "17  arginine catabolism                                            2.48   \n",
       "18  ethanol fermentation*                                          2.29   \n",
       "19  fatty acid beta-oxidation*                                     2.21   \n",
       "20  propionate metabolism                                          2.21   \n",
       "21  carbohydrate metabolism*                                       2.10   \n",
       "22  propionate metabolism*                                         2.05   \n",
       "23  regulation of proteolysis and peptidolysis                     2.05   \n",
       "24  ethanol metabolism                                             2.02   \n",
       "25  pyridoxine metabolism                                          1.96   \n",
       "26  response to copper ion                                         1.73   \n",
       "27  glycine biosynthesis                                           1.70   \n",
       "28  urea transport                                                 1.61   \n",
       "29  acetate biosynthesis                                           1.42   \n",
       "30  cellular morphogenesis during conjugation with cellular fusion 1.42   \n",
       "... ...                                                            ...    \n",
       "852 translational elongation*                                      -1.02  \n",
       "853 thiamin diphosphate biosynthesis                               -1.04  \n",
       "854 glycolysis*                                                    -1.05  \n",
       "855 intracellular mRNA localization                                -1.05  \n",
       "856 serine family amino acid biosynthesis                          -1.05  \n",
       "857 translation*                                                   -1.05  \n",
       "858 steroid metabolism                                             -1.11  \n",
       "859 FAD transport                                                  -1.12  \n",
       "860 posttranslational protein-membrane targeting*                  -1.14  \n",
       "861 RNA splicing                                                   -1.14  \n",
       "862 peptide pheromone export                                       -1.16  \n",
       "863 meiotic DNA recombinase assembly*                              -1.18  \n",
       "864 asparagine catabolism                                          -1.19  \n",
       "865 protein-ER targeting                                           -1.19  \n",
       "866 phosphatidylglycerol biosynthesis*                             -1.21  \n",
       "867 regulation of cyclin dependent protein kinase activity*        -1.23  \n",
       "868 mating type switching*                                         -1.26  \n",
       "869 sucrose catabolism                                             -1.26  \n",
       "870 maltose catabolism                                             -1.32  \n",
       "871 anaerobic respiration                                          -1.36  \n",
       "872 mitochondrial citrate transport                                -1.36  \n",
       "873 cell cycle*                                                    -1.48  \n",
       "874 ferric-enterobactin transport                                  -1.54  \n",
       "875 intron homing                                                  -1.62  \n",
       "876 hypusine biosynthesis from peptidyl-lysine                     -1.67  \n",
       "877 iron-siderophore transport                                     -1.67  \n",
       "878 low-affinity zinc ion transport                                -1.78  \n",
       "879 siderophore transport                                          -1.89  \n",
       "880 response to pheromone during conjugation with cellular fusion* -2.19  \n",
       "881 high affinity iron ion transport*                              -2.33  "
      ]
     },
     "metadata": {},
     "output_type": "display_data"
    }
   ],
   "source": [
    "# 限定生长率为0.05，营养为Glucose，哪一个BP通路上调最多？根据上调BP显示一个排序列表，平均表达值为2位有效数字\n",
    "# Hint: filter, group_by, summarize, mutate, arrange\n",
    "ydat %>%\n",
    "filter(rate == 0.05 & nutrient==\"Glucose\") %>%\n",
    "group_by(bp) %>%\n",
    "summarize(meanexp=mean(expression)) %>%\n",
    "mutate(meanexp=round(meanexp,2)) %>%\n",
    "arrange(desc(meanexp))"
   ]
  },
  {
   "cell_type": "code",
   "execution_count": 13,
   "metadata": {},
   "outputs": [
    {
     "data": {
      "text/plain": [
       "R version 3.4.2 (2017-09-28)\n",
       "Platform: x86_64-w64-mingw32/x64 (64-bit)\n",
       "Running under: Windows 10 x64 (build 15063)\n",
       "\n",
       "Matrix products: default\n",
       "\n",
       "locale:\n",
       "[1] LC_COLLATE=Chinese (Simplified)_China.936 \n",
       "[2] LC_CTYPE=Chinese (Simplified)_China.936   \n",
       "[3] LC_MONETARY=Chinese (Simplified)_China.936\n",
       "[4] LC_NUMERIC=C                              \n",
       "[5] LC_TIME=Chinese (Simplified)_China.936    \n",
       "\n",
       "attached base packages:\n",
       "[1] stats     graphics  grDevices utils     datasets  methods   base     \n",
       "\n",
       "other attached packages:\n",
       " [1] bindrcpp_0.2    forcats_0.2.0   stringr_1.2.0   dplyr_0.7.4    \n",
       " [5] purrr_0.2.4     readr_1.1.1     tidyr_0.7.2     tibble_1.3.4   \n",
       " [9] ggplot2_2.2.1   tidyverse_1.2.1\n",
       "\n",
       "loaded via a namespace (and not attached):\n",
       " [1] pbdZMQ_0.2-6     repr_0.12.0      reshape2_1.4.2   haven_1.1.0     \n",
       " [5] lattice_0.20-35  colorspace_1.3-2 rlang_0.1.4      foreign_0.8-69  \n",
       " [9] glue_1.1.1       modelr_0.1.1     readxl_1.0.0     uuid_0.1-2      \n",
       "[13] bindr_0.1        plyr_1.8.4       munsell_0.4.3    gtable_0.2.0    \n",
       "[17] cellranger_1.1.0 rvest_0.3.2      psych_1.7.8      evaluate_0.10.1 \n",
       "[21] parallel_3.4.2   broom_0.4.2      IRdisplay_0.4.4  Rcpp_0.12.13    \n",
       "[25] scales_0.5.0     IRkernel_0.8.9   jsonlite_1.5     mnormt_1.5-5    \n",
       "[29] hms_0.3          digest_0.6.12    stringi_1.1.5    grid_3.4.2      \n",
       "[33] cli_1.0.0        tools_3.4.2      magrittr_1.5     lazyeval_0.2.0  \n",
       "[37] crayon_1.3.4     pkgconfig_2.0.1  xml2_1.1.1       lubridate_1.7.1 \n",
       "[41] assertthat_0.2.0 httr_1.3.1       rstudioapi_0.7   R6_2.2.2        \n",
       "[45] nlme_3.1-131     compiler_3.4.2  "
      ]
     },
     "metadata": {},
     "output_type": "display_data"
    }
   ],
   "source": [
    "sessionInfo()"
   ]
  }
 ],
 "metadata": {
  "kernelspec": {
   "display_name": "R",
   "language": "R",
   "name": "ir"
  },
  "language_info": {
   "codemirror_mode": "r",
   "file_extension": ".r",
   "mimetype": "text/x-r-source",
   "name": "R",
   "pygments_lexer": "r",
   "version": "3.4.2"
  }
 },
 "nbformat": 4,
 "nbformat_minor": 2
}
